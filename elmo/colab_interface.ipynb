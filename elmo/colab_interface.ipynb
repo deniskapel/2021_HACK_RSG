{
  "nbformat": 4,
  "nbformat_minor": 0,
  "metadata": {
    "colab": {
      "name": "colab_interface",
      "provenance": [],
      "collapsed_sections": [],
      "include_colab_link": true
    },
    "kernelspec": {
      "name": "python3",
      "display_name": "Python 3"
    },
    "language_info": {
      "name": "python"
    }
  },
  "cells": [
    {
      "cell_type": "markdown",
      "metadata": {
        "id": "view-in-github",
        "colab_type": "text"
      },
      "source": [
        "<a href=\"https://colab.research.google.com/github/deniskapel/2021_HACK_RSG/blob/main/elmo/colab_interface.ipynb\" target=\"_parent\"><img src=\"https://colab.research.google.com/assets/colab-badge.svg\" alt=\"Open In Colab\"/></a>"
      ]
    },
    {
      "cell_type": "code",
      "metadata": {
        "id": "-LXazXnoy2tr"
      },
      "source": [
        "%%bash\n",
        "mkdir data\n",
        "mkdir logs\n",
        "mkdir submissions\n",
        "mkdir checkpoints\n",
        "wget \"https://russiansuperglue.com/tasks/download\"\n",
        "unzip download\n",
        "rm download\n",
        "rm -r __MACOSX\n",
        "mv -v combined data"
      ],
      "execution_count": null,
      "outputs": []
    },
    {
      "cell_type": "code",
      "metadata": {
        "id": "uMgcpG3bzLNA"
      },
      "source": [
        "# these are test models. If you want to use yours, upload them to ./models\n",
        "%%bash\n",
        "# non-lemmatized\n",
        "wget -q --show-progress \"http://vectors.nlpl.eu/repository/20/195.zip\" -P ./models\n",
        "# unzipping because it works faster when unzipped\n",
        "unzip ./models/195.zip -d ./models/wiki_rnc\n",
        "rm ./models/195.zip\n",
        "# lemmatized\n",
        "wget -q --show-progress \"http://vectors.nlpl.eu/repository/20/199.zip\" -P ./models\n",
        "# unzipping because it works faster when unzipped\n",
        "unzip ./models/199.zip -d ./models/taiga\n",
        "rm ./models/199.zip"
      ],
      "execution_count": null,
      "outputs": []
    },
    {
      "cell_type": "code",
      "metadata": {
        "id": "vNBeuf8m2BCB"
      },
      "source": [
        "!pip install simple-elmo\n",
        "!pip install jsonlines"
      ],
      "execution_count": null,
      "outputs": []
    },
    {
      "cell_type": "markdown",
      "metadata": {
        "id": "CplJciFXsDH1"
      },
      "source": [
        "load RSG files created by preprocessing.py to a data folder. For RuCoS both raw and tokenized|lemmatized files are necessary."
      ]
    },
    {
      "cell_type": "code",
      "metadata": {
        "id": "1WOpxajfskd7"
      },
      "source": [
        "%%bash\n",
        "# load and unzip preprocessed files manually\n",
        "unzip lemmatised.zip -d data\n",
        "unzip tokenised.zip -d data"
      ],
      "execution_count": null,
      "outputs": []
    },
    {
      "cell_type": "code",
      "metadata": {
        "id": "kVvggLZt8a3O"
      },
      "source": [
        "%%bash\n",
        "unzip models/RSG30.zip -d models"
      ],
      "execution_count": null,
      "outputs": []
    },
    {
      "cell_type": "code",
      "metadata": {
        "id": "kPutYVruuKxM"
      },
      "source": [
        "%%bash\n",
        "wget https://raw.githubusercontent.com/deniskapel/2021_HACK_RSG/main/elmo/apply_elmo.py\n",
        "wget https://raw.githubusercontent.com/deniskapel/2021_HACK_RSG/main/elmo/apply_elmo_muserc.py\n",
        "wget https://raw.githubusercontent.com/deniskapel/2021_HACK_RSG/main/elmo/apply_elmo_rucos.py\n",
        "mkdir dataset_utils\n",
        "wget https://raw.githubusercontent.com/deniskapel/2021_HACK_RSG/main/elmo/dataset_utils/features.py -P ./dataset_utils\n",
        "wget https://raw.githubusercontent.com/deniskapel/2021_HACK_RSG/main/elmo/dataset_utils/global_vars.py -P ./dataset_utils\n",
        "wget https://raw.githubusercontent.com/deniskapel/2021_HACK_RSG/main/elmo/dataset_utils/keras_utils.py -P ./dataset_utils\n",
        "wget https://raw.githubusercontent.com/deniskapel/2021_HACK_RSG/main/elmo/dataset_utils/elmo_utils.py -P ./dataset_utils\n",
        "wget https://raw.githubusercontent.com/deniskapel/2021_HACK_RSG/main/elmo/dataset_utils/muserc.py -P ./dataset_utils\n",
        "wget https://raw.githubusercontent.com/deniskapel/2021_HACK_RSG/main/elmo/dataset_utils/rucos.py -P ./dataset_utils\n",
        "wget https://raw.githubusercontent.com/deniskapel/2021_HACK_RSG/main/elmo/dataset_utils/utils.py -P ./dataset_utils"
      ],
      "execution_count": null,
      "outputs": []
    },
    {
      "cell_type": "markdown",
      "metadata": {
        "id": "e_J-CXm3qNvg"
      },
      "source": [
        "## Tokens"
      ]
    },
    {
      "cell_type": "markdown",
      "metadata": {
        "id": "C6vxDsfUsko0"
      },
      "source": [
        "TERRa"
      ]
    },
    {
      "cell_type": "code",
      "metadata": {
        "id": "ddDjzPcqsko_"
      },
      "source": [
        "%%bash\n",
        "python3 apply_elmo.py -t data/tokenised/TERRa/ -e models/wiki_rnc/"
      ],
      "execution_count": null,
      "outputs": []
    },
    {
      "cell_type": "markdown",
      "metadata": {
        "id": "Eb8rKoDHskpC"
      },
      "source": [
        "RWSD"
      ]
    },
    {
      "cell_type": "code",
      "metadata": {
        "id": "tiR-l3MzskpC"
      },
      "source": [
        "%%bash\n",
        "python3 apply_elmo.py -t data/tokenised/RWSD/ -e models/wiki_rnc/"
      ],
      "execution_count": null,
      "outputs": []
    },
    {
      "cell_type": "markdown",
      "metadata": {
        "id": "BJS7vRVzskpD"
      },
      "source": [
        "PARus"
      ]
    },
    {
      "cell_type": "code",
      "metadata": {
        "id": "GDI7UwY7zIkI"
      },
      "source": [
        "%%bash\n",
        "python3 apply_elmo.py -t data/tokenised/PARus/ -e models/wiki_rnc/"
      ],
      "execution_count": null,
      "outputs": []
    },
    {
      "cell_type": "markdown",
      "metadata": {
        "id": "21-hxR_3skpF"
      },
      "source": [
        "RCB"
      ]
    },
    {
      "cell_type": "code",
      "metadata": {
        "id": "zyv_n-IQskpF"
      },
      "source": [
        "%%bash\n",
        "python3 apply_elmo.py -t data/tokenised/RCB/ -e models/wiki_rnc/"
      ],
      "execution_count": null,
      "outputs": []
    },
    {
      "cell_type": "markdown",
      "metadata": {
        "id": "JLXoUC8KskpG"
      },
      "source": [
        "LiDiRUS"
      ]
    },
    {
      "cell_type": "code",
      "metadata": {
        "id": "lCsoR7tLskpG"
      },
      "source": [
        "%%bash\n",
        "python3 apply_elmo.py -t data/tokenised/LiDiRus/ -e models/wiki_rnc/"
      ],
      "execution_count": null,
      "outputs": []
    },
    {
      "cell_type": "markdown",
      "metadata": {
        "id": "QGw3fjmevkff"
      },
      "source": [
        "MuSeRC"
      ]
    },
    {
      "cell_type": "code",
      "metadata": {
        "id": "GxZopXXMvkx1"
      },
      "source": [
        "%%bash\n",
        "python3 apply_elmo_muserc.py -t data/tokenised/MuSeRC/ -e models/wiki_rnc/ --batch_size 16"
      ],
      "execution_count": null,
      "outputs": []
    },
    {
      "cell_type": "markdown",
      "metadata": {
        "id": "9S0oEXvivlKX"
      },
      "source": [
        "RuCoS"
      ]
    },
    {
      "cell_type": "code",
      "metadata": {
        "id": "veQDJJFRvlU2"
      },
      "source": [
        "%%bash\n",
        "python3 apply_elmo_rucos.py -t data/tokenised/RuCoS/ -e models/wiki_rnc/ --batch_size 16"
      ],
      "execution_count": null,
      "outputs": []
    },
    {
      "cell_type": "markdown",
      "metadata": {
        "id": "TrV4bEnZvuOJ"
      },
      "source": [
        "DaNetQA"
      ]
    },
    {
      "cell_type": "code",
      "metadata": {
        "id": "uxJXU1Ffvud5"
      },
      "source": [
        "%%bash\n",
        "python3 apply_elmo.py -t data/tokenised/DaNetQA/ -e models/wiki_rnc/ --batch_size 16"
      ],
      "execution_count": null,
      "outputs": []
    },
    {
      "cell_type": "markdown",
      "metadata": {
        "id": "AXoOYw5nvuvo"
      },
      "source": [
        "RUSSE\n"
      ]
    },
    {
      "cell_type": "code",
      "metadata": {
        "id": "LgntKKgbvu5Q"
      },
      "source": [
        "%%bash\n",
        "python3 apply_elmo.py -t data/tokenised/RUSSE/ -e models/wiki_rnc/"
      ],
      "execution_count": null,
      "outputs": []
    }
  ]
}