{
  "nbformat": 4,
  "nbformat_minor": 0,
  "metadata": {
    "colab": {
      "name": "colab_interface",
      "provenance": [],
      "collapsed_sections": []
    },
    "kernelspec": {
      "name": "python3",
      "display_name": "Python 3"
    },
    "language_info": {
      "name": "python"
    },
    "accelerator": "GPU"
  },
  "cells": [
    {
      "cell_type": "code",
      "metadata": {
        "id": "-LXazXnoy2tr"
      },
      "source": [
        "%%bash\n",
        "wget \"https://russiansuperglue.com/tasks/download\"\n",
        "unzip download\n",
        "rm download\n",
        "rm -r __MACOSX"
      ],
      "execution_count": null,
      "outputs": []
    },
    {
      "cell_type": "code",
      "metadata": {
        "id": "uMgcpG3bzLNA"
      },
      "source": [
        "%%bash\n",
        "# non-lemmatized\n",
        "wget -q --show-progress \"http://vectors.nlpl.eu/repository/20/195.zip\" -P ./models\n",
        "# unzipping because it works faster when unzipped\n",
        "unzip ./models/195.zip -d ./models/wiki_rnc\n",
        "rm ./models/195.zip\n",
        "# lemmatized\n",
        "wget -q --show-progress \"http://vectors.nlpl.eu/repository/20/199.zip\" -P ./models\n",
        "# unzipping because it works faster when unzipped\n",
        "unzip ./models/199.zip -d ./models/taiga\n",
        "rm ./models/199.zip"
      ],
      "execution_count": null,
      "outputs": []
    },
    {
      "cell_type": "code",
      "metadata": {
        "id": "vNBeuf8m2BCB"
      },
      "source": [
        "!pip install simple-elmo\n",
        "!pip install pymorphy2[fast]\n",
        "!pip install razdel"
      ],
      "execution_count": null,
      "outputs": []
    },
    {
      "cell_type": "code",
      "metadata": {
        "id": "1Py2UXXu3-gg"
      },
      "source": [
        "!mkdir submissions/\n",
        "!mkdir logs/"
      ],
      "execution_count": null,
      "outputs": []
    },
    {
      "cell_type": "markdown",
      "metadata": {
        "id": "sfC9vjmMqLC5"
      },
      "source": [
        "## Lemmas"
      ]
    },
    {
      "cell_type": "markdown",
      "metadata": {
        "id": "VsSUw7aK8Z1S"
      },
      "source": [
        "TERRa"
      ]
    },
    {
      "cell_type": "code",
      "metadata": {
        "id": "RabE4pS_HYDd"
      },
      "source": [
        "%%bash\n",
        "python3 apply_elmo.py -t combined/TERRa/ -e models/taiga/ --lemmas -n 20"
      ],
      "execution_count": null,
      "outputs": []
    },
    {
      "cell_type": "markdown",
      "metadata": {
        "id": "OINriyz9Tldd"
      },
      "source": [
        "RWSD"
      ]
    },
    {
      "cell_type": "code",
      "metadata": {
        "id": "fsjK9bFufT-E"
      },
      "source": [
        "%%bash\n",
        "python3 apply_elmo.py -t combined/RWSD/ -e models/taiga/ --lemmas -n 20"
      ],
      "execution_count": null,
      "outputs": []
    },
    {
      "cell_type": "markdown",
      "metadata": {
        "id": "FOxURpERT3nO"
      },
      "source": [
        "PARus"
      ]
    },
    {
      "cell_type": "code",
      "metadata": {
        "id": "2OT-pcj9oK8D"
      },
      "source": [
        "%%bash\n",
        "python3 apply_elmo.py -t combined/PARus/ -e models/taiga/ --lemmas -n 20"
      ],
      "execution_count": null,
      "outputs": []
    },
    {
      "cell_type": "markdown",
      "metadata": {
        "id": "eleZ-oSDTdbY"
      },
      "source": [
        "RCB"
      ]
    },
    {
      "cell_type": "code",
      "metadata": {
        "id": "hhV0gwetZNge"
      },
      "source": [
        "%%bash\n",
        "python3 apply_elmo.py -t combined/RCB/ -e models/taiga/ --lemmas -n 20"
      ],
      "execution_count": null,
      "outputs": []
    },
    {
      "cell_type": "markdown",
      "metadata": {
        "id": "BWSQqFhhTxs4"
      },
      "source": [
        "LiDiRUS"
      ]
    },
    {
      "cell_type": "code",
      "metadata": {
        "id": "oCa7rD7MkIKu"
      },
      "source": [
        "%%bash\n",
        "python3 apply_elmo.py -t combined/LiDiRus/ -e models/taiga/ --lemmas -n 20"
      ],
      "execution_count": null,
      "outputs": []
    },
    {
      "cell_type": "markdown",
      "metadata": {
        "id": "e_J-CXm3qNvg"
      },
      "source": [
        "## Tokens"
      ]
    },
    {
      "cell_type": "markdown",
      "metadata": {
        "id": "C6vxDsfUsko0"
      },
      "source": [
        "TERRa"
      ]
    },
    {
      "cell_type": "code",
      "metadata": {
        "id": "ddDjzPcqsko_"
      },
      "source": [
        "%%bash\n",
        "python3 apply_elmo.py -t combined/TERRa/ -e models/wiki_rnc/ -n 20"
      ],
      "execution_count": null,
      "outputs": []
    },
    {
      "cell_type": "markdown",
      "metadata": {
        "id": "Eb8rKoDHskpC"
      },
      "source": [
        "RWSD"
      ]
    },
    {
      "cell_type": "code",
      "metadata": {
        "id": "tiR-l3MzskpC"
      },
      "source": [
        "%%bash\n",
        "python3 apply_elmo.py -t combined/RWSD/ -e models/wiki_rnc/ -n 20"
      ],
      "execution_count": null,
      "outputs": []
    },
    {
      "cell_type": "markdown",
      "metadata": {
        "id": "BJS7vRVzskpD"
      },
      "source": [
        "PARus"
      ]
    },
    {
      "cell_type": "code",
      "metadata": {
        "id": "GDI7UwY7zIkI"
      },
      "source": [
        "%%bash\n",
        "python3 apply_elmo.py -t combined/PARus/ -e models/wiki_rnc/ -n 20"
      ],
      "execution_count": null,
      "outputs": []
    },
    {
      "cell_type": "markdown",
      "metadata": {
        "id": "21-hxR_3skpF"
      },
      "source": [
        "RCB"
      ]
    },
    {
      "cell_type": "code",
      "metadata": {
        "id": "zyv_n-IQskpF"
      },
      "source": [
        "%%bash\n",
        "python3 apply_elmo.py -t combined/RCB/ -e models/wiki_rnc/ -n 20"
      ],
      "execution_count": null,
      "outputs": []
    },
    {
      "cell_type": "markdown",
      "metadata": {
        "id": "JLXoUC8KskpG"
      },
      "source": [
        "LiDiRUS"
      ]
    },
    {
      "cell_type": "code",
      "metadata": {
        "id": "lCsoR7tLskpG"
      },
      "source": [
        "%%bash\n",
        "python3 apply_elmo.py -t combined/LiDiRus/ -e models/wiki_rnc/ -n 20"
      ],
      "execution_count": null,
      "outputs": []
    }
  ]
}