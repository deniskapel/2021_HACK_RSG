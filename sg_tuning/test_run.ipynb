{
  "nbformat": 4,
  "nbformat_minor": 5,
  "metadata": {
    "kernelspec": {
      "display_name": "Python 3 (ipykernel)",
      "language": "python",
      "name": "python3"
    },
    "language_info": {
      "codemirror_mode": {
        "name": "ipython",
        "version": 3
      },
      "file_extension": ".py",
      "mimetype": "text/x-python",
      "name": "python",
      "nbconvert_exporter": "python",
      "pygments_lexer": "ipython3",
      "version": "3.7.10"
    },
    "colab": {
      "name": "test_run.ipynb",
      "provenance": [],
      "collapsed_sections": []
    },
    "accelerator": "GPU"
  },
  "cells": [
    {
      "cell_type": "code",
      "metadata": {
        "colab": {
          "base_uri": "https://localhost:8080/",
          "height": 57
        },
        "id": "a39f59ff",
        "outputId": "c823b1e2-5332-4f49-883a-3795af2c4ece"
      },
      "source": [
        "import sys\n",
        "sys.executable"
      ],
      "id": "a39f59ff",
      "execution_count": null,
      "outputs": [
        {
          "output_type": "execute_result",
          "data": {
            "application/vnd.google.colaboratory.intrinsic+json": {
              "type": "string"
            },
            "text/plain": [
              "'/usr/bin/python3'"
            ]
          },
          "metadata": {},
          "execution_count": 1
        }
      ]
    },
    {
      "cell_type": "code",
      "metadata": {
        "colab": {
          "base_uri": "https://localhost:8080/"
        },
        "id": "TY3hey70Exty",
        "outputId": "ae2d99d3-a79a-45c0-c968-c109d92d5b9e"
      },
      "source": [
        "from google.colab import drive\n",
        "drive.mount('/content/drive')"
      ],
      "id": "TY3hey70Exty",
      "execution_count": null,
      "outputs": [
        {
          "output_type": "stream",
          "name": "stdout",
          "text": [
            "Mounted at /content/drive\n"
          ]
        }
      ]
    },
    {
      "cell_type": "code",
      "metadata": {
        "id": "U1XcMc7EJP0p",
        "colab": {
          "base_uri": "https://localhost:8080/"
        },
        "outputId": "7156869d-694f-468f-da19-44416f47108a"
      },
      "source": [
        "!git clone https://github.com/nyu-mll/jiant.git\n",
        "!cd jiant"
      ],
      "id": "U1XcMc7EJP0p",
      "execution_count": null,
      "outputs": [
        {
          "output_type": "stream",
          "name": "stdout",
          "text": [
            "Cloning into 'jiant'...\n",
            "remote: Enumerating objects: 13826, done.\u001b[K\n",
            "remote: Counting objects: 100% (129/129), done.\u001b[K\n",
            "remote: Compressing objects: 100% (100/100), done.\u001b[K\n",
            "remote: Total 13826 (delta 42), reused 76 (delta 26), pack-reused 13697\u001b[K\n",
            "Receiving objects: 100% (13826/13826), 4.39 MiB | 15.23 MiB/s, done.\n",
            "Resolving deltas: 100% (9648/9648), done.\n"
          ]
        }
      ]
    },
    {
      "cell_type": "code",
      "metadata": {
        "scrolled": true,
        "id": "9fed9c72"
      },
      "source": [
        "%%capture\n",
        "!pip install -r jiant/requirements.txt\n",
        "!pip install jiant"
      ],
      "id": "9fed9c72",
      "execution_count": null,
      "outputs": []
    },
    {
      "cell_type": "code",
      "metadata": {
        "id": "90c5cbe7"
      },
      "source": [
        "tasks = [\n",
        "    \"superglue_broadcoverage_diagnostics\", # Broadcoverage Diagnostics; Recognizing Textual Entailment\n",
        "    \"cb\", # CommitmentBank\n",
        "    \"copa\", # Choice of Plausible Alternatives\n",
        "    \"multirc\", # Multi-Sentence Reading Comprehension\n",
        "    \"wic\", # Words in Context\n",
        "    \"wsc\", # The Winograd Schema Challenge\n",
        "    \"boolq\", # BoolQ\n",
        "    \"record\", # Reading Comprehension with Commonsense Reasoning\n",
        "    \"superglue_winogender_diagnostics\", # Winogender Schema Diagnostics\n",
        "    \"rte\"\n",
        "]"
      ],
      "id": "90c5cbe7",
      "execution_count": null,
      "outputs": []
    },
    {
      "cell_type": "code",
      "metadata": {
        "colab": {
          "base_uri": "https://localhost:8080/"
        },
        "id": "bfc97b21",
        "outputId": "00136c79-6ddc-4816-9a82-9686971b1aaf"
      },
      "source": [
        "# Download Data\n",
        "!python jiant/jiant/scripts/download_data/runscript.py \\\n",
        "    download \\\n",
        "    --tasks \"superglue_winogender_diagnostics\" \\\n",
        "    --output_path \"/content/drive/MyDrive/superglue/tasks\""
      ],
      "id": "bfc97b21",
      "execution_count": null,
      "outputs": [
        {
          "output_type": "stream",
          "name": "stdout",
          "text": [
            "Downloading and preparing dataset super_glue/axg (download: 10.17 KiB, generated: 52.33 KiB, post-processed: Unknown size, total: 62.49 KiB) to /root/.cache/huggingface/datasets/super_glue/axg/1.0.2/41d9edb3935257e1da4b7ce54cd90df0e8bb255a15e46cfe5cbc7e1c04f177de...\n",
            "Downloading: 100% 10.4k/10.4k [00:00<00:00, 5.43MB/s]\n",
            "Dataset super_glue downloaded and prepared to /root/.cache/huggingface/datasets/super_glue/axg/1.0.2/41d9edb3935257e1da4b7ce54cd90df0e8bb255a15e46cfe5cbc7e1c04f177de. Subsequent calls will reuse this data.\n",
            "Downloaded and generated configs for 'superglue_winogender_diagnostics' (1/1)\n"
          ]
        }
      ]
    },
    {
      "cell_type": "code",
      "metadata": {
        "id": "90e347fd"
      },
      "source": [
        "# Download Model\n",
        "!python jiant/jiant/proj/main/export_model.py \\\n",
        "    --hf_pretrained_model_name_or_path \"/content/drive/MyDrive/bert-english\" \\\n",
        "    --output_base_path \"/content/drive/MyDrive/superglue/models/bert-english\""
      ],
      "id": "90e347fd",
      "execution_count": null,
      "outputs": []
    },
    {
      "cell_type": "code",
      "metadata": {
        "scrolled": true,
        "id": "a42c4152",
        "colab": {
          "base_uri": "https://localhost:8080/"
        },
        "outputId": "332f743d-9a3e-47b2-cb7a-ea50f1966063"
      },
      "source": [
        "# Cache Data\n",
        "!python jiant/jiant/proj/main/tokenize_and_cache.py \\\n",
        "    --task_config_path \"/content/drive/MyDrive/superglue/tasks/configs/superglue_winogender_diagnostics_config.json\" \\\n",
        "    --hf_pretrained_model_name_or_path \"/content/drive/MyDrive/bert-english\" \\\n",
        "    --output_dir \"/content/drive/MyDrive/superglue/cache/bert/superglue_winogender_diagnostics\" \\\n",
        "    --phases test \\\n",
        "    --max_seq_length 512 \\\n",
        "    --smart_truncate"
      ],
      "id": "a42c4152",
      "execution_count": null,
      "outputs": [
        {
          "output_type": "stream",
          "name": "stdout",
          "text": [
            "SuperglueWinogenderDiagnosticsTask\n",
            "  [test]: /content/drive/MyDrive/superglue/tasks/data/superglue_winogender_diagnostics/test.jsonl\n",
            "Tokenizing: 100% 356/356 [00:00<00:00, 1055.63it/s]\n",
            "Smart truncate data: 100% 356/356 [00:00<00:00, 100570.64it/s]\n"
          ]
        }
      ]
    },
    {
      "cell_type": "code",
      "metadata": {
        "id": "f6579f5a"
      },
      "source": [
        "# Create config\n",
        "!python jiant/jiant/proj/main/scripts/configurator.py \\\n",
        "    SingleTaskConfigurator \\\n",
        "    /content/drive/MyDrive/superglue/runconfigs/bert_enwiki/superglue_winogender_diagnostics.json \\\n",
        "    --task_name superglue_winogender_diagnostics \\\n",
        "    --task_config_base_path /content/drive/MyDrive/superglue/tasks/configs \\\n",
        "    --task_cache_base_path /content/drive/MyDrive/superglue/cache/bert \\\n",
        "    --train_batch_size 16 \\\n",
        "    --eval_batch_multiplier 2 \\\n",
        "    --do_test "
      ],
      "id": "f6579f5a",
      "execution_count": null,
      "outputs": []
    },
    {
      "cell_type": "code",
      "metadata": {
        "scrolled": true,
        "id": "444d9318"
      },
      "source": [
        "# Train model \n",
        "!python jiant/jiant/proj/main/runscript.py \\\n",
        "    run \\\n",
        "    --ZZsrc superglue/models/bert-english/config.json \\\n",
        "    --jiant_task_container_config_path  /content/drive/MyDrive/superglue/runconfigs/bert_enwiki/superglue_winogender_diagnostics.json \\\n",
        "    --learning_rate 1e-5 \\\n",
        "    --do_val \\\n",
        "    --do_save \\\n",
        "    --no_improvements_for_n_evals 3 \\\n",
        "    --output_dir /content/drive/MyDrive/superglue/runs/bert-english/superglue_winogender_diagnostics \\\n",
        "    --write_test_preds"
      ],
      "id": "444d9318",
      "execution_count": null,
      "outputs": []
    },
    {
      "cell_type": "code",
      "metadata": {
        "id": "9ea2afe5"
      },
      "source": [
        "# Convert to RSG Format\n",
        "!python jiant/jiant/scripts/benchmarks/benchmark_submission_formatter.py \\\n",
        "    --benchmark SUPERGLUE \\\n",
        "    --input_base_path /content/drive/MyDrive/superglue/runs/bert-english \\\n",
        "    --output_path /content/drive/MyDrive/superglue/preds/bert-english \\\n",
        "    --tasks copa"
      ],
      "id": "9ea2afe5",
      "execution_count": null,
      "outputs": []
    }
  ]
}