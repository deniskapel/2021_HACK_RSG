{
  "cells": [
    {
      "cell_type": "markdown",
      "metadata": {
        "id": "view-in-github",
        "colab_type": "text"
      },
      "source": [
        "<a href=\"https://colab.research.google.com/github/deniskapel/2021_HACK_RSG/blob/main/blimp/blimp_elmo.ipynb\" target=\"_parent\"><img src=\"https://colab.research.google.com/assets/colab-badge.svg\" alt=\"Open In Colab\"/></a>"
      ]
    },
    {
      "cell_type": "markdown",
      "metadata": {
        "id": "rsnkMDW9jfL6"
      },
      "source": [
        "## Initialize"
      ]
    },
    {
      "cell_type": "code",
      "source": [
        "!pip install --upgrade simple_elmo"
      ],
      "metadata": {
        "id": "y6v-rGuv32U4"
      },
      "execution_count": null,
      "outputs": []
    },
    {
      "cell_type": "code",
      "execution_count": 3,
      "metadata": {
        "id": "Fs-arRORhLnO"
      },
      "outputs": [],
      "source": [
        "import json\n",
        "import logging\n",
        "import glob \n",
        "\n",
        "import numpy as np\n",
        "\n",
        "import simple_elmo\n",
        "import tensorflow as tf\n",
        "from tensorflow import Graph\n",
        "\n",
        "from torch.utils.data import Dataset, DataLoader\n",
        "from scipy.special import softmax\n",
        "\n",
        "from spacy.lang.en import English\n",
        "from tqdm.notebook import tqdm\n",
        "\n",
        "import matplotlib.pyplot as plt"
      ]
    },
    {
      "cell_type": "code",
      "execution_count": null,
      "metadata": {
        "id": "GlGNec30qdxz"
      },
      "outputs": [],
      "source": [
        "%%capture\n",
        "%%bash\n",
        "git clone https://github.com/alexwarstadt/blimp\n",
        "\n",
        "mkdir models\n",
        "wget --load-cookies /tmp/cookies.txt \"https://docs.google.com/uc?export=download&confirm=$(wget --quiet --save-cookies /tmp/cookies.txt --keep-session-cookies --no-check-certificate 'https://docs.google.com/uc?export=download&id=1px_asSvNUCe33oMk3Q9f2ZTguA46_NPr' -O- | sed -rn 's/.*confirm=([0-9A-Za-z_]+).*/\\1\\n/p')&id=1px_asSvNUCe33oMk3Q9f2ZTguA46_NPr\" -O models/enwiki30.zip && rm -rf /tmp/cookies.txt\n",
        "unzip models/enwiki30.zip -d models"
      ]
    },
    {
      "cell_type": "code",
      "source": [
        "BATCH_SIZE = 1"
      ],
      "metadata": {
        "id": "IzVjl8ZutTZd"
      },
      "execution_count": null,
      "outputs": []
    },
    {
      "cell_type": "code",
      "source": [
        "elmo_model = simple_elmo.ElmoModel()\n",
        "elmo_model.load('models/enwiki30', max_batch_size=BATCH_SIZE, full=True)"
      ],
      "metadata": {
        "id": "MWWfXZDHsO0a"
      },
      "execution_count": null,
      "outputs": []
    },
    {
      "cell_type": "code",
      "source": [
        "matrix_questions = [\n",
        "               (\"Had Bruce ever played ?\", \"Bruce had ever played .\"), \n",
        "               (\"Had Patrick ever answered ?\", \"Patrick had ever answered .\"),\n",
        "               (\"Do some carts ever accelerate ?\", \"Some carts do ever accelerate .\"), \n",
        "               (\"Will Dawn ever know Jeffrey ?\", \"Dawn will ever know Jeffrey .\")]\n",
        "\n",
        "goods = [pair[0] for pair in matrix_questions]\n",
        "bads = [pair[1] for pair in matrix_questions]\n",
        "goods, bads"
      ],
      "metadata": {
        "id": "xGMZ5wtkf00w",
        "outputId": "144b4a59-cbd7-4762-ea10-34fc5e4f85a2",
        "colab": {
          "base_uri": "https://localhost:8080/"
        }
      },
      "execution_count": null,
      "outputs": [
        {
          "output_type": "execute_result",
          "data": {
            "text/plain": [
              "(['Had Bruce ever played ?',\n",
              "  'Had Patrick ever answered ?',\n",
              "  'Do some carts ever accelerate ?',\n",
              "  'Will Dawn ever know Jeffrey ?'],\n",
              " ['Bruce had ever played .',\n",
              "  'Patrick had ever answered .',\n",
              "  'Some carts do ever accelerate .',\n",
              "  'Dawn will ever know Jeffrey .'])"
            ]
          },
          "metadata": {},
          "execution_count": 190
        }
      ]
    },
    {
      "cell_type": "code",
      "source": [
        "# warm up\n",
        "tokenizer=English().tokenizer\n",
        "goods = elmo_model.get_elmo_substitutes(goods, topn=30_003)\n",
        "bads = elmo_model.get_elmo_substitutes(bads, topn=30_003)"
      ],
      "metadata": {
        "colab": {
          "base_uri": "https://localhost:8080/"
        },
        "id": "DG-nzMR66NC1",
        "outputId": "beb6147f-1291-4bdd-c9b1-23cf5d8d57e8"
      },
      "execution_count": null,
      "outputs": [
        {
          "output_type": "stream",
          "name": "stderr",
          "text": [
            "2022-03-10 15:48:25,971 : INFO : Calculating language model predictions...\n",
            "2022-03-10 15:48:26,755 : INFO : Calculating language model predictions...\n"
          ]
        }
      ]
    },
    {
      "cell_type": "code",
      "source": [
        "def get_token_logp(token: dict, vocab_size=30_003) -> tuple:\n",
        "    \"\"\" returns token logp from forward and backward lstm \"\"\"\n",
        "    vocab_forward = dict(zip(token['forward']['candidate_words'], softmax(token['forward']['logp'])))\n",
        "    vocab_backward = dict(zip(token['backward']['candidate_words'], softmax(token['backward']['logp'])))\n",
        "    forward_logp = vocab_forward.get(token['word'], vocab_forward['<UNK>'])\n",
        "    backward_logp = vocab_backward.get(token['word'], vocab_backward['<UNK>'])\n",
        "    \n",
        "    return forward_logp, backward_logp"
      ],
      "metadata": {
        "id": "iAth-AXB7BYQ"
      },
      "execution_count": null,
      "outputs": []
    },
    {
      "cell_type": "code",
      "source": [
        "for right, wrong  in zip(goods, bads):\n",
        "    for r, w in zip(right, wrong):\n",
        "        print(get_token_logp(r), get_token_logp(w))\n",
        "        print('\\n')\n"
      ],
      "metadata": {
        "id": "BQGikyoe6VRu"
      },
      "execution_count": null,
      "outputs": []
    },
    {
      "cell_type": "code",
      "execution_count": null,
      "metadata": {
        "id": "FLFlFB1KAqMB"
      },
      "outputs": [],
      "source": [
        "def load(filename):\n",
        "    pairs = []\n",
        "    with open(filename) as f:\n",
        "        for line in f.readlines():\n",
        "            pairs.append(json.loads(line))\n",
        "    return pairs"
      ]
    },
    {
      "cell_type": "code",
      "execution_count": null,
      "metadata": {
        "id": "RsvytnJTOxME"
      },
      "outputs": [],
      "source": [
        "def get_ppl(sentence, direction='forward', vocab_size=30_003):\n",
        "    \n",
        "    err_message = \"Direction must be either 'forward', 'backward' or 'bidirectional'\"\n",
        "    assert direction in ['forward', 'backward', 'bidirectional'], err_message\n",
        "    log_p = [get_token_logp(token, vocab_size) for token in sentence]\n",
        "\n",
        "    if direction == 'forward':\n",
        "        log_p = [f for f, b in log_p]\n",
        "    elif direction == 'backward':\n",
        "        log_p = [b for f, b in log_p]\n",
        "    else:\n",
        "        log_p = [np.mean([f,b]) for f, b in log_p]\n",
        "\n",
        "    ppl = np.sum(log_p)\n",
        "    \n",
        "    return ppl"
      ]
    },
    {
      "cell_type": "code",
      "source": [
        "def get_token_logp(token: dict, vocab_size=30_003) -> tuple:\n",
        "    \"\"\" returns token logp from forward and backward lstm \"\"\"\n",
        "    vocab_forward = dict(zip(token['forward']['candidate_words'], softmax(token['forward']['logp'])))\n",
        "    vocab_backward = dict(zip(token['backward']['candidate_words'], softmax(token['backward']['logp'])))\n",
        "    forward_logp = vocab_forward.get(token['word'], vocab_forward['<UNK>'])\n",
        "    backward_logp = vocab_backward.get(token['word'], vocab_backward['<UNK>'])\n",
        "\n",
        "    return forward_logp, backward_logp"
      ],
      "metadata": {
        "id": "p5K0lsycicCQ"
      },
      "execution_count": null,
      "outputs": []
    },
    {
      "cell_type": "code",
      "source": [
        "test_sentences = [\n",
        "               (\"Had Bruce ever played ?\", \"Bruce had ever played .\"), \n",
        "               (\"Had Patrick ever answered ?\", \"Patrick had ever answered .\"),\n",
        "               (\"Do some carts ever accelerate ?\", \"Some carts do ever accelerate .\"), \n",
        "               (\"Will Dawn ever know Jeffrey ?\", \"Dawn will ever know Jeffrey .\")]\n",
        "\n",
        "print('forward')\n",
        "for shorter, longer in test_sentences:\n",
        "    g = get_ppl(elmo_model.get_elmo_substitutes([shorter.lower()], topn=30_003)[0])\n",
        "    b = get_ppl(elmo_model.get_elmo_substitutes([longer.lower()], topn=30_003)[0])\n",
        "    print(g,b, g>b, g-b)\n",
        "    print('\\n')\n",
        "\n",
        "print('bidirectional')\n",
        "for shorter, longer in test_sentences:\n",
        "    g = get_ppl(elmo_model.get_elmo_substitutes([shorter.lower()], topn=30_003)[0], 'bidirectional')\n",
        "    b = get_ppl(elmo_model.get_elmo_substitutes([longer.lower()], topn=30_003)[0], 'bidirectional')\n",
        "    print(g,b, g>b, g-b)\n",
        "    print('\\n')"
      ],
      "metadata": {
        "id": "E5LHrPrTj5E8",
        "outputId": "6726c544-6762-4e87-9185-da30ae1b95c2",
        "colab": {
          "base_uri": "https://localhost:8080/"
        }
      },
      "execution_count": null,
      "outputs": [
        {
          "output_type": "stream",
          "name": "stderr",
          "text": [
            "2022-03-10 18:10:45,437 : INFO : Calculating language model predictions...\n"
          ]
        },
        {
          "output_type": "stream",
          "name": "stdout",
          "text": [
            "forward\n"
          ]
        },
        {
          "output_type": "stream",
          "name": "stderr",
          "text": [
            "2022-03-10 18:10:45,721 : INFO : Calculating language model predictions...\n",
            "2022-03-10 18:10:46,028 : INFO : Calculating language model predictions...\n"
          ]
        },
        {
          "output_type": "stream",
          "name": "stdout",
          "text": [
            "0.16437553350921608 0.1195200082790187 True 0.04485552523019738\n",
            "\n",
            "\n"
          ]
        },
        {
          "output_type": "stream",
          "name": "stderr",
          "text": [
            "2022-03-10 18:10:46,320 : INFO : Calculating language model predictions...\n",
            "2022-03-10 18:10:46,601 : INFO : Calculating language model predictions...\n"
          ]
        },
        {
          "output_type": "stream",
          "name": "stdout",
          "text": [
            "0.16428846108889222 0.12262685037309673 True 0.041661610715795494\n",
            "\n",
            "\n"
          ]
        },
        {
          "output_type": "stream",
          "name": "stderr",
          "text": [
            "2022-03-10 18:10:46,936 : INFO : Calculating language model predictions...\n",
            "2022-03-10 18:10:47,276 : INFO : Calculating language model predictions...\n"
          ]
        },
        {
          "output_type": "stream",
          "name": "stdout",
          "text": [
            "0.09545830796698825 0.1066859040724685 False -0.011227596105480256\n",
            "\n",
            "\n"
          ]
        },
        {
          "output_type": "stream",
          "name": "stderr",
          "text": [
            "2022-03-10 18:10:47,613 : INFO : Calculating language model predictions...\n",
            "2022-03-10 18:10:47,950 : INFO : Calculating language model predictions...\n"
          ]
        },
        {
          "output_type": "stream",
          "name": "stdout",
          "text": [
            "0.029927070367573205 0.04392757967435819 False -0.014000509306784984\n",
            "\n",
            "\n",
            "bidirectional\n"
          ]
        },
        {
          "output_type": "stream",
          "name": "stderr",
          "text": [
            "2022-03-10 18:10:48,244 : INFO : Calculating language model predictions...\n",
            "2022-03-10 18:10:48,525 : INFO : Calculating language model predictions...\n"
          ]
        },
        {
          "output_type": "stream",
          "name": "stdout",
          "text": [
            "0.15470646383184627 0.45075030763439544 False -0.29604384380254917\n",
            "\n",
            "\n"
          ]
        },
        {
          "output_type": "stream",
          "name": "stderr",
          "text": [
            "2022-03-10 18:10:48,827 : INFO : Calculating language model predictions...\n",
            "2022-03-10 18:10:49,120 : INFO : Calculating language model predictions...\n"
          ]
        },
        {
          "output_type": "stream",
          "name": "stdout",
          "text": [
            "0.15491644303892807 0.45253118880933063 False -0.2976147457704026\n",
            "\n",
            "\n"
          ]
        },
        {
          "output_type": "stream",
          "name": "stderr",
          "text": [
            "2022-03-10 18:10:49,480 : INFO : Calculating language model predictions...\n",
            "2022-03-10 18:10:49,800 : INFO : Calculating language model predictions...\n"
          ]
        },
        {
          "output_type": "stream",
          "name": "stdout",
          "text": [
            "0.12131106700078226 0.5812269781733692 False -0.45991591117258696\n",
            "\n",
            "\n"
          ]
        },
        {
          "output_type": "stream",
          "name": "stderr",
          "text": [
            "2022-03-10 18:10:50,173 : INFO : Calculating language model predictions...\n"
          ]
        },
        {
          "output_type": "stream",
          "name": "stdout",
          "text": [
            "0.16876912439629832 0.7938641885822277 False -0.6250950641859294\n",
            "\n",
            "\n"
          ]
        }
      ]
    },
    {
      "cell_type": "markdown",
      "source": [
        "## test if difference in a number of words matters"
      ],
      "metadata": {
        "id": "bHPD9zYhqWdq"
      }
    },
    {
      "cell_type": "code",
      "source": [
        "import re\n",
        "\n",
        "test_sentences = [\n",
        "               (\"Had Bruce ever played ?\", \"Bruce had ever played .\"), \n",
        "               (\"Had Patrick ever answered ?\", \"Patrick had ever answered .\"),\n",
        "               (\"Do some carts ever accelerate ?\", \"Some carts do ever accelerate .\"), \n",
        "               (\"Will Dawn ever know Jeffrey ?\", \"Dawn will ever know Jeffrey .\")]\n",
        "\n",
        "print('forward')\n",
        "for shorter, longer in test_sentences:\n",
        "    g = get_ppl(elmo_model.get_elmo_substitutes([re.sub(r'[^a-zA-Z\\s]', \"\", shorter.lower())], topn=30_003)[0])\n",
        "    b = get_ppl(elmo_model.get_elmo_substitutes([re.sub(r'[^a-zA-Z\\s]', \"\", longer.lower())], topn=30_003)[0])\n",
        "    print(g,b, g>b, g-b)\n",
        "    print('\\n')\n",
        "\n",
        "print('bidirectional')\n",
        "for shorter, longer in test_sentences:\n",
        "    g = get_ppl(elmo_model.get_elmo_substitutes([re.sub(r'[^a-zA-Z\\s]', \"\", shorter.lower())], topn=30_003)[0], 'bidirectional')\n",
        "    b = get_ppl(elmo_model.get_elmo_substitutes([re.sub(r'[^a-zA-Z\\s]', \"\", longer.lower())], topn=30_003)[0], 'bidirectional')\n",
        "    print(g,b, g>b, g-b)\n",
        "    print('\\n')"
      ],
      "metadata": {
        "colab": {
          "base_uri": "https://localhost:8080/"
        },
        "id": "dER1ZoGcqdup",
        "outputId": "f3626d7d-ef90-46f1-964c-dbecdfe3d965"
      },
      "execution_count": null,
      "outputs": [
        {
          "output_type": "stream",
          "name": "stderr",
          "text": [
            "2022-03-10 18:10:50,551 : INFO : Calculating language model predictions...\n"
          ]
        },
        {
          "output_type": "stream",
          "name": "stdout",
          "text": [
            "forward\n"
          ]
        },
        {
          "output_type": "stream",
          "name": "stderr",
          "text": [
            "2022-03-10 18:10:50,791 : INFO : Calculating language model predictions...\n",
            "2022-03-10 18:10:51,010 : INFO : Calculating language model predictions...\n"
          ]
        },
        {
          "output_type": "stream",
          "name": "stdout",
          "text": [
            "0.16437536290911647 0.11866272626140305 True 0.045712636647713425\n",
            "\n",
            "\n"
          ]
        },
        {
          "output_type": "stream",
          "name": "stderr",
          "text": [
            "2022-03-10 18:10:51,252 : INFO : Calculating language model predictions...\n",
            "2022-03-10 18:10:51,497 : INFO : Calculating language model predictions...\n"
          ]
        },
        {
          "output_type": "stream",
          "name": "stdout",
          "text": [
            "0.164223353806299 0.1186172918880896 True 0.04560606191820939\n",
            "\n",
            "\n"
          ]
        },
        {
          "output_type": "stream",
          "name": "stderr",
          "text": [
            "2022-03-10 18:10:51,780 : INFO : Calculating language model predictions...\n",
            "2022-03-10 18:10:52,048 : INFO : Calculating language model predictions...\n"
          ]
        },
        {
          "output_type": "stream",
          "name": "stdout",
          "text": [
            "0.0954365405615123 0.09530133998696193 True 0.0001352005745503676\n",
            "\n",
            "\n"
          ]
        },
        {
          "output_type": "stream",
          "name": "stderr",
          "text": [
            "2022-03-10 18:10:52,327 : INFO : Calculating language model predictions...\n",
            "2022-03-10 18:10:52,621 : INFO : Calculating language model predictions...\n"
          ]
        },
        {
          "output_type": "stream",
          "name": "stdout",
          "text": [
            "0.029887177768082793 0.030133554344813438 False -0.0002463765767306454\n",
            "\n",
            "\n",
            "bidirectional\n"
          ]
        },
        {
          "output_type": "stream",
          "name": "stderr",
          "text": [
            "2022-03-10 18:10:52,854 : INFO : Calculating language model predictions...\n",
            "2022-03-10 18:10:53,089 : INFO : Calculating language model predictions...\n"
          ]
        },
        {
          "output_type": "stream",
          "name": "stdout",
          "text": [
            "0.1534296774707198 0.1068706055678993 True 0.046559071902820506\n",
            "\n",
            "\n"
          ]
        },
        {
          "output_type": "stream",
          "name": "stderr",
          "text": [
            "2022-03-10 18:10:53,312 : INFO : Calculating language model predictions...\n",
            "2022-03-10 18:10:53,551 : INFO : Calculating language model predictions...\n"
          ]
        },
        {
          "output_type": "stream",
          "name": "stdout",
          "text": [
            "0.15360889542608147 0.10707430151956245 True 0.046534593906519026\n",
            "\n",
            "\n"
          ]
        },
        {
          "output_type": "stream",
          "name": "stderr",
          "text": [
            "2022-03-10 18:10:53,825 : INFO : Calculating language model predictions...\n",
            "2022-03-10 18:10:54,106 : INFO : Calculating language model predictions...\n"
          ]
        },
        {
          "output_type": "stream",
          "name": "stdout",
          "text": [
            "0.12002962359740861 0.23208253914882487 False -0.11205291555141626\n",
            "\n",
            "\n"
          ]
        },
        {
          "output_type": "stream",
          "name": "stderr",
          "text": [
            "2022-03-10 18:10:54,387 : INFO : Calculating language model predictions...\n"
          ]
        },
        {
          "output_type": "stream",
          "name": "stdout",
          "text": [
            "0.04716232892395271 0.04730898949940333 False -0.00014666057545061756\n",
            "\n",
            "\n"
          ]
        }
      ]
    },
    {
      "cell_type": "code",
      "source": [
        "test_sentences = [\n",
        "                  ('I like football .', 'I likes football .'),\n",
        "                  ('This is a terrible mistake .', 'Is this a terrible mistake .'),\n",
        "                  ('An island is an isolated piece of habitat that is surrounded by a dramatically different habitat, such as water.', \n",
        "                   'An island are an isolated piece of habitat that is surrounded by a dramatically different habitat, such as water.')\n",
        "]\n",
        "\n",
        "print('forward')\n",
        "for shorter, longer in test_sentences:\n",
        "    g = get_ppl(elmo_model.get_elmo_substitutes([shorter], topn=30_003)[0])\n",
        "    b = get_ppl(elmo_model.get_elmo_substitutes([longer], topn=30_003)[0])\n",
        "    print(g,b, g>b)\n",
        "    print('\\n')\n",
        "\n",
        "print('bidirectional')\n",
        "for shorter, longer in test_sentences:\n",
        "    g = get_ppl(elmo_model.get_elmo_substitutes([shorter], topn=30_003)[0], 'bidirectional')\n",
        "    b = get_ppl(elmo_model.get_elmo_substitutes([longer], topn=30_003)[0], 'bidirectional')\n",
        "    print(g,b, g>b)\n",
        "    print('\\n')\n"
      ],
      "metadata": {
        "id": "W36WNGFCun1Q",
        "outputId": "9b643143-9bab-4e96-8917-8c0ce8acece3",
        "colab": {
          "base_uri": "https://localhost:8080/"
        }
      },
      "execution_count": null,
      "outputs": [
        {
          "output_type": "stream",
          "name": "stderr",
          "text": [
            "2022-03-10 18:10:54,700 : INFO : Calculating language model predictions...\n"
          ]
        },
        {
          "output_type": "stream",
          "name": "stdout",
          "text": [
            "forward\n"
          ]
        },
        {
          "output_type": "stream",
          "name": "stderr",
          "text": [
            "2022-03-10 18:10:54,942 : INFO : Calculating language model predictions...\n",
            "2022-03-10 18:10:55,165 : INFO : Calculating language model predictions...\n"
          ]
        },
        {
          "output_type": "stream",
          "name": "stdout",
          "text": [
            "0.01872809877039581 0.018797948863132317 False\n",
            "\n",
            "\n"
          ]
        },
        {
          "output_type": "stream",
          "name": "stderr",
          "text": [
            "2022-03-10 18:10:55,519 : INFO : Calculating language model predictions...\n",
            "2022-03-10 18:10:55,837 : INFO : Calculating language model predictions...\n"
          ]
        },
        {
          "output_type": "stream",
          "name": "stdout",
          "text": [
            "0.5442768717844441 0.2129859411493574 True\n",
            "\n",
            "\n"
          ]
        },
        {
          "output_type": "stream",
          "name": "stderr",
          "text": [
            "2022-03-10 18:10:56,830 : INFO : Calculating language model predictions...\n",
            "2022-03-10 18:10:57,764 : INFO : Calculating language model predictions...\n"
          ]
        },
        {
          "output_type": "stream",
          "name": "stdout",
          "text": [
            "1.8315671717644126 1.8089452909609534 True\n",
            "\n",
            "\n",
            "bidirectional\n"
          ]
        },
        {
          "output_type": "stream",
          "name": "stderr",
          "text": [
            "2022-03-10 18:10:58,034 : INFO : Calculating language model predictions...\n",
            "2022-03-10 18:10:58,252 : INFO : Calculating language model predictions...\n"
          ]
        },
        {
          "output_type": "stream",
          "name": "stdout",
          "text": [
            "0.353788376937596 0.3531010093399832 True\n",
            "\n",
            "\n"
          ]
        },
        {
          "output_type": "stream",
          "name": "stderr",
          "text": [
            "2022-03-10 18:10:58,605 : INFO : Calculating language model predictions...\n",
            "2022-03-10 18:10:58,920 : INFO : Calculating language model predictions...\n"
          ]
        },
        {
          "output_type": "stream",
          "name": "stdout",
          "text": [
            "0.791774241260399 0.6023794926238621 True\n",
            "\n",
            "\n"
          ]
        },
        {
          "output_type": "stream",
          "name": "stderr",
          "text": [
            "2022-03-10 18:10:59,899 : INFO : Calculating language model predictions...\n"
          ]
        },
        {
          "output_type": "stream",
          "name": "stdout",
          "text": [
            "1.2995529715476661 1.267862116147716 True\n",
            "\n",
            "\n"
          ]
        }
      ]
    },
    {
      "cell_type": "code",
      "source": [
        "import re\n",
        "test_sentences = [(\"A lady has remembered who the actors conceal .\", \n",
        "                   \"A lady has remembered that the actors conceal .\"),\n",
        "                  (\"Teenagers know what all ladies haven't examined .\", \n",
        "                   \"Teenagers know that all ladies haven't examined .\"), \n",
        "                  (\"Dancers hadn't figured out who the actress didn't reveal .\", \n",
        "                   \"Dancers hadn't figured out that the actress didn't reveal .\")]\n",
        "\n",
        "print('forward')\n",
        "for shorter, longer in test_sentences:\n",
        "    g = get_ppl(elmo_model.get_elmo_substitutes([shorter], topn=30_003)[0])\n",
        "    b = get_ppl(elmo_model.get_elmo_substitutes([longer], topn=30_003)[0])\n",
        "    print(g,b, g>b, g-b)\n",
        "    print('\\n')\n",
        "\n",
        "print('bidirectional')\n",
        "for shorter, longer in test_sentences:\n",
        "    g = get_ppl(elmo_model.get_elmo_substitutes([shorter], topn=30_003)[0], 'bidirectional')\n",
        "    b = get_ppl(elmo_model.get_elmo_substitutes([longer], topn=30_003)[0], 'bidirectional')\n",
        "    print(g,b, g>b, g-b)\n",
        "    print('\\n')"
      ],
      "metadata": {
        "id": "zprGIxRbuohD",
        "outputId": "c8055a25-5329-483c-fdf7-5535de3f0f9f",
        "colab": {
          "base_uri": "https://localhost:8080/"
        }
      },
      "execution_count": null,
      "outputs": [
        {
          "output_type": "stream",
          "name": "stderr",
          "text": [
            "2022-03-10 18:11:00,881 : INFO : Calculating language model predictions...\n"
          ]
        },
        {
          "output_type": "stream",
          "name": "stdout",
          "text": [
            "forward\n"
          ]
        },
        {
          "output_type": "stream",
          "name": "stderr",
          "text": [
            "2022-03-10 18:11:01,354 : INFO : Calculating language model predictions...\n",
            "2022-03-10 18:11:01,835 : INFO : Calculating language model predictions...\n"
          ]
        },
        {
          "output_type": "stream",
          "name": "stdout",
          "text": [
            "0.017549096011822852 0.08018740551680818 False -0.06263830950498533\n",
            "\n",
            "\n"
          ]
        },
        {
          "output_type": "stream",
          "name": "stderr",
          "text": [
            "2022-03-10 18:11:02,274 : INFO : Calculating language model predictions...\n",
            "2022-03-10 18:11:02,709 : INFO : Calculating language model predictions...\n"
          ]
        },
        {
          "output_type": "stream",
          "name": "stdout",
          "text": [
            "0.2061682052595249 0.20497023917624319 True 0.0011979660832817096\n",
            "\n",
            "\n"
          ]
        },
        {
          "output_type": "stream",
          "name": "stderr",
          "text": [
            "2022-03-10 18:11:03,231 : INFO : Calculating language model predictions...\n",
            "2022-03-10 18:11:03,770 : INFO : Calculating language model predictions...\n"
          ]
        },
        {
          "output_type": "stream",
          "name": "stdout",
          "text": [
            "0.4764760406224498 0.5355690402469858 False -0.05909299962453601\n",
            "\n",
            "\n",
            "bidirectional\n"
          ]
        },
        {
          "output_type": "stream",
          "name": "stderr",
          "text": [
            "2022-03-10 18:11:04,247 : INFO : Calculating language model predictions...\n",
            "2022-03-10 18:11:04,741 : INFO : Calculating language model predictions...\n"
          ]
        },
        {
          "output_type": "stream",
          "name": "stdout",
          "text": [
            "0.45708886903124013 0.4889540304607064 False -0.03186516142946627\n",
            "\n",
            "\n"
          ]
        },
        {
          "output_type": "stream",
          "name": "stderr",
          "text": [
            "2022-03-10 18:11:05,162 : INFO : Calculating language model predictions...\n",
            "2022-03-10 18:11:05,579 : INFO : Calculating language model predictions...\n"
          ]
        },
        {
          "output_type": "stream",
          "name": "stdout",
          "text": [
            "0.5304380817457375 0.5193736179559064 True 0.011064463789831058\n",
            "\n",
            "\n"
          ]
        },
        {
          "output_type": "stream",
          "name": "stderr",
          "text": [
            "2022-03-10 18:11:06,129 : INFO : Calculating language model predictions...\n"
          ]
        },
        {
          "output_type": "stream",
          "name": "stdout",
          "text": [
            "1.130657409387294 1.160599370688191 False -0.02994196130089688\n",
            "\n",
            "\n"
          ]
        }
      ]
    },
    {
      "cell_type": "code",
      "execution_count": null,
      "metadata": {
        "id": "KZZugHwKQ_hh"
      },
      "outputs": [],
      "source": [
        "def run(model, dataloader, direction):\n",
        "    correct = 0\n",
        "    \n",
        "    vocab_size = 30_003\n",
        "\n",
        "    for good, bad in tqdm(dataloader):\n",
        "        good = model.get_elmo_substitutes(good, topn=vocab_size)\n",
        "        bad = model.get_elmo_substitutes(bad, topn=vocab_size)\n",
        "        \n",
        "        for good_sent, bad_sent in zip(good, bad):\n",
        "        \n",
        "            good_ppl = get_ppl(good_sent, direction, vocab_size=vocab_size)\n",
        "            bad_ppl = get_ppl(bad_sent, direction, vocab_size=vocab_size)\n",
        "\n",
        "            if good_ppl > bad_ppl:\n",
        "                correct += 1\n",
        "\n",
        "    return correct / len(dataloader.dataset)"
      ]
    },
    {
      "cell_type": "code",
      "execution_count": null,
      "metadata": {
        "id": "rmfRZii1O9SL"
      },
      "outputs": [],
      "source": [
        "class Blimp:\n",
        "    def __init__(self):\n",
        "        self.phenomena = {}\n",
        "    \n",
        "    def add_result(self, phenomenon, uid, accuracy):\n",
        "        if phenomenon not in self.phenomena:\n",
        "            self.phenomena[phenomenon] = {}\n",
        "        self.phenomena[phenomenon][uid] = accuracy\n",
        "    \n",
        "    def __str__(self):\n",
        "        def iterator():\n",
        "            for phenomenon_key in sorted(self.phenomena.keys()):\n",
        "                phenomenon = self.phenomena[phenomenon_key]\n",
        "                for uid_key in sorted(phenomenon.keys()):\n",
        "                    yield f\"{phenomenon_key},{uid_key},{phenomenon[uid_key]}\"\n",
        "        return '\\n'.join(iterator())"
      ]
    },
    {
      "cell_type": "code",
      "source": [
        "class BlimpDataset(Dataset):\n",
        "    \n",
        "    \"\"\" customized Dataset class from torch \"\"\"\n",
        "    \n",
        "    def __init__(self, data: list, tokenizer):\n",
        "        self.data = data\n",
        "        self.tokenizer = tokenizer\n",
        "        \n",
        "    def __len__(self):\n",
        "        return len(self.data)\n",
        "    \n",
        "    def __getitem__(self, index):\n",
        "        \"\"\" shape each sample into a proper \"\"\"\n",
        "        pair = self.data[index]\n",
        "        good = \" \".join([token.text for token in self.tokenizer(pair[\"sentence_good\"])])\n",
        "        bad = \" \".join([token.text for token in self.tokenizer(pair[\"sentence_bad\"])])\n",
        "        \n",
        "        return good, bad\n",
        "\n",
        "def collate_fn(batch) -> tuple:\n",
        "    goods, bads = list(), list()\n",
        "    \n",
        "    for good, bad in batch:\n",
        "        goods.append(good)\n",
        "        bads.append(bad)\n",
        "\n",
        "    return goods, bads"
      ],
      "metadata": {
        "id": "UzgY-ElBLnSh"
      },
      "execution_count": null,
      "outputs": []
    },
    {
      "cell_type": "markdown",
      "metadata": {
        "id": "LjLPAjbd7tzq"
      },
      "source": [
        "## BLiMP on Elmo's forward only"
      ]
    },
    {
      "cell_type": "code",
      "execution_count": null,
      "metadata": {
        "colab": {
          "base_uri": "https://localhost:8080/",
          "height": 197,
          "referenced_widgets": [
            "141e81261af8495ea8ca6928c48cd56b",
            "0c9b2a4fd42548578e0cd80dd9ebf502",
            "6a5aa9fabbc1488babe6f0e4d9309ce7",
            "4f0a0f7836694a56931c456e5f1c56a9",
            "e02c96524fd54a9cbf230e570661a1b4",
            "68055d950d7a470481cf1ca485d9cbbe",
            "e4a381702e3242d68a985aef2ff98a68",
            "f5a37f73a1984895b93c93562df611ef",
            "5a520a8c6d264063bc1fa6eee7cf5813",
            "d669ec44ab684194ac8e02b0f9b5921c",
            "b374b371481345aeb033f07edb09f7f1",
            "4e3ec013494f43f1add6cd7b406a90a7",
            "08d65a45a78445bfb4ea4e6773f3163f",
            "878dbfd599c9412eadc74085d1380082",
            "af0f9a009df144fba8248a3313508ae2",
            "cc8a2a0acfab4029a9a2ed25e8cd71c5",
            "8adf9632df0440068b1e72c2d3a27e08",
            "0fb75f724174446a8f945745867e6b64",
            "63ab75d3593047e6b37ac837d377d9d3",
            "20cd95de9e394ad5b575aa4ed318e4c9",
            "c00aaf32c03e45e8a651a4e350309282",
            "831f564db3da450abf7a12b472664c6b",
            "9c4bd39ef8764df8ae916f3b69611286",
            "41832fefaa6e4a868ea9024ab0426268",
            "8f17bb0bdd8c4003929dc23aa0b65d6b",
            "c24c24278c9f4a5c96140309f53c69a5",
            "f44a6f7139b14df3a5617a6baed540ab",
            "4a01ab66575443c099be9cdf6f5c68aa",
            "6f0167ff3eee4dc08c80461ac82adbb3",
            "2f7e72ad604d4ed5846d3e70a71226fe",
            "91c8bd43cadc41a793d13f89633b97f9",
            "00f846ba6dd2428394da6dd3a8dc157f",
            "b45fc1c08d564b529d26c54e70a8d610",
            "9706344af0ae4b7c98acf95b16c66f49",
            "0350355f50ce4fa1bcdee1ef0dae9fe8",
            "e03e52c663ac4c8eb92fdfc4e32a7b97",
            "f50f5dc389084d3b945344f07778290c",
            "9956a4dcb37e427b80e265e798e72584",
            "d063d9641a2d4296bcfb86ea0018cdd3",
            "46d730abf2dc48e3abbc1cf210821b43",
            "3d691773b8aa49b7a8334774f39e95fa",
            "bf252d6079c6468ca2cae7ba83dcb3d7",
            "7f8fed595b654d27be57acc5d9c1ae55",
            "8a55a78cff4d4f27862107261cc2d8f5"
          ]
        },
        "id": "Ybb9jEEWJPpz",
        "outputId": "bf842453-91dc-4669-9bf5-dcb9898fe101"
      },
      "outputs": [
        {
          "output_type": "display_data",
          "data": {
            "application/vnd.jupyter.widget-view+json": {
              "model_id": "141e81261af8495ea8ca6928c48cd56b",
              "version_minor": 0,
              "version_major": 2
            },
            "text/plain": [
              "  0%|          | 0/3 [00:00<?, ?it/s]"
            ]
          },
          "metadata": {}
        },
        {
          "output_type": "display_data",
          "data": {
            "application/vnd.jupyter.widget-view+json": {
              "model_id": "4e3ec013494f43f1add6cd7b406a90a7",
              "version_minor": 0,
              "version_major": 2
            },
            "text/plain": [
              "  0%|          | 0/100 [00:00<?, ?it/s]"
            ]
          },
          "metadata": {}
        },
        {
          "output_type": "display_data",
          "data": {
            "application/vnd.jupyter.widget-view+json": {
              "model_id": "9c4bd39ef8764df8ae916f3b69611286",
              "version_minor": 0,
              "version_major": 2
            },
            "text/plain": [
              "  0%|          | 0/100 [00:00<?, ?it/s]"
            ]
          },
          "metadata": {}
        },
        {
          "output_type": "display_data",
          "data": {
            "application/vnd.jupyter.widget-view+json": {
              "model_id": "9706344af0ae4b7c98acf95b16c66f49",
              "version_minor": 0,
              "version_major": 2
            },
            "text/plain": [
              "  0%|          | 0/100 [00:00<?, ?it/s]"
            ]
          },
          "metadata": {}
        },
        {
          "output_type": "stream",
          "name": "stdout",
          "text": [
            "argument_structure,passive_1,0.067\n",
            "control_raising,expletive_it_object_raising,0.045\n",
            "subject_verb_agreement,irregular_plural_subject_verb_agreement_1,0.142\n"
          ]
        }
      ],
      "source": [
        "logger = logging.getLogger()\n",
        "logger.setLevel(logging.CRITICAL)\n",
        "\n",
        "blimp = Blimp()\n",
        "tokenizer = English().tokenizer\n",
        "\n",
        "for dataset in tqdm(glob.glob(f\"blimp/data/*.jsonl\")[0:3]):\n",
        "    dataset = load(dataset)\n",
        "    loader = DataLoader(\n",
        "        BlimpDataset(dataset, tokenizer),\n",
        "        batch_size=BATCH_SIZE, shuffle=False, \n",
        "        collate_fn=collate_fn)\n",
        "    \n",
        "    accuracy = run(elmo_model, loader, direction='forward')\n",
        "    blimp.add_result(dataset[0][\"linguistics_term\"], dataset[0][\"UID\"], accuracy)\n",
        "\n",
        "print(blimp)"
      ]
    },
    {
      "cell_type": "markdown",
      "metadata": {
        "id": "7Wn94rsK7xy1"
      },
      "source": [
        "## BLiMP on Elmo's both directions averaged\n",
        "\n",
        "\n",
        "\n"
      ]
    },
    {
      "cell_type": "code",
      "execution_count": null,
      "metadata": {
        "colab": {
          "base_uri": "https://localhost:8080/",
          "height": 197,
          "referenced_widgets": [
            "3b6e72acf44c44f492e823e31002cd52",
            "3adc494718c24d5fa4c6e5065cfe547d",
            "c14455f9f335480084b046b95d3fee79",
            "8d87324ef7934f60bdc900d49ce9c0a3",
            "1bf5cb6cd0d44a4a90685a374b0d1835",
            "bd9900022d7d40e8bbb10fdc2d7cfe43",
            "a5fc1b9a3f5e4edd9bb32ee9c8e13246",
            "46fbc4a98fb640e5accbf64deafde4ce",
            "38b5feae70374836bb12a629bc9ff7ed",
            "171199338d7049aa9ee94e17b128e2fd",
            "50835810f7e34b7a8279661957be203e",
            "6258469d6881482b9ee01cab7a620e7f",
            "5670db95e54a40ad96e91ee8ce5e9b91",
            "0db483a2dfcf4707b319b71d35afad91",
            "1cdffebf6b8941f3b05d5a3034bc19a4",
            "dd56cd3ba90d46da90bf302e0f3184e5",
            "816e37d2481c488eb94b2c40b508069f",
            "b0eb15f18d124663a9c7d2632890524f",
            "af63d37548e74fa0822860f9a8d21f40",
            "4ca6d748c38c462a96f235bff2732c75",
            "9ba0abe66bbc4b158347c51515b22274",
            "96dc04face0e454a946c2b73349b81e2",
            "59a1f4cce99c42d286b601f588a84a4e",
            "d6de7406fad84d6bbab746435b85272d",
            "588dc159b400411a8df9dc9bbe1c51b6",
            "00cd61881d3847ed8c1e2a3057104eac",
            "e2df8885ed4a406bbb3fd9eb9836dc53",
            "f1e0639f780e4ce688e294d9a6ad4949",
            "a910646fc0f74c329b254e2b4b49ddbd",
            "3dfa0a9c221b4292aa72fd4aef66a385",
            "2fb9d9dc7ce44eb89d79213b88409027",
            "1a74d11c147c4920bed814c68d8a275b",
            "cb084af5befe44bc98d4afb62d7ab1aa",
            "585d411ed5f447fba44d95bbfa527d36",
            "6a91d1c14fdd4bbe946d18579338d924",
            "5258765eed6048819bc9ba84a9c48528",
            "3ce24c7904d941ef9e50eba326631a3a",
            "4a82e70c0aab4fafa0c59f6c9b10b388",
            "4414e2b51eb14018a4fb8da3f32f3e33",
            "36a65c6d02c04767aa528cfc1634fa3e",
            "a8f62665270f4308b357858ad4c05df5",
            "262d0da6e2384e0e852787161b75ca71",
            "1c6e5f5242584e9c9ab6863908537357",
            "bedbf7c4a93f4a44bf1b19dafdd621e3"
          ]
        },
        "id": "-3I_Y9EHnAbi",
        "outputId": "bda16788-75e6-4474-97d5-3503ad1fe9dc"
      },
      "outputs": [
        {
          "output_type": "display_data",
          "data": {
            "application/vnd.jupyter.widget-view+json": {
              "model_id": "3b6e72acf44c44f492e823e31002cd52",
              "version_minor": 0,
              "version_major": 2
            },
            "text/plain": [
              "  0%|          | 0/3 [00:00<?, ?it/s]"
            ]
          },
          "metadata": {}
        },
        {
          "output_type": "display_data",
          "data": {
            "application/vnd.jupyter.widget-view+json": {
              "model_id": "6258469d6881482b9ee01cab7a620e7f",
              "version_minor": 0,
              "version_major": 2
            },
            "text/plain": [
              "  0%|          | 0/50 [00:00<?, ?it/s]"
            ]
          },
          "metadata": {}
        },
        {
          "output_type": "display_data",
          "data": {
            "application/vnd.jupyter.widget-view+json": {
              "model_id": "59a1f4cce99c42d286b601f588a84a4e",
              "version_minor": 0,
              "version_major": 2
            },
            "text/plain": [
              "  0%|          | 0/50 [00:00<?, ?it/s]"
            ]
          },
          "metadata": {}
        },
        {
          "output_type": "display_data",
          "data": {
            "application/vnd.jupyter.widget-view+json": {
              "model_id": "585d411ed5f447fba44d95bbfa527d36",
              "version_minor": 0,
              "version_major": 2
            },
            "text/plain": [
              "  0%|          | 0/50 [00:00<?, ?it/s]"
            ]
          },
          "metadata": {}
        },
        {
          "output_type": "stream",
          "name": "stdout",
          "text": [
            "argument_structure,passive_1,0.268\n",
            "control_raising,expletive_it_object_raising,0.289\n",
            "subject_verb_agreement,irregular_plural_subject_verb_agreement_1,0.48\n"
          ]
        }
      ],
      "source": [
        "logger = logging.getLogger()\n",
        "logger.setLevel(logging.CRITICAL)\n",
        "\n",
        "blimp = Blimp()\n",
        "tokenizer = English().tokenizer\n",
        "\n",
        "for dataset in tqdm(glob.glob(f\"blimp/data/*.jsonl\")[0:3]):\n",
        "    dataset = load(dataset)\n",
        "    loader = DataLoader(\n",
        "        BlimpDataset(dataset, tokenizer),\n",
        "        batch_size=BATCH_SIZE, shuffle=False, \n",
        "        collate_fn=collate_fn)\n",
        "    \n",
        "    accuracy = run(elmo_model, loader, direction='bidirectional')\n",
        "    blimp.add_result(dataset[0][\"linguistics_term\"], dataset[0][\"UID\"], accuracy)\n",
        "\n",
        "print(blimp)"
      ]
    },
    {
      "cell_type": "markdown",
      "source": [
        "\n",
        "\n",
        "## WSD_eval\n"
      ],
      "metadata": {
        "id": "lpKZmFMndr2D"
      }
    },
    {
      "cell_type": "code",
      "source": [
        "%%bash\n",
        "wget https://raw.githubusercontent.com/deniskapel/2021_HACK_RSG/main/blimp/wsd_eval.py\n",
        "wget https://rusvectores.org/static/testsets/senseval3.tsv"
      ],
      "metadata": {
        "id": "SpiawWw_tJUi"
      },
      "execution_count": null,
      "outputs": []
    },
    {
      "cell_type": "code",
      "source": [
        "%%bash\n",
        "mkdir models\n",
        "wget --load-cookies /tmp/cookies.txt \"https://docs.google.com/uc?export=download&confirm=$(wget --quiet --save-cookies /tmp/cookies.txt --keep-session-cookies --no-check-certificate 'https://docs.google.com/uc?export=download&id=17EorqgpFj-d77JyJFWB9hLr-La4Pcn_g' -O- | sed -rn 's/.*confirm=([0-9A-Za-z_]+).*/\\1\\n/p')&id=17EorqgpFj-d77JyJFWB9hLr-La4Pcn_g\" -O models/BNC.zip && rm -rf /tmp/cookies.txt\n",
        "unzip models/BNC.zip -d models"
      ],
      "metadata": {
        "id": "ykLO05jzixPy"
      },
      "execution_count": null,
      "outputs": []
    },
    {
      "cell_type": "code",
      "source": [
        "%%bash\n",
        "python wsd_eval.py -i senseval3.tsv -e models/BNC/8/"
      ],
      "metadata": {
        "id": "OVQLALo5flQv"
      },
      "execution_count": null,
      "outputs": []
    },
    {
      "cell_type": "code",
      "source": [
        ""
      ],
      "metadata": {
        "id": "dl-9F14WfoY9"
      },
      "execution_count": 17,
      "outputs": []
    }
  ],
  "metadata": {
    "colab": {
      "collapsed_sections": [],
      "name": "blimp_elmo",
      "provenance": [],
      "include_colab_link": true
    },
    "kernelspec": {
      "display_name": "Python 3",
      "name": "python3"
    },
    "language_info": {
      "name": "python"
    },
    "widgets": {
      "application/vnd.jupyter.widget-state+json": {
        "141e81261af8495ea8ca6928c48cd56b": {
          "model_module": "@jupyter-widgets/controls",
          "model_name": "HBoxModel",
          "model_module_version": "1.5.0",
          "state": {
            "_view_name": "HBoxView",
            "_dom_classes": [],
            "_model_name": "HBoxModel",
            "_view_module": "@jupyter-widgets/controls",
            "_model_module_version": "1.5.0",
            "_view_count": null,
            "_view_module_version": "1.5.0",
            "box_style": "",
            "layout": "IPY_MODEL_0c9b2a4fd42548578e0cd80dd9ebf502",
            "_model_module": "@jupyter-widgets/controls",
            "children": [
              "IPY_MODEL_6a5aa9fabbc1488babe6f0e4d9309ce7",
              "IPY_MODEL_4f0a0f7836694a56931c456e5f1c56a9",
              "IPY_MODEL_e02c96524fd54a9cbf230e570661a1b4"
            ]
          }
        },
        "0c9b2a4fd42548578e0cd80dd9ebf502": {
          "model_module": "@jupyter-widgets/base",
          "model_name": "LayoutModel",
          "model_module_version": "1.2.0",
          "state": {
            "_view_name": "LayoutView",
            "grid_template_rows": null,
            "right": null,
            "justify_content": null,
            "_view_module": "@jupyter-widgets/base",
            "overflow": null,
            "_model_module_version": "1.2.0",
            "_view_count": null,
            "flex_flow": null,
            "width": null,
            "min_width": null,
            "border": null,
            "align_items": null,
            "bottom": null,
            "_model_module": "@jupyter-widgets/base",
            "top": null,
            "grid_column": null,
            "overflow_y": null,
            "overflow_x": null,
            "grid_auto_flow": null,
            "grid_area": null,
            "grid_template_columns": null,
            "flex": null,
            "_model_name": "LayoutModel",
            "justify_items": null,
            "grid_row": null,
            "max_height": null,
            "align_content": null,
            "visibility": null,
            "align_self": null,
            "height": null,
            "min_height": null,
            "padding": null,
            "grid_auto_rows": null,
            "grid_gap": null,
            "max_width": null,
            "order": null,
            "_view_module_version": "1.2.0",
            "grid_template_areas": null,
            "object_position": null,
            "object_fit": null,
            "grid_auto_columns": null,
            "margin": null,
            "display": null,
            "left": null
          }
        },
        "6a5aa9fabbc1488babe6f0e4d9309ce7": {
          "model_module": "@jupyter-widgets/controls",
          "model_name": "HTMLModel",
          "model_module_version": "1.5.0",
          "state": {
            "_view_name": "HTMLView",
            "style": "IPY_MODEL_68055d950d7a470481cf1ca485d9cbbe",
            "_dom_classes": [],
            "description": "",
            "_model_name": "HTMLModel",
            "placeholder": "​",
            "_view_module": "@jupyter-widgets/controls",
            "_model_module_version": "1.5.0",
            "value": "100%",
            "_view_count": null,
            "_view_module_version": "1.5.0",
            "description_tooltip": null,
            "_model_module": "@jupyter-widgets/controls",
            "layout": "IPY_MODEL_e4a381702e3242d68a985aef2ff98a68"
          }
        },
        "4f0a0f7836694a56931c456e5f1c56a9": {
          "model_module": "@jupyter-widgets/controls",
          "model_name": "FloatProgressModel",
          "model_module_version": "1.5.0",
          "state": {
            "_view_name": "ProgressView",
            "style": "IPY_MODEL_f5a37f73a1984895b93c93562df611ef",
            "_dom_classes": [],
            "description": "",
            "_model_name": "FloatProgressModel",
            "bar_style": "success",
            "max": 3,
            "_view_module": "@jupyter-widgets/controls",
            "_model_module_version": "1.5.0",
            "value": 3,
            "_view_count": null,
            "_view_module_version": "1.5.0",
            "orientation": "horizontal",
            "min": 0,
            "description_tooltip": null,
            "_model_module": "@jupyter-widgets/controls",
            "layout": "IPY_MODEL_5a520a8c6d264063bc1fa6eee7cf5813"
          }
        },
        "e02c96524fd54a9cbf230e570661a1b4": {
          "model_module": "@jupyter-widgets/controls",
          "model_name": "HTMLModel",
          "model_module_version": "1.5.0",
          "state": {
            "_view_name": "HTMLView",
            "style": "IPY_MODEL_d669ec44ab684194ac8e02b0f9b5921c",
            "_dom_classes": [],
            "description": "",
            "_model_name": "HTMLModel",
            "placeholder": "​",
            "_view_module": "@jupyter-widgets/controls",
            "_model_module_version": "1.5.0",
            "value": " 3/3 [35:33&lt;00:00, 783.62s/it]",
            "_view_count": null,
            "_view_module_version": "1.5.0",
            "description_tooltip": null,
            "_model_module": "@jupyter-widgets/controls",
            "layout": "IPY_MODEL_b374b371481345aeb033f07edb09f7f1"
          }
        },
        "68055d950d7a470481cf1ca485d9cbbe": {
          "model_module": "@jupyter-widgets/controls",
          "model_name": "DescriptionStyleModel",
          "model_module_version": "1.5.0",
          "state": {
            "_view_name": "StyleView",
            "_model_name": "DescriptionStyleModel",
            "description_width": "",
            "_view_module": "@jupyter-widgets/base",
            "_model_module_version": "1.5.0",
            "_view_count": null,
            "_view_module_version": "1.2.0",
            "_model_module": "@jupyter-widgets/controls"
          }
        },
        "e4a381702e3242d68a985aef2ff98a68": {
          "model_module": "@jupyter-widgets/base",
          "model_name": "LayoutModel",
          "model_module_version": "1.2.0",
          "state": {
            "_view_name": "LayoutView",
            "grid_template_rows": null,
            "right": null,
            "justify_content": null,
            "_view_module": "@jupyter-widgets/base",
            "overflow": null,
            "_model_module_version": "1.2.0",
            "_view_count": null,
            "flex_flow": null,
            "width": null,
            "min_width": null,
            "border": null,
            "align_items": null,
            "bottom": null,
            "_model_module": "@jupyter-widgets/base",
            "top": null,
            "grid_column": null,
            "overflow_y": null,
            "overflow_x": null,
            "grid_auto_flow": null,
            "grid_area": null,
            "grid_template_columns": null,
            "flex": null,
            "_model_name": "LayoutModel",
            "justify_items": null,
            "grid_row": null,
            "max_height": null,
            "align_content": null,
            "visibility": null,
            "align_self": null,
            "height": null,
            "min_height": null,
            "padding": null,
            "grid_auto_rows": null,
            "grid_gap": null,
            "max_width": null,
            "order": null,
            "_view_module_version": "1.2.0",
            "grid_template_areas": null,
            "object_position": null,
            "object_fit": null,
            "grid_auto_columns": null,
            "margin": null,
            "display": null,
            "left": null
          }
        },
        "f5a37f73a1984895b93c93562df611ef": {
          "model_module": "@jupyter-widgets/controls",
          "model_name": "ProgressStyleModel",
          "model_module_version": "1.5.0",
          "state": {
            "_view_name": "StyleView",
            "_model_name": "ProgressStyleModel",
            "description_width": "",
            "_view_module": "@jupyter-widgets/base",
            "_model_module_version": "1.5.0",
            "_view_count": null,
            "_view_module_version": "1.2.0",
            "bar_color": null,
            "_model_module": "@jupyter-widgets/controls"
          }
        },
        "5a520a8c6d264063bc1fa6eee7cf5813": {
          "model_module": "@jupyter-widgets/base",
          "model_name": "LayoutModel",
          "model_module_version": "1.2.0",
          "state": {
            "_view_name": "LayoutView",
            "grid_template_rows": null,
            "right": null,
            "justify_content": null,
            "_view_module": "@jupyter-widgets/base",
            "overflow": null,
            "_model_module_version": "1.2.0",
            "_view_count": null,
            "flex_flow": null,
            "width": null,
            "min_width": null,
            "border": null,
            "align_items": null,
            "bottom": null,
            "_model_module": "@jupyter-widgets/base",
            "top": null,
            "grid_column": null,
            "overflow_y": null,
            "overflow_x": null,
            "grid_auto_flow": null,
            "grid_area": null,
            "grid_template_columns": null,
            "flex": null,
            "_model_name": "LayoutModel",
            "justify_items": null,
            "grid_row": null,
            "max_height": null,
            "align_content": null,
            "visibility": null,
            "align_self": null,
            "height": null,
            "min_height": null,
            "padding": null,
            "grid_auto_rows": null,
            "grid_gap": null,
            "max_width": null,
            "order": null,
            "_view_module_version": "1.2.0",
            "grid_template_areas": null,
            "object_position": null,
            "object_fit": null,
            "grid_auto_columns": null,
            "margin": null,
            "display": null,
            "left": null
          }
        },
        "d669ec44ab684194ac8e02b0f9b5921c": {
          "model_module": "@jupyter-widgets/controls",
          "model_name": "DescriptionStyleModel",
          "model_module_version": "1.5.0",
          "state": {
            "_view_name": "StyleView",
            "_model_name": "DescriptionStyleModel",
            "description_width": "",
            "_view_module": "@jupyter-widgets/base",
            "_model_module_version": "1.5.0",
            "_view_count": null,
            "_view_module_version": "1.2.0",
            "_model_module": "@jupyter-widgets/controls"
          }
        },
        "b374b371481345aeb033f07edb09f7f1": {
          "model_module": "@jupyter-widgets/base",
          "model_name": "LayoutModel",
          "model_module_version": "1.2.0",
          "state": {
            "_view_name": "LayoutView",
            "grid_template_rows": null,
            "right": null,
            "justify_content": null,
            "_view_module": "@jupyter-widgets/base",
            "overflow": null,
            "_model_module_version": "1.2.0",
            "_view_count": null,
            "flex_flow": null,
            "width": null,
            "min_width": null,
            "border": null,
            "align_items": null,
            "bottom": null,
            "_model_module": "@jupyter-widgets/base",
            "top": null,
            "grid_column": null,
            "overflow_y": null,
            "overflow_x": null,
            "grid_auto_flow": null,
            "grid_area": null,
            "grid_template_columns": null,
            "flex": null,
            "_model_name": "LayoutModel",
            "justify_items": null,
            "grid_row": null,
            "max_height": null,
            "align_content": null,
            "visibility": null,
            "align_self": null,
            "height": null,
            "min_height": null,
            "padding": null,
            "grid_auto_rows": null,
            "grid_gap": null,
            "max_width": null,
            "order": null,
            "_view_module_version": "1.2.0",
            "grid_template_areas": null,
            "object_position": null,
            "object_fit": null,
            "grid_auto_columns": null,
            "margin": null,
            "display": null,
            "left": null
          }
        },
        "4e3ec013494f43f1add6cd7b406a90a7": {
          "model_module": "@jupyter-widgets/controls",
          "model_name": "HBoxModel",
          "model_module_version": "1.5.0",
          "state": {
            "_view_name": "HBoxView",
            "_dom_classes": [],
            "_model_name": "HBoxModel",
            "_view_module": "@jupyter-widgets/controls",
            "_model_module_version": "1.5.0",
            "_view_count": null,
            "_view_module_version": "1.5.0",
            "box_style": "",
            "layout": "IPY_MODEL_08d65a45a78445bfb4ea4e6773f3163f",
            "_model_module": "@jupyter-widgets/controls",
            "children": [
              "IPY_MODEL_878dbfd599c9412eadc74085d1380082",
              "IPY_MODEL_af0f9a009df144fba8248a3313508ae2",
              "IPY_MODEL_cc8a2a0acfab4029a9a2ed25e8cd71c5"
            ]
          }
        },
        "08d65a45a78445bfb4ea4e6773f3163f": {
          "model_module": "@jupyter-widgets/base",
          "model_name": "LayoutModel",
          "model_module_version": "1.2.0",
          "state": {
            "_view_name": "LayoutView",
            "grid_template_rows": null,
            "right": null,
            "justify_content": null,
            "_view_module": "@jupyter-widgets/base",
            "overflow": null,
            "_model_module_version": "1.2.0",
            "_view_count": null,
            "flex_flow": null,
            "width": null,
            "min_width": null,
            "border": null,
            "align_items": null,
            "bottom": null,
            "_model_module": "@jupyter-widgets/base",
            "top": null,
            "grid_column": null,
            "overflow_y": null,
            "overflow_x": null,
            "grid_auto_flow": null,
            "grid_area": null,
            "grid_template_columns": null,
            "flex": null,
            "_model_name": "LayoutModel",
            "justify_items": null,
            "grid_row": null,
            "max_height": null,
            "align_content": null,
            "visibility": null,
            "align_self": null,
            "height": null,
            "min_height": null,
            "padding": null,
            "grid_auto_rows": null,
            "grid_gap": null,
            "max_width": null,
            "order": null,
            "_view_module_version": "1.2.0",
            "grid_template_areas": null,
            "object_position": null,
            "object_fit": null,
            "grid_auto_columns": null,
            "margin": null,
            "display": null,
            "left": null
          }
        },
        "878dbfd599c9412eadc74085d1380082": {
          "model_module": "@jupyter-widgets/controls",
          "model_name": "HTMLModel",
          "model_module_version": "1.5.0",
          "state": {
            "_view_name": "HTMLView",
            "style": "IPY_MODEL_8adf9632df0440068b1e72c2d3a27e08",
            "_dom_classes": [],
            "description": "",
            "_model_name": "HTMLModel",
            "placeholder": "​",
            "_view_module": "@jupyter-widgets/controls",
            "_model_module_version": "1.5.0",
            "value": "100%",
            "_view_count": null,
            "_view_module_version": "1.5.0",
            "description_tooltip": null,
            "_model_module": "@jupyter-widgets/controls",
            "layout": "IPY_MODEL_0fb75f724174446a8f945745867e6b64"
          }
        },
        "af0f9a009df144fba8248a3313508ae2": {
          "model_module": "@jupyter-widgets/controls",
          "model_name": "FloatProgressModel",
          "model_module_version": "1.5.0",
          "state": {
            "_view_name": "ProgressView",
            "style": "IPY_MODEL_63ab75d3593047e6b37ac837d377d9d3",
            "_dom_classes": [],
            "description": "",
            "_model_name": "FloatProgressModel",
            "bar_style": "success",
            "max": 100,
            "_view_module": "@jupyter-widgets/controls",
            "_model_module_version": "1.5.0",
            "value": 100,
            "_view_count": null,
            "_view_module_version": "1.5.0",
            "orientation": "horizontal",
            "min": 0,
            "description_tooltip": null,
            "_model_module": "@jupyter-widgets/controls",
            "layout": "IPY_MODEL_20cd95de9e394ad5b575aa4ed318e4c9"
          }
        },
        "cc8a2a0acfab4029a9a2ed25e8cd71c5": {
          "model_module": "@jupyter-widgets/controls",
          "model_name": "HTMLModel",
          "model_module_version": "1.5.0",
          "state": {
            "_view_name": "HTMLView",
            "style": "IPY_MODEL_c00aaf32c03e45e8a651a4e350309282",
            "_dom_classes": [],
            "description": "",
            "_model_name": "HTMLModel",
            "placeholder": "​",
            "_view_module": "@jupyter-widgets/controls",
            "_model_module_version": "1.5.0",
            "value": " 100/100 [07:31&lt;00:00,  4.88s/it]",
            "_view_count": null,
            "_view_module_version": "1.5.0",
            "description_tooltip": null,
            "_model_module": "@jupyter-widgets/controls",
            "layout": "IPY_MODEL_831f564db3da450abf7a12b472664c6b"
          }
        },
        "8adf9632df0440068b1e72c2d3a27e08": {
          "model_module": "@jupyter-widgets/controls",
          "model_name": "DescriptionStyleModel",
          "model_module_version": "1.5.0",
          "state": {
            "_view_name": "StyleView",
            "_model_name": "DescriptionStyleModel",
            "description_width": "",
            "_view_module": "@jupyter-widgets/base",
            "_model_module_version": "1.5.0",
            "_view_count": null,
            "_view_module_version": "1.2.0",
            "_model_module": "@jupyter-widgets/controls"
          }
        },
        "0fb75f724174446a8f945745867e6b64": {
          "model_module": "@jupyter-widgets/base",
          "model_name": "LayoutModel",
          "model_module_version": "1.2.0",
          "state": {
            "_view_name": "LayoutView",
            "grid_template_rows": null,
            "right": null,
            "justify_content": null,
            "_view_module": "@jupyter-widgets/base",
            "overflow": null,
            "_model_module_version": "1.2.0",
            "_view_count": null,
            "flex_flow": null,
            "width": null,
            "min_width": null,
            "border": null,
            "align_items": null,
            "bottom": null,
            "_model_module": "@jupyter-widgets/base",
            "top": null,
            "grid_column": null,
            "overflow_y": null,
            "overflow_x": null,
            "grid_auto_flow": null,
            "grid_area": null,
            "grid_template_columns": null,
            "flex": null,
            "_model_name": "LayoutModel",
            "justify_items": null,
            "grid_row": null,
            "max_height": null,
            "align_content": null,
            "visibility": null,
            "align_self": null,
            "height": null,
            "min_height": null,
            "padding": null,
            "grid_auto_rows": null,
            "grid_gap": null,
            "max_width": null,
            "order": null,
            "_view_module_version": "1.2.0",
            "grid_template_areas": null,
            "object_position": null,
            "object_fit": null,
            "grid_auto_columns": null,
            "margin": null,
            "display": null,
            "left": null
          }
        },
        "63ab75d3593047e6b37ac837d377d9d3": {
          "model_module": "@jupyter-widgets/controls",
          "model_name": "ProgressStyleModel",
          "model_module_version": "1.5.0",
          "state": {
            "_view_name": "StyleView",
            "_model_name": "ProgressStyleModel",
            "description_width": "",
            "_view_module": "@jupyter-widgets/base",
            "_model_module_version": "1.5.0",
            "_view_count": null,
            "_view_module_version": "1.2.0",
            "bar_color": null,
            "_model_module": "@jupyter-widgets/controls"
          }
        },
        "20cd95de9e394ad5b575aa4ed318e4c9": {
          "model_module": "@jupyter-widgets/base",
          "model_name": "LayoutModel",
          "model_module_version": "1.2.0",
          "state": {
            "_view_name": "LayoutView",
            "grid_template_rows": null,
            "right": null,
            "justify_content": null,
            "_view_module": "@jupyter-widgets/base",
            "overflow": null,
            "_model_module_version": "1.2.0",
            "_view_count": null,
            "flex_flow": null,
            "width": null,
            "min_width": null,
            "border": null,
            "align_items": null,
            "bottom": null,
            "_model_module": "@jupyter-widgets/base",
            "top": null,
            "grid_column": null,
            "overflow_y": null,
            "overflow_x": null,
            "grid_auto_flow": null,
            "grid_area": null,
            "grid_template_columns": null,
            "flex": null,
            "_model_name": "LayoutModel",
            "justify_items": null,
            "grid_row": null,
            "max_height": null,
            "align_content": null,
            "visibility": null,
            "align_self": null,
            "height": null,
            "min_height": null,
            "padding": null,
            "grid_auto_rows": null,
            "grid_gap": null,
            "max_width": null,
            "order": null,
            "_view_module_version": "1.2.0",
            "grid_template_areas": null,
            "object_position": null,
            "object_fit": null,
            "grid_auto_columns": null,
            "margin": null,
            "display": null,
            "left": null
          }
        },
        "c00aaf32c03e45e8a651a4e350309282": {
          "model_module": "@jupyter-widgets/controls",
          "model_name": "DescriptionStyleModel",
          "model_module_version": "1.5.0",
          "state": {
            "_view_name": "StyleView",
            "_model_name": "DescriptionStyleModel",
            "description_width": "",
            "_view_module": "@jupyter-widgets/base",
            "_model_module_version": "1.5.0",
            "_view_count": null,
            "_view_module_version": "1.2.0",
            "_model_module": "@jupyter-widgets/controls"
          }
        },
        "831f564db3da450abf7a12b472664c6b": {
          "model_module": "@jupyter-widgets/base",
          "model_name": "LayoutModel",
          "model_module_version": "1.2.0",
          "state": {
            "_view_name": "LayoutView",
            "grid_template_rows": null,
            "right": null,
            "justify_content": null,
            "_view_module": "@jupyter-widgets/base",
            "overflow": null,
            "_model_module_version": "1.2.0",
            "_view_count": null,
            "flex_flow": null,
            "width": null,
            "min_width": null,
            "border": null,
            "align_items": null,
            "bottom": null,
            "_model_module": "@jupyter-widgets/base",
            "top": null,
            "grid_column": null,
            "overflow_y": null,
            "overflow_x": null,
            "grid_auto_flow": null,
            "grid_area": null,
            "grid_template_columns": null,
            "flex": null,
            "_model_name": "LayoutModel",
            "justify_items": null,
            "grid_row": null,
            "max_height": null,
            "align_content": null,
            "visibility": null,
            "align_self": null,
            "height": null,
            "min_height": null,
            "padding": null,
            "grid_auto_rows": null,
            "grid_gap": null,
            "max_width": null,
            "order": null,
            "_view_module_version": "1.2.0",
            "grid_template_areas": null,
            "object_position": null,
            "object_fit": null,
            "grid_auto_columns": null,
            "margin": null,
            "display": null,
            "left": null
          }
        },
        "9c4bd39ef8764df8ae916f3b69611286": {
          "model_module": "@jupyter-widgets/controls",
          "model_name": "HBoxModel",
          "model_module_version": "1.5.0",
          "state": {
            "_view_name": "HBoxView",
            "_dom_classes": [],
            "_model_name": "HBoxModel",
            "_view_module": "@jupyter-widgets/controls",
            "_model_module_version": "1.5.0",
            "_view_count": null,
            "_view_module_version": "1.5.0",
            "box_style": "",
            "layout": "IPY_MODEL_41832fefaa6e4a868ea9024ab0426268",
            "_model_module": "@jupyter-widgets/controls",
            "children": [
              "IPY_MODEL_8f17bb0bdd8c4003929dc23aa0b65d6b",
              "IPY_MODEL_c24c24278c9f4a5c96140309f53c69a5",
              "IPY_MODEL_f44a6f7139b14df3a5617a6baed540ab"
            ]
          }
        },
        "41832fefaa6e4a868ea9024ab0426268": {
          "model_module": "@jupyter-widgets/base",
          "model_name": "LayoutModel",
          "model_module_version": "1.2.0",
          "state": {
            "_view_name": "LayoutView",
            "grid_template_rows": null,
            "right": null,
            "justify_content": null,
            "_view_module": "@jupyter-widgets/base",
            "overflow": null,
            "_model_module_version": "1.2.0",
            "_view_count": null,
            "flex_flow": null,
            "width": null,
            "min_width": null,
            "border": null,
            "align_items": null,
            "bottom": null,
            "_model_module": "@jupyter-widgets/base",
            "top": null,
            "grid_column": null,
            "overflow_y": null,
            "overflow_x": null,
            "grid_auto_flow": null,
            "grid_area": null,
            "grid_template_columns": null,
            "flex": null,
            "_model_name": "LayoutModel",
            "justify_items": null,
            "grid_row": null,
            "max_height": null,
            "align_content": null,
            "visibility": null,
            "align_self": null,
            "height": null,
            "min_height": null,
            "padding": null,
            "grid_auto_rows": null,
            "grid_gap": null,
            "max_width": null,
            "order": null,
            "_view_module_version": "1.2.0",
            "grid_template_areas": null,
            "object_position": null,
            "object_fit": null,
            "grid_auto_columns": null,
            "margin": null,
            "display": null,
            "left": null
          }
        },
        "8f17bb0bdd8c4003929dc23aa0b65d6b": {
          "model_module": "@jupyter-widgets/controls",
          "model_name": "HTMLModel",
          "model_module_version": "1.5.0",
          "state": {
            "_view_name": "HTMLView",
            "style": "IPY_MODEL_4a01ab66575443c099be9cdf6f5c68aa",
            "_dom_classes": [],
            "description": "",
            "_model_name": "HTMLModel",
            "placeholder": "​",
            "_view_module": "@jupyter-widgets/controls",
            "_model_module_version": "1.5.0",
            "value": "100%",
            "_view_count": null,
            "_view_module_version": "1.5.0",
            "description_tooltip": null,
            "_model_module": "@jupyter-widgets/controls",
            "layout": "IPY_MODEL_6f0167ff3eee4dc08c80461ac82adbb3"
          }
        },
        "c24c24278c9f4a5c96140309f53c69a5": {
          "model_module": "@jupyter-widgets/controls",
          "model_name": "FloatProgressModel",
          "model_module_version": "1.5.0",
          "state": {
            "_view_name": "ProgressView",
            "style": "IPY_MODEL_2f7e72ad604d4ed5846d3e70a71226fe",
            "_dom_classes": [],
            "description": "",
            "_model_name": "FloatProgressModel",
            "bar_style": "success",
            "max": 100,
            "_view_module": "@jupyter-widgets/controls",
            "_model_module_version": "1.5.0",
            "value": 100,
            "_view_count": null,
            "_view_module_version": "1.5.0",
            "orientation": "horizontal",
            "min": 0,
            "description_tooltip": null,
            "_model_module": "@jupyter-widgets/controls",
            "layout": "IPY_MODEL_91c8bd43cadc41a793d13f89633b97f9"
          }
        },
        "f44a6f7139b14df3a5617a6baed540ab": {
          "model_module": "@jupyter-widgets/controls",
          "model_name": "HTMLModel",
          "model_module_version": "1.5.0",
          "state": {
            "_view_name": "HTMLView",
            "style": "IPY_MODEL_00f846ba6dd2428394da6dd3a8dc157f",
            "_dom_classes": [],
            "description": "",
            "_model_name": "HTMLModel",
            "placeholder": "​",
            "_view_module": "@jupyter-widgets/controls",
            "_model_module_version": "1.5.0",
            "value": " 100/100 [10:24&lt;00:00,  5.94s/it]",
            "_view_count": null,
            "_view_module_version": "1.5.0",
            "description_tooltip": null,
            "_model_module": "@jupyter-widgets/controls",
            "layout": "IPY_MODEL_b45fc1c08d564b529d26c54e70a8d610"
          }
        },
        "4a01ab66575443c099be9cdf6f5c68aa": {
          "model_module": "@jupyter-widgets/controls",
          "model_name": "DescriptionStyleModel",
          "model_module_version": "1.5.0",
          "state": {
            "_view_name": "StyleView",
            "_model_name": "DescriptionStyleModel",
            "description_width": "",
            "_view_module": "@jupyter-widgets/base",
            "_model_module_version": "1.5.0",
            "_view_count": null,
            "_view_module_version": "1.2.0",
            "_model_module": "@jupyter-widgets/controls"
          }
        },
        "6f0167ff3eee4dc08c80461ac82adbb3": {
          "model_module": "@jupyter-widgets/base",
          "model_name": "LayoutModel",
          "model_module_version": "1.2.0",
          "state": {
            "_view_name": "LayoutView",
            "grid_template_rows": null,
            "right": null,
            "justify_content": null,
            "_view_module": "@jupyter-widgets/base",
            "overflow": null,
            "_model_module_version": "1.2.0",
            "_view_count": null,
            "flex_flow": null,
            "width": null,
            "min_width": null,
            "border": null,
            "align_items": null,
            "bottom": null,
            "_model_module": "@jupyter-widgets/base",
            "top": null,
            "grid_column": null,
            "overflow_y": null,
            "overflow_x": null,
            "grid_auto_flow": null,
            "grid_area": null,
            "grid_template_columns": null,
            "flex": null,
            "_model_name": "LayoutModel",
            "justify_items": null,
            "grid_row": null,
            "max_height": null,
            "align_content": null,
            "visibility": null,
            "align_self": null,
            "height": null,
            "min_height": null,
            "padding": null,
            "grid_auto_rows": null,
            "grid_gap": null,
            "max_width": null,
            "order": null,
            "_view_module_version": "1.2.0",
            "grid_template_areas": null,
            "object_position": null,
            "object_fit": null,
            "grid_auto_columns": null,
            "margin": null,
            "display": null,
            "left": null
          }
        },
        "2f7e72ad604d4ed5846d3e70a71226fe": {
          "model_module": "@jupyter-widgets/controls",
          "model_name": "ProgressStyleModel",
          "model_module_version": "1.5.0",
          "state": {
            "_view_name": "StyleView",
            "_model_name": "ProgressStyleModel",
            "description_width": "",
            "_view_module": "@jupyter-widgets/base",
            "_model_module_version": "1.5.0",
            "_view_count": null,
            "_view_module_version": "1.2.0",
            "bar_color": null,
            "_model_module": "@jupyter-widgets/controls"
          }
        },
        "91c8bd43cadc41a793d13f89633b97f9": {
          "model_module": "@jupyter-widgets/base",
          "model_name": "LayoutModel",
          "model_module_version": "1.2.0",
          "state": {
            "_view_name": "LayoutView",
            "grid_template_rows": null,
            "right": null,
            "justify_content": null,
            "_view_module": "@jupyter-widgets/base",
            "overflow": null,
            "_model_module_version": "1.2.0",
            "_view_count": null,
            "flex_flow": null,
            "width": null,
            "min_width": null,
            "border": null,
            "align_items": null,
            "bottom": null,
            "_model_module": "@jupyter-widgets/base",
            "top": null,
            "grid_column": null,
            "overflow_y": null,
            "overflow_x": null,
            "grid_auto_flow": null,
            "grid_area": null,
            "grid_template_columns": null,
            "flex": null,
            "_model_name": "LayoutModel",
            "justify_items": null,
            "grid_row": null,
            "max_height": null,
            "align_content": null,
            "visibility": null,
            "align_self": null,
            "height": null,
            "min_height": null,
            "padding": null,
            "grid_auto_rows": null,
            "grid_gap": null,
            "max_width": null,
            "order": null,
            "_view_module_version": "1.2.0",
            "grid_template_areas": null,
            "object_position": null,
            "object_fit": null,
            "grid_auto_columns": null,
            "margin": null,
            "display": null,
            "left": null
          }
        },
        "00f846ba6dd2428394da6dd3a8dc157f": {
          "model_module": "@jupyter-widgets/controls",
          "model_name": "DescriptionStyleModel",
          "model_module_version": "1.5.0",
          "state": {
            "_view_name": "StyleView",
            "_model_name": "DescriptionStyleModel",
            "description_width": "",
            "_view_module": "@jupyter-widgets/base",
            "_model_module_version": "1.5.0",
            "_view_count": null,
            "_view_module_version": "1.2.0",
            "_model_module": "@jupyter-widgets/controls"
          }
        },
        "b45fc1c08d564b529d26c54e70a8d610": {
          "model_module": "@jupyter-widgets/base",
          "model_name": "LayoutModel",
          "model_module_version": "1.2.0",
          "state": {
            "_view_name": "LayoutView",
            "grid_template_rows": null,
            "right": null,
            "justify_content": null,
            "_view_module": "@jupyter-widgets/base",
            "overflow": null,
            "_model_module_version": "1.2.0",
            "_view_count": null,
            "flex_flow": null,
            "width": null,
            "min_width": null,
            "border": null,
            "align_items": null,
            "bottom": null,
            "_model_module": "@jupyter-widgets/base",
            "top": null,
            "grid_column": null,
            "overflow_y": null,
            "overflow_x": null,
            "grid_auto_flow": null,
            "grid_area": null,
            "grid_template_columns": null,
            "flex": null,
            "_model_name": "LayoutModel",
            "justify_items": null,
            "grid_row": null,
            "max_height": null,
            "align_content": null,
            "visibility": null,
            "align_self": null,
            "height": null,
            "min_height": null,
            "padding": null,
            "grid_auto_rows": null,
            "grid_gap": null,
            "max_width": null,
            "order": null,
            "_view_module_version": "1.2.0",
            "grid_template_areas": null,
            "object_position": null,
            "object_fit": null,
            "grid_auto_columns": null,
            "margin": null,
            "display": null,
            "left": null
          }
        },
        "9706344af0ae4b7c98acf95b16c66f49": {
          "model_module": "@jupyter-widgets/controls",
          "model_name": "HBoxModel",
          "model_module_version": "1.5.0",
          "state": {
            "_view_name": "HBoxView",
            "_dom_classes": [],
            "_model_name": "HBoxModel",
            "_view_module": "@jupyter-widgets/controls",
            "_model_module_version": "1.5.0",
            "_view_count": null,
            "_view_module_version": "1.5.0",
            "box_style": "",
            "layout": "IPY_MODEL_0350355f50ce4fa1bcdee1ef0dae9fe8",
            "_model_module": "@jupyter-widgets/controls",
            "children": [
              "IPY_MODEL_e03e52c663ac4c8eb92fdfc4e32a7b97",
              "IPY_MODEL_f50f5dc389084d3b945344f07778290c",
              "IPY_MODEL_9956a4dcb37e427b80e265e798e72584"
            ]
          }
        },
        "0350355f50ce4fa1bcdee1ef0dae9fe8": {
          "model_module": "@jupyter-widgets/base",
          "model_name": "LayoutModel",
          "model_module_version": "1.2.0",
          "state": {
            "_view_name": "LayoutView",
            "grid_template_rows": null,
            "right": null,
            "justify_content": null,
            "_view_module": "@jupyter-widgets/base",
            "overflow": null,
            "_model_module_version": "1.2.0",
            "_view_count": null,
            "flex_flow": null,
            "width": null,
            "min_width": null,
            "border": null,
            "align_items": null,
            "bottom": null,
            "_model_module": "@jupyter-widgets/base",
            "top": null,
            "grid_column": null,
            "overflow_y": null,
            "overflow_x": null,
            "grid_auto_flow": null,
            "grid_area": null,
            "grid_template_columns": null,
            "flex": null,
            "_model_name": "LayoutModel",
            "justify_items": null,
            "grid_row": null,
            "max_height": null,
            "align_content": null,
            "visibility": null,
            "align_self": null,
            "height": null,
            "min_height": null,
            "padding": null,
            "grid_auto_rows": null,
            "grid_gap": null,
            "max_width": null,
            "order": null,
            "_view_module_version": "1.2.0",
            "grid_template_areas": null,
            "object_position": null,
            "object_fit": null,
            "grid_auto_columns": null,
            "margin": null,
            "display": null,
            "left": null
          }
        },
        "e03e52c663ac4c8eb92fdfc4e32a7b97": {
          "model_module": "@jupyter-widgets/controls",
          "model_name": "HTMLModel",
          "model_module_version": "1.5.0",
          "state": {
            "_view_name": "HTMLView",
            "style": "IPY_MODEL_d063d9641a2d4296bcfb86ea0018cdd3",
            "_dom_classes": [],
            "description": "",
            "_model_name": "HTMLModel",
            "placeholder": "​",
            "_view_module": "@jupyter-widgets/controls",
            "_model_module_version": "1.5.0",
            "value": "100%",
            "_view_count": null,
            "_view_module_version": "1.5.0",
            "description_tooltip": null,
            "_model_module": "@jupyter-widgets/controls",
            "layout": "IPY_MODEL_46d730abf2dc48e3abbc1cf210821b43"
          }
        },
        "f50f5dc389084d3b945344f07778290c": {
          "model_module": "@jupyter-widgets/controls",
          "model_name": "FloatProgressModel",
          "model_module_version": "1.5.0",
          "state": {
            "_view_name": "ProgressView",
            "style": "IPY_MODEL_3d691773b8aa49b7a8334774f39e95fa",
            "_dom_classes": [],
            "description": "",
            "_model_name": "FloatProgressModel",
            "bar_style": "success",
            "max": 100,
            "_view_module": "@jupyter-widgets/controls",
            "_model_module_version": "1.5.0",
            "value": 100,
            "_view_count": null,
            "_view_module_version": "1.5.0",
            "orientation": "horizontal",
            "min": 0,
            "description_tooltip": null,
            "_model_module": "@jupyter-widgets/controls",
            "layout": "IPY_MODEL_bf252d6079c6468ca2cae7ba83dcb3d7"
          }
        },
        "9956a4dcb37e427b80e265e798e72584": {
          "model_module": "@jupyter-widgets/controls",
          "model_name": "HTMLModel",
          "model_module_version": "1.5.0",
          "state": {
            "_view_name": "HTMLView",
            "style": "IPY_MODEL_7f8fed595b654d27be57acc5d9c1ae55",
            "_dom_classes": [],
            "description": "",
            "_model_name": "HTMLModel",
            "placeholder": "​",
            "_view_module": "@jupyter-widgets/controls",
            "_model_module_version": "1.5.0",
            "value": " 100/100 [17:37&lt;00:00, 10.45s/it]",
            "_view_count": null,
            "_view_module_version": "1.5.0",
            "description_tooltip": null,
            "_model_module": "@jupyter-widgets/controls",
            "layout": "IPY_MODEL_8a55a78cff4d4f27862107261cc2d8f5"
          }
        },
        "d063d9641a2d4296bcfb86ea0018cdd3": {
          "model_module": "@jupyter-widgets/controls",
          "model_name": "DescriptionStyleModel",
          "model_module_version": "1.5.0",
          "state": {
            "_view_name": "StyleView",
            "_model_name": "DescriptionStyleModel",
            "description_width": "",
            "_view_module": "@jupyter-widgets/base",
            "_model_module_version": "1.5.0",
            "_view_count": null,
            "_view_module_version": "1.2.0",
            "_model_module": "@jupyter-widgets/controls"
          }
        },
        "46d730abf2dc48e3abbc1cf210821b43": {
          "model_module": "@jupyter-widgets/base",
          "model_name": "LayoutModel",
          "model_module_version": "1.2.0",
          "state": {
            "_view_name": "LayoutView",
            "grid_template_rows": null,
            "right": null,
            "justify_content": null,
            "_view_module": "@jupyter-widgets/base",
            "overflow": null,
            "_model_module_version": "1.2.0",
            "_view_count": null,
            "flex_flow": null,
            "width": null,
            "min_width": null,
            "border": null,
            "align_items": null,
            "bottom": null,
            "_model_module": "@jupyter-widgets/base",
            "top": null,
            "grid_column": null,
            "overflow_y": null,
            "overflow_x": null,
            "grid_auto_flow": null,
            "grid_area": null,
            "grid_template_columns": null,
            "flex": null,
            "_model_name": "LayoutModel",
            "justify_items": null,
            "grid_row": null,
            "max_height": null,
            "align_content": null,
            "visibility": null,
            "align_self": null,
            "height": null,
            "min_height": null,
            "padding": null,
            "grid_auto_rows": null,
            "grid_gap": null,
            "max_width": null,
            "order": null,
            "_view_module_version": "1.2.0",
            "grid_template_areas": null,
            "object_position": null,
            "object_fit": null,
            "grid_auto_columns": null,
            "margin": null,
            "display": null,
            "left": null
          }
        },
        "3d691773b8aa49b7a8334774f39e95fa": {
          "model_module": "@jupyter-widgets/controls",
          "model_name": "ProgressStyleModel",
          "model_module_version": "1.5.0",
          "state": {
            "_view_name": "StyleView",
            "_model_name": "ProgressStyleModel",
            "description_width": "",
            "_view_module": "@jupyter-widgets/base",
            "_model_module_version": "1.5.0",
            "_view_count": null,
            "_view_module_version": "1.2.0",
            "bar_color": null,
            "_model_module": "@jupyter-widgets/controls"
          }
        },
        "bf252d6079c6468ca2cae7ba83dcb3d7": {
          "model_module": "@jupyter-widgets/base",
          "model_name": "LayoutModel",
          "model_module_version": "1.2.0",
          "state": {
            "_view_name": "LayoutView",
            "grid_template_rows": null,
            "right": null,
            "justify_content": null,
            "_view_module": "@jupyter-widgets/base",
            "overflow": null,
            "_model_module_version": "1.2.0",
            "_view_count": null,
            "flex_flow": null,
            "width": null,
            "min_width": null,
            "border": null,
            "align_items": null,
            "bottom": null,
            "_model_module": "@jupyter-widgets/base",
            "top": null,
            "grid_column": null,
            "overflow_y": null,
            "overflow_x": null,
            "grid_auto_flow": null,
            "grid_area": null,
            "grid_template_columns": null,
            "flex": null,
            "_model_name": "LayoutModel",
            "justify_items": null,
            "grid_row": null,
            "max_height": null,
            "align_content": null,
            "visibility": null,
            "align_self": null,
            "height": null,
            "min_height": null,
            "padding": null,
            "grid_auto_rows": null,
            "grid_gap": null,
            "max_width": null,
            "order": null,
            "_view_module_version": "1.2.0",
            "grid_template_areas": null,
            "object_position": null,
            "object_fit": null,
            "grid_auto_columns": null,
            "margin": null,
            "display": null,
            "left": null
          }
        },
        "7f8fed595b654d27be57acc5d9c1ae55": {
          "model_module": "@jupyter-widgets/controls",
          "model_name": "DescriptionStyleModel",
          "model_module_version": "1.5.0",
          "state": {
            "_view_name": "StyleView",
            "_model_name": "DescriptionStyleModel",
            "description_width": "",
            "_view_module": "@jupyter-widgets/base",
            "_model_module_version": "1.5.0",
            "_view_count": null,
            "_view_module_version": "1.2.0",
            "_model_module": "@jupyter-widgets/controls"
          }
        },
        "8a55a78cff4d4f27862107261cc2d8f5": {
          "model_module": "@jupyter-widgets/base",
          "model_name": "LayoutModel",
          "model_module_version": "1.2.0",
          "state": {
            "_view_name": "LayoutView",
            "grid_template_rows": null,
            "right": null,
            "justify_content": null,
            "_view_module": "@jupyter-widgets/base",
            "overflow": null,
            "_model_module_version": "1.2.0",
            "_view_count": null,
            "flex_flow": null,
            "width": null,
            "min_width": null,
            "border": null,
            "align_items": null,
            "bottom": null,
            "_model_module": "@jupyter-widgets/base",
            "top": null,
            "grid_column": null,
            "overflow_y": null,
            "overflow_x": null,
            "grid_auto_flow": null,
            "grid_area": null,
            "grid_template_columns": null,
            "flex": null,
            "_model_name": "LayoutModel",
            "justify_items": null,
            "grid_row": null,
            "max_height": null,
            "align_content": null,
            "visibility": null,
            "align_self": null,
            "height": null,
            "min_height": null,
            "padding": null,
            "grid_auto_rows": null,
            "grid_gap": null,
            "max_width": null,
            "order": null,
            "_view_module_version": "1.2.0",
            "grid_template_areas": null,
            "object_position": null,
            "object_fit": null,
            "grid_auto_columns": null,
            "margin": null,
            "display": null,
            "left": null
          }
        },
        "3b6e72acf44c44f492e823e31002cd52": {
          "model_module": "@jupyter-widgets/controls",
          "model_name": "HBoxModel",
          "model_module_version": "1.5.0",
          "state": {
            "_view_name": "HBoxView",
            "_dom_classes": [],
            "_model_name": "HBoxModel",
            "_view_module": "@jupyter-widgets/controls",
            "_model_module_version": "1.5.0",
            "_view_count": null,
            "_view_module_version": "1.5.0",
            "box_style": "",
            "layout": "IPY_MODEL_3adc494718c24d5fa4c6e5065cfe547d",
            "_model_module": "@jupyter-widgets/controls",
            "children": [
              "IPY_MODEL_c14455f9f335480084b046b95d3fee79",
              "IPY_MODEL_8d87324ef7934f60bdc900d49ce9c0a3",
              "IPY_MODEL_1bf5cb6cd0d44a4a90685a374b0d1835"
            ]
          }
        },
        "3adc494718c24d5fa4c6e5065cfe547d": {
          "model_module": "@jupyter-widgets/base",
          "model_name": "LayoutModel",
          "model_module_version": "1.2.0",
          "state": {
            "_view_name": "LayoutView",
            "grid_template_rows": null,
            "right": null,
            "justify_content": null,
            "_view_module": "@jupyter-widgets/base",
            "overflow": null,
            "_model_module_version": "1.2.0",
            "_view_count": null,
            "flex_flow": null,
            "width": null,
            "min_width": null,
            "border": null,
            "align_items": null,
            "bottom": null,
            "_model_module": "@jupyter-widgets/base",
            "top": null,
            "grid_column": null,
            "overflow_y": null,
            "overflow_x": null,
            "grid_auto_flow": null,
            "grid_area": null,
            "grid_template_columns": null,
            "flex": null,
            "_model_name": "LayoutModel",
            "justify_items": null,
            "grid_row": null,
            "max_height": null,
            "align_content": null,
            "visibility": null,
            "align_self": null,
            "height": null,
            "min_height": null,
            "padding": null,
            "grid_auto_rows": null,
            "grid_gap": null,
            "max_width": null,
            "order": null,
            "_view_module_version": "1.2.0",
            "grid_template_areas": null,
            "object_position": null,
            "object_fit": null,
            "grid_auto_columns": null,
            "margin": null,
            "display": null,
            "left": null
          }
        },
        "c14455f9f335480084b046b95d3fee79": {
          "model_module": "@jupyter-widgets/controls",
          "model_name": "HTMLModel",
          "model_module_version": "1.5.0",
          "state": {
            "_view_name": "HTMLView",
            "style": "IPY_MODEL_bd9900022d7d40e8bbb10fdc2d7cfe43",
            "_dom_classes": [],
            "description": "",
            "_model_name": "HTMLModel",
            "placeholder": "​",
            "_view_module": "@jupyter-widgets/controls",
            "_model_module_version": "1.5.0",
            "value": "100%",
            "_view_count": null,
            "_view_module_version": "1.5.0",
            "description_tooltip": null,
            "_model_module": "@jupyter-widgets/controls",
            "layout": "IPY_MODEL_a5fc1b9a3f5e4edd9bb32ee9c8e13246"
          }
        },
        "8d87324ef7934f60bdc900d49ce9c0a3": {
          "model_module": "@jupyter-widgets/controls",
          "model_name": "FloatProgressModel",
          "model_module_version": "1.5.0",
          "state": {
            "_view_name": "ProgressView",
            "style": "IPY_MODEL_46fbc4a98fb640e5accbf64deafde4ce",
            "_dom_classes": [],
            "description": "",
            "_model_name": "FloatProgressModel",
            "bar_style": "success",
            "max": 3,
            "_view_module": "@jupyter-widgets/controls",
            "_model_module_version": "1.5.0",
            "value": 3,
            "_view_count": null,
            "_view_module_version": "1.5.0",
            "orientation": "horizontal",
            "min": 0,
            "description_tooltip": null,
            "_model_module": "@jupyter-widgets/controls",
            "layout": "IPY_MODEL_38b5feae70374836bb12a629bc9ff7ed"
          }
        },
        "1bf5cb6cd0d44a4a90685a374b0d1835": {
          "model_module": "@jupyter-widgets/controls",
          "model_name": "HTMLModel",
          "model_module_version": "1.5.0",
          "state": {
            "_view_name": "HTMLView",
            "style": "IPY_MODEL_171199338d7049aa9ee94e17b128e2fd",
            "_dom_classes": [],
            "description": "",
            "_model_name": "HTMLModel",
            "placeholder": "​",
            "_view_module": "@jupyter-widgets/controls",
            "_model_module_version": "1.5.0",
            "value": " 3/3 [40:21&lt;00:00, 886.47s/it]",
            "_view_count": null,
            "_view_module_version": "1.5.0",
            "description_tooltip": null,
            "_model_module": "@jupyter-widgets/controls",
            "layout": "IPY_MODEL_50835810f7e34b7a8279661957be203e"
          }
        },
        "bd9900022d7d40e8bbb10fdc2d7cfe43": {
          "model_module": "@jupyter-widgets/controls",
          "model_name": "DescriptionStyleModel",
          "model_module_version": "1.5.0",
          "state": {
            "_view_name": "StyleView",
            "_model_name": "DescriptionStyleModel",
            "description_width": "",
            "_view_module": "@jupyter-widgets/base",
            "_model_module_version": "1.5.0",
            "_view_count": null,
            "_view_module_version": "1.2.0",
            "_model_module": "@jupyter-widgets/controls"
          }
        },
        "a5fc1b9a3f5e4edd9bb32ee9c8e13246": {
          "model_module": "@jupyter-widgets/base",
          "model_name": "LayoutModel",
          "model_module_version": "1.2.0",
          "state": {
            "_view_name": "LayoutView",
            "grid_template_rows": null,
            "right": null,
            "justify_content": null,
            "_view_module": "@jupyter-widgets/base",
            "overflow": null,
            "_model_module_version": "1.2.0",
            "_view_count": null,
            "flex_flow": null,
            "width": null,
            "min_width": null,
            "border": null,
            "align_items": null,
            "bottom": null,
            "_model_module": "@jupyter-widgets/base",
            "top": null,
            "grid_column": null,
            "overflow_y": null,
            "overflow_x": null,
            "grid_auto_flow": null,
            "grid_area": null,
            "grid_template_columns": null,
            "flex": null,
            "_model_name": "LayoutModel",
            "justify_items": null,
            "grid_row": null,
            "max_height": null,
            "align_content": null,
            "visibility": null,
            "align_self": null,
            "height": null,
            "min_height": null,
            "padding": null,
            "grid_auto_rows": null,
            "grid_gap": null,
            "max_width": null,
            "order": null,
            "_view_module_version": "1.2.0",
            "grid_template_areas": null,
            "object_position": null,
            "object_fit": null,
            "grid_auto_columns": null,
            "margin": null,
            "display": null,
            "left": null
          }
        },
        "46fbc4a98fb640e5accbf64deafde4ce": {
          "model_module": "@jupyter-widgets/controls",
          "model_name": "ProgressStyleModel",
          "model_module_version": "1.5.0",
          "state": {
            "_view_name": "StyleView",
            "_model_name": "ProgressStyleModel",
            "description_width": "",
            "_view_module": "@jupyter-widgets/base",
            "_model_module_version": "1.5.0",
            "_view_count": null,
            "_view_module_version": "1.2.0",
            "bar_color": null,
            "_model_module": "@jupyter-widgets/controls"
          }
        },
        "38b5feae70374836bb12a629bc9ff7ed": {
          "model_module": "@jupyter-widgets/base",
          "model_name": "LayoutModel",
          "model_module_version": "1.2.0",
          "state": {
            "_view_name": "LayoutView",
            "grid_template_rows": null,
            "right": null,
            "justify_content": null,
            "_view_module": "@jupyter-widgets/base",
            "overflow": null,
            "_model_module_version": "1.2.0",
            "_view_count": null,
            "flex_flow": null,
            "width": null,
            "min_width": null,
            "border": null,
            "align_items": null,
            "bottom": null,
            "_model_module": "@jupyter-widgets/base",
            "top": null,
            "grid_column": null,
            "overflow_y": null,
            "overflow_x": null,
            "grid_auto_flow": null,
            "grid_area": null,
            "grid_template_columns": null,
            "flex": null,
            "_model_name": "LayoutModel",
            "justify_items": null,
            "grid_row": null,
            "max_height": null,
            "align_content": null,
            "visibility": null,
            "align_self": null,
            "height": null,
            "min_height": null,
            "padding": null,
            "grid_auto_rows": null,
            "grid_gap": null,
            "max_width": null,
            "order": null,
            "_view_module_version": "1.2.0",
            "grid_template_areas": null,
            "object_position": null,
            "object_fit": null,
            "grid_auto_columns": null,
            "margin": null,
            "display": null,
            "left": null
          }
        },
        "171199338d7049aa9ee94e17b128e2fd": {
          "model_module": "@jupyter-widgets/controls",
          "model_name": "DescriptionStyleModel",
          "model_module_version": "1.5.0",
          "state": {
            "_view_name": "StyleView",
            "_model_name": "DescriptionStyleModel",
            "description_width": "",
            "_view_module": "@jupyter-widgets/base",
            "_model_module_version": "1.5.0",
            "_view_count": null,
            "_view_module_version": "1.2.0",
            "_model_module": "@jupyter-widgets/controls"
          }
        },
        "50835810f7e34b7a8279661957be203e": {
          "model_module": "@jupyter-widgets/base",
          "model_name": "LayoutModel",
          "model_module_version": "1.2.0",
          "state": {
            "_view_name": "LayoutView",
            "grid_template_rows": null,
            "right": null,
            "justify_content": null,
            "_view_module": "@jupyter-widgets/base",
            "overflow": null,
            "_model_module_version": "1.2.0",
            "_view_count": null,
            "flex_flow": null,
            "width": null,
            "min_width": null,
            "border": null,
            "align_items": null,
            "bottom": null,
            "_model_module": "@jupyter-widgets/base",
            "top": null,
            "grid_column": null,
            "overflow_y": null,
            "overflow_x": null,
            "grid_auto_flow": null,
            "grid_area": null,
            "grid_template_columns": null,
            "flex": null,
            "_model_name": "LayoutModel",
            "justify_items": null,
            "grid_row": null,
            "max_height": null,
            "align_content": null,
            "visibility": null,
            "align_self": null,
            "height": null,
            "min_height": null,
            "padding": null,
            "grid_auto_rows": null,
            "grid_gap": null,
            "max_width": null,
            "order": null,
            "_view_module_version": "1.2.0",
            "grid_template_areas": null,
            "object_position": null,
            "object_fit": null,
            "grid_auto_columns": null,
            "margin": null,
            "display": null,
            "left": null
          }
        },
        "6258469d6881482b9ee01cab7a620e7f": {
          "model_module": "@jupyter-widgets/controls",
          "model_name": "HBoxModel",
          "model_module_version": "1.5.0",
          "state": {
            "_view_name": "HBoxView",
            "_dom_classes": [],
            "_model_name": "HBoxModel",
            "_view_module": "@jupyter-widgets/controls",
            "_model_module_version": "1.5.0",
            "_view_count": null,
            "_view_module_version": "1.5.0",
            "box_style": "",
            "layout": "IPY_MODEL_5670db95e54a40ad96e91ee8ce5e9b91",
            "_model_module": "@jupyter-widgets/controls",
            "children": [
              "IPY_MODEL_0db483a2dfcf4707b319b71d35afad91",
              "IPY_MODEL_1cdffebf6b8941f3b05d5a3034bc19a4",
              "IPY_MODEL_dd56cd3ba90d46da90bf302e0f3184e5"
            ]
          }
        },
        "5670db95e54a40ad96e91ee8ce5e9b91": {
          "model_module": "@jupyter-widgets/base",
          "model_name": "LayoutModel",
          "model_module_version": "1.2.0",
          "state": {
            "_view_name": "LayoutView",
            "grid_template_rows": null,
            "right": null,
            "justify_content": null,
            "_view_module": "@jupyter-widgets/base",
            "overflow": null,
            "_model_module_version": "1.2.0",
            "_view_count": null,
            "flex_flow": null,
            "width": null,
            "min_width": null,
            "border": null,
            "align_items": null,
            "bottom": null,
            "_model_module": "@jupyter-widgets/base",
            "top": null,
            "grid_column": null,
            "overflow_y": null,
            "overflow_x": null,
            "grid_auto_flow": null,
            "grid_area": null,
            "grid_template_columns": null,
            "flex": null,
            "_model_name": "LayoutModel",
            "justify_items": null,
            "grid_row": null,
            "max_height": null,
            "align_content": null,
            "visibility": null,
            "align_self": null,
            "height": null,
            "min_height": null,
            "padding": null,
            "grid_auto_rows": null,
            "grid_gap": null,
            "max_width": null,
            "order": null,
            "_view_module_version": "1.2.0",
            "grid_template_areas": null,
            "object_position": null,
            "object_fit": null,
            "grid_auto_columns": null,
            "margin": null,
            "display": null,
            "left": null
          }
        },
        "0db483a2dfcf4707b319b71d35afad91": {
          "model_module": "@jupyter-widgets/controls",
          "model_name": "HTMLModel",
          "model_module_version": "1.5.0",
          "state": {
            "_view_name": "HTMLView",
            "style": "IPY_MODEL_816e37d2481c488eb94b2c40b508069f",
            "_dom_classes": [],
            "description": "",
            "_model_name": "HTMLModel",
            "placeholder": "​",
            "_view_module": "@jupyter-widgets/controls",
            "_model_module_version": "1.5.0",
            "value": "100%",
            "_view_count": null,
            "_view_module_version": "1.5.0",
            "description_tooltip": null,
            "_model_module": "@jupyter-widgets/controls",
            "layout": "IPY_MODEL_b0eb15f18d124663a9c7d2632890524f"
          }
        },
        "1cdffebf6b8941f3b05d5a3034bc19a4": {
          "model_module": "@jupyter-widgets/controls",
          "model_name": "FloatProgressModel",
          "model_module_version": "1.5.0",
          "state": {
            "_view_name": "ProgressView",
            "style": "IPY_MODEL_af63d37548e74fa0822860f9a8d21f40",
            "_dom_classes": [],
            "description": "",
            "_model_name": "FloatProgressModel",
            "bar_style": "success",
            "max": 50,
            "_view_module": "@jupyter-widgets/controls",
            "_model_module_version": "1.5.0",
            "value": 50,
            "_view_count": null,
            "_view_module_version": "1.5.0",
            "orientation": "horizontal",
            "min": 0,
            "description_tooltip": null,
            "_model_module": "@jupyter-widgets/controls",
            "layout": "IPY_MODEL_4ca6d748c38c462a96f235bff2732c75"
          }
        },
        "dd56cd3ba90d46da90bf302e0f3184e5": {
          "model_module": "@jupyter-widgets/controls",
          "model_name": "HTMLModel",
          "model_module_version": "1.5.0",
          "state": {
            "_view_name": "HTMLView",
            "style": "IPY_MODEL_9ba0abe66bbc4b158347c51515b22274",
            "_dom_classes": [],
            "description": "",
            "_model_name": "HTMLModel",
            "placeholder": "​",
            "_view_module": "@jupyter-widgets/controls",
            "_model_module_version": "1.5.0",
            "value": " 50/50 [08:41&lt;00:00, 10.68s/it]",
            "_view_count": null,
            "_view_module_version": "1.5.0",
            "description_tooltip": null,
            "_model_module": "@jupyter-widgets/controls",
            "layout": "IPY_MODEL_96dc04face0e454a946c2b73349b81e2"
          }
        },
        "816e37d2481c488eb94b2c40b508069f": {
          "model_module": "@jupyter-widgets/controls",
          "model_name": "DescriptionStyleModel",
          "model_module_version": "1.5.0",
          "state": {
            "_view_name": "StyleView",
            "_model_name": "DescriptionStyleModel",
            "description_width": "",
            "_view_module": "@jupyter-widgets/base",
            "_model_module_version": "1.5.0",
            "_view_count": null,
            "_view_module_version": "1.2.0",
            "_model_module": "@jupyter-widgets/controls"
          }
        },
        "b0eb15f18d124663a9c7d2632890524f": {
          "model_module": "@jupyter-widgets/base",
          "model_name": "LayoutModel",
          "model_module_version": "1.2.0",
          "state": {
            "_view_name": "LayoutView",
            "grid_template_rows": null,
            "right": null,
            "justify_content": null,
            "_view_module": "@jupyter-widgets/base",
            "overflow": null,
            "_model_module_version": "1.2.0",
            "_view_count": null,
            "flex_flow": null,
            "width": null,
            "min_width": null,
            "border": null,
            "align_items": null,
            "bottom": null,
            "_model_module": "@jupyter-widgets/base",
            "top": null,
            "grid_column": null,
            "overflow_y": null,
            "overflow_x": null,
            "grid_auto_flow": null,
            "grid_area": null,
            "grid_template_columns": null,
            "flex": null,
            "_model_name": "LayoutModel",
            "justify_items": null,
            "grid_row": null,
            "max_height": null,
            "align_content": null,
            "visibility": null,
            "align_self": null,
            "height": null,
            "min_height": null,
            "padding": null,
            "grid_auto_rows": null,
            "grid_gap": null,
            "max_width": null,
            "order": null,
            "_view_module_version": "1.2.0",
            "grid_template_areas": null,
            "object_position": null,
            "object_fit": null,
            "grid_auto_columns": null,
            "margin": null,
            "display": null,
            "left": null
          }
        },
        "af63d37548e74fa0822860f9a8d21f40": {
          "model_module": "@jupyter-widgets/controls",
          "model_name": "ProgressStyleModel",
          "model_module_version": "1.5.0",
          "state": {
            "_view_name": "StyleView",
            "_model_name": "ProgressStyleModel",
            "description_width": "",
            "_view_module": "@jupyter-widgets/base",
            "_model_module_version": "1.5.0",
            "_view_count": null,
            "_view_module_version": "1.2.0",
            "bar_color": null,
            "_model_module": "@jupyter-widgets/controls"
          }
        },
        "4ca6d748c38c462a96f235bff2732c75": {
          "model_module": "@jupyter-widgets/base",
          "model_name": "LayoutModel",
          "model_module_version": "1.2.0",
          "state": {
            "_view_name": "LayoutView",
            "grid_template_rows": null,
            "right": null,
            "justify_content": null,
            "_view_module": "@jupyter-widgets/base",
            "overflow": null,
            "_model_module_version": "1.2.0",
            "_view_count": null,
            "flex_flow": null,
            "width": null,
            "min_width": null,
            "border": null,
            "align_items": null,
            "bottom": null,
            "_model_module": "@jupyter-widgets/base",
            "top": null,
            "grid_column": null,
            "overflow_y": null,
            "overflow_x": null,
            "grid_auto_flow": null,
            "grid_area": null,
            "grid_template_columns": null,
            "flex": null,
            "_model_name": "LayoutModel",
            "justify_items": null,
            "grid_row": null,
            "max_height": null,
            "align_content": null,
            "visibility": null,
            "align_self": null,
            "height": null,
            "min_height": null,
            "padding": null,
            "grid_auto_rows": null,
            "grid_gap": null,
            "max_width": null,
            "order": null,
            "_view_module_version": "1.2.0",
            "grid_template_areas": null,
            "object_position": null,
            "object_fit": null,
            "grid_auto_columns": null,
            "margin": null,
            "display": null,
            "left": null
          }
        },
        "9ba0abe66bbc4b158347c51515b22274": {
          "model_module": "@jupyter-widgets/controls",
          "model_name": "DescriptionStyleModel",
          "model_module_version": "1.5.0",
          "state": {
            "_view_name": "StyleView",
            "_model_name": "DescriptionStyleModel",
            "description_width": "",
            "_view_module": "@jupyter-widgets/base",
            "_model_module_version": "1.5.0",
            "_view_count": null,
            "_view_module_version": "1.2.0",
            "_model_module": "@jupyter-widgets/controls"
          }
        },
        "96dc04face0e454a946c2b73349b81e2": {
          "model_module": "@jupyter-widgets/base",
          "model_name": "LayoutModel",
          "model_module_version": "1.2.0",
          "state": {
            "_view_name": "LayoutView",
            "grid_template_rows": null,
            "right": null,
            "justify_content": null,
            "_view_module": "@jupyter-widgets/base",
            "overflow": null,
            "_model_module_version": "1.2.0",
            "_view_count": null,
            "flex_flow": null,
            "width": null,
            "min_width": null,
            "border": null,
            "align_items": null,
            "bottom": null,
            "_model_module": "@jupyter-widgets/base",
            "top": null,
            "grid_column": null,
            "overflow_y": null,
            "overflow_x": null,
            "grid_auto_flow": null,
            "grid_area": null,
            "grid_template_columns": null,
            "flex": null,
            "_model_name": "LayoutModel",
            "justify_items": null,
            "grid_row": null,
            "max_height": null,
            "align_content": null,
            "visibility": null,
            "align_self": null,
            "height": null,
            "min_height": null,
            "padding": null,
            "grid_auto_rows": null,
            "grid_gap": null,
            "max_width": null,
            "order": null,
            "_view_module_version": "1.2.0",
            "grid_template_areas": null,
            "object_position": null,
            "object_fit": null,
            "grid_auto_columns": null,
            "margin": null,
            "display": null,
            "left": null
          }
        },
        "59a1f4cce99c42d286b601f588a84a4e": {
          "model_module": "@jupyter-widgets/controls",
          "model_name": "HBoxModel",
          "model_module_version": "1.5.0",
          "state": {
            "_view_name": "HBoxView",
            "_dom_classes": [],
            "_model_name": "HBoxModel",
            "_view_module": "@jupyter-widgets/controls",
            "_model_module_version": "1.5.0",
            "_view_count": null,
            "_view_module_version": "1.5.0",
            "box_style": "",
            "layout": "IPY_MODEL_d6de7406fad84d6bbab746435b85272d",
            "_model_module": "@jupyter-widgets/controls",
            "children": [
              "IPY_MODEL_588dc159b400411a8df9dc9bbe1c51b6",
              "IPY_MODEL_00cd61881d3847ed8c1e2a3057104eac",
              "IPY_MODEL_e2df8885ed4a406bbb3fd9eb9836dc53"
            ]
          }
        },
        "d6de7406fad84d6bbab746435b85272d": {
          "model_module": "@jupyter-widgets/base",
          "model_name": "LayoutModel",
          "model_module_version": "1.2.0",
          "state": {
            "_view_name": "LayoutView",
            "grid_template_rows": null,
            "right": null,
            "justify_content": null,
            "_view_module": "@jupyter-widgets/base",
            "overflow": null,
            "_model_module_version": "1.2.0",
            "_view_count": null,
            "flex_flow": null,
            "width": null,
            "min_width": null,
            "border": null,
            "align_items": null,
            "bottom": null,
            "_model_module": "@jupyter-widgets/base",
            "top": null,
            "grid_column": null,
            "overflow_y": null,
            "overflow_x": null,
            "grid_auto_flow": null,
            "grid_area": null,
            "grid_template_columns": null,
            "flex": null,
            "_model_name": "LayoutModel",
            "justify_items": null,
            "grid_row": null,
            "max_height": null,
            "align_content": null,
            "visibility": null,
            "align_self": null,
            "height": null,
            "min_height": null,
            "padding": null,
            "grid_auto_rows": null,
            "grid_gap": null,
            "max_width": null,
            "order": null,
            "_view_module_version": "1.2.0",
            "grid_template_areas": null,
            "object_position": null,
            "object_fit": null,
            "grid_auto_columns": null,
            "margin": null,
            "display": null,
            "left": null
          }
        },
        "588dc159b400411a8df9dc9bbe1c51b6": {
          "model_module": "@jupyter-widgets/controls",
          "model_name": "HTMLModel",
          "model_module_version": "1.5.0",
          "state": {
            "_view_name": "HTMLView",
            "style": "IPY_MODEL_f1e0639f780e4ce688e294d9a6ad4949",
            "_dom_classes": [],
            "description": "",
            "_model_name": "HTMLModel",
            "placeholder": "​",
            "_view_module": "@jupyter-widgets/controls",
            "_model_module_version": "1.5.0",
            "value": "100%",
            "_view_count": null,
            "_view_module_version": "1.5.0",
            "description_tooltip": null,
            "_model_module": "@jupyter-widgets/controls",
            "layout": "IPY_MODEL_a910646fc0f74c329b254e2b4b49ddbd"
          }
        },
        "00cd61881d3847ed8c1e2a3057104eac": {
          "model_module": "@jupyter-widgets/controls",
          "model_name": "FloatProgressModel",
          "model_module_version": "1.5.0",
          "state": {
            "_view_name": "ProgressView",
            "style": "IPY_MODEL_3dfa0a9c221b4292aa72fd4aef66a385",
            "_dom_classes": [],
            "description": "",
            "_model_name": "FloatProgressModel",
            "bar_style": "success",
            "max": 50,
            "_view_module": "@jupyter-widgets/controls",
            "_model_module_version": "1.5.0",
            "value": 50,
            "_view_count": null,
            "_view_module_version": "1.5.0",
            "orientation": "horizontal",
            "min": 0,
            "description_tooltip": null,
            "_model_module": "@jupyter-widgets/controls",
            "layout": "IPY_MODEL_2fb9d9dc7ce44eb89d79213b88409027"
          }
        },
        "e2df8885ed4a406bbb3fd9eb9836dc53": {
          "model_module": "@jupyter-widgets/controls",
          "model_name": "HTMLModel",
          "model_module_version": "1.5.0",
          "state": {
            "_view_name": "HTMLView",
            "style": "IPY_MODEL_1a74d11c147c4920bed814c68d8a275b",
            "_dom_classes": [],
            "description": "",
            "_model_name": "HTMLModel",
            "placeholder": "​",
            "_view_module": "@jupyter-widgets/controls",
            "_model_module_version": "1.5.0",
            "value": " 50/50 [11:51&lt;00:00, 14.22s/it]",
            "_view_count": null,
            "_view_module_version": "1.5.0",
            "description_tooltip": null,
            "_model_module": "@jupyter-widgets/controls",
            "layout": "IPY_MODEL_cb084af5befe44bc98d4afb62d7ab1aa"
          }
        },
        "f1e0639f780e4ce688e294d9a6ad4949": {
          "model_module": "@jupyter-widgets/controls",
          "model_name": "DescriptionStyleModel",
          "model_module_version": "1.5.0",
          "state": {
            "_view_name": "StyleView",
            "_model_name": "DescriptionStyleModel",
            "description_width": "",
            "_view_module": "@jupyter-widgets/base",
            "_model_module_version": "1.5.0",
            "_view_count": null,
            "_view_module_version": "1.2.0",
            "_model_module": "@jupyter-widgets/controls"
          }
        },
        "a910646fc0f74c329b254e2b4b49ddbd": {
          "model_module": "@jupyter-widgets/base",
          "model_name": "LayoutModel",
          "model_module_version": "1.2.0",
          "state": {
            "_view_name": "LayoutView",
            "grid_template_rows": null,
            "right": null,
            "justify_content": null,
            "_view_module": "@jupyter-widgets/base",
            "overflow": null,
            "_model_module_version": "1.2.0",
            "_view_count": null,
            "flex_flow": null,
            "width": null,
            "min_width": null,
            "border": null,
            "align_items": null,
            "bottom": null,
            "_model_module": "@jupyter-widgets/base",
            "top": null,
            "grid_column": null,
            "overflow_y": null,
            "overflow_x": null,
            "grid_auto_flow": null,
            "grid_area": null,
            "grid_template_columns": null,
            "flex": null,
            "_model_name": "LayoutModel",
            "justify_items": null,
            "grid_row": null,
            "max_height": null,
            "align_content": null,
            "visibility": null,
            "align_self": null,
            "height": null,
            "min_height": null,
            "padding": null,
            "grid_auto_rows": null,
            "grid_gap": null,
            "max_width": null,
            "order": null,
            "_view_module_version": "1.2.0",
            "grid_template_areas": null,
            "object_position": null,
            "object_fit": null,
            "grid_auto_columns": null,
            "margin": null,
            "display": null,
            "left": null
          }
        },
        "3dfa0a9c221b4292aa72fd4aef66a385": {
          "model_module": "@jupyter-widgets/controls",
          "model_name": "ProgressStyleModel",
          "model_module_version": "1.5.0",
          "state": {
            "_view_name": "StyleView",
            "_model_name": "ProgressStyleModel",
            "description_width": "",
            "_view_module": "@jupyter-widgets/base",
            "_model_module_version": "1.5.0",
            "_view_count": null,
            "_view_module_version": "1.2.0",
            "bar_color": null,
            "_model_module": "@jupyter-widgets/controls"
          }
        },
        "2fb9d9dc7ce44eb89d79213b88409027": {
          "model_module": "@jupyter-widgets/base",
          "model_name": "LayoutModel",
          "model_module_version": "1.2.0",
          "state": {
            "_view_name": "LayoutView",
            "grid_template_rows": null,
            "right": null,
            "justify_content": null,
            "_view_module": "@jupyter-widgets/base",
            "overflow": null,
            "_model_module_version": "1.2.0",
            "_view_count": null,
            "flex_flow": null,
            "width": null,
            "min_width": null,
            "border": null,
            "align_items": null,
            "bottom": null,
            "_model_module": "@jupyter-widgets/base",
            "top": null,
            "grid_column": null,
            "overflow_y": null,
            "overflow_x": null,
            "grid_auto_flow": null,
            "grid_area": null,
            "grid_template_columns": null,
            "flex": null,
            "_model_name": "LayoutModel",
            "justify_items": null,
            "grid_row": null,
            "max_height": null,
            "align_content": null,
            "visibility": null,
            "align_self": null,
            "height": null,
            "min_height": null,
            "padding": null,
            "grid_auto_rows": null,
            "grid_gap": null,
            "max_width": null,
            "order": null,
            "_view_module_version": "1.2.0",
            "grid_template_areas": null,
            "object_position": null,
            "object_fit": null,
            "grid_auto_columns": null,
            "margin": null,
            "display": null,
            "left": null
          }
        },
        "1a74d11c147c4920bed814c68d8a275b": {
          "model_module": "@jupyter-widgets/controls",
          "model_name": "DescriptionStyleModel",
          "model_module_version": "1.5.0",
          "state": {
            "_view_name": "StyleView",
            "_model_name": "DescriptionStyleModel",
            "description_width": "",
            "_view_module": "@jupyter-widgets/base",
            "_model_module_version": "1.5.0",
            "_view_count": null,
            "_view_module_version": "1.2.0",
            "_model_module": "@jupyter-widgets/controls"
          }
        },
        "cb084af5befe44bc98d4afb62d7ab1aa": {
          "model_module": "@jupyter-widgets/base",
          "model_name": "LayoutModel",
          "model_module_version": "1.2.0",
          "state": {
            "_view_name": "LayoutView",
            "grid_template_rows": null,
            "right": null,
            "justify_content": null,
            "_view_module": "@jupyter-widgets/base",
            "overflow": null,
            "_model_module_version": "1.2.0",
            "_view_count": null,
            "flex_flow": null,
            "width": null,
            "min_width": null,
            "border": null,
            "align_items": null,
            "bottom": null,
            "_model_module": "@jupyter-widgets/base",
            "top": null,
            "grid_column": null,
            "overflow_y": null,
            "overflow_x": null,
            "grid_auto_flow": null,
            "grid_area": null,
            "grid_template_columns": null,
            "flex": null,
            "_model_name": "LayoutModel",
            "justify_items": null,
            "grid_row": null,
            "max_height": null,
            "align_content": null,
            "visibility": null,
            "align_self": null,
            "height": null,
            "min_height": null,
            "padding": null,
            "grid_auto_rows": null,
            "grid_gap": null,
            "max_width": null,
            "order": null,
            "_view_module_version": "1.2.0",
            "grid_template_areas": null,
            "object_position": null,
            "object_fit": null,
            "grid_auto_columns": null,
            "margin": null,
            "display": null,
            "left": null
          }
        },
        "585d411ed5f447fba44d95bbfa527d36": {
          "model_module": "@jupyter-widgets/controls",
          "model_name": "HBoxModel",
          "model_module_version": "1.5.0",
          "state": {
            "_view_name": "HBoxView",
            "_dom_classes": [],
            "_model_name": "HBoxModel",
            "_view_module": "@jupyter-widgets/controls",
            "_model_module_version": "1.5.0",
            "_view_count": null,
            "_view_module_version": "1.5.0",
            "box_style": "",
            "layout": "IPY_MODEL_6a91d1c14fdd4bbe946d18579338d924",
            "_model_module": "@jupyter-widgets/controls",
            "children": [
              "IPY_MODEL_5258765eed6048819bc9ba84a9c48528",
              "IPY_MODEL_3ce24c7904d941ef9e50eba326631a3a",
              "IPY_MODEL_4a82e70c0aab4fafa0c59f6c9b10b388"
            ]
          }
        },
        "6a91d1c14fdd4bbe946d18579338d924": {
          "model_module": "@jupyter-widgets/base",
          "model_name": "LayoutModel",
          "model_module_version": "1.2.0",
          "state": {
            "_view_name": "LayoutView",
            "grid_template_rows": null,
            "right": null,
            "justify_content": null,
            "_view_module": "@jupyter-widgets/base",
            "overflow": null,
            "_model_module_version": "1.2.0",
            "_view_count": null,
            "flex_flow": null,
            "width": null,
            "min_width": null,
            "border": null,
            "align_items": null,
            "bottom": null,
            "_model_module": "@jupyter-widgets/base",
            "top": null,
            "grid_column": null,
            "overflow_y": null,
            "overflow_x": null,
            "grid_auto_flow": null,
            "grid_area": null,
            "grid_template_columns": null,
            "flex": null,
            "_model_name": "LayoutModel",
            "justify_items": null,
            "grid_row": null,
            "max_height": null,
            "align_content": null,
            "visibility": null,
            "align_self": null,
            "height": null,
            "min_height": null,
            "padding": null,
            "grid_auto_rows": null,
            "grid_gap": null,
            "max_width": null,
            "order": null,
            "_view_module_version": "1.2.0",
            "grid_template_areas": null,
            "object_position": null,
            "object_fit": null,
            "grid_auto_columns": null,
            "margin": null,
            "display": null,
            "left": null
          }
        },
        "5258765eed6048819bc9ba84a9c48528": {
          "model_module": "@jupyter-widgets/controls",
          "model_name": "HTMLModel",
          "model_module_version": "1.5.0",
          "state": {
            "_view_name": "HTMLView",
            "style": "IPY_MODEL_4414e2b51eb14018a4fb8da3f32f3e33",
            "_dom_classes": [],
            "description": "",
            "_model_name": "HTMLModel",
            "placeholder": "​",
            "_view_module": "@jupyter-widgets/controls",
            "_model_module_version": "1.5.0",
            "value": "100%",
            "_view_count": null,
            "_view_module_version": "1.5.0",
            "description_tooltip": null,
            "_model_module": "@jupyter-widgets/controls",
            "layout": "IPY_MODEL_36a65c6d02c04767aa528cfc1634fa3e"
          }
        },
        "3ce24c7904d941ef9e50eba326631a3a": {
          "model_module": "@jupyter-widgets/controls",
          "model_name": "FloatProgressModel",
          "model_module_version": "1.5.0",
          "state": {
            "_view_name": "ProgressView",
            "style": "IPY_MODEL_a8f62665270f4308b357858ad4c05df5",
            "_dom_classes": [],
            "description": "",
            "_model_name": "FloatProgressModel",
            "bar_style": "success",
            "max": 50,
            "_view_module": "@jupyter-widgets/controls",
            "_model_module_version": "1.5.0",
            "value": 50,
            "_view_count": null,
            "_view_module_version": "1.5.0",
            "orientation": "horizontal",
            "min": 0,
            "description_tooltip": null,
            "_model_module": "@jupyter-widgets/controls",
            "layout": "IPY_MODEL_262d0da6e2384e0e852787161b75ca71"
          }
        },
        "4a82e70c0aab4fafa0c59f6c9b10b388": {
          "model_module": "@jupyter-widgets/controls",
          "model_name": "HTMLModel",
          "model_module_version": "1.5.0",
          "state": {
            "_view_name": "HTMLView",
            "style": "IPY_MODEL_1c6e5f5242584e9c9ab6863908537357",
            "_dom_classes": [],
            "description": "",
            "_model_name": "HTMLModel",
            "placeholder": "​",
            "_view_module": "@jupyter-widgets/controls",
            "_model_module_version": "1.5.0",
            "value": " 50/50 [19:46&lt;00:00, 23.28s/it]",
            "_view_count": null,
            "_view_module_version": "1.5.0",
            "description_tooltip": null,
            "_model_module": "@jupyter-widgets/controls",
            "layout": "IPY_MODEL_bedbf7c4a93f4a44bf1b19dafdd621e3"
          }
        },
        "4414e2b51eb14018a4fb8da3f32f3e33": {
          "model_module": "@jupyter-widgets/controls",
          "model_name": "DescriptionStyleModel",
          "model_module_version": "1.5.0",
          "state": {
            "_view_name": "StyleView",
            "_model_name": "DescriptionStyleModel",
            "description_width": "",
            "_view_module": "@jupyter-widgets/base",
            "_model_module_version": "1.5.0",
            "_view_count": null,
            "_view_module_version": "1.2.0",
            "_model_module": "@jupyter-widgets/controls"
          }
        },
        "36a65c6d02c04767aa528cfc1634fa3e": {
          "model_module": "@jupyter-widgets/base",
          "model_name": "LayoutModel",
          "model_module_version": "1.2.0",
          "state": {
            "_view_name": "LayoutView",
            "grid_template_rows": null,
            "right": null,
            "justify_content": null,
            "_view_module": "@jupyter-widgets/base",
            "overflow": null,
            "_model_module_version": "1.2.0",
            "_view_count": null,
            "flex_flow": null,
            "width": null,
            "min_width": null,
            "border": null,
            "align_items": null,
            "bottom": null,
            "_model_module": "@jupyter-widgets/base",
            "top": null,
            "grid_column": null,
            "overflow_y": null,
            "overflow_x": null,
            "grid_auto_flow": null,
            "grid_area": null,
            "grid_template_columns": null,
            "flex": null,
            "_model_name": "LayoutModel",
            "justify_items": null,
            "grid_row": null,
            "max_height": null,
            "align_content": null,
            "visibility": null,
            "align_self": null,
            "height": null,
            "min_height": null,
            "padding": null,
            "grid_auto_rows": null,
            "grid_gap": null,
            "max_width": null,
            "order": null,
            "_view_module_version": "1.2.0",
            "grid_template_areas": null,
            "object_position": null,
            "object_fit": null,
            "grid_auto_columns": null,
            "margin": null,
            "display": null,
            "left": null
          }
        },
        "a8f62665270f4308b357858ad4c05df5": {
          "model_module": "@jupyter-widgets/controls",
          "model_name": "ProgressStyleModel",
          "model_module_version": "1.5.0",
          "state": {
            "_view_name": "StyleView",
            "_model_name": "ProgressStyleModel",
            "description_width": "",
            "_view_module": "@jupyter-widgets/base",
            "_model_module_version": "1.5.0",
            "_view_count": null,
            "_view_module_version": "1.2.0",
            "bar_color": null,
            "_model_module": "@jupyter-widgets/controls"
          }
        },
        "262d0da6e2384e0e852787161b75ca71": {
          "model_module": "@jupyter-widgets/base",
          "model_name": "LayoutModel",
          "model_module_version": "1.2.0",
          "state": {
            "_view_name": "LayoutView",
            "grid_template_rows": null,
            "right": null,
            "justify_content": null,
            "_view_module": "@jupyter-widgets/base",
            "overflow": null,
            "_model_module_version": "1.2.0",
            "_view_count": null,
            "flex_flow": null,
            "width": null,
            "min_width": null,
            "border": null,
            "align_items": null,
            "bottom": null,
            "_model_module": "@jupyter-widgets/base",
            "top": null,
            "grid_column": null,
            "overflow_y": null,
            "overflow_x": null,
            "grid_auto_flow": null,
            "grid_area": null,
            "grid_template_columns": null,
            "flex": null,
            "_model_name": "LayoutModel",
            "justify_items": null,
            "grid_row": null,
            "max_height": null,
            "align_content": null,
            "visibility": null,
            "align_self": null,
            "height": null,
            "min_height": null,
            "padding": null,
            "grid_auto_rows": null,
            "grid_gap": null,
            "max_width": null,
            "order": null,
            "_view_module_version": "1.2.0",
            "grid_template_areas": null,
            "object_position": null,
            "object_fit": null,
            "grid_auto_columns": null,
            "margin": null,
            "display": null,
            "left": null
          }
        },
        "1c6e5f5242584e9c9ab6863908537357": {
          "model_module": "@jupyter-widgets/controls",
          "model_name": "DescriptionStyleModel",
          "model_module_version": "1.5.0",
          "state": {
            "_view_name": "StyleView",
            "_model_name": "DescriptionStyleModel",
            "description_width": "",
            "_view_module": "@jupyter-widgets/base",
            "_model_module_version": "1.5.0",
            "_view_count": null,
            "_view_module_version": "1.2.0",
            "_model_module": "@jupyter-widgets/controls"
          }
        },
        "bedbf7c4a93f4a44bf1b19dafdd621e3": {
          "model_module": "@jupyter-widgets/base",
          "model_name": "LayoutModel",
          "model_module_version": "1.2.0",
          "state": {
            "_view_name": "LayoutView",
            "grid_template_rows": null,
            "right": null,
            "justify_content": null,
            "_view_module": "@jupyter-widgets/base",
            "overflow": null,
            "_model_module_version": "1.2.0",
            "_view_count": null,
            "flex_flow": null,
            "width": null,
            "min_width": null,
            "border": null,
            "align_items": null,
            "bottom": null,
            "_model_module": "@jupyter-widgets/base",
            "top": null,
            "grid_column": null,
            "overflow_y": null,
            "overflow_x": null,
            "grid_auto_flow": null,
            "grid_area": null,
            "grid_template_columns": null,
            "flex": null,
            "_model_name": "LayoutModel",
            "justify_items": null,
            "grid_row": null,
            "max_height": null,
            "align_content": null,
            "visibility": null,
            "align_self": null,
            "height": null,
            "min_height": null,
            "padding": null,
            "grid_auto_rows": null,
            "grid_gap": null,
            "max_width": null,
            "order": null,
            "_view_module_version": "1.2.0",
            "grid_template_areas": null,
            "object_position": null,
            "object_fit": null,
            "grid_auto_columns": null,
            "margin": null,
            "display": null,
            "left": null
          }
        }
      }
    },
    "accelerator": "GPU"
  },
  "nbformat": 4,
  "nbformat_minor": 0
}