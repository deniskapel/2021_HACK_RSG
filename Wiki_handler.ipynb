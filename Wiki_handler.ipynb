{
 "cells": [
  {
   "cell_type": "code",
   "execution_count": 1,
   "metadata": {},
   "outputs": [],
   "source": [
    "import pandas as pd\n",
    "from gensim import utils\n",
    "import json\n",
    "import csv\n",
    "from smart_open import open\n",
    "from hashlib import sha1\n",
    "from datasketch import MinHash, MinHashLSH\n",
    "from tqdm import tqdm\n",
    "tqdm.pandas()"
   ]
  },
  {
   "cell_type": "code",
   "execution_count": 23,
   "metadata": {},
   "outputs": [
    {
     "data": {
      "text/plain": [
       "<spacy.pipeline.sentencizer.Sentencizer at 0x1a34a9659c8>"
      ]
     },
     "execution_count": 23,
     "metadata": {},
     "output_type": "execute_result"
    }
   ],
   "source": [
    "from spacy.lang.ru import Russian\n",
    "nlp = Russian()\n",
    "nlp.add_pipe('sentencizer')"
   ]
  },
  {
   "cell_type": "code",
   "execution_count": 2,
   "metadata": {},
   "outputs": [],
   "source": [
    "def process(section):\n",
    "    res = []\n",
    "    doc = nlp(section)\n",
    "    for sent in doc.sents:\n",
    "        sent = str(sent)\n",
    "        x = sent.replace('\\n', '')\n",
    "        if x:\n",
    "            res.append([x])\n",
    "    return res"
   ]
  },
  {
   "cell_type": "code",
   "execution_count": 15,
   "metadata": {},
   "outputs": [
    {
     "name": "stdout",
     "output_type": "stream",
     "text": [
      "Total articles  -- 2801969\n",
      "Wall time: 1min 25s\n"
     ]
    }
   ],
   "source": [
    "%%time\n",
    "\n",
    "i = 0\n",
    "\n",
    "with open('ruwiki-latest.json.gz', 'rb') as f:\n",
    "        for line in f:\n",
    "            i += 1\n",
    "\n",
    "print(f'Total articles  -- {i}')"
   ]
  },
  {
   "cell_type": "code",
   "execution_count": 20,
   "metadata": {},
   "outputs": [
    {
     "name": "stdout",
     "output_type": "stream",
     "text": [
      "Current i -- 100000\n",
      "Current i -- 200000\n",
      "Current i -- 300000\n",
      "Current i -- 400000\n",
      "Starting new file\n",
      "Current i -- 0\n",
      "Current i -- 100000\n",
      "Current i -- 200000\n",
      "Current i -- 300000\n",
      "Current i -- 400000\n",
      "Starting new file\n",
      "Current i -- 0\n",
      "Current i -- 100000\n",
      "Current i -- 200000\n",
      "Current i -- 300000\n",
      "Current i -- 400000\n",
      "Starting new file\n",
      "Current i -- 0\n",
      "Current i -- 100000\n",
      "Current i -- 200000\n",
      "Current i -- 300000\n",
      "Current i -- 400000\n",
      "Starting new file\n",
      "Current i -- 0\n",
      "Current i -- 100000\n",
      "Current i -- 200000\n",
      "Current i -- 300000\n",
      "Current i -- 400000\n",
      "Starting new file\n",
      "Current i -- 0\n",
      "Current i -- 100000\n",
      "Current i -- 200000\n",
      "Current i -- 300000\n",
      "Current i -- 400000\n",
      "Wall time: 1h 6min 53s\n"
     ]
    }
   ],
   "source": [
    "# %%time\n",
    "\n",
    "# import csv\n",
    "# i = 0\n",
    "# cnt = 0\n",
    "# file_name = 'texts0.csv'\n",
    "# cs = open(file_name, 'w', newline='', encoding='utf-8')\n",
    "# linewriter = csv.writer(cs)\n",
    "\n",
    "# tmp = []\n",
    "\n",
    "# with open('ruwiki-latest.json.gz', 'rb') as f:\n",
    "\n",
    "#         for line in f:\n",
    "#             i += 1\n",
    "#             article = json.loads(line)\n",
    "\n",
    "#             for section_text in article['section_texts']:\n",
    "#                 art = process(section_text)\n",
    "#                 tmp.extend(art)\n",
    "#                 tmp.append(['EOS'])        \n",
    "\n",
    "#             if i == 466995:\n",
    "#                 linewriter.writerows(tmp)\n",
    "#                 tmp = []\n",
    "#                 cs.close() \n",
    "#                 i = 0          \n",
    "#                 cnt += 1\n",
    "#                 print('Starting new file')\n",
    "#                 file_name = 'texts' + str(cnt) + '.csv'\n",
    "#                 cs = open(file_name, 'w', newline='', encoding='utf-8')\n",
    "#                 linewriter = csv.writer(cs)\n",
    "            \n",
    "#             elif i % 100000 == 0:\n",
    "#                 print(f'Current i -- {i}')\n",
    "#             if len(tmp) > 100:\n",
    "#                 linewriter.writerows(tmp)\n",
    "#                 tmp = []\n",
    "\n",
    "# if tmp:\n",
    "#     linewriter.writerows(tmp) \n",
    "#     tmp = []\n",
    "#     cs.close()"
   ]
  },
  {
   "cell_type": "code",
   "execution_count": 2,
   "metadata": {},
   "outputs": [],
   "source": [
    "def hashes_simple(x):\n",
    "    m1 = MinHash(num_perm=16)\n",
    "    x = x.lower()\n",
    "    x = set(x.split())\n",
    "    _ = [m1.update(token.encode('utf8')) for token in x]\n",
    "    return m1"
   ]
  },
  {
   "cell_type": "code",
   "execution_count": 3,
   "metadata": {},
   "outputs": [],
   "source": [
    "def process_txt(x):\n",
    "    if x == '\\n':\n",
    "        return x\n",
    "    else:\n",
    "        x = x.replace('\\n', '')\n",
    "        return x"
   ]
  },
  {
   "cell_type": "code",
   "execution_count": 6,
   "metadata": {},
   "outputs": [],
   "source": [
    "df = pd.read_csv('texts0.csv', header=None, names = ['Text'],\n",
    "                             encoding='utf-8', low_memory=True, nrows=50)"
   ]
  },
  {
   "cell_type": "markdown",
   "metadata": {},
   "source": [
    "# Upload hashes in memory (csv)"
   ]
  },
  {
   "cell_type": "code",
   "execution_count": 5,
   "metadata": {},
   "outputs": [],
   "source": [
    "%%time\n",
    "\n",
    "lsh = MinHashLSH(threshold=0.8, num_perm=16)\n",
    "\n",
    "comp = 1000000\n",
    "i = 0\n",
    "with lsh.insertion_session() as session:\n",
    "    for chunk in pd.read_csv('texts5.csv', header=None, names = ['Text'],\n",
    "                             encoding='utf-8', low_memory=True, chunksize=500000):\n",
    "        chunk = chunk.dropna()\n",
    "        chunk = chunk[chunk['Text'] != 'EOS']\n",
    "        texts = chunk.Text.progress_apply(hashes_simple)\n",
    "        texts = texts.to_list()\n",
    "        hashes = [('m'+str(u), x) for x, u in zip(texts, range(i, i+len(texts)+1))]\n",
    "        i += len(texts)\n",
    "        if i > comp:\n",
    "            print(f'Processed sentences -- {i:,}')\n",
    "            comp += 1000000\n",
    "        for key, minhash in hashes:\n",
    "            session.insert(key, minhash)"
   ]
  },
  {
   "cell_type": "code",
   "execution_count": 4,
   "metadata": {},
   "outputs": [
    {
     "name": "stdout",
     "output_type": "stream",
     "text": [
      "All hashes are added to the LSH\n"
     ]
    }
   ],
   "source": [
    "print('All hashes are added to the LSH')"
   ]
  },
  {
   "cell_type": "code",
   "execution_count": 5,
   "metadata": {},
   "outputs": [
    {
     "name": "stdout",
     "output_type": "stream",
     "text": [
      "Total number of sentences in file -- 6,449,430\n"
     ]
    }
   ],
   "source": [
    "print(f'Total number of sentences in file -- {i:,}')"
   ]
  },
  {
   "cell_type": "code",
   "execution_count": 6,
   "metadata": {},
   "outputs": [],
   "source": [
    "del texts\n",
    "del chunk\n",
    "del hashes\n",
    "del i\n",
    "del comp"
   ]
  },
  {
   "cell_type": "markdown",
   "metadata": {},
   "source": [
    "# Upload hashed into memory (txt)"
   ]
  },
  {
   "cell_type": "code",
   "execution_count": 6,
   "metadata": {},
   "outputs": [
    {
     "name": "stderr",
     "output_type": "stream",
     "text": [
      "100%|████████████████████████████████████████████████████████████████████████| 446738/446738 [02:57<00:00, 2519.01it/s]\n",
      "100%|████████████████████████████████████████████████████████████████████████| 448093/448093 [02:55<00:00, 2558.64it/s]\n",
      "100%|████████████████████████████████████████████████████████████████████████| 446876/446876 [02:55<00:00, 2542.26it/s]\n"
     ]
    },
    {
     "name": "stdout",
     "output_type": "stream",
     "text": [
      "Processed sentences -- 1,341,707\n"
     ]
    },
    {
     "name": "stderr",
     "output_type": "stream",
     "text": [
      "100%|████████████████████████████████████████████████████████████████████████| 447643/447643 [02:58<00:00, 2503.91it/s]\n",
      "100%|████████████████████████████████████████████████████████████████████████| 448422/448422 [03:01<00:00, 2467.95it/s]\n"
     ]
    },
    {
     "name": "stdout",
     "output_type": "stream",
     "text": [
      "Processed sentences -- 2,237,772\n"
     ]
    },
    {
     "name": "stderr",
     "output_type": "stream",
     "text": [
      "100%|████████████████████████████████████████████████████████████████████████| 448096/448096 [03:00<00:00, 2483.39it/s]\n",
      "100%|████████████████████████████████████████████████████████████████████████| 449315/449315 [03:03<00:00, 2452.78it/s]\n"
     ]
    },
    {
     "name": "stdout",
     "output_type": "stream",
     "text": [
      "Processed sentences -- 3,135,183\n"
     ]
    },
    {
     "name": "stderr",
     "output_type": "stream",
     "text": [
      "100%|████████████████████████████████████████████████████████████████████████| 446900/446900 [03:03<00:00, 2440.86it/s]\n",
      "100%|████████████████████████████████████████████████████████████████████████| 448061/448061 [03:04<00:00, 2427.34it/s]\n"
     ]
    },
    {
     "name": "stdout",
     "output_type": "stream",
     "text": [
      "Processed sentences -- 4,030,144\n"
     ]
    },
    {
     "name": "stderr",
     "output_type": "stream",
     "text": [
      "100%|████████████████████████████████████████████████████████████████████████| 447357/447357 [03:04<00:00, 2421.91it/s]\n",
      "100%|████████████████████████████████████████████████████████████████████████| 447268/447268 [03:02<00:00, 2447.21it/s]\n",
      "100%|████████████████████████████████████████████████████████████████████████| 448416/448416 [03:03<00:00, 2448.05it/s]\n"
     ]
    },
    {
     "name": "stdout",
     "output_type": "stream",
     "text": [
      "Processed sentences -- 5,373,185\n"
     ]
    },
    {
     "name": "stderr",
     "output_type": "stream",
     "text": [
      "100%|████████████████████████████████████████████████████████████████████████| 447298/447298 [03:02<00:00, 2446.52it/s]\n",
      "100%|████████████████████████████████████████████████████████████████████████| 447795/447795 [03:23<00:00, 2205.35it/s]\n"
     ]
    },
    {
     "name": "stdout",
     "output_type": "stream",
     "text": [
      "Processed sentences -- 6,268,278\n"
     ]
    },
    {
     "name": "stderr",
     "output_type": "stream",
     "text": [
      "100%|████████████████████████████████████████████████████████████████████████| 267312/267312 [01:50<00:00, 2409.40it/s]\n"
     ]
    },
    {
     "name": "stdout",
     "output_type": "stream",
     "text": [
      "Wall time: 45min 50s\n"
     ]
    }
   ],
   "source": [
    "%%time\n",
    "\n",
    "lsh = MinHashLSH(threshold=0.8, num_perm=16)\n",
    "\n",
    "comp = 1000000\n",
    "i = 0\n",
    "\n",
    "def read_in_chunks_lines(file_object, chunk_size=40000000):\n",
    "    while True:\n",
    "        data = file_object.readlines(chunk_size)\n",
    "        if not data:\n",
    "            break\n",
    "        yield data\n",
    "\n",
    "with lsh.insertion_session() as session:\n",
    "    with open('rnc_post-soviet_cleaned.txt', encoding='utf-8') as f1:\n",
    "        for piece in read_in_chunks_lines(f1):\n",
    "            sents = [process_txt(x) for x in piece]\n",
    "            texts = [hashes_simple(x) for x in tqdm(sents)]\n",
    "            hashes = [('m'+str(u), x) for x, u in zip(texts, range(i, i+len(texts)+1))]\n",
    "            i += len(texts)\n",
    "            if i > comp:\n",
    "                print(f'Processed sentences -- {i:,}')\n",
    "                comp += 1000000\n",
    "            for key, minhash in hashes:\n",
    "                session.insert(key, minhash)"
   ]
  },
  {
   "cell_type": "code",
   "execution_count": 7,
   "metadata": {},
   "outputs": [
    {
     "name": "stdout",
     "output_type": "stream",
     "text": [
      "All hashes are added to the LSH\n"
     ]
    }
   ],
   "source": [
    "print('All hashes are added to the LSH')"
   ]
  },
  {
   "cell_type": "code",
   "execution_count": 8,
   "metadata": {},
   "outputs": [
    {
     "name": "stdout",
     "output_type": "stream",
     "text": [
      "Total number of sentences in file -- 6,535,590\n"
     ]
    }
   ],
   "source": [
    "print(f'Total number of sentences in file -- {i:,}')"
   ]
  },
  {
   "cell_type": "code",
   "execution_count": 9,
   "metadata": {},
   "outputs": [],
   "source": [
    "del texts\n",
    "del piece\n",
    "del hashes\n",
    "del i\n",
    "del comp"
   ]
  },
  {
   "cell_type": "markdown",
   "metadata": {},
   "source": [
    "# csv cleaning"
   ]
  },
  {
   "cell_type": "code",
   "execution_count": 39,
   "metadata": {},
   "outputs": [
    {
     "data": {
      "application/vnd.jupyter.widget-view+json": {
       "model_id": "fa1e0833fbe244d6bd9519c7c304d6e5",
       "version_major": 2,
       "version_minor": 0
      },
      "text/plain": [
       "HBox(children=(FloatProgress(value=0.0, max=426384.0), HTML(value='')))"
      ]
     },
     "metadata": {},
     "output_type": "display_data"
    },
    {
     "name": "stdout",
     "output_type": "stream",
     "text": [
      "\n"
     ]
    },
    {
     "data": {
      "application/vnd.jupyter.widget-view+json": {
       "model_id": "55e44c19bf854d25a38ef341fe54ecb0",
       "version_major": 2,
       "version_minor": 0
      },
      "text/plain": [
       "HBox(children=(FloatProgress(value=0.0, max=499444.0), HTML(value='')))"
      ]
     },
     "metadata": {},
     "output_type": "display_data"
    },
    {
     "name": "stdout",
     "output_type": "stream",
     "text": [
      "\n"
     ]
    },
    {
     "data": {
      "application/vnd.jupyter.widget-view+json": {
       "model_id": "389651726807424a96d3bc03b79da870",
       "version_major": 2,
       "version_minor": 0
      },
      "text/plain": [
       "HBox(children=(FloatProgress(value=0.0, max=406375.0), HTML(value='')))"
      ]
     },
     "metadata": {},
     "output_type": "display_data"
    },
    {
     "name": "stdout",
     "output_type": "stream",
     "text": [
      "\n"
     ]
    },
    {
     "data": {
      "application/vnd.jupyter.widget-view+json": {
       "model_id": "de30323cd4d34d4c9ed77240d6d0d218",
       "version_major": 2,
       "version_minor": 0
      },
      "text/plain": [
       "HBox(children=(FloatProgress(value=0.0, max=452003.0), HTML(value='')))"
      ]
     },
     "metadata": {},
     "output_type": "display_data"
    },
    {
     "name": "stdout",
     "output_type": "stream",
     "text": [
      "\n"
     ]
    },
    {
     "data": {
      "application/vnd.jupyter.widget-view+json": {
       "model_id": "5f71de425ef5479a8a88150eca3054b3",
       "version_major": 2,
       "version_minor": 0
      },
      "text/plain": [
       "HBox(children=(FloatProgress(value=0.0, max=459400.0), HTML(value='')))"
      ]
     },
     "metadata": {},
     "output_type": "display_data"
    },
    {
     "name": "stdout",
     "output_type": "stream",
     "text": [
      "\n"
     ]
    },
    {
     "data": {
      "application/vnd.jupyter.widget-view+json": {
       "model_id": "f7e9b3f63a33407bb04b6043bbeb45fe",
       "version_major": 2,
       "version_minor": 0
      },
      "text/plain": [
       "HBox(children=(FloatProgress(value=0.0, max=445075.0), HTML(value='')))"
      ]
     },
     "metadata": {},
     "output_type": "display_data"
    },
    {
     "name": "stdout",
     "output_type": "stream",
     "text": [
      "\n"
     ]
    },
    {
     "data": {
      "application/vnd.jupyter.widget-view+json": {
       "model_id": "45511f6f05214cb3a2a6ce1455f4505f",
       "version_major": 2,
       "version_minor": 0
      },
      "text/plain": [
       "HBox(children=(FloatProgress(value=0.0, max=436108.0), HTML(value='')))"
      ]
     },
     "metadata": {},
     "output_type": "display_data"
    },
    {
     "name": "stdout",
     "output_type": "stream",
     "text": [
      "\n"
     ]
    },
    {
     "data": {
      "application/vnd.jupyter.widget-view+json": {
       "model_id": "aa4b3e2269734c89b04c9c2e3a2db16c",
       "version_major": 2,
       "version_minor": 0
      },
      "text/plain": [
       "HBox(children=(FloatProgress(value=0.0, max=424435.0), HTML(value='')))"
      ]
     },
     "metadata": {},
     "output_type": "display_data"
    },
    {
     "name": "stdout",
     "output_type": "stream",
     "text": [
      "\n"
     ]
    },
    {
     "data": {
      "application/vnd.jupyter.widget-view+json": {
       "model_id": "01e7d8d420cb44e882fda9670dec4e71",
       "version_major": 2,
       "version_minor": 0
      },
      "text/plain": [
       "HBox(children=(FloatProgress(value=0.0, max=367890.0), HTML(value='')))"
      ]
     },
     "metadata": {},
     "output_type": "display_data"
    },
    {
     "name": "stdout",
     "output_type": "stream",
     "text": [
      "\n"
     ]
    },
    {
     "data": {
      "application/vnd.jupyter.widget-view+json": {
       "model_id": "319edc12cfad45a3b806b182a993405e",
       "version_major": 2,
       "version_minor": 0
      },
      "text/plain": [
       "HBox(children=(FloatProgress(value=0.0, max=384777.0), HTML(value='')))"
      ]
     },
     "metadata": {},
     "output_type": "display_data"
    },
    {
     "name": "stdout",
     "output_type": "stream",
     "text": [
      "\n"
     ]
    },
    {
     "data": {
      "application/vnd.jupyter.widget-view+json": {
       "model_id": "54626c3d76cf4bc0a08a18bbd2d3a39d",
       "version_major": 2,
       "version_minor": 0
      },
      "text/plain": [
       "HBox(children=(FloatProgress(value=0.0, max=394165.0), HTML(value='')))"
      ]
     },
     "metadata": {},
     "output_type": "display_data"
    },
    {
     "name": "stdout",
     "output_type": "stream",
     "text": [
      "\n"
     ]
    },
    {
     "data": {
      "application/vnd.jupyter.widget-view+json": {
       "model_id": "7b449d72df1b453790fc62719ebc34ad",
       "version_major": 2,
       "version_minor": 0
      },
      "text/plain": [
       "HBox(children=(FloatProgress(value=0.0, max=378832.0), HTML(value='')))"
      ]
     },
     "metadata": {},
     "output_type": "display_data"
    },
    {
     "name": "stdout",
     "output_type": "stream",
     "text": [
      "\n"
     ]
    },
    {
     "data": {
      "application/vnd.jupyter.widget-view+json": {
       "model_id": "931bac26bcfc4237b0f66bd351583f9f",
       "version_major": 2,
       "version_minor": 0
      },
      "text/plain": [
       "HBox(children=(FloatProgress(value=0.0, max=383060.0), HTML(value='')))"
      ]
     },
     "metadata": {},
     "output_type": "display_data"
    },
    {
     "name": "stdout",
     "output_type": "stream",
     "text": [
      "\n"
     ]
    },
    {
     "data": {
      "application/vnd.jupyter.widget-view+json": {
       "model_id": "aae8cef117b54b87bc8c7f20a6b7ca33",
       "version_major": 2,
       "version_minor": 0
      },
      "text/plain": [
       "HBox(children=(FloatProgress(value=0.0, max=378022.0), HTML(value='')))"
      ]
     },
     "metadata": {},
     "output_type": "display_data"
    },
    {
     "name": "stdout",
     "output_type": "stream",
     "text": [
      "\n"
     ]
    },
    {
     "data": {
      "application/vnd.jupyter.widget-view+json": {
       "model_id": "4c217c36d3274b939670a6e6dafe9857",
       "version_major": 2,
       "version_minor": 0
      },
      "text/plain": [
       "HBox(children=(FloatProgress(value=0.0, max=353987.0), HTML(value='')))"
      ]
     },
     "metadata": {},
     "output_type": "display_data"
    },
    {
     "name": "stdout",
     "output_type": "stream",
     "text": [
      "\n"
     ]
    },
    {
     "data": {
      "application/vnd.jupyter.widget-view+json": {
       "model_id": "f1e04984f895487c9f5feeb10caaddf1",
       "version_major": 2,
       "version_minor": 0
      },
      "text/plain": [
       "HBox(children=(FloatProgress(value=0.0, max=367733.0), HTML(value='')))"
      ]
     },
     "metadata": {},
     "output_type": "display_data"
    },
    {
     "name": "stdout",
     "output_type": "stream",
     "text": [
      "\n"
     ]
    },
    {
     "data": {
      "application/vnd.jupyter.widget-view+json": {
       "model_id": "9b6b1228483c4bb3962a0980be40cebf",
       "version_major": 2,
       "version_minor": 0
      },
      "text/plain": [
       "HBox(children=(FloatProgress(value=0.0, max=388033.0), HTML(value='')))"
      ]
     },
     "metadata": {},
     "output_type": "display_data"
    },
    {
     "name": "stdout",
     "output_type": "stream",
     "text": [
      "Duplicates found --- 100,000\n",
      "\n"
     ]
    },
    {
     "data": {
      "application/vnd.jupyter.widget-view+json": {
       "model_id": "a90259dc8fc748eca909eafb57ba70a6",
       "version_major": 2,
       "version_minor": 0
      },
      "text/plain": [
       "HBox(children=(FloatProgress(value=0.0, max=383586.0), HTML(value='')))"
      ]
     },
     "metadata": {},
     "output_type": "display_data"
    },
    {
     "name": "stdout",
     "output_type": "stream",
     "text": [
      "\n"
     ]
    },
    {
     "data": {
      "application/vnd.jupyter.widget-view+json": {
       "model_id": "acbd33a1d9b947b3854e87ba4db014e6",
       "version_major": 2,
       "version_minor": 0
      },
      "text/plain": [
       "HBox(children=(FloatProgress(value=0.0, max=394759.0), HTML(value='')))"
      ]
     },
     "metadata": {},
     "output_type": "display_data"
    },
    {
     "name": "stdout",
     "output_type": "stream",
     "text": [
      "\n"
     ]
    },
    {
     "data": {
      "application/vnd.jupyter.widget-view+json": {
       "model_id": "8772cff07bf64ddd95fd0c0f141b4c36",
       "version_major": 2,
       "version_minor": 0
      },
      "text/plain": [
       "HBox(children=(FloatProgress(value=0.0, max=359471.0), HTML(value='')))"
      ]
     },
     "metadata": {},
     "output_type": "display_data"
    },
    {
     "name": "stdout",
     "output_type": "stream",
     "text": [
      "\n"
     ]
    },
    {
     "data": {
      "application/vnd.jupyter.widget-view+json": {
       "model_id": "6275e021d0544d1999f61c768a0edf80",
       "version_major": 2,
       "version_minor": 0
      },
      "text/plain": [
       "HBox(children=(FloatProgress(value=0.0, max=378229.0), HTML(value='')))"
      ]
     },
     "metadata": {},
     "output_type": "display_data"
    },
    {
     "name": "stdout",
     "output_type": "stream",
     "text": [
      "\n"
     ]
    },
    {
     "data": {
      "application/vnd.jupyter.widget-view+json": {
       "model_id": "448ccb92063a4b208924dcc157d52543",
       "version_major": 2,
       "version_minor": 0
      },
      "text/plain": [
       "HBox(children=(FloatProgress(value=0.0, max=372752.0), HTML(value='')))"
      ]
     },
     "metadata": {},
     "output_type": "display_data"
    },
    {
     "name": "stdout",
     "output_type": "stream",
     "text": [
      "\n"
     ]
    },
    {
     "data": {
      "application/vnd.jupyter.widget-view+json": {
       "model_id": "a838d52f50f44572bb53068e751d44d5",
       "version_major": 2,
       "version_minor": 0
      },
      "text/plain": [
       "HBox(children=(FloatProgress(value=0.0, max=386709.0), HTML(value='')))"
      ]
     },
     "metadata": {},
     "output_type": "display_data"
    },
    {
     "name": "stdout",
     "output_type": "stream",
     "text": [
      "\n"
     ]
    },
    {
     "data": {
      "application/vnd.jupyter.widget-view+json": {
       "model_id": "deb054319d1b4345b1a25bb06018aa04",
       "version_major": 2,
       "version_minor": 0
      },
      "text/plain": [
       "HBox(children=(FloatProgress(value=0.0, max=391861.0), HTML(value='')))"
      ]
     },
     "metadata": {},
     "output_type": "display_data"
    },
    {
     "name": "stdout",
     "output_type": "stream",
     "text": [
      "\n"
     ]
    },
    {
     "data": {
      "application/vnd.jupyter.widget-view+json": {
       "model_id": "35fac65d5e3a4ce08be3823e8cb52958",
       "version_major": 2,
       "version_minor": 0
      },
      "text/plain": [
       "HBox(children=(FloatProgress(value=0.0, max=381538.0), HTML(value='')))"
      ]
     },
     "metadata": {},
     "output_type": "display_data"
    },
    {
     "name": "stdout",
     "output_type": "stream",
     "text": [
      "\n"
     ]
    },
    {
     "data": {
      "application/vnd.jupyter.widget-view+json": {
       "model_id": "f4893ade1ec84076b8f5fb39c45ad063",
       "version_major": 2,
       "version_minor": 0
      },
      "text/plain": [
       "HBox(children=(FloatProgress(value=0.0, max=378517.0), HTML(value='')))"
      ]
     },
     "metadata": {},
     "output_type": "display_data"
    },
    {
     "name": "stdout",
     "output_type": "stream",
     "text": [
      "\n"
     ]
    },
    {
     "data": {
      "application/vnd.jupyter.widget-view+json": {
       "model_id": "8f8fe8881bb649bfa7c509eba545642d",
       "version_major": 2,
       "version_minor": 0
      },
      "text/plain": [
       "HBox(children=(FloatProgress(value=0.0, max=382665.0), HTML(value='')))"
      ]
     },
     "metadata": {},
     "output_type": "display_data"
    },
    {
     "name": "stdout",
     "output_type": "stream",
     "text": [
      "\n"
     ]
    },
    {
     "data": {
      "application/vnd.jupyter.widget-view+json": {
       "model_id": "874bc66e759a459f95fa16e604f3df9d",
       "version_major": 2,
       "version_minor": 0
      },
      "text/plain": [
       "HBox(children=(FloatProgress(value=0.0, max=392310.0), HTML(value='')))"
      ]
     },
     "metadata": {},
     "output_type": "display_data"
    },
    {
     "name": "stdout",
     "output_type": "stream",
     "text": [
      "\n"
     ]
    },
    {
     "data": {
      "application/vnd.jupyter.widget-view+json": {
       "model_id": "be1d91445b174ccba4cf00b7ee1731a5",
       "version_major": 2,
       "version_minor": 0
      },
      "text/plain": [
       "HBox(children=(FloatProgress(value=0.0, max=375511.0), HTML(value='')))"
      ]
     },
     "metadata": {},
     "output_type": "display_data"
    },
    {
     "name": "stdout",
     "output_type": "stream",
     "text": [
      "\n"
     ]
    },
    {
     "data": {
      "application/vnd.jupyter.widget-view+json": {
       "model_id": "52fceb114ca54489bd980539dc0c1921",
       "version_major": 2,
       "version_minor": 0
      },
      "text/plain": [
       "HBox(children=(FloatProgress(value=0.0, max=146889.0), HTML(value='')))"
      ]
     },
     "metadata": {},
     "output_type": "display_data"
    },
    {
     "name": "stdout",
     "output_type": "stream",
     "text": [
      "\n",
      "Wall time: 1h 20min 56s\n"
     ]
    }
   ],
   "source": [
    "%%time\n",
    "\n",
    "d = 0\n",
    "with open('geo_wac8_v_01.txt', 'w', encoding='utf-8') as f:\n",
    "    for chunk in pd.read_csv('geo_wac8.csv', header=None, names = ['Text'], encoding='utf-8',\n",
    "                             low_memory=True, chunksize=100000):\n",
    "        df_geo = chunk.Text.to_list()\n",
    "        geo_sents = []\n",
    "\n",
    "        for text in df_geo:\n",
    "            sents = process(text)\n",
    "            geo_sents.extend(sents)\n",
    "            geo_sents.append(['\\n'])\n",
    "\n",
    "        geo_sents = [item for sublist in geo_sents for item in sublist]\n",
    "        geo_hash = [hashes_simple(x) for x in geo_sents]\n",
    "\n",
    "        for i in tqdm(range(len(geo_hash))):\n",
    "            key = geo_hash[i]\n",
    "            if geo_sents[i] == '\\n':\n",
    "                f.write('\\n')\n",
    "            elif len(lsh.query(key)) == 0:\n",
    "                f.write(geo_sents[i] + '\\n')\n",
    "            else:\n",
    "                d += 1\n",
    "                if d % 100000 == 0:\n",
    "                    print(f'Duplicates found --- {d:,}')"
   ]
  },
  {
   "cell_type": "code",
   "execution_count": 40,
   "metadata": {},
   "outputs": [
    {
     "name": "stdout",
     "output_type": "stream",
     "text": [
      "Total duplicates in file --- 175647\n"
     ]
    }
   ],
   "source": [
    "print(f'Total duplicates in file --- {d}')"
   ]
  },
  {
   "cell_type": "markdown",
   "metadata": {},
   "source": [
    "# txt cleaning"
   ]
  },
  {
   "cell_type": "code",
   "execution_count": 18,
   "metadata": {},
   "outputs": [
    {
     "name": "stderr",
     "output_type": "stream",
     "text": [
      "100%|████████████████████████████████████████████████████████████████████████| 459405/459405 [03:18<00:00, 2310.52it/s]\n",
      "100%|████████████████████████████████████████████████████████████████████████| 591468/591468 [04:02<00:00, 2442.08it/s]\n",
      "100%|████████████████████████████████████████████████████████████████████████| 481138/481138 [03:23<00:00, 2363.38it/s]\n",
      "100%|████████████████████████████████████████████████████████████████████████| 482931/482931 [03:21<00:00, 2392.17it/s]\n",
      "100%|████████████████████████████████████████████████████████████████████████| 519032/519032 [03:34<00:00, 2420.35it/s]\n",
      "100%|████████████████████████████████████████████████████████████████████████| 474761/474761 [03:27<00:00, 2285.58it/s]\n",
      "100%|████████████████████████████████████████████████████████████████████████| 480970/480970 [03:25<00:00, 2342.59it/s]\n",
      "100%|████████████████████████████████████████████████████████████████████████| 526124/526124 [03:44<00:00, 2339.47it/s]\n"
     ]
    },
    {
     "name": "stdout",
     "output_type": "stream",
     "text": [
      "Duplicates found --- 10,000\n"
     ]
    },
    {
     "name": "stderr",
     "output_type": "stream",
     "text": [
      "100%|████████████████████████████████████████████████████████████████████████| 477348/477348 [03:20<00:00, 2383.52it/s]\n",
      "100%|████████████████████████████████████████████████████████████████████████| 486740/486740 [03:21<00:00, 2421.46it/s]\n",
      "100%|████████████████████████████████████████████████████████████████████████| 408392/408392 [02:54<00:00, 2339.14it/s]\n",
      "100%|████████████████████████████████████████████████████████████████████████| 505486/505486 [03:38<00:00, 2313.13it/s]\n",
      "100%|████████████████████████████████████████████████████████████████████████| 433758/433758 [03:02<00:00, 2372.14it/s]\n",
      "100%|████████████████████████████████████████████████████████████████████████| 478167/478167 [03:19<00:00, 2397.67it/s]\n",
      "100%|████████████████████████████████████████████████████████████████████████| 483048/483048 [03:20<00:00, 2409.39it/s]\n",
      "100%|████████████████████████████████████████████████████████████████████████| 491562/491562 [03:28<00:00, 2354.25it/s]\n"
     ]
    },
    {
     "name": "stdout",
     "output_type": "stream",
     "text": [
      "Duplicates found --- 20,000\n"
     ]
    },
    {
     "name": "stderr",
     "output_type": "stream",
     "text": [
      "100%|████████████████████████████████████████████████████████████████████████| 478494/478494 [03:28<00:00, 2291.64it/s]\n",
      "100%|████████████████████████████████████████████████████████████████████████| 491267/491267 [03:43<00:00, 2199.03it/s]\n",
      "100%|████████████████████████████████████████████████████████████████████████| 473149/473149 [03:23<00:00, 2327.00it/s]\n",
      "100%|████████████████████████████████████████████████████████████████████████| 405733/405733 [03:11<00:00, 2113.68it/s]\n",
      "100%|████████████████████████████████████████████████████████████████████████| 343461/343461 [02:35<00:00, 2210.73it/s]\n",
      "100%|████████████████████████████████████████████████████████████████████████| 518533/518533 [03:37<00:00, 2381.38it/s]\n",
      "100%|████████████████████████████████████████████████████████████████████████| 434285/434285 [03:06<00:00, 2332.36it/s]\n",
      "100%|████████████████████████████████████████████████████████████████████████| 449122/449122 [03:16<00:00, 2291.32it/s]\n"
     ]
    },
    {
     "name": "stdout",
     "output_type": "stream",
     "text": [
      "Duplicates found --- 30,000\n"
     ]
    },
    {
     "name": "stderr",
     "output_type": "stream",
     "text": [
      "100%|████████████████████████████████████████████████████████████████████████| 509364/509364 [03:40<00:00, 2310.11it/s]\n",
      "100%|████████████████████████████████████████████████████████████████████████| 551659/551659 [03:43<00:00, 2472.05it/s]\n",
      "100%|████████████████████████████████████████████████████████████████████████| 404967/404967 [02:50<00:00, 2379.16it/s]\n",
      "100%|████████████████████████████████████████████████████████████████████████| 476158/476158 [03:10<00:00, 2504.01it/s]\n",
      "100%|████████████████████████████████████████████████████████████████████████| 482241/482241 [03:13<00:00, 2489.95it/s]\n"
     ]
    },
    {
     "name": "stdout",
     "output_type": "stream",
     "text": [
      "Duplicates found --- 40,000\n"
     ]
    },
    {
     "name": "stderr",
     "output_type": "stream",
     "text": [
      "100%|████████████████████████████████████████████████████████████████████████| 514136/514136 [03:23<00:00, 2526.79it/s]\n",
      "100%|████████████████████████████████████████████████████████████████████████| 515434/515434 [03:24<00:00, 2525.53it/s]\n",
      "100%|████████████████████████████████████████████████████████████████████████| 553826/553826 [03:33<00:00, 2597.69it/s]\n",
      "100%|████████████████████████████████████████████████████████████████████████| 483543/483543 [03:07<00:00, 2584.88it/s]\n",
      "100%|████████████████████████████████████████████████████████████████████████| 476147/476147 [03:10<00:00, 2493.34it/s]\n",
      "100%|████████████████████████████████████████████████████████████████████████| 476359/476359 [03:14<00:00, 2452.02it/s]\n",
      "100%|████████████████████████████████████████████████████████████████████████| 519443/519443 [03:27<00:00, 2505.30it/s]\n",
      "100%|████████████████████████████████████████████████████████████████████████| 489072/489072 [03:21<00:00, 2424.70it/s]\n"
     ]
    },
    {
     "name": "stdout",
     "output_type": "stream",
     "text": [
      "Duplicates found --- 50,000\n"
     ]
    },
    {
     "name": "stderr",
     "output_type": "stream",
     "text": [
      "100%|████████████████████████████████████████████████████████████████████████| 450757/450757 [03:07<00:00, 2399.98it/s]\n",
      "100%|████████████████████████████████████████████████████████████████████████| 446672/446672 [03:08<00:00, 2375.87it/s]\n",
      "100%|████████████████████████████████████████████████████████████████████████| 432042/432042 [03:02<00:00, 2366.76it/s]\n",
      "100%|████████████████████████████████████████████████████████████████████████| 454153/454153 [03:04<00:00, 2465.26it/s]\n",
      "100%|████████████████████████████████████████████████████████████████████████| 488786/488786 [03:07<00:00, 2602.81it/s]\n",
      "100%|████████████████████████████████████████████████████████████████████████| 490253/490253 [02:57<00:00, 2766.15it/s]\n",
      "100%|████████████████████████████████████████████████████████████████████████| 428198/428198 [02:37<00:00, 2718.14it/s]\n",
      "100%|████████████████████████████████████████████████████████████████████████| 417040/417040 [02:36<00:00, 2656.42it/s]\n",
      "100%|██████████████████████████████████████████████████████████████████████████| 10353/10353 [00:03<00:00, 2778.71it/s]\n"
     ]
    },
    {
     "name": "stdout",
     "output_type": "stream",
     "text": [
      "Wall time: 2h 31min 28s\n"
     ]
    }
   ],
   "source": [
    "%%time\n",
    "\n",
    "d = 0\n",
    "\n",
    "def read_in_chunks_lines(file_object, chunk_size=40000000):\n",
    "    while True:\n",
    "        data = file_object.readlines(chunk_size)\n",
    "        if not data:\n",
    "            break\n",
    "        yield data\n",
    "\n",
    "with open('geo_wac6_v_09.txt', 'w', encoding='utf-8') as f:\n",
    "    with open('geo_wac6_v_08_cleaned.txt', encoding='utf-8') as f1:\n",
    "        for piece in read_in_chunks_lines(f1):\n",
    "            geo_sents = [process_txt(x) for x in piece]\n",
    "            geo_hash = [hashes_simple(x) for x in tqdm(geo_sents)]\n",
    "            for i in range(len(geo_hash)):\n",
    "                key = geo_hash[i]\n",
    "                if geo_sents[i] == '\\n':\n",
    "                    f.write('\\n')\n",
    "                elif len(lsh.query(key)) == 0:\n",
    "                    f.write(geo_sents[i] + '\\n')\n",
    "                else:\n",
    "                    d += 1\n",
    "                    if d % 10000 == 0:\n",
    "                        print(f'Duplicates found --- {d:,}')"
   ]
  },
  {
   "cell_type": "code",
   "execution_count": 19,
   "metadata": {},
   "outputs": [
    {
     "name": "stdout",
     "output_type": "stream",
     "text": [
      "Total duplicates in the file -- 58,871\n"
     ]
    }
   ],
   "source": [
    "print(f'Total duplicates in the file -- {d:,}')"
   ]
  },
  {
   "cell_type": "markdown",
   "metadata": {},
   "source": [
    "# Compute the number of words without stop-words with and without punctuation\n",
    "\n",
    "Total: 914,576,929 tokens with punctuation but without stop-words \n",
    "\n",
    "Total: 679,042,226 tokens without punctuation and without stop-words"
   ]
  },
  {
   "cell_type": "code",
   "execution_count": 5,
   "metadata": {},
   "outputs": [],
   "source": [
    "import time\n",
    "import pytz\n",
    "from datetime import datetime"
   ]
  },
  {
   "cell_type": "code",
   "execution_count": 1,
   "metadata": {},
   "outputs": [],
   "source": [
    "from spacy.lang.ru import Russian\n",
    "nlp = Russian()\n",
    "tokenizer = nlp.tokenizer"
   ]
  },
  {
   "cell_type": "code",
   "execution_count": 18,
   "metadata": {},
   "outputs": [
    {
     "name": "stdout",
     "output_type": "stream",
     "text": [
      "Current 10000184 tokens (w/o stops) with punctuation, time 14:26:53\n",
      "Current 7367015 tokens (w/o stops) without punctuation, time 14:26:53\n",
      "\n",
      "\n",
      "Current 20000246 tokens (w/o stops) with punctuation, time 14:27:58\n",
      "Current 14848526 tokens (w/o stops) without punctuation, time 14:27:58\n",
      "\n",
      "\n",
      "Current 30000054 tokens (w/o stops) with punctuation, time 14:28:56\n",
      "Current 22313159 tokens (w/o stops) without punctuation, time 14:28:56\n",
      "\n",
      "\n",
      "Current 40000743 tokens (w/o stops) with punctuation, time 14:30:04\n",
      "Current 29727063 tokens (w/o stops) without punctuation, time 14:30:04\n",
      "\n",
      "\n",
      "Current 50000693 tokens (w/o stops) with punctuation, time 14:31:08\n",
      "Current 37137184 tokens (w/o stops) without punctuation, time 14:31:08\n",
      "\n",
      "\n",
      "Current 60000513 tokens (w/o stops) with punctuation, time 14:32:08\n",
      "Current 44512651 tokens (w/o stops) without punctuation, time 14:32:08\n",
      "\n",
      "\n",
      "Current 70000593 tokens (w/o stops) with punctuation, time 14:33:02\n",
      "Current 51952056 tokens (w/o stops) without punctuation, time 14:33:02\n",
      "\n",
      "\n",
      "Current 80000648 tokens (w/o stops) with punctuation, time 14:33:54\n",
      "Current 59362360 tokens (w/o stops) without punctuation, time 14:33:54\n",
      "\n",
      "\n",
      "Current 90000729 tokens (w/o stops) with punctuation, time 14:34:48\n",
      "Current 66788471 tokens (w/o stops) without punctuation, time 14:34:48\n",
      "\n",
      "\n",
      "Current 100000143 tokens (w/o stops) with punctuation, time 14:35:42\n",
      "Current 74100652 tokens (w/o stops) without punctuation, time 14:35:42\n",
      "\n",
      "\n",
      "Current 110000291 tokens (w/o stops) with punctuation, time 14:36:37\n",
      "Current 81506655 tokens (w/o stops) without punctuation, time 14:36:37\n",
      "\n",
      "\n",
      "Current 120000163 tokens (w/o stops) with punctuation, time 14:37:26\n",
      "Current 88918151 tokens (w/o stops) without punctuation, time 14:37:26\n",
      "\n",
      "\n",
      "Current 130000758 tokens (w/o stops) with punctuation, time 14:38:15\n",
      "Current 96300450 tokens (w/o stops) without punctuation, time 14:38:15\n",
      "\n",
      "\n",
      "Current 140000568 tokens (w/o stops) with punctuation, time 14:39:01\n",
      "Current 103562388 tokens (w/o stops) without punctuation, time 14:39:01\n",
      "\n",
      "\n",
      "Current 150000162 tokens (w/o stops) with punctuation, time 14:39:45\n",
      "Current 110922399 tokens (w/o stops) without punctuation, time 14:39:45\n",
      "\n",
      "\n",
      "Current 160000096 tokens (w/o stops) with punctuation, time 14:40:31\n",
      "Current 118310889 tokens (w/o stops) without punctuation, time 14:40:31\n",
      "\n",
      "\n",
      "Current 170000180 tokens (w/o stops) with punctuation, time 14:41:16\n",
      "Current 125688973 tokens (w/o stops) without punctuation, time 14:41:16\n",
      "\n",
      "\n",
      "Current 180000413 tokens (w/o stops) with punctuation, time 14:41:57\n",
      "Current 133217751 tokens (w/o stops) without punctuation, time 14:41:57\n",
      "\n",
      "\n",
      "Current 190000223 tokens (w/o stops) with punctuation, time 14:42:44\n",
      "Current 140596243 tokens (w/o stops) without punctuation, time 14:42:44\n",
      "\n",
      "\n",
      "Current 200000801 tokens (w/o stops) with punctuation, time 14:43:31\n",
      "Current 147964772 tokens (w/o stops) without punctuation, time 14:43:31\n",
      "\n",
      "\n",
      "Current 210000398 tokens (w/o stops) with punctuation, time 14:44:15\n",
      "Current 155270300 tokens (w/o stops) without punctuation, time 14:44:15\n",
      "\n",
      "\n",
      "Current 220000636 tokens (w/o stops) with punctuation, time 14:45:00\n",
      "Current 162598680 tokens (w/o stops) without punctuation, time 14:45:00\n",
      "\n",
      "\n",
      "Current 230000888 tokens (w/o stops) with punctuation, time 14:45:45\n",
      "Current 170057459 tokens (w/o stops) without punctuation, time 14:45:45\n",
      "\n",
      "\n",
      "Current 240000197 tokens (w/o stops) with punctuation, time 14:46:27\n",
      "Current 177537017 tokens (w/o stops) without punctuation, time 14:46:27\n",
      "\n",
      "\n",
      "Current 250000471 tokens (w/o stops) with punctuation, time 14:47:08\n",
      "Current 184963005 tokens (w/o stops) without punctuation, time 14:47:08\n",
      "\n",
      "\n",
      "Current 260000249 tokens (w/o stops) with punctuation, time 14:47:48\n",
      "Current 192398491 tokens (w/o stops) without punctuation, time 14:47:48\n",
      "\n",
      "\n",
      "Current 270000798 tokens (w/o stops) with punctuation, time 14:48:31\n",
      "Current 199793081 tokens (w/o stops) without punctuation, time 14:48:31\n",
      "\n",
      "\n",
      "Current 280000564 tokens (w/o stops) with punctuation, time 14:49:12\n",
      "Current 207249202 tokens (w/o stops) without punctuation, time 14:49:12\n",
      "\n",
      "\n",
      "Current 290000338 tokens (w/o stops) with punctuation, time 14:49:53\n",
      "Current 214648885 tokens (w/o stops) without punctuation, time 14:49:53\n",
      "\n",
      "\n",
      "Current 300000169 tokens (w/o stops) with punctuation, time 14:50:36\n",
      "Current 222046277 tokens (w/o stops) without punctuation, time 14:50:36\n",
      "\n",
      "\n",
      "Current 310000022 tokens (w/o stops) with punctuation, time 14:51:22\n",
      "Current 229436702 tokens (w/o stops) without punctuation, time 14:51:22\n",
      "\n",
      "\n",
      "Current 320000290 tokens (w/o stops) with punctuation, time 14:52:09\n",
      "Current 236789356 tokens (w/o stops) without punctuation, time 14:52:09\n",
      "\n",
      "\n",
      "Current 330000614 tokens (w/o stops) with punctuation, time 14:52:55\n",
      "Current 244183589 tokens (w/o stops) without punctuation, time 14:52:55\n",
      "\n",
      "\n",
      "Current 340000150 tokens (w/o stops) with punctuation, time 14:53:41\n",
      "Current 251568840 tokens (w/o stops) without punctuation, time 14:53:41\n",
      "\n",
      "\n",
      "Current 350000029 tokens (w/o stops) with punctuation, time 14:54:22\n",
      "Current 259013932 tokens (w/o stops) without punctuation, time 14:54:22\n",
      "\n",
      "\n",
      "Current 360001031 tokens (w/o stops) with punctuation, time 14:54:57\n",
      "Current 266481763 tokens (w/o stops) without punctuation, time 14:54:57\n",
      "\n",
      "\n",
      "Current 370000477 tokens (w/o stops) with punctuation, time 14:55:34\n",
      "Current 273887771 tokens (w/o stops) without punctuation, time 14:55:34\n",
      "\n",
      "\n",
      "Current 380000491 tokens (w/o stops) with punctuation, time 14:56:10\n",
      "Current 281287293 tokens (w/o stops) without punctuation, time 14:56:10\n",
      "\n",
      "\n",
      "Current 390000321 tokens (w/o stops) with punctuation, time 14:56:46\n",
      "Current 288711468 tokens (w/o stops) without punctuation, time 14:56:46\n",
      "\n",
      "\n",
      "Current 400000861 tokens (w/o stops) with punctuation, time 14:57:23\n",
      "Current 296051486 tokens (w/o stops) without punctuation, time 14:57:23\n",
      "\n",
      "\n",
      "Current 410000375 tokens (w/o stops) with punctuation, time 14:58:03\n",
      "Current 303421170 tokens (w/o stops) without punctuation, time 14:58:03\n",
      "\n",
      "\n",
      "Current 420000848 tokens (w/o stops) with punctuation, time 14:58:43\n",
      "Current 310873733 tokens (w/o stops) without punctuation, time 14:58:43\n",
      "\n",
      "\n",
      "Current 430000219 tokens (w/o stops) with punctuation, time 14:59:28\n",
      "Current 318321249 tokens (w/o stops) without punctuation, time 14:59:28\n",
      "\n",
      "\n",
      "Current 440000426 tokens (w/o stops) with punctuation, time 15:00:09\n",
      "Current 325701634 tokens (w/o stops) without punctuation, time 15:00:09\n",
      "\n",
      "\n",
      "Current 450000290 tokens (w/o stops) with punctuation, time 15:00:53\n",
      "Current 333118222 tokens (w/o stops) without punctuation, time 15:00:53\n",
      "\n",
      "\n",
      "Current 460000587 tokens (w/o stops) with punctuation, time 15:01:41\n",
      "Current 340507591 tokens (w/o stops) without punctuation, time 15:01:41\n",
      "\n",
      "\n",
      "Current 470000487 tokens (w/o stops) with punctuation, time 15:02:29\n",
      "Current 347875158 tokens (w/o stops) without punctuation, time 15:02:29\n",
      "\n",
      "\n",
      "Current 480000408 tokens (w/o stops) with punctuation, time 15:03:14\n",
      "Current 355230469 tokens (w/o stops) without punctuation, time 15:03:14\n",
      "\n",
      "\n",
      "Current 490000940 tokens (w/o stops) with punctuation, time 15:03:58\n",
      "Current 362729429 tokens (w/o stops) without punctuation, time 15:03:58\n",
      "\n",
      "\n",
      "Current 500000524 tokens (w/o stops) with punctuation, time 15:04:44\n",
      "Current 370194036 tokens (w/o stops) without punctuation, time 15:04:44\n",
      "\n",
      "\n",
      "Current 510000196 tokens (w/o stops) with punctuation, time 15:05:28\n",
      "Current 377617150 tokens (w/o stops) without punctuation, time 15:05:28\n",
      "\n",
      "\n",
      "Current 520000383 tokens (w/o stops) with punctuation, time 15:06:13\n",
      "Current 385025416 tokens (w/o stops) without punctuation, time 15:06:13\n",
      "\n",
      "\n",
      "Current 530000751 tokens (w/o stops) with punctuation, time 15:06:59\n",
      "Current 392403904 tokens (w/o stops) without punctuation, time 15:06:59\n",
      "\n",
      "\n",
      "Current 540002610 tokens (w/o stops) with punctuation, time 15:07:43\n",
      "Current 399771805 tokens (w/o stops) without punctuation, time 15:07:43\n",
      "\n",
      "\n",
      "Current 550000162 tokens (w/o stops) with punctuation, time 15:08:27\n",
      "Current 407117244 tokens (w/o stops) without punctuation, time 15:08:27\n",
      "\n",
      "\n",
      "Current 560000052 tokens (w/o stops) with punctuation, time 15:09:11\n",
      "Current 414517528 tokens (w/o stops) without punctuation, time 15:09:11\n",
      "\n",
      "\n",
      "Current 570000450 tokens (w/o stops) with punctuation, time 15:09:55\n",
      "Current 421977330 tokens (w/o stops) without punctuation, time 15:09:55\n",
      "\n",
      "\n",
      "Current 580001270 tokens (w/o stops) with punctuation, time 15:10:39\n",
      "Current 429375783 tokens (w/o stops) without punctuation, time 15:10:39\n",
      "\n",
      "\n",
      "Current 590000044 tokens (w/o stops) with punctuation, time 15:11:23\n",
      "Current 436815693 tokens (w/o stops) without punctuation, time 15:11:23\n",
      "\n",
      "\n",
      "Current 600000586 tokens (w/o stops) with punctuation, time 15:12:07\n",
      "Current 444231291 tokens (w/o stops) without punctuation, time 15:12:07\n",
      "\n",
      "\n",
      "Current 610000629 tokens (w/o stops) with punctuation, time 15:12:51\n",
      "Current 451723406 tokens (w/o stops) without punctuation, time 15:12:51\n",
      "\n",
      "\n",
      "Current 620000725 tokens (w/o stops) with punctuation, time 15:13:31\n",
      "Current 459228208 tokens (w/o stops) without punctuation, time 15:13:31\n",
      "\n",
      "\n",
      "Current 630000629 tokens (w/o stops) with punctuation, time 15:14:08\n",
      "Current 466702612 tokens (w/o stops) without punctuation, time 15:14:08\n",
      "\n",
      "\n",
      "Current 640000244 tokens (w/o stops) with punctuation, time 15:14:44\n",
      "Current 474295667 tokens (w/o stops) without punctuation, time 15:14:44\n",
      "\n",
      "\n",
      "Current 650000012 tokens (w/o stops) with punctuation, time 15:15:21\n",
      "Current 481738749 tokens (w/o stops) without punctuation, time 15:15:21\n",
      "\n",
      "\n",
      "Current 660000893 tokens (w/o stops) with punctuation, time 15:15:55\n",
      "Current 489309913 tokens (w/o stops) without punctuation, time 15:15:55\n",
      "\n",
      "\n",
      "Current 670000617 tokens (w/o stops) with punctuation, time 15:16:30\n",
      "Current 496750403 tokens (w/o stops) without punctuation, time 15:16:30\n",
      "\n",
      "\n",
      "Current 680001218 tokens (w/o stops) with punctuation, time 15:17:05\n",
      "Current 504221854 tokens (w/o stops) without punctuation, time 15:17:05\n",
      "\n",
      "\n",
      "Current 690000169 tokens (w/o stops) with punctuation, time 15:17:39\n",
      "Current 511700729 tokens (w/o stops) without punctuation, time 15:17:39\n",
      "\n",
      "\n",
      "Current 700000533 tokens (w/o stops) with punctuation, time 15:18:14\n",
      "Current 519220034 tokens (w/o stops) without punctuation, time 15:18:14\n",
      "\n",
      "\n",
      "Current 710000067 tokens (w/o stops) with punctuation, time 15:18:51\n",
      "Current 526584248 tokens (w/o stops) without punctuation, time 15:18:51\n",
      "\n",
      "\n",
      "Current 720000080 tokens (w/o stops) with punctuation, time 15:19:25\n",
      "Current 534016092 tokens (w/o stops) without punctuation, time 15:19:25\n",
      "\n",
      "\n",
      "Current 730000288 tokens (w/o stops) with punctuation, time 15:19:59\n",
      "Current 541461826 tokens (w/o stops) without punctuation, time 15:19:59\n",
      "\n",
      "\n",
      "Current 740000516 tokens (w/o stops) with punctuation, time 15:20:33\n",
      "Current 548909196 tokens (w/o stops) without punctuation, time 15:20:33\n",
      "\n",
      "\n",
      "Current 750000076 tokens (w/o stops) with punctuation, time 15:21:07\n",
      "Current 556356992 tokens (w/o stops) without punctuation, time 15:21:07\n",
      "\n",
      "\n",
      "Current 760000594 tokens (w/o stops) with punctuation, time 15:21:41\n",
      "Current 563781570 tokens (w/o stops) without punctuation, time 15:21:41\n",
      "\n",
      "\n",
      "Current 770000749 tokens (w/o stops) with punctuation, time 15:22:14\n",
      "Current 571235261 tokens (w/o stops) without punctuation, time 15:22:14\n",
      "\n",
      "\n",
      "Current 780000049 tokens (w/o stops) with punctuation, time 15:22:51\n",
      "Current 578648990 tokens (w/o stops) without punctuation, time 15:22:51\n",
      "\n",
      "\n",
      "Current 790000117 tokens (w/o stops) with punctuation, time 15:23:25\n",
      "Current 586078974 tokens (w/o stops) without punctuation, time 15:23:25\n",
      "\n",
      "\n",
      "Current 800000240 tokens (w/o stops) with punctuation, time 15:23:58\n",
      "Current 593485333 tokens (w/o stops) without punctuation, time 15:23:58\n",
      "\n",
      "\n",
      "Current 810000227 tokens (w/o stops) with punctuation, time 15:24:31\n",
      "Current 600959035 tokens (w/o stops) without punctuation, time 15:24:31\n",
      "\n",
      "\n",
      "Current 820000809 tokens (w/o stops) with punctuation, time 15:25:04\n",
      "Current 608417320 tokens (w/o stops) without punctuation, time 15:25:04\n",
      "\n",
      "\n",
      "Current 830000931 tokens (w/o stops) with punctuation, time 15:25:38\n",
      "Current 615862420 tokens (w/o stops) without punctuation, time 15:25:38\n",
      "\n",
      "\n",
      "Current 840000507 tokens (w/o stops) with punctuation, time 15:26:11\n",
      "Current 623317839 tokens (w/o stops) without punctuation, time 15:26:11\n",
      "\n",
      "\n",
      "Current 850000121 tokens (w/o stops) with punctuation, time 15:26:44\n",
      "Current 630801969 tokens (w/o stops) without punctuation, time 15:26:44\n",
      "\n",
      "\n",
      "Current 860000621 tokens (w/o stops) with punctuation, time 15:27:17\n",
      "Current 638301179 tokens (w/o stops) without punctuation, time 15:27:17\n",
      "\n",
      "\n",
      "Current 870000367 tokens (w/o stops) with punctuation, time 15:27:50\n",
      "Current 645796830 tokens (w/o stops) without punctuation, time 15:27:50\n",
      "\n",
      "\n",
      "Current 880001053 tokens (w/o stops) with punctuation, time 15:28:25\n",
      "Current 653249112 tokens (w/o stops) without punctuation, time 15:28:25\n",
      "\n",
      "\n",
      "Current 890000560 tokens (w/o stops) with punctuation, time 15:28:58\n",
      "Current 660721576 tokens (w/o stops) without punctuation, time 15:28:58\n",
      "\n",
      "\n",
      "Current 900000370 tokens (w/o stops) with punctuation, time 15:29:31\n",
      "Current 668195236 tokens (w/o stops) without punctuation, time 15:29:31\n",
      "\n",
      "\n",
      "Current 910000583 tokens (w/o stops) with punctuation, time 15:30:05\n",
      "Current 675633535 tokens (w/o stops) without punctuation, time 15:30:05\n",
      "\n",
      "\n",
      "Total: 914576929 tokens (w/o stops) with punctuation\n",
      "Total: 679042226 tokens (w/o stops) without punctuation\n",
      "Wall time: 1h 4min 31s\n"
     ]
    }
   ],
   "source": [
    "%%time\n",
    "\n",
    "cnt_tok_punc = 0\n",
    "cnt_tok_wo_punc = 0\n",
    "i = 10000000\n",
    "\n",
    "def read_in_chunks(file_object, chunk_size=5000):\n",
    "    \"\"\"Lazy function (generator) to read a file piece by piece.\n",
    "    Default chunk size: 1k.\"\"\"\n",
    "    while True:\n",
    "        data = file_object.read(chunk_size)\n",
    "        if not data:\n",
    "            break\n",
    "        yield data\n",
    "\n",
    "\n",
    "with open('text.txt', encoding='utf-8') as f:\n",
    "    for piece in read_in_chunks(f):\n",
    "      doc = tokenizer(piece)\n",
    "      cnt_tok_punc += len([token.text for token in doc if not token.is_stop])\n",
    "      cnt_tok_wo_punc += len([token for token in doc if not token.is_stop and not token.is_punct])\n",
    "      if cnt_tok_punc > i:\n",
    "        datetime_M = datetime.now().strftime(\"%H:%M:%S\")\n",
    "        print(f'Current {cnt_tok_punc} tokens (w/o stops) with punctuation, time {datetime_M}')\n",
    "        print(f'Current {cnt_tok_wo_punc} tokens (w/o stops) without punctuation, time {datetime_M}')  \n",
    "        print('\\n')\n",
    "        i += 10000000\n",
    "\n",
    "print(f'Total: {cnt_tok_punc} tokens (w/o stops) with punctuation')\n",
    "print(f'Total: {cnt_tok_wo_punc} tokens (w/o stops) without punctuation')  "
   ]
  },
  {
   "cell_type": "markdown",
   "metadata": {},
   "source": [
    "# Compute the number of words with and without punctuation\n",
    "\n",
    "\n",
    "Total: 1,044,197,175 tokens with punctuation\n",
    "\n",
    "Total: 808,662,472 tokens without punctuation"
   ]
  },
  {
   "cell_type": "code",
   "execution_count": 8,
   "metadata": {
    "tags": [
     "outputPrepend"
    ]
   },
   "outputs": [
    {
     "name": "stdout",
     "output_type": "stream",
     "text": [
      "ent 926000475 tokens with punctuation, time 2021-04-16 20:56:11.580188+03:00\n",
      "Current 716505997 tokens without punctuation, time 2021-04-16 20:56:11.580188+03:00\n",
      "\n",
      "\n",
      "Current 927000015 tokens with punctuation, time 2021-04-16 20:56:14.130295+03:00\n",
      "Current 717283578 tokens without punctuation, time 2021-04-16 20:56:14.130295+03:00\n",
      "\n",
      "\n",
      "Current 928000571 tokens with punctuation, time 2021-04-16 20:56:16.709778+03:00\n",
      "Current 718066381 tokens without punctuation, time 2021-04-16 20:56:16.709778+03:00\n",
      "\n",
      "\n",
      "Current 929000307 tokens with punctuation, time 2021-04-16 20:56:19.310778+03:00\n",
      "Current 718839303 tokens without punctuation, time 2021-04-16 20:56:19.310778+03:00\n",
      "\n",
      "\n",
      "Current 930000602 tokens with punctuation, time 2021-04-16 20:56:21.883807+03:00\n",
      "Current 719618600 tokens without punctuation, time 2021-04-16 20:56:21.883807+03:00\n",
      "\n",
      "\n",
      "Current 931000446 tokens with punctuation, time 2021-04-16 20:56:24.444839+03:00\n",
      "Current 720409414 tokens without punctuation, time 2021-04-16 20:56:24.444839+03:00\n",
      "\n",
      "\n",
      "Current 932000739 tokens with punctuation, time 2021-04-16 20:56:26.949918+03:00\n",
      "Current 721194017 tokens without punctuation, time 2021-04-16 20:56:26.949918+03:00\n",
      "\n",
      "\n",
      "Current 933000115 tokens with punctuation, time 2021-04-16 20:56:29.541318+03:00\n",
      "Current 721977068 tokens without punctuation, time 2021-04-16 20:56:29.541318+03:00\n",
      "\n",
      "\n",
      "Current 934000880 tokens with punctuation, time 2021-04-16 20:56:32.194957+03:00\n",
      "Current 722751046 tokens without punctuation, time 2021-04-16 20:56:32.194957+03:00\n",
      "\n",
      "\n",
      "Current 935000487 tokens with punctuation, time 2021-04-16 20:56:34.766335+03:00\n",
      "Current 723523805 tokens without punctuation, time 2021-04-16 20:56:34.766335+03:00\n",
      "\n",
      "\n",
      "Current 936000082 tokens with punctuation, time 2021-04-16 20:56:37.425077+03:00\n",
      "Current 724295217 tokens without punctuation, time 2021-04-16 20:56:37.425077+03:00\n",
      "\n",
      "\n",
      "Current 937000463 tokens with punctuation, time 2021-04-16 20:56:39.982079+03:00\n",
      "Current 725068415 tokens without punctuation, time 2021-04-16 20:56:39.982079+03:00\n",
      "\n",
      "\n",
      "Current 938000313 tokens with punctuation, time 2021-04-16 20:56:42.688301+03:00\n",
      "Current 725841530 tokens without punctuation, time 2021-04-16 20:56:42.688301+03:00\n",
      "\n",
      "\n",
      "Current 939000343 tokens with punctuation, time 2021-04-16 20:56:45.232271+03:00\n",
      "Current 726624938 tokens without punctuation, time 2021-04-16 20:56:45.232271+03:00\n",
      "\n",
      "\n",
      "Current 940000247 tokens with punctuation, time 2021-04-16 20:56:47.896609+03:00\n",
      "Current 727396121 tokens without punctuation, time 2021-04-16 20:56:47.896609+03:00\n",
      "\n",
      "\n",
      "Current 941000593 tokens with punctuation, time 2021-04-16 20:56:50.453644+03:00\n",
      "Current 728179637 tokens without punctuation, time 2021-04-16 20:56:50.453644+03:00\n",
      "\n",
      "\n",
      "Current 942000601 tokens with punctuation, time 2021-04-16 20:56:53.129714+03:00\n",
      "Current 728956611 tokens without punctuation, time 2021-04-16 20:56:53.129714+03:00\n",
      "\n",
      "\n",
      "Current 943000443 tokens with punctuation, time 2021-04-16 20:56:55.808686+03:00\n",
      "Current 729732570 tokens without punctuation, time 2021-04-16 20:56:55.808686+03:00\n",
      "\n",
      "\n",
      "Current 944000747 tokens with punctuation, time 2021-04-16 20:56:58.417715+03:00\n",
      "Current 730509445 tokens without punctuation, time 2021-04-16 20:56:58.417715+03:00\n",
      "\n",
      "\n",
      "Current 945000838 tokens with punctuation, time 2021-04-16 20:57:01.041765+03:00\n",
      "Current 731279417 tokens without punctuation, time 2021-04-16 20:57:01.041765+03:00\n",
      "\n",
      "\n",
      "Current 946000400 tokens with punctuation, time 2021-04-16 20:57:03.653912+03:00\n",
      "Current 732056485 tokens without punctuation, time 2021-04-16 20:57:03.653912+03:00\n",
      "\n",
      "\n",
      "Current 947000104 tokens with punctuation, time 2021-04-16 20:57:06.190696+03:00\n",
      "Current 732836234 tokens without punctuation, time 2021-04-16 20:57:06.190696+03:00\n",
      "\n",
      "\n",
      "Current 948000449 tokens with punctuation, time 2021-04-16 20:57:08.803729+03:00\n",
      "Current 733620199 tokens without punctuation, time 2021-04-16 20:57:08.803729+03:00\n",
      "\n",
      "\n",
      "Current 949000335 tokens with punctuation, time 2021-04-16 20:57:11.586725+03:00\n",
      "Current 734397427 tokens without punctuation, time 2021-04-16 20:57:11.586725+03:00\n",
      "\n",
      "\n",
      "Current 950000592 tokens with punctuation, time 2021-04-16 20:57:14.156730+03:00\n",
      "Current 735175057 tokens without punctuation, time 2021-04-16 20:57:14.156730+03:00\n",
      "\n",
      "\n",
      "Current 951000204 tokens with punctuation, time 2021-04-16 20:57:16.858729+03:00\n",
      "Current 735945666 tokens without punctuation, time 2021-04-16 20:57:16.858729+03:00\n",
      "\n",
      "\n",
      "Current 952000279 tokens with punctuation, time 2021-04-16 20:57:19.535823+03:00\n",
      "Current 736728215 tokens without punctuation, time 2021-04-16 20:57:19.535823+03:00\n",
      "\n",
      "\n",
      "Current 953000243 tokens with punctuation, time 2021-04-16 20:57:22.076861+03:00\n",
      "Current 737506404 tokens without punctuation, time 2021-04-16 20:57:22.076861+03:00\n",
      "\n",
      "\n",
      "Current 954000204 tokens with punctuation, time 2021-04-16 20:57:24.692829+03:00\n",
      "Current 738282309 tokens without punctuation, time 2021-04-16 20:57:24.692829+03:00\n",
      "\n",
      "\n",
      "Current 955000674 tokens with punctuation, time 2021-04-16 20:57:27.251483+03:00\n",
      "Current 739058698 tokens without punctuation, time 2021-04-16 20:57:27.251483+03:00\n",
      "\n",
      "\n",
      "Current 956000562 tokens with punctuation, time 2021-04-16 20:57:29.732511+03:00\n",
      "Current 739837311 tokens without punctuation, time 2021-04-16 20:57:29.732511+03:00\n",
      "\n",
      "\n",
      "Current 957000437 tokens with punctuation, time 2021-04-16 20:57:32.238581+03:00\n",
      "Current 740609572 tokens without punctuation, time 2021-04-16 20:57:32.238581+03:00\n",
      "\n",
      "\n",
      "Current 958000740 tokens with punctuation, time 2021-04-16 20:57:34.816626+03:00\n",
      "Current 741390902 tokens without punctuation, time 2021-04-16 20:57:34.816626+03:00\n",
      "\n",
      "\n",
      "Current 959000810 tokens with punctuation, time 2021-04-16 20:57:37.342218+03:00\n",
      "Current 742171052 tokens without punctuation, time 2021-04-16 20:57:37.342218+03:00\n",
      "\n",
      "\n",
      "Current 960000711 tokens with punctuation, time 2021-04-16 20:57:39.822216+03:00\n",
      "Current 742951041 tokens without punctuation, time 2021-04-16 20:57:39.822216+03:00\n",
      "\n",
      "\n",
      "Current 961000224 tokens with punctuation, time 2021-04-16 20:57:42.315303+03:00\n",
      "Current 743732529 tokens without punctuation, time 2021-04-16 20:57:42.315303+03:00\n",
      "\n",
      "\n",
      "Current 962000342 tokens with punctuation, time 2021-04-16 20:57:44.807396+03:00\n",
      "Current 744521780 tokens without punctuation, time 2021-04-16 20:57:44.807396+03:00\n",
      "\n",
      "\n",
      "Current 963000195 tokens with punctuation, time 2021-04-16 20:57:47.369269+03:00\n",
      "Current 745299646 tokens without punctuation, time 2021-04-16 20:57:47.369269+03:00\n",
      "\n",
      "\n",
      "Current 964000771 tokens with punctuation, time 2021-04-16 20:57:49.939011+03:00\n",
      "Current 746079827 tokens without punctuation, time 2021-04-16 20:57:49.939011+03:00\n",
      "\n",
      "\n",
      "Current 965000789 tokens with punctuation, time 2021-04-16 20:57:52.560386+03:00\n",
      "Current 746857498 tokens without punctuation, time 2021-04-16 20:57:52.560386+03:00\n",
      "\n",
      "\n",
      "Current 966001443 tokens with punctuation, time 2021-04-16 20:57:55.022960+03:00\n",
      "Current 747638304 tokens without punctuation, time 2021-04-16 20:57:55.022960+03:00\n",
      "\n",
      "\n",
      "Current 967000106 tokens with punctuation, time 2021-04-16 20:57:57.509960+03:00\n",
      "Current 748415535 tokens without punctuation, time 2021-04-16 20:57:57.509960+03:00\n",
      "\n",
      "\n",
      "Current 968000227 tokens with punctuation, time 2021-04-16 20:57:59.948079+03:00\n",
      "Current 749199515 tokens without punctuation, time 2021-04-16 20:57:59.948079+03:00\n",
      "\n",
      "\n",
      "Current 969000059 tokens with punctuation, time 2021-04-16 20:58:02.541129+03:00\n",
      "Current 749979588 tokens without punctuation, time 2021-04-16 20:58:02.541129+03:00\n",
      "\n",
      "\n",
      "Current 970000638 tokens with punctuation, time 2021-04-16 20:58:05.090094+03:00\n",
      "Current 750756558 tokens without punctuation, time 2021-04-16 20:58:05.090094+03:00\n",
      "\n",
      "\n",
      "Current 971000099 tokens with punctuation, time 2021-04-16 20:58:07.625670+03:00\n",
      "Current 751537962 tokens without punctuation, time 2021-04-16 20:58:07.625670+03:00\n",
      "\n",
      "\n",
      "Current 972000112 tokens with punctuation, time 2021-04-16 20:58:10.138465+03:00\n",
      "Current 752326991 tokens without punctuation, time 2021-04-16 20:58:10.138465+03:00\n",
      "\n",
      "\n",
      "Current 973000192 tokens with punctuation, time 2021-04-16 20:58:12.701587+03:00\n",
      "Current 753111018 tokens without punctuation, time 2021-04-16 20:58:12.701587+03:00\n",
      "\n",
      "\n",
      "Current 974000718 tokens with punctuation, time 2021-04-16 20:58:15.225555+03:00\n",
      "Current 753895782 tokens without punctuation, time 2021-04-16 20:58:15.225555+03:00\n",
      "\n",
      "\n",
      "Current 975000660 tokens with punctuation, time 2021-04-16 20:58:17.707732+03:00\n",
      "Current 754684157 tokens without punctuation, time 2021-04-16 20:58:17.707732+03:00\n",
      "\n",
      "\n",
      "Current 976000467 tokens with punctuation, time 2021-04-16 20:58:20.220687+03:00\n",
      "Current 755465420 tokens without punctuation, time 2021-04-16 20:58:20.220687+03:00\n",
      "\n",
      "\n",
      "Current 977000121 tokens with punctuation, time 2021-04-16 20:58:22.724357+03:00\n",
      "Current 756248282 tokens without punctuation, time 2021-04-16 20:58:22.724357+03:00\n",
      "\n",
      "\n",
      "Current 978000328 tokens with punctuation, time 2021-04-16 20:58:25.190400+03:00\n",
      "Current 757034713 tokens without punctuation, time 2021-04-16 20:58:25.190400+03:00\n",
      "\n",
      "\n",
      "Current 979000206 tokens with punctuation, time 2021-04-16 20:58:27.853474+03:00\n",
      "Current 757812793 tokens without punctuation, time 2021-04-16 20:58:27.853474+03:00\n",
      "\n",
      "\n",
      "Current 980000293 tokens with punctuation, time 2021-04-16 20:58:30.345518+03:00\n",
      "Current 758597281 tokens without punctuation, time 2021-04-16 20:58:30.345518+03:00\n",
      "\n",
      "\n",
      "Current 981000399 tokens with punctuation, time 2021-04-16 20:58:32.953516+03:00\n",
      "Current 759374496 tokens without punctuation, time 2021-04-16 20:58:32.953516+03:00\n",
      "\n",
      "\n",
      "Current 982000412 tokens with punctuation, time 2021-04-16 20:58:35.695604+03:00\n",
      "Current 760150528 tokens without punctuation, time 2021-04-16 20:58:35.695604+03:00\n",
      "\n",
      "\n",
      "Current 983000242 tokens with punctuation, time 2021-04-16 20:58:38.323638+03:00\n",
      "Current 760938804 tokens without punctuation, time 2021-04-16 20:58:38.323638+03:00\n",
      "\n",
      "\n",
      "Current 984000241 tokens with punctuation, time 2021-04-16 20:58:40.777072+03:00\n",
      "Current 761720693 tokens without punctuation, time 2021-04-16 20:58:40.777072+03:00\n",
      "\n",
      "\n",
      "Current 985000874 tokens with punctuation, time 2021-04-16 20:58:43.312115+03:00\n",
      "Current 762506715 tokens without punctuation, time 2021-04-16 20:58:43.312115+03:00\n",
      "\n",
      "\n",
      "Current 986000327 tokens with punctuation, time 2021-04-16 20:58:45.872987+03:00\n",
      "Current 763289512 tokens without punctuation, time 2021-04-16 20:58:45.872987+03:00\n",
      "\n",
      "\n",
      "Current 987000171 tokens with punctuation, time 2021-04-16 20:58:48.471746+03:00\n",
      "Current 764072477 tokens without punctuation, time 2021-04-16 20:58:48.471746+03:00\n",
      "\n",
      "\n",
      "Current 988000054 tokens with punctuation, time 2021-04-16 20:58:51.016819+03:00\n",
      "Current 764856826 tokens without punctuation, time 2021-04-16 20:58:51.016819+03:00\n",
      "\n",
      "\n",
      "Current 989000597 tokens with punctuation, time 2021-04-16 20:58:53.612585+03:00\n",
      "Current 765637996 tokens without punctuation, time 2021-04-16 20:58:53.612585+03:00\n",
      "\n",
      "\n",
      "Current 990000414 tokens with punctuation, time 2021-04-16 20:58:56.104186+03:00\n",
      "Current 766426780 tokens without punctuation, time 2021-04-16 20:58:56.104186+03:00\n",
      "\n",
      "\n",
      "Current 991000545 tokens with punctuation, time 2021-04-16 20:58:58.640352+03:00\n",
      "Current 767216156 tokens without punctuation, time 2021-04-16 20:58:58.640352+03:00\n",
      "\n",
      "\n",
      "Current 992000052 tokens with punctuation, time 2021-04-16 20:59:01.029861+03:00\n",
      "Current 767993641 tokens without punctuation, time 2021-04-16 20:59:01.029861+03:00\n",
      "\n",
      "\n",
      "Current 993000215 tokens with punctuation, time 2021-04-16 20:59:03.689931+03:00\n",
      "Current 768771146 tokens without punctuation, time 2021-04-16 20:59:03.689931+03:00\n",
      "\n",
      "\n",
      "Current 994000027 tokens with punctuation, time 2021-04-16 20:59:06.890936+03:00\n",
      "Current 769552773 tokens without punctuation, time 2021-04-16 20:59:06.890936+03:00\n",
      "\n",
      "\n",
      "Current 995000787 tokens with punctuation, time 2021-04-16 20:59:09.496988+03:00\n",
      "Current 770332758 tokens without punctuation, time 2021-04-16 20:59:09.496988+03:00\n",
      "\n",
      "\n",
      "Current 996000617 tokens with punctuation, time 2021-04-16 20:59:12.120989+03:00\n",
      "Current 771109808 tokens without punctuation, time 2021-04-16 20:59:12.120989+03:00\n",
      "\n",
      "\n",
      "Current 997000727 tokens with punctuation, time 2021-04-16 20:59:14.687615+03:00\n",
      "Current 771898163 tokens without punctuation, time 2021-04-16 20:59:14.687615+03:00\n",
      "\n",
      "\n",
      "Current 998000524 tokens with punctuation, time 2021-04-16 20:59:17.275266+03:00\n",
      "Current 772676216 tokens without punctuation, time 2021-04-16 20:59:17.275266+03:00\n",
      "\n",
      "\n",
      "Current 999000497 tokens with punctuation, time 2021-04-16 20:59:19.796403+03:00\n",
      "Current 773455444 tokens without punctuation, time 2021-04-16 20:59:19.796403+03:00\n",
      "\n",
      "\n",
      "Current 1000000410 tokens with punctuation, time 2021-04-16 20:59:22.359105+03:00\n",
      "Current 774222171 tokens without punctuation, time 2021-04-16 20:59:22.359105+03:00\n",
      "\n",
      "\n",
      "Current 1001000696 tokens with punctuation, time 2021-04-16 20:59:24.897793+03:00\n",
      "Current 774999470 tokens without punctuation, time 2021-04-16 20:59:24.897793+03:00\n",
      "\n",
      "\n",
      "Current 1002000210 tokens with punctuation, time 2021-04-16 20:59:27.472836+03:00\n",
      "Current 775776186 tokens without punctuation, time 2021-04-16 20:59:27.472836+03:00\n",
      "\n",
      "\n",
      "Current 1003000624 tokens with punctuation, time 2021-04-16 20:59:29.953414+03:00\n",
      "Current 776566784 tokens without punctuation, time 2021-04-16 20:59:29.953414+03:00\n",
      "\n",
      "\n",
      "Current 1004000405 tokens with punctuation, time 2021-04-16 20:59:32.536150+03:00\n",
      "Current 777340137 tokens without punctuation, time 2021-04-16 20:59:32.536150+03:00\n",
      "\n",
      "\n",
      "Current 1005000385 tokens with punctuation, time 2021-04-16 20:59:35.035192+03:00\n",
      "Current 778120251 tokens without punctuation, time 2021-04-16 20:59:35.035192+03:00\n",
      "\n",
      "\n",
      "Current 1006000325 tokens with punctuation, time 2021-04-16 20:59:37.551899+03:00\n",
      "Current 778901574 tokens without punctuation, time 2021-04-16 20:59:37.551899+03:00\n",
      "\n",
      "\n",
      "Current 1007000460 tokens with punctuation, time 2021-04-16 20:59:40.137055+03:00\n",
      "Current 779674157 tokens without punctuation, time 2021-04-16 20:59:40.137055+03:00\n",
      "\n",
      "\n",
      "Current 1008000246 tokens with punctuation, time 2021-04-16 20:59:42.591099+03:00\n",
      "Current 780447750 tokens without punctuation, time 2021-04-16 20:59:42.591099+03:00\n",
      "\n",
      "\n",
      "Current 1009000685 tokens with punctuation, time 2021-04-16 20:59:45.075254+03:00\n",
      "Current 781234589 tokens without punctuation, time 2021-04-16 20:59:45.075254+03:00\n",
      "\n",
      "\n",
      "Current 1010000413 tokens with punctuation, time 2021-04-16 20:59:47.575805+03:00\n",
      "Current 782012658 tokens without punctuation, time 2021-04-16 20:59:47.575805+03:00\n",
      "\n",
      "\n",
      "Current 1011000290 tokens with punctuation, time 2021-04-16 20:59:50.036853+03:00\n",
      "Current 782794311 tokens without punctuation, time 2021-04-16 20:59:50.036853+03:00\n",
      "\n",
      "\n",
      "Current 1012000292 tokens with punctuation, time 2021-04-16 20:59:52.513514+03:00\n",
      "Current 783567842 tokens without punctuation, time 2021-04-16 20:59:52.513514+03:00\n",
      "\n",
      "\n",
      "Current 1013000088 tokens with punctuation, time 2021-04-16 20:59:55.061722+03:00\n",
      "Current 784359517 tokens without punctuation, time 2021-04-16 20:59:55.061722+03:00\n",
      "\n",
      "\n",
      "Current 1014000383 tokens with punctuation, time 2021-04-16 20:59:57.718364+03:00\n",
      "Current 785136223 tokens without punctuation, time 2021-04-16 20:59:57.718364+03:00\n",
      "\n",
      "\n",
      "Current 1015000732 tokens with punctuation, time 2021-04-16 21:00:00.288492+03:00\n",
      "Current 785919489 tokens without punctuation, time 2021-04-16 21:00:00.288492+03:00\n",
      "\n",
      "\n",
      "Current 1016000044 tokens with punctuation, time 2021-04-16 21:00:02.907776+03:00\n",
      "Current 786700688 tokens without punctuation, time 2021-04-16 21:00:02.907776+03:00\n",
      "\n",
      "\n",
      "Current 1017000390 tokens with punctuation, time 2021-04-16 21:00:05.391395+03:00\n",
      "Current 787480600 tokens without punctuation, time 2021-04-16 21:00:05.391395+03:00\n",
      "\n",
      "\n",
      "Current 1018000779 tokens with punctuation, time 2021-04-16 21:00:07.925395+03:00\n",
      "Current 788261732 tokens without punctuation, time 2021-04-16 21:00:07.925395+03:00\n",
      "\n",
      "\n",
      "Current 1019000277 tokens with punctuation, time 2021-04-16 21:00:10.372747+03:00\n",
      "Current 789052727 tokens without punctuation, time 2021-04-16 21:00:10.372747+03:00\n",
      "\n",
      "\n",
      "Current 1020000192 tokens with punctuation, time 2021-04-16 21:00:12.981991+03:00\n",
      "Current 789833332 tokens without punctuation, time 2021-04-16 21:00:12.981991+03:00\n",
      "\n",
      "\n",
      "Current 1021000556 tokens with punctuation, time 2021-04-16 21:00:15.478572+03:00\n",
      "Current 790619822 tokens without punctuation, time 2021-04-16 21:00:15.478572+03:00\n",
      "\n",
      "\n",
      "Current 1022000203 tokens with punctuation, time 2021-04-16 21:00:17.963698+03:00\n",
      "Current 791400066 tokens without punctuation, time 2021-04-16 21:00:17.963698+03:00\n",
      "\n",
      "\n",
      "Current 1023000793 tokens with punctuation, time 2021-04-16 21:00:20.446754+03:00\n",
      "Current 792183127 tokens without punctuation, time 2021-04-16 21:00:20.446754+03:00\n",
      "\n",
      "\n",
      "Current 1024000452 tokens with punctuation, time 2021-04-16 21:00:22.897784+03:00\n",
      "Current 792962329 tokens without punctuation, time 2021-04-16 21:00:22.897784+03:00\n",
      "\n",
      "\n",
      "Current 1025000719 tokens with punctuation, time 2021-04-16 21:00:25.453869+03:00\n",
      "Current 793735242 tokens without punctuation, time 2021-04-16 21:00:25.453869+03:00\n",
      "\n",
      "\n",
      "Current 1026000761 tokens with punctuation, time 2021-04-16 21:00:27.930869+03:00\n",
      "Current 794515867 tokens without punctuation, time 2021-04-16 21:00:27.930869+03:00\n",
      "\n",
      "\n",
      "Current 1027000928 tokens with punctuation, time 2021-04-16 21:00:30.398909+03:00\n",
      "Current 795293297 tokens without punctuation, time 2021-04-16 21:00:30.398909+03:00\n",
      "\n",
      "\n",
      "Current 1028000778 tokens with punctuation, time 2021-04-16 21:00:32.936505+03:00\n",
      "Current 796072600 tokens without punctuation, time 2021-04-16 21:00:32.936505+03:00\n",
      "\n",
      "\n",
      "Current 1029000211 tokens with punctuation, time 2021-04-16 21:00:35.373505+03:00\n",
      "Current 796853289 tokens without punctuation, time 2021-04-16 21:00:35.373505+03:00\n",
      "\n",
      "\n",
      "Current 1030000791 tokens with punctuation, time 2021-04-16 21:00:37.886517+03:00\n",
      "Current 797635936 tokens without punctuation, time 2021-04-16 21:00:37.886517+03:00\n",
      "\n",
      "\n",
      "Current 1031000017 tokens with punctuation, time 2021-04-16 21:00:40.372602+03:00\n",
      "Current 798418714 tokens without punctuation, time 2021-04-16 21:00:40.372602+03:00\n",
      "\n",
      "\n",
      "Current 1032000773 tokens with punctuation, time 2021-04-16 21:00:42.910673+03:00\n",
      "Current 799198137 tokens without punctuation, time 2021-04-16 21:00:42.910673+03:00\n",
      "\n",
      "\n",
      "Current 1033000709 tokens with punctuation, time 2021-04-16 21:00:45.457759+03:00\n",
      "Current 799977001 tokens without punctuation, time 2021-04-16 21:00:45.457759+03:00\n",
      "\n",
      "\n",
      "Current 1034000656 tokens with punctuation, time 2021-04-16 21:00:47.968104+03:00\n",
      "Current 800757667 tokens without punctuation, time 2021-04-16 21:00:47.968104+03:00\n",
      "\n",
      "\n",
      "Current 1035000238 tokens with punctuation, time 2021-04-16 21:00:50.641551+03:00\n",
      "Current 801527050 tokens without punctuation, time 2021-04-16 21:00:50.641551+03:00\n",
      "\n",
      "\n",
      "Current 1036000203 tokens with punctuation, time 2021-04-16 21:00:53.089592+03:00\n",
      "Current 802298906 tokens without punctuation, time 2021-04-16 21:00:53.089592+03:00\n",
      "\n",
      "\n",
      "Current 1037000400 tokens with punctuation, time 2021-04-16 21:00:55.637591+03:00\n",
      "Current 803074017 tokens without punctuation, time 2021-04-16 21:00:55.637591+03:00\n",
      "\n",
      "\n",
      "Current 1038000664 tokens with punctuation, time 2021-04-16 21:00:58.152537+03:00\n",
      "Current 803843971 tokens without punctuation, time 2021-04-16 21:00:58.152537+03:00\n",
      "\n",
      "\n",
      "Current 1039000102 tokens with punctuation, time 2021-04-16 21:01:00.766507+03:00\n",
      "Current 804614629 tokens without punctuation, time 2021-04-16 21:01:00.766507+03:00\n",
      "\n",
      "\n",
      "Current 1040000807 tokens with punctuation, time 2021-04-16 21:01:03.311775+03:00\n",
      "Current 805386756 tokens without punctuation, time 2021-04-16 21:01:03.311775+03:00\n",
      "\n",
      "\n",
      "Current 1041000363 tokens with punctuation, time 2021-04-16 21:01:05.826816+03:00\n",
      "Current 806167740 tokens without punctuation, time 2021-04-16 21:01:05.826816+03:00\n",
      "\n",
      "\n",
      "Current 1042000571 tokens with punctuation, time 2021-04-16 21:01:08.290231+03:00\n",
      "Current 806948527 tokens without punctuation, time 2021-04-16 21:01:08.290231+03:00\n",
      "\n",
      "\n",
      "Current 1043000538 tokens with punctuation, time 2021-04-16 21:01:10.822085+03:00\n",
      "Current 807722865 tokens without punctuation, time 2021-04-16 21:01:10.822085+03:00\n",
      "\n",
      "\n",
      "Current 1044000318 tokens with punctuation, time 2021-04-16 21:01:13.326055+03:00\n",
      "Current 808507654 tokens without punctuation, time 2021-04-16 21:01:13.326055+03:00\n",
      "\n",
      "\n",
      "Total: 1044197175 tokens with punctuation\n",
      "Total: 808662472 tokens without punctuation\n"
     ]
    }
   ],
   "source": [
    "%%time\n",
    "\n",
    "cnt_tok_punc = 0\n",
    "cnt_tok_wo_punc = 0\n",
    "i = 1000000\n",
    "\n",
    "def read_in_chunks(file_object, chunk_size=5000):\n",
    "    \"\"\"Lazy function (generator) to read a file piece by piece.\n",
    "    Default chunk size: 1k.\"\"\"\n",
    "    while True:\n",
    "        data = file_object.read(chunk_size)\n",
    "        if not data:\n",
    "            break\n",
    "        yield data\n",
    "\n",
    "\n",
    "with open('text.txt', encoding='utf-8') as f:\n",
    "    for piece in read_in_chunks(f):\n",
    "      doc = tokenizer(piece)\n",
    "      cnt_tok_punc += len([w.text for w in doc])\n",
    "      cnt_tok_wo_punc += len([token for token in doc if not token.is_punct])\n",
    "      if cnt_tok_punc > i:\n",
    "        datetime_M = datetime.now().strftime(\"%H:%M:%S\")\n",
    "        print(f'Current {cnt_tok_punc} tokens with punctuation, time {datetime_M}')\n",
    "        print(f'Current {cnt_tok_wo_punc} tokens without punctuation, time {datetime_M}')  \n",
    "        print('\\n')\n",
    "        i += 1000000\n",
    "\n",
    "print(f'Total: {cnt_tok_punc} tokens with punctuation')\n",
    "print(f'Total: {cnt_tok_wo_punc} tokens without punctuation')  "
   ]
  }
 ],
 "metadata": {
  "kernelspec": {
   "display_name": "Python 3",
   "language": "python",
   "name": "python3"
  },
  "language_info": {
   "codemirror_mode": {
    "name": "ipython",
    "version": 3
   },
   "file_extension": ".py",
   "mimetype": "text/x-python",
   "name": "python",
   "nbconvert_exporter": "python",
   "pygments_lexer": "ipython3",
   "version": "3.6.8"
  }
 },
 "nbformat": 4,
 "nbformat_minor": 4
}
