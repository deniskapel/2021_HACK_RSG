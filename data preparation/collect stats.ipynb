{
 "cells": [
  {
   "cell_type": "code",
   "execution_count": 1,
   "metadata": {},
   "outputs": [],
   "source": [
    "from spacy.lang.ru import Russian\n",
    "import pandas as pd"
   ]
  },
  {
   "cell_type": "code",
   "execution_count": null,
   "metadata": {},
   "outputs": [],
   "source": [
    "nlp = Russian()\n",
    "nlp.add_pipe('sentencizer')"
   ]
  },
  {
   "cell_type": "code",
   "execution_count": 2,
   "metadata": {},
   "outputs": [],
   "source": [
    "rus = Russian()\n",
    "tokenizer = rus.tokenizer"
   ]
  },
  {
   "cell_type": "code",
   "execution_count": 3,
   "metadata": {},
   "outputs": [],
   "source": [
    "def process_txt(x):\n",
    "    if x != '\\n':\n",
    "        x = x.replace('\\n', '')\n",
    "        return x"
   ]
  },
  {
   "cell_type": "code",
   "execution_count": 3,
   "metadata": {},
   "outputs": [],
   "source": [
    "def process(section):\n",
    "    res = []\n",
    "    doc = nlp(section)\n",
    "    for sent in doc.sents:\n",
    "        sent = str(sent)\n",
    "        x = sent.replace('\\n', '')\n",
    "        if x:\n",
    "            res.append([x])\n",
    "    return res"
   ]
  },
  {
   "cell_type": "code",
   "execution_count": 4,
   "metadata": {},
   "outputs": [],
   "source": [
    "def read_in_chunks_lines(file_object, chunk_size=5000000):\n",
    "    \"\"\"Lazy function (generator) to read a file piece by piece.\n",
    "    Default chunk size: 1k.\"\"\"\n",
    "    while True:\n",
    "        data = file_object.readlines(chunk_size)\n",
    "        if not data:\n",
    "            break\n",
    "        yield data"
   ]
  },
  {
   "cell_type": "code",
   "execution_count": 9,
   "metadata": {},
   "outputs": [
    {
     "name": "stdout",
     "output_type": "stream",
     "text": [
      "Subtotal: 19440995 sentences before deduplication\n",
      "Subtotal: 323572103 words before deduplication\n",
      "Subtotal: 268214037 tokens without punctuation\n",
      "Subtotal: 244854196 tokens without stops\n",
      "Subtotal: 189496130 tokens without stops and punctuation\n",
      "Wall time: 1h 32min 15s\n"
     ]
    }
   ],
   "source": [
    "%%time\n",
    "words = 0\n",
    "sents = 0\n",
    "words_wo_punct = 0\n",
    "words_wo_stops = 0\n",
    "words_wo_stops_punct = 0\n",
    "\n",
    "for chunk in pd.read_csv('Исходники\\geo_wac1.csv', header=None, names = ['Text'], encoding='utf-8',\n",
    "                             low_memory=True, chunksize=1000000):\n",
    "    chunk = chunk.dropna()\n",
    "    df_geo = chunk.Text.to_list()\n",
    "    geo_sents = []    \n",
    "    \n",
    "    for text in df_geo:\n",
    "        sent = process(text)\n",
    "        geo_sents.extend(sent)\n",
    "        \n",
    "    geo_sents = [item for sublist in geo_sents for item in sublist]\n",
    "    sents += len(geo_sents)\n",
    "    \n",
    "    for piece in geo_sents:\n",
    "        if piece:            \n",
    "            doc = tokenizer(piece)\n",
    "            words += len([w.text for w in doc])\n",
    "            words_wo_punct += len([token for token in doc if not token.is_punct])\n",
    "            words_wo_stops += len([token.text for token in doc if not token.is_stop])\n",
    "            words_wo_stops_punct += len([token for token in doc if not token.is_stop and not token.is_punct])\n",
    "        \n",
    "print(f'Subtotal: {sents} sentences before deduplication')\n",
    "print(f'Subtotal: {words} words before deduplication')  \n",
    "print(f'Subtotal: {words_wo_punct} tokens without punctuation')\n",
    "print(f'Subtotal: {words_wo_stops} tokens without stops')\n",
    "print(f'Subtotal: {words_wo_stops_punct} tokens without stops and punctuation') "
   ]
  },
  {
   "cell_type": "code",
   "execution_count": 10,
   "metadata": {},
   "outputs": [],
   "source": [
    "del chunk\n",
    "del geo_sents\n",
    "del df_geo"
   ]
  },
  {
   "cell_type": "code",
   "execution_count": 6,
   "metadata": {},
   "outputs": [
    {
     "name": "stdout",
     "output_type": "stream",
     "text": [
      "Subtotal: 5244463 sentences after deduplication\n",
      "Subtotal: 106463131 words after deduplication\n",
      "Subtotal: 80912566 tokens without punctuation\n",
      "Subtotal: 92835325 tokens without stops\n",
      "Subtotal: 67284760 tokens without stops and punctuation\n",
      "Wall time: 8min 14s\n"
     ]
    }
   ],
   "source": [
    "%%time\n",
    "words = 0\n",
    "sents = 0\n",
    "words_wo_punct = 0\n",
    "words_wo_stops = 0\n",
    "words_wo_stops_punct = 0\n",
    "\n",
    "\n",
    "with open('Ready\\wiki3.txt', encoding='utf-8') as f1:\n",
    "        for piece in read_in_chunks_lines(f1):\n",
    "            geo_sents = [process_txt(x) for x in piece if x != '\\n']            \n",
    "            sents += len(geo_sents)\n",
    "\n",
    "            for piece in geo_sents:\n",
    "                if piece:\n",
    "                    doc = tokenizer(piece)\n",
    "                    words += len([w.text for w in doc])\n",
    "                    words_wo_punct += len([token for token in doc if not token.is_punct])\n",
    "                    words_wo_stops += len([token.text for token in doc if not token.is_stop])\n",
    "                    words_wo_stops_punct += len([token for token in doc if not token.is_stop and not token.is_punct])\n",
    "\n",
    "print(f'Subtotal: {sents} sentences after deduplication')\n",
    "print(f'Subtotal: {words} words after deduplication')  \n",
    "print(f'Subtotal: {words_wo_punct} tokens without punctuation')\n",
    "print(f'Subtotal: {words_wo_stops} tokens without stops')\n",
    "print(f'Subtotal: {words_wo_stops_punct} tokens without stops and punctuation') "
   ]
  }
 ],
 "metadata": {
  "kernelspec": {
   "display_name": "Python 3",
   "language": "python",
   "name": "python3"
  },
  "language_info": {
   "codemirror_mode": {
    "name": "ipython",
    "version": 3
   },
   "file_extension": ".py",
   "mimetype": "text/x-python",
   "name": "python",
   "nbconvert_exporter": "python",
   "pygments_lexer": "ipython3",
   "version": "3.6.8"
  }
 },
 "nbformat": 4,
 "nbformat_minor": 4
}
