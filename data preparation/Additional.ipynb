{
 "cells": [
  {
   "cell_type": "markdown",
   "metadata": {},
   "source": [
    "# Count articles and split file"
   ]
  },
  {
   "cell_type": "code",
   "execution_count": 1,
   "metadata": {
    "scrolled": true
   },
   "outputs": [],
   "source": [
    "import pandas as pd\n",
    "import csv"
   ]
  },
  {
   "cell_type": "code",
   "execution_count": 8,
   "metadata": {
    "scrolled": true
   },
   "outputs": [
    {
     "name": "stdout",
     "output_type": "stream",
     "text": [
      "Current -- 5,000,000\n",
      "Current -- 10,000,000\n",
      "Current -- 15,000,000\n",
      "Current -- 20,000,000\n",
      "Current -- 25,000,000\n",
      "Current -- 30,000,000\n",
      "Current -- 35,000,000\n",
      "Current -- 40,000,000\n",
      "Wall time: 6min 57s\n"
     ]
    }
   ],
   "source": [
    "%%time\n",
    "cnt = 0\n",
    "\n",
    "for chunk in pd.read_csv('GeoWAC.rus.Sampled', encoding='utf-8', low_memory=True, chunksize=100000):\n",
    "        cnt += 1\n",
    "        if cnt % 50 == 0:\n",
    "            print(f'Current -- {cnt * 100000:,}')"
   ]
  },
  {
   "cell_type": "code",
   "execution_count": 5,
   "metadata": {
    "scrolled": true
   },
   "outputs": [
    {
     "name": "stdout",
     "output_type": "stream",
     "text": [
      "Articles: 8152686\n",
      "Wall time: 2min 10s\n"
     ]
    }
   ],
   "source": [
    "%%time\n",
    "cnt = 0\n",
    "\n",
    "for chunk in pd.read_csv('text.csv', encoding='utf-8', low_memory=True, chunksize=100000, header=None, names = ['Text']):\n",
    "    chunk = chunk.dropna()\n",
    "    chunk = chunk[chunk['Text'] != 'EOS']\n",
    "    chunk = chunk[chunk['Text'] != 'N_A']\n",
    "    cnt += len(chunk)\n",
    "    \n",
    "print(f'Articles: {cnt}')"
   ]
  },
  {
   "cell_type": "code",
   "execution_count": 9,
   "metadata": {
    "scrolled": true
   },
   "outputs": [
    {
     "name": "stdout",
     "output_type": "stream",
     "text": [
      "Total chunks -- 429\n",
      "Total lines -- 42,900,000\n"
     ]
    }
   ],
   "source": [
    "print(f'Total chunks -- {cnt}')\n",
    "print(f'Total lines -- {cnt * 100000:,}')"
   ]
  },
  {
   "cell_type": "code",
   "execution_count": 9,
   "metadata": {
    "scrolled": true
   },
   "outputs": [
    {
     "name": "stdout",
     "output_type": "stream",
     "text": [
      "Starting new file\n",
      "Starting new file\n",
      "Starting new file\n",
      "Starting new file\n",
      "Starting new file\n",
      "Starting new file\n",
      "Starting new file\n",
      "Starting new file\n",
      "Wall time: 14min 56s\n"
     ]
    }
   ],
   "source": [
    "%%time\n",
    "\n",
    "i = 0\n",
    "cnt = 0\n",
    "file_name = 'geo_wac0.csv'\n",
    "cs = open(file_name, 'w', newline='', encoding='utf-8')\n",
    "linewriter = csv.writer(cs)\n",
    "\n",
    "for chunk in pd.read_csv('GeoWAC.rus.Sampled', encoding='utf-8', low_memory=True, chunksize=100000):\n",
    "    i += 100000\n",
    "    tmp = chunk.Text.to_list()\n",
    "    tmp = [[t] for t in tmp]\n",
    "    linewriter.writerows(tmp)\n",
    "\n",
    "    if i == 5000000:  \n",
    "        cs.close() \n",
    "        i = 0          \n",
    "        cnt += 1\n",
    "        print('Starting new file')\n",
    "        file_name = 'geo_wac' + str(cnt) + '.csv'\n",
    "        cs = open(file_name, 'w', newline='', encoding='utf-8')\n",
    "        linewriter = csv.writer(cs)\n",
    "linewriter.writerows(tmp)    "
   ]
  },
  {
   "cell_type": "code",
   "execution_count": 10,
   "metadata": {
    "scrolled": true
   },
   "outputs": [],
   "source": [
    "cs.close() "
   ]
  },
  {
   "cell_type": "code",
   "execution_count": null,
   "metadata": {
    "scrolled": true
   },
   "outputs": [],
   "source": [
    "%%time\n",
    "\n",
    "i = 0\n",
    "cnt = 0\n",
    "# file_name = 'texts0.csv'\n",
    "# cs = open(file_name, 'w', newline='', encoding='utf-8')\n",
    "linewriter = csv.writer(cs)\n",
    "\n",
    "for chunk in pd.read_csv('text.csv', encoding='utf-8', low_memory=True,\n",
    "                         chunksize=100000, header=None, names = ['Text']):\n",
    "    i += 100000\n",
    "    tmp = chunk.Text.to_list()\n",
    "    tmp = [process(t) for t in tmp]\n",
    "    linewriter.writerows(tmp)\n",
    "\n",
    "    if i == 5000000:  \n",
    "        cs.close() \n",
    "        i = 0          \n",
    "        cnt += 1\n",
    "        print('Starting new file')\n",
    "        file_name = 'texts' + str(cnt) + '.csv'\n",
    "        cs = open(file_name, 'w', newline='', encoding='utf-8')\n",
    "        linewriter = csv.writer(cs)\n",
    "linewriter.writerows(tmp)    "
   ]
  },
  {
   "cell_type": "code",
   "execution_count": null,
   "metadata": {
    "scrolled": true
   },
   "outputs": [],
   "source": [
    "a_file = gzip.open(\"test.txt.gz\", \"rb\")\n",
    "contents = a_file.read()"
   ]
  },
  {
   "cell_type": "markdown",
   "metadata": {},
   "source": [
    "### Clean file from unnecessary blank lines"
   ]
  },
  {
   "cell_type": "code",
   "execution_count": 6,
   "metadata": {
    "scrolled": true
   },
   "outputs": [
    {
     "name": "stdout",
     "output_type": "stream",
     "text": [
      "Wall time: 1min 25s\n"
     ]
    }
   ],
   "source": [
    "%%time\n",
    "import re\n",
    "import gzip\n",
    "\n",
    "with open('wiki5_v_01_cleaned.txt', 'w', encoding='utf-8') as f1:\n",
    "    with gzip.open('Ready\\wiki5_v_01.txt.gz', \"rb\") as f:\n",
    "            piece = f.read()\n",
    "            piece = piece.decode('utf-8')\n",
    "            remove_words = ['#перенаправление', \n",
    "                '#ИзображениеНазваниеМестоположениеВремя созданияГод внесения в список№Критерии', \n",
    "                'Категория:', 'Файл:', 'Оглавление', '|мини|', ' = =', 'JPG|', 'JPG',\n",
    "                        'слева|', 'справа|', '|справа', '|thumb|left|200px|']\n",
    "            for word in remove_words:\n",
    "                piece = piece.replace(word, ' ')\n",
    "            reps = re.sub('\\n{3,}', '\\n\\n', piece)\n",
    "            reps = re.sub('\\n\\n \\n', '\\n\\n', reps)\n",
    "            reps = re.sub('=== .+? ===', ' ', reps)\n",
    "            reps = re.sub('={2,}', ' ', reps)\n",
    "            reps = re.sub('={2,}', ' ', reps)\n",
    "            f1.write(reps)      "
   ]
  },
  {
   "cell_type": "code",
   "execution_count": 20,
   "metadata": {},
   "outputs": [],
   "source": [
    "from bs4 import BeautifulSoup\n",
    "from html import unescape\n",
    "import unicodedata\n",
    "import string\n",
    "import unidecode\n",
    "\n",
    "def escape_html(text):\n",
    "    soup = BeautifulSoup(unescape(text), 'html.parser')\n",
    "    text = soup.text\n",
    "    text = unicodedata.normalize('NFKC', text)\n",
    "    return text\n",
    "\n",
    "def my_replace(match):\n",
    "    match = match.group()\n",
    "    return unidecode.unidecode(match)"
   ]
  },
  {
   "cell_type": "code",
   "execution_count": 21,
   "metadata": {},
   "outputs": [],
   "source": [
    "def replace_dashes(text):\n",
    "    dashes = '-‐‑‒–—―'\n",
    "    for dash in dashes:\n",
    "        text = text.replace(dash, '-')\n",
    "    return text\n",
    "\n",
    "def replace_quotes(text):\n",
    "    quotes = '»«”“„‟❝❞〝〞〟＂'\n",
    "    for q in quotes:\n",
    "        if isinstance(text, str):\n",
    "            text = text.replace(q, '\"')\n",
    "    if isinstance(text, str):\n",
    "        text = text.replace(',,', '\"')\n",
    "    text = text.replace(\"<<\", '\"')\n",
    "    text = text.replace(\">>\", '\"')\n",
    "    return text"
   ]
  },
  {
   "cell_type": "code",
   "execution_count": 13,
   "metadata": {
    "scrolled": false
   },
   "outputs": [
    {
     "name": "stdout",
     "output_type": "stream",
     "text": [
      "Wall time: 6.47 s\n"
     ]
    }
   ],
   "source": [
    "%%time\n",
    "import re\n",
    "\n",
    "def read_in_chunks(file_object, chunk_size=50000):\n",
    "    \"\"\"Lazy function (generator) to read a file piece by piece.\n",
    "    Default chunk size: 1k.\"\"\"\n",
    "    while True:\n",
    "        data = file_object.read(chunk_size)\n",
    "        if not data:\n",
    "            break\n",
    "        yield data\n",
    "\n",
    "\n",
    "with open('wiki5_v_08_cleaned.txt', 'w', encoding='utf-8', newline='\\n') as f1:\n",
    "    with open('wiki5_v_07_cleaned.txt', encoding='utf-8') as f:\n",
    "        for piece in read_in_chunks(f):\n",
    "            piece = piece.replace(\"''\", '\"').replace(\"''\", '\"')\n",
    "#             piece = piece.replace('\\n\\n\\n', '\\n\\n').replace('\\n\\n\\n', '\\n\\n').replace('\\n\\n\\n', '\\n\\n')\n",
    "            f1.write(piece)\n",
    "#         line = escape_html(piece).replace('  ', ' ').replace('  ', ' ')\n",
    "#         line = re.sub('([^А-яЁё])', my_replace, line)\n",
    "#         line = replace_dashes(line)\n",
    "#         line = replace_quotes(line)\n",
    "#         line = line.replace('\\r', '')\n",
    "#         line = re.sub('\\n{3,}', '\\n\\n', piece)\n",
    "#         line = re.sub('\\n\\n \\n', '\\n\\n', line)\n",
    "#         line = line.replace('  ', ' ').replace('  ', ' ')\n",
    "            \n",
    "#                 f1.write(piece)       "
   ]
  },
  {
   "cell_type": "code",
   "execution_count": 14,
   "metadata": {
    "scrolled": true
   },
   "outputs": [],
   "source": [
    "from spacy.lang.ru import Russian\n",
    "rus = Russian()\n",
    "tokenizer = rus.tokenizer"
   ]
  },
  {
   "cell_type": "code",
   "execution_count": 25,
   "metadata": {},
   "outputs": [
    {
     "name": "stdout",
     "output_type": "stream",
     "text": [
      "Wall time: 10min 21s\n"
     ]
    }
   ],
   "source": [
    "%%time\n",
    "import re\n",
    "\n",
    "def read_in_chunks(file_object, chunk_size=500000):\n",
    "    \"\"\"Lazy function (generator) to read a file piece by piece.\n",
    "    Default chunk size: 1k.\"\"\"\n",
    "    while True:\n",
    "        data = file_object.read(chunk_size)\n",
    "        if not data:\n",
    "            break\n",
    "        yield data\n",
    "\n",
    "with open('post-soviet_cleaned.txt', 'w', encoding='utf-8', newline='\\n') as f1:\n",
    "    with open('post-soviet.txt', encoding='utf-8', newline='\\n') as f:\n",
    "        for piece in read_in_chunks(f):\n",
    "            doc = tokenizer(piece)\n",
    "            piece = ' '.join([token.text for token in doc])\n",
    "            piece = piece.replace(\"'' '\", '\"')\n",
    "            piece = piece.replace('\\n ', '\\n')\n",
    "            f1.write(piece)  "
   ]
  },
  {
   "cell_type": "code",
   "execution_count": 2,
   "metadata": {
    "scrolled": true
   },
   "outputs": [
    {
     "name": "stdout",
     "output_type": "stream",
     "text": [
      "Wall time: 55.7 s\n"
     ]
    }
   ],
   "source": [
    "%%time\n",
    "import pandas as pd\n",
    "\n",
    "with open('wiki5.txt', 'w', encoding='utf-8') as f:\n",
    "    for chunk in pd.read_csv('texts5.csv', header=None, names = ['Text'],\n",
    "                             encoding='utf-8', low_memory=True, chunksize=10000):\n",
    "        chunk = chunk.dropna()\n",
    "        chunk = chunk.Text.to_list()\n",
    "        for line in chunk:\n",
    "            if line != 'EOS':\n",
    "                line += '\\n'\n",
    "                f.write(line)\n",
    "            else:\n",
    "                f.write('\\n')"
   ]
  },
  {
   "cell_type": "markdown",
   "metadata": {},
   "source": [
    "# Clean RNC"
   ]
  },
  {
   "cell_type": "code",
   "execution_count": 9,
   "metadata": {
    "scrolled": true
   },
   "outputs": [
    {
     "name": "stdout",
     "output_type": "stream",
     "text": [
      "Wall time: 33.4 s\n"
     ]
    }
   ],
   "source": [
    "%%time\n",
    "import re\n",
    "\n",
    "def read_in_chunks_lines(file_object, chunk_size=50000):\n",
    "    \"\"\"Lazy function (generator) to read a file piece by piece.\n",
    "    Default chunk size: 1k.\"\"\"\n",
    "    while True:\n",
    "        data = file_object.readlines(chunk_size)\n",
    "        if not data:\n",
    "            break\n",
    "        yield data\n",
    "        \n",
    "def clean(x):\n",
    "    x = re.sub('(?<!.)\\W+?\\n(?!.)', '\\n', x)\n",
    "    return x\n",
    "\n",
    "with open('rnc_post-soviet_cleaned.txt', 'w', encoding='utf-8') as f1:\n",
    "    with open('rnc_post-soviet.txt', encoding='utf-8') as f:\n",
    "        for piece in read_in_chunks_lines(f):\n",
    "            reps = [clean(x) for x in piece]\n",
    "            for y in reps:\n",
    "                f1.write(y)"
   ]
  },
  {
   "cell_type": "code",
   "execution_count": 11,
   "metadata": {
    "scrolled": true
   },
   "outputs": [
    {
     "name": "stdout",
     "output_type": "stream",
     "text": [
      "Wall time: 14.2 s\n"
     ]
    }
   ],
   "source": [
    "%%time\n",
    "import re\n",
    "\n",
    "def read_in_chunks(file_object, chunk_size=50000):\n",
    "    \"\"\"Lazy function (generator) to read a file piece by piece.\n",
    "    Default chunk size: 1k.\"\"\"\n",
    "    while True:\n",
    "        data = file_object.read(chunk_size)\n",
    "        if not data:\n",
    "            break\n",
    "        yield data\n",
    "\n",
    "with open('rnc_post-soviet_cleaned1.txt', 'w', encoding='utf-8') as f1:\n",
    "    with open('rnc_post-soviet_cleaned.txt', encoding='utf-8') as f:\n",
    "        for piece in read_in_chunks(f):\n",
    "            reps = re.sub('\\n{3,}', '\\n\\n', piece)\n",
    "            reps = re.sub('\\n\\n \\n', '\\n\\n', reps)\n",
    "            f1.write(reps)       "
   ]
  },
  {
   "cell_type": "markdown",
   "metadata": {},
   "source": [
    "# Count sentences before/after deduplication"
   ]
  },
  {
   "cell_type": "code",
   "execution_count": 1,
   "metadata": {
    "scrolled": true
   },
   "outputs": [
    {
     "data": {
      "text/plain": [
       "<spacy.pipeline.sentencizer.Sentencizer at 0x2791ddf6cc8>"
      ]
     },
     "execution_count": 1,
     "metadata": {},
     "output_type": "execute_result"
    }
   ],
   "source": [
    "from spacy.lang.ru import Russian\n",
    "nlp = Russian()\n",
    "nlp.add_pipe('sentencizer')"
   ]
  },
  {
   "cell_type": "code",
   "execution_count": 3,
   "metadata": {
    "scrolled": true
   },
   "outputs": [],
   "source": [
    "rus = Russian()\n",
    "tokenizer = rus.tokenizer"
   ]
  },
  {
   "cell_type": "code",
   "execution_count": 2,
   "metadata": {
    "scrolled": true
   },
   "outputs": [],
   "source": [
    "def process(section):\n",
    "    res = []\n",
    "    doc = nlp(section)\n",
    "    for sent in doc.sents:\n",
    "        sent = str(sent)\n",
    "        x = sent.replace('\\n', '')\n",
    "        if x:\n",
    "            res.append([x])\n",
    "    return res"
   ]
  },
  {
   "cell_type": "code",
   "execution_count": 4,
   "metadata": {
    "scrolled": true
   },
   "outputs": [
    {
     "name": "stdout",
     "output_type": "stream",
     "text": [
      "Subtotal: 16071469 sentences before deduplication\n",
      "Subtotal: 280665998 words before deduplication\n",
      "Subtotal: 233591819 tokens without punctuation\n",
      "Subtotal: 217885182 tokens without stops\n",
      "Subtotal: 170811003 tokens without stops and punctuation\n",
      "Wall time: 31min 24s\n"
     ]
    }
   ],
   "source": [
    "%%time\n",
    "import pandas as pd\n",
    "\n",
    "words = 0\n",
    "sents = 0\n",
    "words_wo_punct = 0\n",
    "words_wo_stops = 0\n",
    "words_wo_stops_punct = 0\n",
    "\n",
    "def read_in_chunks_lines(file_object, chunk_size=50000):\n",
    "    \"\"\"Lazy function (generator) to read a file piece by piece.\n",
    "    Default chunk size: 1k.\"\"\"\n",
    "    while True:\n",
    "        data = file_object.readlines(chunk_size)\n",
    "        if not data:\n",
    "            break\n",
    "        yield data\n",
    "\n",
    "for chunk in pd.read_csv('Исходники\\geo_wac0.csv', header=None, names = ['Text'], encoding='utf-8',\n",
    "                             low_memory=True, chunksize=500000):\n",
    "    chunk = chunk.dropna()\n",
    "    df_geo = chunk.Text.to_list()\n",
    "    geo_sents = []    \n",
    "    \n",
    "    for text in df_geo:\n",
    "        sent = process(text)\n",
    "        geo_sents.extend(sent)\n",
    "        \n",
    "    geo_sents = [item for sublist in geo_sents for item in sublist]\n",
    "    sents += len(geo_sents)\n",
    "    \n",
    "    for piece in geo_sents:\n",
    "        if piece:\n",
    "            doc = tokenizer(piece)\n",
    "            words += len([w.text for w in doc])\n",
    "            words_wo_punct += len([token for token in doc if not token.is_punct])\n",
    "            words_wo_stops += len([token.text for token in doc if not token.is_stop])\n",
    "            words_wo_stops_punct += len([token for token in doc if not token.is_stop and not token.is_punct])\n",
    "        \n",
    "print(f'Subtotal: {sents} sentences before deduplication')\n",
    "print(f'Subtotal: {words} words before deduplication')  \n",
    "print(f'Subtotal: {words_wo_punct} tokens without punctuation')\n",
    "print(f'Subtotal: {words_wo_stops} tokens without stops')\n",
    "print(f'Subtotal: {words_wo_stops_punct} tokens without stops and punctuation') "
   ]
  },
  {
   "cell_type": "code",
   "execution_count": 5,
   "metadata": {
    "scrolled": true
   },
   "outputs": [],
   "source": [
    "del chunk\n",
    "del geo_sents\n",
    "del df_geo"
   ]
  },
  {
   "cell_type": "code",
   "execution_count": 6,
   "metadata": {
    "scrolled": true
   },
   "outputs": [],
   "source": [
    "def process_txt(x):\n",
    "    if x != '\\n':\n",
    "        x = x.replace('\\n', '')\n",
    "        return x"
   ]
  },
  {
   "cell_type": "code",
   "execution_count": null,
   "metadata": {
    "scrolled": true
   },
   "outputs": [],
   "source": [
    "def read_in_chunks_lines(file_object, chunk_size=5000000):\n",
    "    while True:\n",
    "        data = file_object.readlines(chunk_size)\n",
    "        if not data:\n",
    "            break\n",
    "        yield data"
   ]
  },
  {
   "cell_type": "code",
   "execution_count": 15,
   "metadata": {
    "scrolled": true
   },
   "outputs": [
    {
     "name": "stdout",
     "output_type": "stream",
     "text": [
      "Subtotal: 8353796 sentences after deduplication\n",
      "Subtotal: 163549838 words after deduplication\n",
      "Subtotal: 137979529 tokens without punctuation\n",
      "Subtotal: 126619384 tokens without stops\n",
      "Subtotal: 101049075 tokens without stops and punctuation\n",
      "Wall time: 7min 39s\n"
     ]
    }
   ],
   "source": [
    "%%time\n",
    "words = 0\n",
    "sents = 0\n",
    "words_wo_punct = 0\n",
    "words_wo_stops = 0\n",
    "words_wo_stops_punct = 0\n",
    "\n",
    "with open('Ready\\geo_wac8_v_09_cleaned.txt', encoding='utf-8') as f1:\n",
    "        for piece in read_in_chunks_lines(f1):\n",
    "            geo_sents = [process_txt(x) for x in piece if x != '\\n']            \n",
    "            sents += len(geo_sents)\n",
    "\n",
    "            for piece in geo_sents:\n",
    "                if piece:\n",
    "                    doc = tokenizer(piece)\n",
    "                    words += len([w.text for w in doc])\n",
    "                    words_wo_punct += len([token for token in doc if not token.is_punct])\n",
    "                    words_wo_stops += len([token.text for token in doc if not token.is_stop])\n",
    "                    words_wo_stops_punct += len([token for token in doc if not token.is_stop and not token.is_punct])\n",
    "\n",
    "print(f'Subtotal: {sents} sentences after deduplication')\n",
    "print(f'Subtotal: {words} words after deduplication')  \n",
    "print(f'Subtotal: {words_wo_punct} tokens without punctuation')\n",
    "print(f'Subtotal: {words_wo_stops} tokens without stops')\n",
    "print(f'Subtotal: {words_wo_stops_punct} tokens without stops and punctuation')"
   ]
  }
 ],
 "metadata": {
  "kernelspec": {
   "display_name": "Python 3",
   "language": "python",
   "name": "python3"
  },
  "language_info": {
   "codemirror_mode": {
    "name": "ipython",
    "version": 3
   },
   "file_extension": ".py",
   "mimetype": "text/x-python",
   "name": "python",
   "nbconvert_exporter": "python",
   "pygments_lexer": "ipython3",
   "version": "3.6.8"
  }
 },
 "nbformat": 4,
 "nbformat_minor": 2
}
