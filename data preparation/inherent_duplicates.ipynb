{
 "cells": [
  {
   "cell_type": "code",
   "execution_count": 1,
   "metadata": {
    "scrolled": false
   },
   "outputs": [],
   "source": [
    "import pickle\n",
    "from hashlib import sha1\n",
    "from datasketch import MinHash, MinHashLSH\n",
    "from tqdm import tqdm"
   ]
  },
  {
   "cell_type": "code",
   "execution_count": 2,
   "metadata": {
    "scrolled": false
   },
   "outputs": [],
   "source": [
    "def read_in_chunks_lines(file_object, chunk_size=40000000):\n",
    "    while True:\n",
    "        data = file_object.readlines(chunk_size)\n",
    "        if not data:\n",
    "            break\n",
    "        yield data"
   ]
  },
  {
   "cell_type": "code",
   "execution_count": 3,
   "metadata": {
    "scrolled": false
   },
   "outputs": [],
   "source": [
    "def hashes_simple_1(x):\n",
    "    if x == 'PLACEHOLDER':\n",
    "        return 'PLACEHOLDER'\n",
    "    else:\n",
    "        m1 = MinHash(num_perm=16)\n",
    "        x = x.lower()\n",
    "        _ = [m1.update(token.encode('utf8')) for token in x.split()]\n",
    "        return m1"
   ]
  },
  {
   "cell_type": "code",
   "execution_count": 4,
   "metadata": {
    "scrolled": false
   },
   "outputs": [
    {
     "name": "stdout",
     "output_type": "stream",
     "text": [
      "Wall time: 19min 32s\n"
     ]
    }
   ],
   "source": [
    "%%time\n",
    "w0 = pickle.load(open(\"Wiki_pickle\\save.p\", \"rb\"))\n",
    "w1 = pickle.load(open(\"Wiki_pickle\\save1.p\", \"rb\"))\n",
    "w2 = pickle.load(open(\"Wiki_pickle\\save2.p\", \"rb\"))\n",
    "w3 = pickle.load(open(\"Wiki_pickle\\save3.p\", \"rb\"))\n",
    "w4 = pickle.load(open(\"Wiki_pickle\\save4.p\", \"rb\"))\n",
    "w5 = pickle.load(open(\"Wiki_pickle\\save5.p\", \"rb\"))"
   ]
  },
  {
   "cell_type": "code",
   "execution_count": 5,
   "metadata": {
    "scrolled": false
   },
   "outputs": [],
   "source": [
    "from bs4 import BeautifulSoup\n",
    "from html import unescape\n",
    "import unicodedata\n",
    "import string\n",
    "import unidecode\n",
    "import re\n",
    "\n",
    "def escape_html(text):\n",
    "    soup = BeautifulSoup(unescape(text), 'html.parser')\n",
    "    text = soup.text\n",
    "    text = unicodedata.normalize('NFKC', text)\n",
    "    return text\n",
    "\n",
    "def my_replace(match):\n",
    "    match = match.group()\n",
    "    return unidecode.unidecode(match)"
   ]
  },
  {
   "cell_type": "code",
   "execution_count": 6,
   "metadata": {
    "scrolled": false
   },
   "outputs": [],
   "source": [
    "def replace_dashes(text):\n",
    "    dashes = '-‐‑‒–—―'\n",
    "    for dash in dashes:\n",
    "        text = text.replace(dash, '-')\n",
    "    text = text.replace('--', '-').replace('--', '-')\n",
    "    return text\n",
    "\n",
    "def replace_quotes(text):\n",
    "    quotes = '»«”“„‟❝❞〝〞〟＂'\n",
    "    for q in quotes:\n",
    "        if isinstance(text, str):\n",
    "            text = text.replace(q, '\"')\n",
    "    if isinstance(text, str):\n",
    "        text = text.replace(',,', '\"')\n",
    "        \n",
    "    text = text.replace(\"<<\", '\"').replace(\">>\", '\"').replace(\"'' '\", '\"').replace(\">\", '').replace(\"<\", '')\n",
    "    text = text.replace(\"''\", '\"').replace(\"''\", '\"')    \n",
    "    return text"
   ]
  },
  {
   "cell_type": "code",
   "execution_count": 17,
   "metadata": {
    "scrolled": false
   },
   "outputs": [],
   "source": [
    "def process_txt_new(line):\n",
    "    if line == '\\n' or line == '\\r\\n':\n",
    "        return 'PLACEHOLDER'\n",
    "    else:\n",
    "        line = line.replace('\\n', '')\n",
    "        if len(line):\n",
    "            line = escape_html(line).replace('  ', ' ').replace('  ', ' ')\n",
    "            line = re.sub('([^А-яЁё])', my_replace, line)\n",
    "            line = replace_dashes(line)\n",
    "            line = replace_quotes(line)\n",
    "            line = line.replace('\\r', '')\n",
    "            if len(line):\n",
    "                line = line.replace('  ', ' ').replace('  ', ' ') \n",
    "                if len(line):\n",
    "                    remove_words = ['#перенаправление', 'Категория:', 'Файл:', 'Оглавление', '|мини|', \n",
    "                                    ' = =', 'JPG|', 'JPG','слева|', 'справа|', '|справа', '|thumb|left|200px|'\n",
    "                '#ИзображениеНазваниеМестоположениеВремя созданияГод внесения в список№Критерии']\n",
    "                    for word in remove_words:\n",
    "                        line = line.replace(word, ' ')\n",
    "                    if len(line):\n",
    "                        line = re.sub('=== .+? ===', ' ', line)\n",
    "                        line = re.sub('={2,}', ' ', line)\n",
    "                        line = re.sub('={2,}', ' ', line)\n",
    "                        line = line.strip()\n",
    "                        if len(line):\n",
    "                            return line"
   ]
  },
  {
   "cell_type": "code",
   "execution_count": 15,
   "metadata": {
    "scrolled": true
   },
   "outputs": [],
   "source": [
    "import warnings\n",
    "warnings.filterwarnings('ignore')"
   ]
  },
  {
   "cell_type": "code",
   "execution_count": 11,
   "metadata": {
    "scrolled": true
   },
   "outputs": [
    {
     "name": "stderr",
     "output_type": "stream",
     "text": [
      "100%|██████████████████████████████████████████████████████████████████████████| 69167/69167 [00:19<00:00, 3560.72it/s]\n",
      "100%|██████████████████████████████████████████████████████████████████████████| 52309/52309 [00:19<00:00, 2699.99it/s]\n",
      "c:\\users\\администратор\\appdata\\local\\programs\\python\\python36\\lib\\site-packages\\bs4\\__init__.py:424: MarkupResemblesLocatorWarning: \"http://femb.ru/femb/pharmacopea.php)Категория:Фармакопея\" looks like a URL. Beautiful Soup is not an HTTP client. You should probably use an HTTP client like requests to get the document behind the URL, and feed that document to Beautiful Soup.\n",
      "  MarkupResemblesLocatorWarning\n",
      "100%|██████████████████████████████████████████████████████████████████████████| 49492/49492 [00:16<00:00, 2926.86it/s]\n",
      "c:\\users\\администратор\\appdata\\local\\programs\\python\\python36\\lib\\site-packages\\bs4\\__init__.py:424: MarkupResemblesLocatorWarning: \"https://web.archive.org/web/20180126100730/http://www.sergey-grigoriev.ru/\" looks like a URL. Beautiful Soup is not an HTTP client. You should probably use an HTTP client like requests to get the document behind the URL, and feed that document to Beautiful Soup.\n",
      "  MarkupResemblesLocatorWarning\n",
      "c:\\users\\администратор\\appdata\\local\\programs\\python\\python36\\lib\\site-packages\\bs4\\__init__.py:336: MarkupResemblesLocatorWarning: \" .\" looks like a filename, not markup. You should probably open this file and pass the filehandle into Beautiful Soup.\n",
      "  MarkupResemblesLocatorWarning\n",
      "100%|██████████████████████████████████████████████████████████████████████████| 50735/50735 [00:17<00:00, 2949.13it/s]\n",
      "c:\\users\\администратор\\appdata\\local\\programs\\python\\python36\\lib\\site-packages\\bs4\\__init__.py:336: MarkupResemblesLocatorWarning: \". .\" looks like a filename, not markup. You should probably open this file and pass the filehandle into Beautiful Soup.\n",
      "  MarkupResemblesLocatorWarning\n",
      "c:\\users\\администратор\\appdata\\local\\programs\\python\\python36\\lib\\site-packages\\bs4\\__init__.py:336: MarkupResemblesLocatorWarning: \" . .\" looks like a filename, not markup. You should probably open this file and pass the filehandle into Beautiful Soup.\n",
      "  MarkupResemblesLocatorWarning\n",
      "c:\\users\\администратор\\appdata\\local\\programs\\python\\python36\\lib\\site-packages\\bs4\\__init__.py:424: MarkupResemblesLocatorWarning: \"http://ship.bsu.by/main.asp?id=102613\" looks like a URL. Beautiful Soup is not an HTTP client. You should probably use an HTTP client like requests to get the document behind the URL, and feed that document to Beautiful Soup.\n",
      "  MarkupResemblesLocatorWarning\n",
      "c:\\users\\администратор\\appdata\\local\\programs\\python\\python36\\lib\\site-packages\\bs4\\__init__.py:424: MarkupResemblesLocatorWarning: \"https://urfolk-art.ru/uralskij-narodnyj-hor/sostav-uralskogo-hora-2/\" looks like a URL. Beautiful Soup is not an HTTP client. You should probably use an HTTP client like requests to get the document behind the URL, and feed that document to Beautiful Soup.\n",
      "  MarkupResemblesLocatorWarning\n",
      "c:\\users\\администратор\\appdata\\local\\programs\\python\\python36\\lib\\site-packages\\bs4\\__init__.py:424: MarkupResemblesLocatorWarning: \"http://www.allmusic.com/explore/style/d11040.\" looks like a URL. Beautiful Soup is not an HTTP client. You should probably use an HTTP client like requests to get the document behind the URL, and feed that document to Beautiful Soup.\n",
      "  MarkupResemblesLocatorWarning\n",
      "100%|██████████████████████████████████████████████████████████████████████████| 51796/51796 [00:17<00:00, 2922.52it/s]\n",
      "100%|██████████████████████████████████████████████████████████████████████████| 50705/50705 [00:17<00:00, 2896.82it/s]\n",
      "c:\\users\\администратор\\appdata\\local\\programs\\python\\python36\\lib\\site-packages\\bs4\\__init__.py:424: MarkupResemblesLocatorWarning: \"http://www.mdse-book.com\" looks like a URL. Beautiful Soup is not an HTTP client. You should probably use an HTTP client like requests to get the document behind the URL, and feed that document to Beautiful Soup.\n",
      "  MarkupResemblesLocatorWarning\n",
      "100%|██████████████████████████████████████████████████████████████████████████| 50961/50961 [00:19<00:00, 2608.04it/s]\n",
      "c:\\users\\администратор\\appdata\\local\\programs\\python\\python36\\lib\\site-packages\\bs4\\__init__.py:424: MarkupResemblesLocatorWarning: \"http://www.cervantesvirtual.com/servlet/SirveObras/05819429890514073089079/index.htm\" looks like a URL. Beautiful Soup is not an HTTP client. You should probably use an HTTP client like requests to get the document behind the URL, and feed that document to Beautiful Soup.\n",
      "  MarkupResemblesLocatorWarning\n",
      "c:\\users\\администратор\\appdata\\local\\programs\\python\\python36\\lib\\site-packages\\bs4\\__init__.py:336: MarkupResemblesLocatorWarning: \"...\" looks like a filename, not markup. You should probably open this file and pass the filehandle into Beautiful Soup.\n",
      "  MarkupResemblesLocatorWarning\n",
      "c:\\users\\администратор\\appdata\\local\\programs\\python\\python36\\lib\\site-packages\\bs4\\__init__.py:336: MarkupResemblesLocatorWarning: \"              .\" looks like a filename, not markup. You should probably open this file and pass the filehandle into Beautiful Soup.\n",
      "  MarkupResemblesLocatorWarning\n",
      "100%|██████████████████████████████████████████████████████████████████████████| 50246/50246 [00:18<00:00, 2712.25it/s]\n",
      "100%|██████████████████████████████████████████████████████████████████████████| 49692/49692 [00:17<00:00, 2817.04it/s]\n",
      "c:\\users\\администратор\\appdata\\local\\programs\\python\\python36\\lib\\site-packages\\bs4\\__init__.py:424: MarkupResemblesLocatorWarning: \"http://delta-intkey.com.\" looks like a URL. Beautiful Soup is not an HTTP client. You should probably use an HTTP client like requests to get the document behind the URL, and feed that document to Beautiful Soup.\n",
      "  MarkupResemblesLocatorWarning\n",
      "c:\\users\\администратор\\appdata\\local\\programs\\python\\python36\\lib\\site-packages\\bs4\\__init__.py:424: MarkupResemblesLocatorWarning: \"http://www.gastronom.ru/.\" looks like a URL. Beautiful Soup is not an HTTP client. You should probably use an HTTP client like requests to get the document behind the URL, and feed that document to Beautiful Soup.\n",
      "  MarkupResemblesLocatorWarning\n",
      "100%|██████████████████████████████████████████████████████████████████████████| 60172/60172 [00:19<00:00, 3047.34it/s]\n",
      "100%|██████████████████████████████████████████████████████████████████████████| 54121/54121 [00:18<00:00, 2850.72it/s]\n",
      "c:\\users\\администратор\\appdata\\local\\programs\\python\\python36\\lib\\site-packages\\bs4\\__init__.py:424: MarkupResemblesLocatorWarning: \"http://hojniki.ucoz.ru/index/paselishchy/0-159#\" looks like a URL. Beautiful Soup is not an HTTP client. You should probably use an HTTP client like requests to get the document behind the URL, and feed that document to Beautiful Soup.\n",
      "  MarkupResemblesLocatorWarning\n",
      "100%|██████████████████████████████████████████████████████████████████████████| 51557/51557 [00:18<00:00, 2846.31it/s]\n",
      "100%|██████████████████████████████████████████████████████████████████████████| 50284/50284 [00:17<00:00, 2833.55it/s]\n",
      "100%|██████████████████████████████████████████████████████████████████████████| 52848/52848 [00:18<00:00, 2874.80it/s]\n",
      "c:\\users\\администратор\\appdata\\local\\programs\\python\\python36\\lib\\site-packages\\bs4\\__init__.py:424: MarkupResemblesLocatorWarning: \"http://stmer4uk.at.ua).\" looks like a URL. Beautiful Soup is not an HTTP client. You should probably use an HTTP client like requests to get the document behind the URL, and feed that document to Beautiful Soup.\n",
      "  MarkupResemblesLocatorWarning\n",
      "100%|██████████████████████████████████████████████████████████████████████████| 49883/49883 [00:18<00:00, 2748.62it/s]\n",
      "c:\\users\\администратор\\appdata\\local\\programs\\python\\python36\\lib\\site-packages\\bs4\\__init__.py:424: MarkupResemblesLocatorWarning: \"http://www.bibliotekar.ru/encSlov/17/162.htm.\" looks like a URL. Beautiful Soup is not an HTTP client. You should probably use an HTTP client like requests to get the document behind the URL, and feed that document to Beautiful Soup.\n",
      "  MarkupResemblesLocatorWarning\n",
      "100%|██████████████████████████████████████████████████████████████████████████| 49500/49500 [00:17<00:00, 2814.57it/s]\n"
     ]
    },
    {
     "name": "stderr",
     "output_type": "stream",
     "text": [
      "100%|██████████████████████████████████████████████████████████████████████████| 49768/49768 [00:19<00:00, 2591.88it/s]\n",
      "c:\\users\\администратор\\appdata\\local\\programs\\python\\python36\\lib\\site-packages\\bs4\\__init__.py:424: MarkupResemblesLocatorWarning: \"http://alt.cimedia.com/statesman/specialreports/whitman/letter.pdf.\" looks like a URL. Beautiful Soup is not an HTTP client. You should probably use an HTTP client like requests to get the document behind the URL, and feed that document to Beautiful Soup.\n",
      "  MarkupResemblesLocatorWarning\n",
      "c:\\users\\администратор\\appdata\\local\\programs\\python\\python36\\lib\\site-packages\\bs4\\__init__.py:424: MarkupResemblesLocatorWarning: \"http://www.deekmagazine.com/issues/20_Brutality/pages/Brutality_Features%20What%20Charlie%20Saw.htm.\" looks like a URL. Beautiful Soup is not an HTTP client. You should probably use an HTTP client like requests to get the document behind the URL, and feed that document to Beautiful Soup.\n",
      "  MarkupResemblesLocatorWarning\n",
      "100%|██████████████████████████████████████████████████████████████████████████| 53263/53263 [00:19<00:00, 2787.06it/s]\n",
      "100%|██████████████████████████████████████████████████████████████████████████| 51225/51225 [00:18<00:00, 2823.14it/s]\n",
      "100%|██████████████████████████████████████████████████████████████████████████| 53076/53076 [00:20<00:00, 2622.18it/s]\n",
      "c:\\users\\администратор\\appdata\\local\\programs\\python\\python36\\lib\\site-packages\\bs4\\__init__.py:336: MarkupResemblesLocatorWarning: \"....\" looks like a filename, not markup. You should probably open this file and pass the filehandle into Beautiful Soup.\n",
      "  MarkupResemblesLocatorWarning\n",
      "c:\\users\\администратор\\appdata\\local\\programs\\python\\python36\\lib\\site-packages\\bs4\\__init__.py:424: MarkupResemblesLocatorWarning: \"http://www.terraria.ru/python2\" looks like a URL. Beautiful Soup is not an HTTP client. You should probably use an HTTP client like requests to get the document behind the URL, and feed that document to Beautiful Soup.\n",
      "  MarkupResemblesLocatorWarning\n",
      "c:\\users\\администратор\\appdata\\local\\programs\\python\\python36\\lib\\site-packages\\bs4\\__init__.py:424: MarkupResemblesLocatorWarning: \"https://www.kommersant.ru/doc/2011896https://gorod48.ru/news/321572/\" looks like a URL. Beautiful Soup is not an HTTP client. You should probably use an HTTP client like requests to get the document behind the URL, and feed that document to Beautiful Soup.\n",
      "  MarkupResemblesLocatorWarning\n",
      "100%|██████████████████████████████████████████████████████████████████████████| 53458/53458 [00:18<00:00, 2842.93it/s]\n",
      "100%|██████████████████████████████████████████████████████████████████████████| 54887/54887 [00:18<00:00, 2918.73it/s]\n",
      "c:\\users\\администратор\\appdata\\local\\programs\\python\\python36\\lib\\site-packages\\bs4\\__init__.py:424: MarkupResemblesLocatorWarning: \"https://web.archive.org/web/20160304093037/http://www.kinofilms.org/serial/1693_Family_Guy/seasons/3/5/\" looks like a URL. Beautiful Soup is not an HTTP client. You should probably use an HTTP client like requests to get the document behind the URL, and feed that document to Beautiful Soup.\n",
      "  MarkupResemblesLocatorWarning\n",
      "c:\\users\\администратор\\appdata\\local\\programs\\python\\python36\\lib\\site-packages\\bs4\\__init__.py:424: MarkupResemblesLocatorWarning: \"http://elibrary.kubg.edu.ua/id/eprint/28650\" looks like a URL. Beautiful Soup is not an HTTP client. You should probably use an HTTP client like requests to get the document behind the URL, and feed that document to Beautiful Soup.\n",
      "  MarkupResemblesLocatorWarning\n",
      "100%|██████████████████████████████████████████████████████████████████████████| 52767/52767 [00:17<00:00, 2942.31it/s]\n",
      "c:\\users\\администратор\\appdata\\local\\programs\\python\\python36\\lib\\site-packages\\bs4\\__init__.py:424: MarkupResemblesLocatorWarning: \"http://www.istorya.ru/book/soldaty/35.php\" looks like a URL. Beautiful Soup is not an HTTP client. You should probably use an HTTP client like requests to get the document behind the URL, and feed that document to Beautiful Soup.\n",
      "  MarkupResemblesLocatorWarning\n",
      "c:\\users\\администратор\\appdata\\local\\programs\\python\\python36\\lib\\site-packages\\bs4\\__init__.py:424: MarkupResemblesLocatorWarning: \"http://mrcnn.narod.ru/what.htmКатегория:ЛогикаКатегория:Парадоксы\" looks like a URL. Beautiful Soup is not an HTTP client. You should probably use an HTTP client like requests to get the document behind the URL, and feed that document to Beautiful Soup.\n",
      "  MarkupResemblesLocatorWarning\n",
      "100%|██████████████████████████████████████████████████████████████████████████| 54538/54538 [00:18<00:00, 2990.87it/s]\n",
      "c:\\users\\администратор\\appdata\\local\\programs\\python\\python36\\lib\\site-packages\\bs4\\__init__.py:336: MarkupResemblesLocatorWarning: \"  .\" looks like a filename, not markup. You should probably open this file and pass the filehandle into Beautiful Soup.\n",
      "  MarkupResemblesLocatorWarning\n",
      "100%|██████████████████████████████████████████████████████████████████████████| 56735/56735 [00:22<00:00, 2545.20it/s]\n",
      "c:\\users\\администратор\\appdata\\local\\programs\\python\\python36\\lib\\site-packages\\bs4\\__init__.py:424: MarkupResemblesLocatorWarning: \"http://trecitrg.blogspot.com/2012/01/aleksandra-petrova-samo-drvece.html\" looks like a URL. Beautiful Soup is not an HTTP client. You should probably use an HTTP client like requests to get the document behind the URL, and feed that document to Beautiful Soup.\n",
      "  MarkupResemblesLocatorWarning\n",
      "c:\\users\\администратор\\appdata\\local\\programs\\python\\python36\\lib\\site-packages\\bs4\\__init__.py:424: MarkupResemblesLocatorWarning: \"http://vladimir-khokhlev-2015.bibliowiki.ru/proza/16-polovoi-refleks.html\" looks like a URL. Beautiful Soup is not an HTTP client. You should probably use an HTTP client like requests to get the document behind the URL, and feed that document to Beautiful Soup.\n",
      "  MarkupResemblesLocatorWarning\n",
      "100%|██████████████████████████████████████████████████████████████████████████| 53299/53299 [00:18<00:00, 2849.20it/s]\n"
     ]
    },
    {
     "name": "stdout",
     "output_type": "stream",
     "text": [
      "Duplicates found --- 100,000\n"
     ]
    },
    {
     "name": "stderr",
     "output_type": "stream",
     "text": [
      "c:\\users\\администратор\\appdata\\local\\programs\\python\\python36\\lib\\site-packages\\bs4\\__init__.py:424: MarkupResemblesLocatorWarning: \"https://web.archive.org/web/20160303184958/http://www.bibliomedia.ch/fr/autoren/Polla_Barbara/558.html3.\" looks like a URL. Beautiful Soup is not an HTTP client. You should probably use an HTTP client like requests to get the document behind the URL, and feed that document to Beautiful Soup.\n",
      "  MarkupResemblesLocatorWarning\n",
      "c:\\users\\администратор\\appdata\\local\\programs\\python\\python36\\lib\\site-packages\\bs4\\__init__.py:424: MarkupResemblesLocatorWarning: \"https://analixforever.wordpress.com/4.\" looks like a URL. Beautiful Soup is not an HTTP client. You should probably use an HTTP client like requests to get the document behind the URL, and feed that document to Beautiful Soup.\n",
      "  MarkupResemblesLocatorWarning\n",
      "c:\\users\\администратор\\appdata\\local\\programs\\python\\python36\\lib\\site-packages\\bs4\\__init__.py:424: MarkupResemblesLocatorWarning: \"https://analixforever.wordpress.com/5.\" looks like a URL. Beautiful Soup is not an HTTP client. You should probably use an HTTP client like requests to get the document behind the URL, and feed that document to Beautiful Soup.\n",
      "  MarkupResemblesLocatorWarning\n",
      "c:\\users\\администратор\\appdata\\local\\programs\\python\\python36\\lib\\site-packages\\bs4\\__init__.py:424: MarkupResemblesLocatorWarning: \"http://www.mac-lyon.com/mac/sections/fr/expositions/2014/motopoetique/motopoetique/6.\" looks like a URL. Beautiful Soup is not an HTTP client. You should probably use an HTTP client like requests to get the document behind the URL, and feed that document to Beautiful Soup.\n",
      "  MarkupResemblesLocatorWarning\n",
      "c:\\users\\администратор\\appdata\\local\\programs\\python\\python36\\lib\\site-packages\\bs4\\__init__.py:424: MarkupResemblesLocatorWarning: \"http://www.hec.fr/News-Room/Actualites/Economie-humaine-la-nouvelle-exposition-de-l-Espace-d-art-contemporain-HEC7.\" looks like a URL. Beautiful Soup is not an HTTP client. You should probably use an HTTP client like requests to get the document behind the URL, and feed that document to Beautiful Soup.\n",
      "  MarkupResemblesLocatorWarning\n",
      "c:\\users\\администратор\\appdata\\local\\programs\\python\\python36\\lib\\site-packages\\bs4\\__init__.py:424: MarkupResemblesLocatorWarning: \"http://www.citizen-k.com/8.\" looks like a URL. Beautiful Soup is not an HTTP client. You should probably use an HTTP client like requests to get the document behind the URL, and feed that document to Beautiful Soup.\n",
      "  MarkupResemblesLocatorWarning\n",
      "c:\\users\\администратор\\appdata\\local\\programs\\python\\python36\\lib\\site-packages\\bs4\\__init__.py:424: MarkupResemblesLocatorWarning: \"http://www.crash.fr/9.\" looks like a URL. Beautiful Soup is not an HTTP client. You should probably use an HTTP client like requests to get the document behind the URL, and feed that document to Beautiful Soup.\n",
      "  MarkupResemblesLocatorWarning\n",
      "c:\\users\\администратор\\appdata\\local\\programs\\python\\python36\\lib\\site-packages\\bs4\\__init__.py:424: MarkupResemblesLocatorWarning: \"http://www.dromemagazine.com/10.\" looks like a URL. Beautiful Soup is not an HTTP client. You should probably use an HTTP client like requests to get the document behind the URL, and feed that document to Beautiful Soup.\n",
      "  MarkupResemblesLocatorWarning\n",
      "c:\\users\\администратор\\appdata\\local\\programs\\python\\python36\\lib\\site-packages\\bs4\\__init__.py:424: MarkupResemblesLocatorWarning: \"http://www.roots-routes.org/11.\" looks like a URL. Beautiful Soup is not an HTTP client. You should probably use an HTTP client like requests to get the document behind the URL, and feed that document to Beautiful Soup.\n",
      "  MarkupResemblesLocatorWarning\n",
      "c:\\users\\администратор\\appdata\\local\\programs\\python\\python36\\lib\\site-packages\\bs4\\__init__.py:424: MarkupResemblesLocatorWarning: \"https://barbarapolla.files.wordpress.com/2013/06/rcm_lowdef.pdf12.\" looks like a URL. Beautiful Soup is not an HTTP client. You should probably use an HTTP client like requests to get the document behind the URL, and feed that document to Beautiful Soup.\n",
      "  MarkupResemblesLocatorWarning\n",
      "c:\\users\\администратор\\appdata\\local\\programs\\python\\python36\\lib\\site-packages\\bs4\\__init__.py:424: MarkupResemblesLocatorWarning: \"https://archiemo.wordpress.com/13.\" looks like a URL. Beautiful Soup is not an HTTP client. You should probably use an HTTP client like requests to get the document behind the URL, and feed that document to Beautiful Soup.\n",
      "  MarkupResemblesLocatorWarning\n",
      "c:\\users\\администратор\\appdata\\local\\programs\\python\\python36\\lib\\site-packages\\bs4\\__init__.py:424: MarkupResemblesLocatorWarning: \"https://web.archive.org/web/20160303183429/http://www.geneve.ch/elections/19991024/res_cn_candidat.asp?nocand=4814.\" looks like a URL. Beautiful Soup is not an HTTP client. You should probably use an HTTP client like requests to get the document behind the URL, and feed that document to Beautiful Soup.\n",
      "  MarkupResemblesLocatorWarning\n",
      "c:\\users\\администратор\\appdata\\local\\programs\\python\\python36\\lib\\site-packages\\bs4\\__init__.py:424: MarkupResemblesLocatorWarning: \"http://www.parlament.ch/cv-biografie?biografie_id=50116.http://www.lamuette.be/fr/books/lennemi-public/328/17.http://www.magda-gallery.com/18.\" looks like a URL. Beautiful Soup is not an HTTP client. You should probably use an HTTP client like requests to get the document behind the URL, and feed that document to Beautiful Soup.\n",
      "  MarkupResemblesLocatorWarning\n",
      "c:\\users\\администратор\\appdata\\local\\programs\\python\\python36\\lib\\site-packages\\bs4\\__init__.py:424: MarkupResemblesLocatorWarning: \"https://analixforever.wordpress.com/2014/10/17/la-belle-echappee-au-chateau-des-adhemar/19.\" looks like a URL. Beautiful Soup is not an HTTP client. You should probably use an HTTP client like requests to get the document behind the URL, and feed that document to Beautiful Soup.\n",
      "  MarkupResemblesLocatorWarning\n",
      "c:\\users\\администратор\\appdata\\local\\programs\\python\\python36\\lib\\site-packages\\bs4\\__init__.py:424: MarkupResemblesLocatorWarning: \"http://slash-paris.com/en/articles/le-sens-de-la-peine-a-la-terrasse-de-nanterre-entretien-avec-barbara-polla20.\" looks like a URL. Beautiful Soup is not an HTTP client. You should probably use an HTTP client like requests to get the document behind the URL, and feed that document to Beautiful Soup.\n",
      "  MarkupResemblesLocatorWarning\n",
      "c:\\users\\администратор\\appdata\\local\\programs\\python\\python36\\lib\\site-packages\\bs4\\__init__.py:424: MarkupResemblesLocatorWarning: \"https://web.archive.org/web/20160403141719/http://lesbinocles.fr/index.php/2016/02/15/prisons-de-fer-de-chair-desprit/21.http://www.dromemagazine.com/the-meaning-of-pain-a-show-of-art-and-prisons/22.\" looks like a URL. Beautiful Soup is not an HTTP client. You should probably use an HTTP client like requests to get the document behind the URL, and feed that document to Beautiful Soup.\n",
      "  MarkupResemblesLocatorWarning\n",
      "100%|██████████████████████████████████████████████████████████████████████████| 51990/51990 [00:17<00:00, 2891.71it/s]\n",
      "c:\\users\\администратор\\appdata\\local\\programs\\python\\python36\\lib\\site-packages\\bs4\\__init__.py:424: MarkupResemblesLocatorWarning: \"http://eben.goodale.googlepages.com/Forktailarticle.pdf.\" looks like a URL. Beautiful Soup is not an HTTP client. You should probably use an HTTP client like requests to get the document behind the URL, and feed that document to Beautiful Soup.\n",
      "  MarkupResemblesLocatorWarning\n",
      "c:\\users\\администратор\\appdata\\local\\programs\\python\\python36\\lib\\site-packages\\bs4\\__init__.py:424: MarkupResemblesLocatorWarning: \"https://archive.org/stream/popularhandbooko033226mbp#page/n91/mode/1up/search/atriceps.\" looks like a URL. Beautiful Soup is not an HTTP client. You should probably use an HTTP client like requests to get the document behind the URL, and feed that document to Beautiful Soup.\n",
      "  MarkupResemblesLocatorWarning\n",
      "100%|██████████████████████████████████████████████████████████████████████████| 52194/52194 [00:17<00:00, 2952.88it/s]\n",
      "100%|██████████████████████████████████████████████████████████████████████████| 52035/52035 [00:17<00:00, 2931.45it/s]\n",
      "c:\\users\\администратор\\appdata\\local\\programs\\python\\python36\\lib\\site-packages\\bs4\\__init__.py:424: MarkupResemblesLocatorWarning: \"https://web.archive.org/web/20080620011643/http://armenianstudies.csufresno.edu/iaa_architecture/talincathedral.htm.\" looks like a URL. Beautiful Soup is not an HTTP client. You should probably use an HTTP client like requests to get the document behind the URL, and feed that document to Beautiful Soup.\n",
      "  MarkupResemblesLocatorWarning\n"
     ]
    },
    {
     "name": "stderr",
     "output_type": "stream",
     "text": [
      "c:\\users\\администратор\\appdata\\local\\programs\\python\\python36\\lib\\site-packages\\bs4\\__init__.py:424: MarkupResemblesLocatorWarning: \"http://anima.ucoz.ru/vstrechi/char/char_7_srv.html\" looks like a URL. Beautiful Soup is not an HTTP client. You should probably use an HTTP client like requests to get the document behind the URL, and feed that document to Beautiful Soup.\n",
      "  MarkupResemblesLocatorWarning\n",
      "100%|██████████████████████████████████████████████████████████████████████████| 52966/52966 [00:17<00:00, 2985.11it/s]\n",
      "100%|██████████████████████████████████████████████████████████████████████████| 56213/56213 [00:17<00:00, 3166.16it/s]\n",
      "c:\\users\\администратор\\appdata\\local\\programs\\python\\python36\\lib\\site-packages\\bs4\\__init__.py:336: MarkupResemblesLocatorWarning: \"                              .\" looks like a filename, not markup. You should probably open this file and pass the filehandle into Beautiful Soup.\n",
      "  MarkupResemblesLocatorWarning\n",
      "c:\\users\\администратор\\appdata\\local\\programs\\python\\python36\\lib\\site-packages\\bs4\\__init__.py:424: MarkupResemblesLocatorWarning: \"https://web.archive.org/web/20021231060404/http://ksgnotes1.harvard.edu/BCSIA/Library.nsf/pubs/WarOpEd.\" looks like a URL. Beautiful Soup is not an HTTP client. You should probably use an HTTP client like requests to get the document behind the URL, and feed that document to Beautiful Soup.\n",
      "  MarkupResemblesLocatorWarning\n",
      "c:\\users\\администратор\\appdata\\local\\programs\\python\\python36\\lib\\site-packages\\bs4\\__init__.py:424: MarkupResemblesLocatorWarning: \"https://web.archive.org/web/20010219035301/http://www.harvard-magazine.com/archive/00so/so00.russia.html.\" looks like a URL. Beautiful Soup is not an HTTP client. You should probably use an HTTP client like requests to get the document behind the URL, and feed that document to Beautiful Soup.\n",
      "  MarkupResemblesLocatorWarning\n",
      "100%|██████████████████████████████████████████████████████████████████████████| 52193/52193 [00:17<00:00, 2987.10it/s]\n",
      "c:\\users\\администратор\\appdata\\local\\programs\\python\\python36\\lib\\site-packages\\bs4\\__init__.py:424: MarkupResemblesLocatorWarning: \"http://supsov.narod.ru/HTML/D1724.HTML.\" looks like a URL. Beautiful Soup is not an HTTP client. You should probably use an HTTP client like requests to get the document behind the URL, and feed that document to Beautiful Soup.\n",
      "  MarkupResemblesLocatorWarning\n",
      "100%|██████████████████████████████████████████████████████████████████████████| 52164/52164 [00:17<00:00, 2964.32it/s]\n",
      "c:\\users\\администратор\\appdata\\local\\programs\\python\\python36\\lib\\site-packages\\bs4\\__init__.py:336: MarkupResemblesLocatorWarning: \"D\" looks like a filename, not markup. You should probably open this file and pass the filehandle into Beautiful Soup.\n",
      "  MarkupResemblesLocatorWarning\n",
      "c:\\users\\администратор\\appdata\\local\\programs\\python\\python36\\lib\\site-packages\\bs4\\__init__.py:424: MarkupResemblesLocatorWarning: \"https://web.archive.org/web/20090601075302/http://www.lablaa.org/blaavirtual/publicacionesbanrep/bolmuseo/1981/bol10/indice.htm.\" looks like a URL. Beautiful Soup is not an HTTP client. You should probably use an HTTP client like requests to get the document behind the URL, and feed that document to Beautiful Soup.\n",
      "  MarkupResemblesLocatorWarning\n",
      "100%|██████████████████████████████████████████████████████████████████████████| 52340/52340 [00:17<00:00, 3007.18it/s]\n",
      "100%|██████████████████████████████████████████████████████████████████████████| 51648/51648 [00:17<00:00, 2971.71it/s]\n",
      "c:\\users\\администратор\\appdata\\local\\programs\\python\\python36\\lib\\site-packages\\bs4\\__init__.py:424: MarkupResemblesLocatorWarning: \"https://www.mdpi.com/2075-4450/11/1/51/htm\" looks like a URL. Beautiful Soup is not an HTTP client. You should probably use an HTTP client like requests to get the document behind the URL, and feed that document to Beautiful Soup.\n",
      "  MarkupResemblesLocatorWarning\n",
      "100%|██████████████████████████████████████████████████████████████████████████| 63343/63343 [00:19<00:00, 3216.01it/s]\n",
      "100%|██████████████████████████████████████████████████████████████████████████| 50872/50872 [00:17<00:00, 2969.58it/s]\n",
      "100%|██████████████████████████████████████████████████████████████████████████| 57158/57158 [00:18<00:00, 3064.61it/s]\n",
      "c:\\users\\администратор\\appdata\\local\\programs\\python\\python36\\lib\\site-packages\\bs4\\__init__.py:424: MarkupResemblesLocatorWarning: \"http://www.dailymail.co.uk/news/article-1196176/Have-20p-worth-50-pocket-Royal-Mint-error-results-undated-coins.html.\" looks like a URL. Beautiful Soup is not an HTTP client. You should probably use an HTTP client like requests to get the document behind the URL, and feed that document to Beautiful Soup.\n",
      "  MarkupResemblesLocatorWarning\n",
      "c:\\users\\администратор\\appdata\\local\\programs\\python\\python36\\lib\\site-packages\\bs4\\__init__.py:424: MarkupResemblesLocatorWarning: \"http://www.telegraph.co.uk/news/newstopics/howaboutthat/5676529/Mix-up-at-Royal-Mint-creates-dateless-20p-pieces-worth-50.html.\" looks like a URL. Beautiful Soup is not an HTTP client. You should probably use an HTTP client like requests to get the document behind the URL, and feed that document to Beautiful Soup.\n",
      "  MarkupResemblesLocatorWarning\n",
      "100%|██████████████████████████████████████████████████████████████████████████| 59434/59434 [00:19<00:00, 3127.93it/s]\n",
      "100%|██████████████████████████████████████████████████████████████████████████| 51521/51521 [00:17<00:00, 2938.31it/s]\n",
      "100%|██████████████████████████████████████████████████████████████████████████| 59209/59209 [00:18<00:00, 3147.77it/s]\n",
      "c:\\users\\администратор\\appdata\\local\\programs\\python\\python36\\lib\\site-packages\\bs4\\__init__.py:424: MarkupResemblesLocatorWarning: \"https://books.google.com/books?id=GiZ5uH666q8C&pg=PA246&dq=apocopat&as_brr=3&ei=zlNFS93XKZHiygTjloj4DQ&cd=9#v=onepage&q=apocopat&f=false-->\" looks like a URL. Beautiful Soup is not an HTTP client. You should probably use an HTTP client like requests to get the document behind the URL, and feed that document to Beautiful Soup.\n",
      "  MarkupResemblesLocatorWarning\n",
      "c:\\users\\администратор\\appdata\\local\\programs\\python\\python36\\lib\\site-packages\\bs4\\__init__.py:424: MarkupResemblesLocatorWarning: \"https://wikivisually.com/wiki/List_of_Electroputere_locomotives3.\" looks like a URL. Beautiful Soup is not an HTTP client. You should probably use an HTTP client like requests to get the document behind the URL, and feed that document to Beautiful Soup.\n",
      "  MarkupResemblesLocatorWarning\n",
      "c:\\users\\администратор\\appdata\\local\\programs\\python\\python36\\lib\\site-packages\\bs4\\__init__.py:424: MarkupResemblesLocatorWarning: \"https://acetyl.ru/o/qy36.php\" looks like a URL. Beautiful Soup is not an HTTP client. You should probably use an HTTP client like requests to get the document behind the URL, and feed that document to Beautiful Soup.\n",
      "  MarkupResemblesLocatorWarning\n",
      "100%|██████████████████████████████████████████████████████████████████████████| 55684/55684 [00:18<00:00, 3092.98it/s]\n",
      "100%|██████████████████████████████████████████████████████████████████████████| 53886/53886 [00:18<00:00, 2959.80it/s]\n",
      "c:\\users\\администратор\\appdata\\local\\programs\\python\\python36\\lib\\site-packages\\bs4\\__init__.py:424: MarkupResemblesLocatorWarning: \"https://web.archive.org/web/20120130111204/http://bvirtual.bnp.gob.pe/BVIC/Captura/upload/jimenez_0001s.pdf\" looks like a URL. Beautiful Soup is not an HTTP client. You should probably use an HTTP client like requests to get the document behind the URL, and feed that document to Beautiful Soup.\n",
      "  MarkupResemblesLocatorWarning\n",
      "c:\\users\\администратор\\appdata\\local\\programs\\python\\python36\\lib\\site-packages\\bs4\\__init__.py:424: MarkupResemblesLocatorWarning: \"https://www.instagram.com/spotting_ykt/?hl=cs\" looks like a URL. Beautiful Soup is not an HTTP client. You should probably use an HTTP client like requests to get the document behind the URL, and feed that document to Beautiful Soup.\n",
      "  MarkupResemblesLocatorWarning\n",
      "100%|██████████████████████████████████████████████████████████████████████████| 52369/52369 [00:17<00:00, 3012.35it/s]\n"
     ]
    },
    {
     "name": "stderr",
     "output_type": "stream",
     "text": [
      "100%|██████████████████████████████████████████████████████████████████████████| 51044/51044 [00:17<00:00, 2951.62it/s]\n",
      "c:\\users\\администратор\\appdata\\local\\programs\\python\\python36\\lib\\site-packages\\bs4\\__init__.py:424: MarkupResemblesLocatorWarning: \"https://www.wired.com/wired/archive/14.06/crowds.html.\" looks like a URL. Beautiful Soup is not an HTTP client. You should probably use an HTTP client like requests to get the document behind the URL, and feed that document to Beautiful Soup.\n",
      "  MarkupResemblesLocatorWarning\n",
      "100%|██████████████████████████████████████████████████████████████████████████| 52683/52683 [00:17<00:00, 3020.58it/s]\n",
      "c:\\users\\администратор\\appdata\\local\\programs\\python\\python36\\lib\\site-packages\\bs4\\__init__.py:424: MarkupResemblesLocatorWarning: \"https://web.archive.org/web/20100331212803/http://www.wmich.edu/evalctr/checklists/papers/insidescoop.pdf\" looks like a URL. Beautiful Soup is not an HTTP client. You should probably use an HTTP client like requests to get the document behind the URL, and feed that document to Beautiful Soup.\n",
      "  MarkupResemblesLocatorWarning\n",
      "c:\\users\\администратор\\appdata\\local\\programs\\python\\python36\\lib\\site-packages\\bs4\\__init__.py:424: MarkupResemblesLocatorWarning: \"http://www.redstar.ru/2009/12/19_12/3_05.html\" looks like a URL. Beautiful Soup is not an HTTP client. You should probably use an HTTP client like requests to get the document behind the URL, and feed that document to Beautiful Soup.\n",
      "  MarkupResemblesLocatorWarning\n",
      "c:\\users\\администратор\\appdata\\local\\programs\\python\\python36\\lib\\site-packages\\bs4\\__init__.py:424: MarkupResemblesLocatorWarning: \"https://lechaim.ru/ARHIV/178/tart.htm.)\" looks like a URL. Beautiful Soup is not an HTTP client. You should probably use an HTTP client like requests to get the document behind the URL, and feed that document to Beautiful Soup.\n",
      "  MarkupResemblesLocatorWarning\n",
      "100%|██████████████████████████████████████████████████████████████████████████| 52016/52016 [00:17<00:00, 3006.95it/s]\n",
      "c:\\users\\администратор\\appdata\\local\\programs\\python\\python36\\lib\\site-packages\\bs4\\__init__.py:424: MarkupResemblesLocatorWarning: \"http://www.mirtsvetov.ru\" looks like a URL. Beautiful Soup is not an HTTP client. You should probably use an HTTP client like requests to get the document behind the URL, and feed that document to Beautiful Soup.\n",
      "  MarkupResemblesLocatorWarning\n",
      "c:\\users\\администратор\\appdata\\local\\programs\\python\\python36\\lib\\site-packages\\bs4\\__init__.py:424: MarkupResemblesLocatorWarning: \"http://jasn.asnjournals.org/cgi/pmidlookup?view=long&pmid=16192417.\" looks like a URL. Beautiful Soup is not an HTTP client. You should probably use an HTTP client like requests to get the document behind the URL, and feed that document to Beautiful Soup.\n",
      "  MarkupResemblesLocatorWarning\n",
      "c:\\users\\администратор\\appdata\\local\\programs\\python\\python36\\lib\\site-packages\\bs4\\__init__.py:424: MarkupResemblesLocatorWarning: \"http://content.karger.com/produktedb/produkte.asp?typ=pdf&file=NEP2004096002037.\" looks like a URL. Beautiful Soup is not an HTTP client. You should probably use an HTTP client like requests to get the document behind the URL, and feed that document to Beautiful Soup.\n",
      "  MarkupResemblesLocatorWarning\n",
      "c:\\users\\администратор\\appdata\\local\\programs\\python\\python36\\lib\\site-packages\\bs4\\__init__.py:336: MarkupResemblesLocatorWarning: \"\\\" looks like a filename, not markup. You should probably open this file and pass the filehandle into Beautiful Soup.\n",
      "  MarkupResemblesLocatorWarning\n",
      "c:\\users\\администратор\\appdata\\local\\programs\\python\\python36\\lib\\site-packages\\bs4\\__init__.py:424: MarkupResemblesLocatorWarning: \"https://dx.doi.org/10.11646%2Fzootaxa.1306.1.6\" looks like a URL. Beautiful Soup is not an HTTP client. You should probably use an HTTP client like requests to get the document behind the URL, and feed that document to Beautiful Soup.\n",
      "  MarkupResemblesLocatorWarning\n",
      "100%|██████████████████████████████████████████████████████████████████████████| 53579/53579 [00:17<00:00, 3008.80it/s]\n",
      "100%|██████████████████████████████████████████████████████████████████████████| 69078/69078 [00:21<00:00, 3257.23it/s]\n"
     ]
    },
    {
     "name": "stdout",
     "output_type": "stream",
     "text": [
      "Duplicates found --- 200,000\n"
     ]
    },
    {
     "name": "stderr",
     "output_type": "stream",
     "text": [
      "c:\\users\\администратор\\appdata\\local\\programs\\python\\python36\\lib\\site-packages\\bs4\\__init__.py:424: MarkupResemblesLocatorWarning: \"http://m.vest-news.ru/article/68222\" looks like a URL. Beautiful Soup is not an HTTP client. You should probably use an HTTP client like requests to get the document behind the URL, and feed that document to Beautiful Soup.\n",
      "  MarkupResemblesLocatorWarning\n",
      "c:\\users\\администратор\\appdata\\local\\programs\\python\\python36\\lib\\site-packages\\bs4\\__init__.py:424: MarkupResemblesLocatorWarning: \"http://www.guardian.co.uk/world/2008/jul/30/balkans\" looks like a URL. Beautiful Soup is not an HTTP client. You should probably use an HTTP client like requests to get the document behind the URL, and feed that document to Beautiful Soup.\n",
      "  MarkupResemblesLocatorWarning\n",
      "100%|██████████████████████████████████████████████████████████████████████████| 54312/54312 [00:18<00:00, 3016.62it/s]\n",
      "c:\\users\\администратор\\appdata\\local\\programs\\python\\python36\\lib\\site-packages\\bs4\\__init__.py:424: MarkupResemblesLocatorWarning: \"https://gaugn.ru/ru-ru/activity-feed/userId/357.\" looks like a URL. Beautiful Soup is not an HTTP client. You should probably use an HTTP client like requests to get the document behind the URL, and feed that document to Beautiful Soup.\n",
      "  MarkupResemblesLocatorWarning\n",
      "c:\\users\\администратор\\appdata\\local\\programs\\python\\python36\\lib\\site-packages\\bs4\\__init__.py:424: MarkupResemblesLocatorWarning: \"http://www.ssb.no/english/subjects/02/01/10/beftett_en/tab-2007-06-07-01-en.\" looks like a URL. Beautiful Soup is not an HTTP client. You should probably use an HTTP client like requests to get the document behind the URL, and feed that document to Beautiful Soup.\n",
      "  MarkupResemblesLocatorWarning\n",
      "100%|██████████████████████████████████████████████████████████████████████████| 53723/53723 [00:18<00:00, 2981.62it/s]\n",
      "c:\\users\\администратор\\appdata\\local\\programs\\python\\python36\\lib\\site-packages\\bs4\\__init__.py:424: MarkupResemblesLocatorWarning: \"https://gtrkkursk.ru/news/4899-dopvyborah-kurskoe-gorsobranie-pobedil-sergey-emelyanov.\" looks like a URL. Beautiful Soup is not an HTTP client. You should probably use an HTTP client like requests to get the document behind the URL, and feed that document to Beautiful Soup.\n",
      "  MarkupResemblesLocatorWarning\n",
      "c:\\users\\администратор\\appdata\\local\\programs\\python\\python36\\lib\\site-packages\\bs4\\__init__.py:424: MarkupResemblesLocatorWarning: \"http://www.knowbysight.info/BBB/05351.asp\" looks like a URL. Beautiful Soup is not an HTTP client. You should probably use an HTTP client like requests to get the document behind the URL, and feed that document to Beautiful Soup.\n",
      "  MarkupResemblesLocatorWarning\n",
      "100%|██████████████████████████████████████████████████████████████████████████| 51295/51295 [00:17<00:00, 2977.04it/s]\n",
      "c:\\users\\администратор\\appdata\\local\\programs\\python\\python36\\lib\\site-packages\\bs4\\__init__.py:424: MarkupResemblesLocatorWarning: \"http://www.iep.utm.edu/t/thrasymachus.htm#H1.\" looks like a URL. Beautiful Soup is not an HTTP client. You should probably use an HTTP client like requests to get the document behind the URL, and feed that document to Beautiful Soup.\n",
      "  MarkupResemblesLocatorWarning\n",
      "c:\\users\\администратор\\appdata\\local\\programs\\python\\python36\\lib\\site-packages\\bs4\\__init__.py:424: MarkupResemblesLocatorWarning: \"https://thefrontrowcenter.com/2016/02/defendant-maurice-chevalier/\" looks like a URL. Beautiful Soup is not an HTTP client. You should probably use an HTTP client like requests to get the document behind the URL, and feed that document to Beautiful Soup.\n",
      "  MarkupResemblesLocatorWarning\n",
      "c:\\users\\администратор\\appdata\\local\\programs\\python\\python36\\lib\\site-packages\\bs4\\__init__.py:424: MarkupResemblesLocatorWarning: \"https://web.archive.org/web/20080518194148/http://www.jhc.org/cgi/content/abstract/47/11/1471.\" looks like a URL. Beautiful Soup is not an HTTP client. You should probably use an HTTP client like requests to get the document behind the URL, and feed that document to Beautiful Soup.\n",
      "  MarkupResemblesLocatorWarning\n",
      "100%|██████████████████████████████████████████████████████████████████████████| 51412/51412 [00:17<00:00, 2995.09it/s]\n",
      "c:\\users\\администратор\\appdata\\local\\programs\\python\\python36\\lib\\site-packages\\bs4\\__init__.py:424: MarkupResemblesLocatorWarning: \"https://www.youtube.com/watch?v=H9kB4sdvZTo&feature=related\" looks like a URL. Beautiful Soup is not an HTTP client. You should probably use an HTTP client like requests to get the document behind the URL, and feed that document to Beautiful Soup.\n",
      "  MarkupResemblesLocatorWarning\n",
      "c:\\users\\администратор\\appdata\\local\\programs\\python\\python36\\lib\\site-packages\\bs4\\__init__.py:424: MarkupResemblesLocatorWarning: \"https://doi.org/10.11646/zootaxa.4161.3.5\" looks like a URL. Beautiful Soup is not an HTTP client. You should probably use an HTTP client like requests to get the document behind the URL, and feed that document to Beautiful Soup.\n",
      "  MarkupResemblesLocatorWarning\n",
      "c:\\users\\администратор\\appdata\\local\\programs\\python\\python36\\lib\\site-packages\\bs4\\__init__.py:424: MarkupResemblesLocatorWarning: \"http://e3e5.com/article.php?id=1770\" looks like a URL. Beautiful Soup is not an HTTP client. You should probably use an HTTP client like requests to get the document behind the URL, and feed that document to Beautiful Soup.\n",
      "  MarkupResemblesLocatorWarning\n",
      "100%|██████████████████████████████████████████████████████████████████████████| 53188/53188 [00:17<00:00, 3016.00it/s]\n",
      "c:\\users\\администратор\\appdata\\local\\programs\\python\\python36\\lib\\site-packages\\bs4\\__init__.py:424: MarkupResemblesLocatorWarning: \"https://web.archive.org/web/20101129193232/http://sgisland.gs/index.php/%28h%29South_Georgia_Newsletter%2C_Nov_2009\" looks like a URL. Beautiful Soup is not an HTTP client. You should probably use an HTTP client like requests to get the document behind the URL, and feed that document to Beautiful Soup.\n",
      "  MarkupResemblesLocatorWarning\n",
      "100%|██████████████████████████████████████████████████████████████████████████| 52258/52258 [00:17<00:00, 2970.93it/s]\n",
      "100%|██████████████████████████████████████████████████████████████████████████| 54840/54840 [00:18<00:00, 3033.45it/s]\n",
      "c:\\users\\администратор\\appdata\\local\\programs\\python\\python36\\lib\\site-packages\\bs4\\__init__.py:424: MarkupResemblesLocatorWarning: \"http://www.isras.ru/publ.html?id=2801).\" looks like a URL. Beautiful Soup is not an HTTP client. You should probably use an HTTP client like requests to get the document behind the URL, and feed that document to Beautiful Soup.\n",
      "  MarkupResemblesLocatorWarning\n",
      "100%|██████████████████████████████████████████████████████████████████████████| 55643/55643 [00:18<00:00, 3033.89it/s]\n",
      "100%|██████████████████████████████████████████████████████████████████████████| 52872/52872 [00:17<00:00, 3010.70it/s]\n",
      "c:\\users\\администратор\\appdata\\local\\programs\\python\\python36\\lib\\site-packages\\bs4\\__init__.py:424: MarkupResemblesLocatorWarning: \"http://www.mbs.ma/En/morocco1-2-4.htm.\" looks like a URL. Beautiful Soup is not an HTTP client. You should probably use an HTTP client like requests to get the document behind the URL, and feed that document to Beautiful Soup.\n",
      "  MarkupResemblesLocatorWarning\n",
      "c:\\users\\администратор\\appdata\\local\\programs\\python\\python36\\lib\\site-packages\\bs4\\__init__.py:424: MarkupResemblesLocatorWarning: \"http://news.bbc.co.uk/onthisday/hi/dates/stories/july/13/newsid_2503000/2503093.stm.\" looks like a URL. Beautiful Soup is not an HTTP client. You should probably use an HTTP client like requests to get the document behind the URL, and feed that document to Beautiful Soup.\n",
      "  MarkupResemblesLocatorWarning\n",
      "100%|██████████████████████████████████████████████████████████████████████████| 50861/50861 [00:17<00:00, 2963.25it/s]\n",
      "c:\\users\\администратор\\appdata\\local\\programs\\python\\python36\\lib\\site-packages\\bs4\\__init__.py:424: MarkupResemblesLocatorWarning: \"http://www.worldcat.org/oclc/608047.\" looks like a URL. Beautiful Soup is not an HTTP client. You should probably use an HTTP client like requests to get the document behind the URL, and feed that document to Beautiful Soup.\n",
      "  MarkupResemblesLocatorWarning\n",
      "c:\\users\\администратор\\appdata\\local\\programs\\python\\python36\\lib\\site-packages\\bs4\\__init__.py:424: MarkupResemblesLocatorWarning: \"http://www.worldcat.org/oclc/77560622.\" looks like a URL. Beautiful Soup is not an HTTP client. You should probably use an HTTP client like requests to get the document behind the URL, and feed that document to Beautiful Soup.\n",
      "  MarkupResemblesLocatorWarning\n"
     ]
    },
    {
     "name": "stderr",
     "output_type": "stream",
     "text": [
      "100%|██████████████████████████████████████████████████████████████████████████| 50723/50723 [00:16<00:00, 3012.81it/s]\n",
      "100%|██████████████████████████████████████████████████████████████████████████| 49059/49059 [00:16<00:00, 2990.46it/s]\n",
      "c:\\users\\администратор\\appdata\\local\\programs\\python\\python36\\lib\\site-packages\\bs4\\__init__.py:424: MarkupResemblesLocatorWarning: \"http://aroundguides.com/29104448\" looks like a URL. Beautiful Soup is not an HTTP client. You should probably use an HTTP client like requests to get the document behind the URL, and feed that document to Beautiful Soup.\n",
      "  MarkupResemblesLocatorWarning\n",
      "100%|██████████████████████████████████████████████████████████████████████████| 55598/55598 [00:17<00:00, 3113.93it/s]\n",
      "100%|██████████████████████████████████████████████████████████████████████████| 49903/49903 [00:16<00:00, 2942.77it/s]\n",
      "100%|██████████████████████████████████████████████████████████████████████████| 52438/52438 [00:17<00:00, 3022.73it/s]\n",
      "c:\\users\\администратор\\appdata\\local\\programs\\python\\python36\\lib\\site-packages\\bs4\\__init__.py:424: MarkupResemblesLocatorWarning: \"http://istkurier.ru/data/2019/ISTKURIER-2019-6-10.pdfDOI:10.31518/2618-9100-2018-2-16\" looks like a URL. Beautiful Soup is not an HTTP client. You should probably use an HTTP client like requests to get the document behind the URL, and feed that document to Beautiful Soup.\n",
      "  MarkupResemblesLocatorWarning\n",
      "100%|██████████████████████████████████████████████████████████████████████████| 53461/53461 [00:17<00:00, 3024.23it/s]\n",
      "100%|██████████████████████████████████████████████████████████████████████████| 50779/50779 [00:17<00:00, 2982.18it/s]\n",
      "c:\\users\\администратор\\appdata\\local\\programs\\python\\python36\\lib\\site-packages\\bs4\\__init__.py:424: MarkupResemblesLocatorWarning: \"http://books.ifmo.ru/file/pdf/243.pdf\" looks like a URL. Beautiful Soup is not an HTTP client. You should probably use an HTTP client like requests to get the document behind the URL, and feed that document to Beautiful Soup.\n",
      "  MarkupResemblesLocatorWarning\n",
      "100%|██████████████████████████████████████████████████████████████████████████| 51842/51842 [00:17<00:00, 2991.83it/s]\n",
      "c:\\users\\администратор\\appdata\\local\\programs\\python\\python36\\lib\\site-packages\\bs4\\__init__.py:424: MarkupResemblesLocatorWarning: \"https://doi.org/10.11646/zootaxa.3964.5.3.\" looks like a URL. Beautiful Soup is not an HTTP client. You should probably use an HTTP client like requests to get the document behind the URL, and feed that document to Beautiful Soup.\n",
      "  MarkupResemblesLocatorWarning\n",
      "c:\\users\\администратор\\appdata\\local\\programs\\python\\python36\\lib\\site-packages\\bs4\\__init__.py:424: MarkupResemblesLocatorWarning: \"https://doi.org/10.11646/zootaxa.4457.2.9.\" looks like a URL. Beautiful Soup is not an HTTP client. You should probably use an HTTP client like requests to get the document behind the URL, and feed that document to Beautiful Soup.\n",
      "  MarkupResemblesLocatorWarning\n",
      "c:\\users\\администратор\\appdata\\local\\programs\\python\\python36\\lib\\site-packages\\bs4\\__init__.py:424: MarkupResemblesLocatorWarning: \"https://doi.org/10.2317/JKESD1600030.1\" looks like a URL. Beautiful Soup is not an HTTP client. You should probably use an HTTP client like requests to get the document behind the URL, and feed that document to Beautiful Soup.\n",
      "  MarkupResemblesLocatorWarning\n",
      "100%|██████████████████████████████████████████████████████████████████████████| 52049/52049 [00:17<00:00, 2997.13it/s]\n",
      "100%|██████████████████████████████████████████████████████████████████████████| 52377/52377 [00:17<00:00, 3011.73it/s]\n",
      "100%|██████████████████████████████████████████████████████████████████████████| 53131/53131 [00:17<00:00, 2980.98it/s]\n"
     ]
    },
    {
     "name": "stdout",
     "output_type": "stream",
     "text": [
      "Duplicates found --- 300,000\n"
     ]
    },
    {
     "name": "stderr",
     "output_type": "stream",
     "text": [
      "c:\\users\\администратор\\appdata\\local\\programs\\python\\python36\\lib\\site-packages\\bs4\\__init__.py:424: MarkupResemblesLocatorWarning: \"http://nvo.ng.ru/realty/2016-03-25/12_jubiley.html\" looks like a URL. Beautiful Soup is not an HTTP client. You should probably use an HTTP client like requests to get the document behind the URL, and feed that document to Beautiful Soup.\n",
      "  MarkupResemblesLocatorWarning\n",
      "100%|██████████████████████████████████████████████████████████████████████████| 53799/53799 [00:17<00:00, 3032.02it/s]\n",
      "c:\\users\\администратор\\appdata\\local\\programs\\python\\python36\\lib\\site-packages\\bs4\\__init__.py:336: MarkupResemblesLocatorWarning: \"  ...\" looks like a filename, not markup. You should probably open this file and pass the filehandle into Beautiful Soup.\n",
      "  MarkupResemblesLocatorWarning\n",
      "c:\\users\\администратор\\appdata\\local\\programs\\python\\python36\\lib\\site-packages\\bs4\\__init__.py:424: MarkupResemblesLocatorWarning: \"http://forum.vgd.ru/post/614/84925/p2460667.htm#pp2460667\" looks like a URL. Beautiful Soup is not an HTTP client. You should probably use an HTTP client like requests to get the document behind the URL, and feed that document to Beautiful Soup.\n",
      "  MarkupResemblesLocatorWarning\n",
      "c:\\users\\администратор\\appdata\\local\\programs\\python\\python36\\lib\\site-packages\\bs4\\__init__.py:424: MarkupResemblesLocatorWarning: \"http://www.cnews.ru/news/top/2016-09-20_v_armade_naznachen_novyj_gendirektorpredydushchij\" looks like a URL. Beautiful Soup is not an HTTP client. You should probably use an HTTP client like requests to get the document behind the URL, and feed that document to Beautiful Soup.\n",
      "  MarkupResemblesLocatorWarning\n",
      "c:\\users\\администратор\\appdata\\local\\programs\\python\\python36\\lib\\site-packages\\bs4\\__init__.py:424: MarkupResemblesLocatorWarning: \"http://lib.ru/MEMUARY/GERM/karius.txt\" looks like a URL. Beautiful Soup is not an HTTP client. You should probably use an HTTP client like requests to get the document behind the URL, and feed that document to Beautiful Soup.\n",
      "  MarkupResemblesLocatorWarning\n",
      "100%|██████████████████████████████████████████████████████████████████████████| 52383/52383 [00:17<00:00, 3012.63it/s]\n",
      "c:\\users\\администратор\\appdata\\local\\programs\\python\\python36\\lib\\site-packages\\bs4\\__init__.py:424: MarkupResemblesLocatorWarning: \"https://synthart.livejournal.com/40410.html?fbclid=IwAR1O1L7daggiVq3Z8pXaXA4UIbf3LnFsgansUMKyI99I91nyebs5bwBRZpg\" looks like a URL. Beautiful Soup is not an HTTP client. You should probably use an HTTP client like requests to get the document behind the URL, and feed that document to Beautiful Soup.\n",
      "  MarkupResemblesLocatorWarning\n",
      "100%|██████████████████████████████████████████████████████████████████████████| 54182/54182 [00:17<00:00, 3035.46it/s]\n",
      "100%|██████████████████████████████████████████████████████████████████████████| 31911/31911 [00:11<00:00, 2886.48it/s]\n",
      "c:\\users\\администратор\\appdata\\local\\programs\\python\\python36\\lib\\site-packages\\bs4\\__init__.py:424: MarkupResemblesLocatorWarning: \"http://mollusca.sav.sk/malacology/checklist.htm\" looks like a URL. Beautiful Soup is not an HTTP client. You should probably use an HTTP client like requests to get the document behind the URL, and feed that document to Beautiful Soup.\n",
      "  MarkupResemblesLocatorWarning\n",
      "100%|██████████████████████████████████████████████████████████████████████████| 34289/34289 [00:11<00:00, 2964.30it/s]\n",
      "100%|██████████████████████████████████████████████████████████████████████████| 40477/40477 [00:13<00:00, 2975.59it/s]\n",
      "100%|██████████████████████████████████████████████████████████████████████████| 53919/53919 [00:17<00:00, 3029.58it/s]\n",
      "c:\\users\\администратор\\appdata\\local\\programs\\python\\python36\\lib\\site-packages\\bs4\\__init__.py:424: MarkupResemblesLocatorWarning: \"http://www.nbdrx.ru/chit/lm/souz/souz3.asp\" looks like a URL. Beautiful Soup is not an HTTP client. You should probably use an HTTP client like requests to get the document behind the URL, and feed that document to Beautiful Soup.\n",
      "  MarkupResemblesLocatorWarning\n",
      "100%|██████████████████████████████████████████████████████████████████████████| 55474/55474 [00:18<00:00, 3032.69it/s]\n",
      "c:\\users\\администратор\\appdata\\local\\programs\\python\\python36\\lib\\site-packages\\bs4\\__init__.py:424: MarkupResemblesLocatorWarning: \"http://vmede.org/sait/?page=68&id=msprav_Laboratornaja_diagnostika&menu=msprav_Laboratornaja_diagnostikaКатегория:ПатологияКатегория:Лейкоциты\" looks like a URL. Beautiful Soup is not an HTTP client. You should probably use an HTTP client like requests to get the document behind the URL, and feed that document to Beautiful Soup.\n",
      "  MarkupResemblesLocatorWarning\n",
      "c:\\users\\администратор\\appdata\\local\\programs\\python\\python36\\lib\\site-packages\\bs4\\__init__.py:424: MarkupResemblesLocatorWarning: \"http://www.otkudarodom.ua/ru/popovka-4\" looks like a URL. Beautiful Soup is not an HTTP client. You should probably use an HTTP client like requests to get the document behind the URL, and feed that document to Beautiful Soup.\n",
      "  MarkupResemblesLocatorWarning\n",
      "c:\\users\\администратор\\appdata\\local\\programs\\python\\python36\\lib\\site-packages\\bs4\\__init__.py:424: MarkupResemblesLocatorWarning: \"http://www.gd.no/sport/birken/article6555088.ece).\" looks like a URL. Beautiful Soup is not an HTTP client. You should probably use an HTTP client like requests to get the document behind the URL, and feed that document to Beautiful Soup.\n",
      "  MarkupResemblesLocatorWarning\n",
      "c:\\users\\администратор\\appdata\\local\\programs\\python\\python36\\lib\\site-packages\\bs4\\__init__.py:336: MarkupResemblesLocatorWarning: \"Кто хотел ловить рыбу, могл обойтись только рыбной ловлей./../ Кто хотел, могл выжить тем, что дает земля, только немного не хватало. /../\" looks like a filename, not markup. You should probably open this file and pass the filehandle into Beautiful Soup.\n",
      "  MarkupResemblesLocatorWarning\n",
      "100%|██████████████████████████████████████████████████████████████████████████| 57575/57575 [00:19<00:00, 3027.82it/s]\n",
      "c:\\users\\администратор\\appdata\\local\\programs\\python\\python36\\lib\\site-packages\\bs4\\__init__.py:424: MarkupResemblesLocatorWarning: \"http://dspace.pdpu.edu.ua/bitstream/123456789/3477/1/%d0%9d%d0%b0%d1%83%d0%ba%d0%be%d0%b2%d1%86%d1%96%20%d0%9f%d0%9d%d0%9f%d0%a3%20-2.doc.pdf\" looks like a URL. Beautiful Soup is not an HTTP client. You should probably use an HTTP client like requests to get the document behind the URL, and feed that document to Beautiful Soup.\n",
      "  MarkupResemblesLocatorWarning\n",
      "100%|██████████████████████████████████████████████████████████████████████████| 55926/55926 [00:18<00:00, 2967.89it/s]\n",
      "100%|██████████████████████████████████████████████████████████████████████████| 54371/54371 [00:20<00:00, 2671.76it/s]\n",
      "c:\\users\\администратор\\appdata\\local\\programs\\python\\python36\\lib\\site-packages\\bs4\\__init__.py:424: MarkupResemblesLocatorWarning: \"http://militera.lib.ru/h/savchenko_va/index.html\" looks like a URL. Beautiful Soup is not an HTTP client. You should probably use an HTTP client like requests to get the document behind the URL, and feed that document to Beautiful Soup.\n",
      "  MarkupResemblesLocatorWarning\n",
      "c:\\users\\администратор\\appdata\\local\\programs\\python\\python36\\lib\\site-packages\\bs4\\__init__.py:424: MarkupResemblesLocatorWarning: \"https://ru.wikipedia.org/wiki/Джульбарс_(собака)\" looks like a URL. Beautiful Soup is not an HTTP client. You should probably use an HTTP client like requests to get the document behind the URL, and feed that document to Beautiful Soup.\n",
      "  MarkupResemblesLocatorWarning\n",
      "100%|██████████████████████████████████████████████████████████████████████████| 52250/52250 [00:18<00:00, 2871.19it/s]\n",
      "100%|██████████████████████████████████████████████████████████████████████████| 53873/53873 [00:18<00:00, 2892.03it/s]\n",
      "100%|██████████████████████████████████████████████████████████████████████████| 55451/55451 [00:19<00:00, 2842.56it/s]\n",
      "c:\\users\\администратор\\appdata\\local\\programs\\python\\python36\\lib\\site-packages\\bs4\\__init__.py:424: MarkupResemblesLocatorWarning: \"https://vr-vyksa.ru/derevenki/реквием-по-рожновскому/\" looks like a URL. Beautiful Soup is not an HTTP client. You should probably use an HTTP client like requests to get the document behind the URL, and feed that document to Beautiful Soup.\n",
      "  MarkupResemblesLocatorWarning\n"
     ]
    },
    {
     "name": "stderr",
     "output_type": "stream",
     "text": [
      "c:\\users\\администратор\\appdata\\local\\programs\\python\\python36\\lib\\site-packages\\bs4\\__init__.py:424: MarkupResemblesLocatorWarning: \"https://meduza.io/short/2021/04/15/na-yurskom-poberezhie-v-la-manshe-obrushilsya-utes-na-plyazh-upali-4000-tonn-gornoy-porody-fotografiya\" looks like a URL. Beautiful Soup is not an HTTP client. You should probably use an HTTP client like requests to get the document behind the URL, and feed that document to Beautiful Soup.\n",
      "  MarkupResemblesLocatorWarning\n",
      "100%|██████████████████████████████████████████████████████████████████████████| 50270/50270 [00:18<00:00, 2675.33it/s]\n",
      "c:\\users\\администратор\\appdata\\local\\programs\\python\\python36\\lib\\site-packages\\bs4\\__init__.py:424: MarkupResemblesLocatorWarning: \"https://www.questia.com/library/book/the-future-population-of-europe-and-the-soviet-union-population-projections-1940-1970-by-ansley-j-coale-dudley-kirk-louise-k-kiser-frank-w-notestein-irene-b-taeuber.jsp.\" looks like a URL. Beautiful Soup is not an HTTP client. You should probably use an HTTP client like requests to get the document behind the URL, and feed that document to Beautiful Soup.\n",
      "  MarkupResemblesLocatorWarning\n",
      "c:\\users\\администратор\\appdata\\local\\programs\\python\\python36\\lib\\site-packages\\bs4\\__init__.py:424: MarkupResemblesLocatorWarning: \"https://doi.org/10.11646/zootaxa.4425.1.3\" looks like a URL. Beautiful Soup is not an HTTP client. You should probably use an HTTP client like requests to get the document behind the URL, and feed that document to Beautiful Soup.\n",
      "  MarkupResemblesLocatorWarning\n",
      "c:\\users\\администратор\\appdata\\local\\programs\\python\\python36\\lib\\site-packages\\bs4\\__init__.py:424: MarkupResemblesLocatorWarning: \"https://www.president.gov.ua/documents/2522020-34265\" looks like a URL. Beautiful Soup is not an HTTP client. You should probably use an HTTP client like requests to get the document behind the URL, and feed that document to Beautiful Soup.\n",
      "  MarkupResemblesLocatorWarning\n",
      "100%|██████████████████████████████████████████████████████████████████████████| 54923/54923 [00:19<00:00, 2810.92it/s]\n",
      "c:\\users\\администратор\\appdata\\local\\programs\\python\\python36\\lib\\site-packages\\bs4\\__init__.py:424: MarkupResemblesLocatorWarning: \"http://www.bucknell.edu/msw3.\" looks like a URL. Beautiful Soup is not an HTTP client. You should probably use an HTTP client like requests to get the document behind the URL, and feed that document to Beautiful Soup.\n",
      "  MarkupResemblesLocatorWarning\n",
      "100%|██████████████████████████████████████████████████████████████████████████| 52042/52042 [00:19<00:00, 2718.46it/s]\n"
     ]
    },
    {
     "name": "stdout",
     "output_type": "stream",
     "text": [
      "Duplicates found --- 400,000\n"
     ]
    },
    {
     "name": "stderr",
     "output_type": "stream",
     "text": [
      "c:\\users\\администратор\\appdata\\local\\programs\\python\\python36\\lib\\site-packages\\bs4\\__init__.py:424: MarkupResemblesLocatorWarning: \"http://www.litsovet.ru/index.php/material.read?material_id=413854\" looks like a URL. Beautiful Soup is not an HTTP client. You should probably use an HTTP client like requests to get the document behind the URL, and feed that document to Beautiful Soup.\n",
      "  MarkupResemblesLocatorWarning\n",
      "100%|██████████████████████████████████████████████████████████████████████████| 55526/55526 [00:19<00:00, 2806.21it/s]\n",
      "100%|██████████████████████████████████████████████████████████████████████████| 55259/55259 [00:19<00:00, 2859.24it/s]\n",
      "c:\\users\\администратор\\appdata\\local\\programs\\python\\python36\\lib\\site-packages\\bs4\\__init__.py:424: MarkupResemblesLocatorWarning: \"https://cdiak.archives.gov.ua/baza_geog_pok/church/bobr_005.xml\" looks like a URL. Beautiful Soup is not an HTTP client. You should probably use an HTTP client like requests to get the document behind the URL, and feed that document to Beautiful Soup.\n",
      "  MarkupResemblesLocatorWarning\n",
      "c:\\users\\администратор\\appdata\\local\\programs\\python\\python36\\lib\\site-packages\\bs4\\__init__.py:424: MarkupResemblesLocatorWarning: \"https://cdiak.archives.gov.ua/baza_geog_pok/church/hera_001.xml\" looks like a URL. Beautiful Soup is not an HTTP client. You should probably use an HTTP client like requests to get the document behind the URL, and feed that document to Beautiful Soup.\n",
      "  MarkupResemblesLocatorWarning\n",
      "100%|██████████████████████████████████████████████████████████████████████████| 48052/48052 [00:17<00:00, 2739.80it/s]\n",
      "c:\\users\\администратор\\appdata\\local\\programs\\python\\python36\\lib\\site-packages\\bs4\\__init__.py:424: MarkupResemblesLocatorWarning: \"http://etomesto.com/map-atlas_1812/?x=33.512827&y=50.828339\" looks like a URL. Beautiful Soup is not an HTTP client. You should probably use an HTTP client like requests to get the document behind the URL, and feed that document to Beautiful Soup.\n",
      "  MarkupResemblesLocatorWarning\n",
      "100%|██████████████████████████████████████████████████████████████████████████| 55116/55116 [00:20<00:00, 2721.75it/s]\n",
      "c:\\users\\администратор\\appdata\\local\\programs\\python\\python36\\lib\\site-packages\\bs4\\__init__.py:424: MarkupResemblesLocatorWarning: \"http://static.bsu.az/w10/pdf/mrg-kitab.pdf\" looks like a URL. Beautiful Soup is not an HTTP client. You should probably use an HTTP client like requests to get the document behind the URL, and feed that document to Beautiful Soup.\n",
      "  MarkupResemblesLocatorWarning\n",
      "100%|██████████████████████████████████████████████████████████████████████████| 53044/53044 [00:20<00:00, 2564.06it/s]\n",
      "100%|██████████████████████████████████████████████████████████████████████████| 52081/52081 [00:20<00:00, 2493.76it/s]\n",
      "c:\\users\\администратор\\appdata\\local\\programs\\python\\python36\\lib\\site-packages\\bs4\\__init__.py:424: MarkupResemblesLocatorWarning: \"http://encycl.bash-portal.ru/suiar_n.htm\" looks like a URL. Beautiful Soup is not an HTTP client. You should probably use an HTTP client like requests to get the document behind the URL, and feed that document to Beautiful Soup.\n",
      "  MarkupResemblesLocatorWarning\n",
      "100%|██████████████████████████████████████████████████████████████████████████| 56626/56626 [00:22<00:00, 2548.45it/s]\n",
      "100%|██████████████████████████████████████████████████████████████████████████| 51785/51785 [00:18<00:00, 2808.50it/s]\n",
      "c:\\users\\администратор\\appdata\\local\\programs\\python\\python36\\lib\\site-packages\\bs4\\__init__.py:424: MarkupResemblesLocatorWarning: \"http://testan.narod.ru/knigi_moskow/usad/usadby8.html\" looks like a URL. Beautiful Soup is not an HTTP client. You should probably use an HTTP client like requests to get the document behind the URL, and feed that document to Beautiful Soup.\n",
      "  MarkupResemblesLocatorWarning\n",
      "c:\\users\\администратор\\appdata\\local\\programs\\python\\python36\\lib\\site-packages\\bs4\\__init__.py:424: MarkupResemblesLocatorWarning: \"http://history.kubsu.ru/pdf/ar_ata.pdf\" looks like a URL. Beautiful Soup is not an HTTP client. You should probably use an HTTP client like requests to get the document behind the URL, and feed that document to Beautiful Soup.\n",
      "  MarkupResemblesLocatorWarning\n",
      "c:\\users\\администратор\\appdata\\local\\programs\\python\\python36\\lib\\site-packages\\bs4\\__init__.py:424: MarkupResemblesLocatorWarning: \"http://historybiz.ru/polnyj-spisok-nominantov.html?\" looks like a URL. Beautiful Soup is not an HTTP client. You should probably use an HTTP client like requests to get the document behind the URL, and feed that document to Beautiful Soup.\n",
      "  MarkupResemblesLocatorWarning\n",
      "100%|██████████████████████████████████████████████████████████████████████████| 54206/54206 [00:18<00:00, 2879.21it/s]\n",
      "c:\\users\\администратор\\appdata\\local\\programs\\python\\python36\\lib\\site-packages\\bs4\\__init__.py:424: MarkupResemblesLocatorWarning: \"http://lit.lib.ru/e/emelxjanowa_n_m/text_0200.shtml.\" looks like a URL. Beautiful Soup is not an HTTP client. You should probably use an HTTP client like requests to get the document behind the URL, and feed that document to Beautiful Soup.\n",
      "  MarkupResemblesLocatorWarning\n",
      "100%|██████████████████████████████████████████████████████████████████████████| 54230/54230 [00:18<00:00, 2956.73it/s]\n",
      "100%|██████████████████████████████████████████████████████████████████████████| 52807/52807 [00:19<00:00, 2710.59it/s]\n",
      "c:\\users\\администратор\\appdata\\local\\programs\\python\\python36\\lib\\site-packages\\bs4\\__init__.py:424: MarkupResemblesLocatorWarning: \"https://doi.org/10.11646/zootaxa.4963.1.3\" looks like a URL. Beautiful Soup is not an HTTP client. You should probably use an HTTP client like requests to get the document behind the URL, and feed that document to Beautiful Soup.\n",
      "  MarkupResemblesLocatorWarning\n",
      "100%|██████████████████████████████████████████████████████████████████████████| 55079/55079 [00:19<00:00, 2843.89it/s]\n",
      "c:\\users\\администратор\\appdata\\local\\programs\\python\\python36\\lib\\site-packages\\bs4\\__init__.py:424: MarkupResemblesLocatorWarning: \"https://web.archive.org/web/20131203083352/http://www.urgaza.ru/kms_catalog+stat+cat_id-1+nums-244.html\" looks like a URL. Beautiful Soup is not an HTTP client. You should probably use an HTTP client like requests to get the document behind the URL, and feed that document to Beautiful Soup.\n",
      "  MarkupResemblesLocatorWarning\n",
      "100%|██████████████████████████████████████████████████████████████████████████| 56433/56433 [00:18<00:00, 3006.69it/s]\n",
      "c:\\users\\администратор\\appdata\\local\\programs\\python\\python36\\lib\\site-packages\\bs4\\__init__.py:424: MarkupResemblesLocatorWarning: \"http://www.xlegio.ru/artilery/diu/medieval_artillery1.htm).\" looks like a URL. Beautiful Soup is not an HTTP client. You should probably use an HTTP client like requests to get the document behind the URL, and feed that document to Beautiful Soup.\n",
      "  MarkupResemblesLocatorWarning\n",
      "100%|██████████████████████████████████████████████████████████████████████████| 54899/54899 [00:18<00:00, 2945.77it/s]\n",
      "100%|██████████████████████████████████████████████████████████████████████████| 55128/55128 [00:18<00:00, 2953.32it/s]\n",
      "c:\\users\\администратор\\appdata\\local\\programs\\python\\python36\\lib\\site-packages\\bs4\\__init__.py:424: MarkupResemblesLocatorWarning: \"http://www.afghanistan.ru/doc/12561.html.\" looks like a URL. Beautiful Soup is not an HTTP client. You should probably use an HTTP client like requests to get the document behind the URL, and feed that document to Beautiful Soup.\n",
      "  MarkupResemblesLocatorWarning\n",
      "100%|██████████████████████████████████████████████████████████████████████████| 52529/52529 [00:19<00:00, 2746.18it/s]\n",
      "c:\\users\\администратор\\appdata\\local\\programs\\python\\python36\\lib\\site-packages\\bs4\\__init__.py:424: MarkupResemblesLocatorWarning: \"http://dx.doi.org/10.5772/64225.\" looks like a URL. Beautiful Soup is not an HTTP client. You should probably use an HTTP client like requests to get the document behind the URL, and feed that document to Beautiful Soup.\n",
      "  MarkupResemblesLocatorWarning\n",
      "c:\\users\\администратор\\appdata\\local\\programs\\python\\python36\\lib\\site-packages\\bs4\\__init__.py:424: MarkupResemblesLocatorWarning: \"https://www.proza.ru/avtor/kologrivhttps://rusbuk.ru/author/kologriv-viktor\" looks like a URL. Beautiful Soup is not an HTTP client. You should probably use an HTTP client like requests to get the document behind the URL, and feed that document to Beautiful Soup.\n",
      "  MarkupResemblesLocatorWarning\n"
     ]
    },
    {
     "name": "stderr",
     "output_type": "stream",
     "text": [
      "100%|██████████████████████████████████████████████████████████████████████████| 51723/51723 [00:18<00:00, 2842.30it/s]\n",
      "c:\\users\\администратор\\appdata\\local\\programs\\python\\python36\\lib\\site-packages\\bs4\\__init__.py:424: MarkupResemblesLocatorWarning: \"http://www.vestikavkaza.ru/articles/Vecher-pamyati-uchenogo.html.\" looks like a URL. Beautiful Soup is not an HTTP client. You should probably use an HTTP client like requests to get the document behind the URL, and feed that document to Beautiful Soup.\n",
      "  MarkupResemblesLocatorWarning\n",
      "c:\\users\\администратор\\appdata\\local\\programs\\python\\python36\\lib\\site-packages\\bs4\\__init__.py:424: MarkupResemblesLocatorWarning: \"http://efcate.com/show_news__/2017/01/26/173524.\" looks like a URL. Beautiful Soup is not an HTTP client. You should probably use an HTTP client like requests to get the document behind the URL, and feed that document to Beautiful Soup.\n",
      "  MarkupResemblesLocatorWarning\n",
      "c:\\users\\администратор\\appdata\\local\\programs\\python\\python36\\lib\\site-packages\\bs4\\__init__.py:424: MarkupResemblesLocatorWarning: \"http://maks-portal.ru/obshchestvo/video/o-zhizni-natali-bazhanovoy-rasskazali-nakanune-v-zimnem-teatre.\" looks like a URL. Beautiful Soup is not an HTTP client. You should probably use an HTTP client like requests to get the document behind the URL, and feed that document to Beautiful Soup.\n",
      "  MarkupResemblesLocatorWarning\n",
      "100%|██████████████████████████████████████████████████████████████████████████| 62537/62537 [00:20<00:00, 3066.32it/s]\n"
     ]
    },
    {
     "name": "stdout",
     "output_type": "stream",
     "text": [
      "Duplicates found --- 500,000\n"
     ]
    },
    {
     "name": "stderr",
     "output_type": "stream",
     "text": [
      "100%|██████████████████████████████████████████████████████████████████████████| 54296/54296 [00:18<00:00, 2962.31it/s]\n",
      "c:\\users\\администратор\\appdata\\local\\programs\\python\\python36\\lib\\site-packages\\bs4\\__init__.py:424: MarkupResemblesLocatorWarning: \"https://web.archive.org/web/20140201173521/http://www.admoblkaluga.ru/upload/smi/duminvesti/1-06.07.2013_6-06.07.2013.pdf\" looks like a URL. Beautiful Soup is not an HTTP client. You should probably use an HTTP client like requests to get the document behind the URL, and feed that document to Beautiful Soup.\n",
      "  MarkupResemblesLocatorWarning\n",
      "100%|██████████████████████████████████████████████████████████████████████████| 56692/56692 [00:18<00:00, 3075.92it/s]\n",
      "100%|██████████████████████████████████████████████████████████████████████████| 57883/57883 [00:20<00:00, 2887.62it/s]\n",
      "100%|██████████████████████████████████████████████████████████████████████████| 57446/57446 [00:18<00:00, 3093.91it/s]\n",
      "c:\\users\\администратор\\appdata\\local\\programs\\python\\python36\\lib\\site-packages\\bs4\\__init__.py:424: MarkupResemblesLocatorWarning: \"https://i-fakt.ru/pervaya-zhertva-futbola/\" looks like a URL. Beautiful Soup is not an HTTP client. You should probably use an HTTP client like requests to get the document behind the URL, and feed that document to Beautiful Soup.\n",
      "  MarkupResemblesLocatorWarning\n",
      "100%|██████████████████████████████████████████████████████████████████████████| 54552/54552 [00:18<00:00, 3006.46it/s]\n",
      "c:\\users\\администратор\\appdata\\local\\programs\\python\\python36\\lib\\site-packages\\bs4\\__init__.py:424: MarkupResemblesLocatorWarning: \"http://www.birdlife.org/datazone/speciesfactsheet.php?id=8097.\" looks like a URL. Beautiful Soup is not an HTTP client. You should probably use an HTTP client like requests to get the document behind the URL, and feed that document to Beautiful Soup.\n",
      "  MarkupResemblesLocatorWarning\n",
      "100%|██████████████████████████████████████████████████████████████████████████| 54430/54430 [00:18<00:00, 3022.60it/s]\n",
      "100%|██████████████████████████████████████████████████████████████████████████| 55162/55162 [00:18<00:00, 3017.92it/s]\n",
      "c:\\users\\администратор\\appdata\\local\\programs\\python\\python36\\lib\\site-packages\\bs4\\__init__.py:424: MarkupResemblesLocatorWarning: \"https://web.archive.org/web/20130821003158/http://aviavy.awardspace.com/tree/g279.html.\" looks like a URL. Beautiful Soup is not an HTTP client. You should probably use an HTTP client like requests to get the document behind the URL, and feed that document to Beautiful Soup.\n",
      "  MarkupResemblesLocatorWarning\n",
      "c:\\users\\администратор\\appdata\\local\\programs\\python\\python36\\lib\\site-packages\\bs4\\__init__.py:424: MarkupResemblesLocatorWarning: \"https://www.facebook.com/satanspartycrew/\" looks like a URL. Beautiful Soup is not an HTTP client. You should probably use an HTTP client like requests to get the document behind the URL, and feed that document to Beautiful Soup.\n",
      "  MarkupResemblesLocatorWarning\n",
      "c:\\users\\администратор\\appdata\\local\\programs\\python\\python36\\lib\\site-packages\\bs4\\__init__.py:424: MarkupResemblesLocatorWarning: \"http://ngeorgia.com/history/battleofatlanta.html.\" looks like a URL. Beautiful Soup is not an HTTP client. You should probably use an HTTP client like requests to get the document behind the URL, and feed that document to Beautiful Soup.\n",
      "  MarkupResemblesLocatorWarning\n",
      "c:\\users\\администратор\\appdata\\local\\programs\\python\\python36\\lib\\site-packages\\bs4\\__init__.py:424: MarkupResemblesLocatorWarning: \"https://books.google.com/books?id=jthCAAAAIAAJ.\" looks like a URL. Beautiful Soup is not an HTTP client. You should probably use an HTTP client like requests to get the document behind the URL, and feed that document to Beautiful Soup.\n",
      "  MarkupResemblesLocatorWarning\n",
      "100%|██████████████████████████████████████████████████████████████████████████| 54071/54071 [00:20<00:00, 2616.65it/s]\n",
      "100%|██████████████████████████████████████████████████████████████████████████| 52673/52673 [00:21<00:00, 2488.97it/s]\n",
      "c:\\users\\администратор\\appdata\\local\\programs\\python\\python36\\lib\\site-packages\\bs4\\__init__.py:424: MarkupResemblesLocatorWarning: \"http://www.hrono.ru/etnosy/landuma.htmlhttp://www.etnolog.ru/people.php?id=LAND\" looks like a URL. Beautiful Soup is not an HTTP client. You should probably use an HTTP client like requests to get the document behind the URL, and feed that document to Beautiful Soup.\n",
      "  MarkupResemblesLocatorWarning\n",
      "100%|██████████████████████████████████████████████████████████████████████████| 52322/52322 [00:20<00:00, 2579.78it/s]\n",
      "100%|██████████████████████████████████████████████████████████████████████████| 51304/51304 [00:19<00:00, 2608.57it/s]\n",
      "c:\\users\\администратор\\appdata\\local\\programs\\python\\python36\\lib\\site-packages\\bs4\\__init__.py:424: MarkupResemblesLocatorWarning: \"https://web.archive.org/web/20131203083352/http://www.urgaza.ru/kms_catalog+stat+cat_id-1+nums-244.html).\" looks like a URL. Beautiful Soup is not an HTTP client. You should probably use an HTTP client like requests to get the document behind the URL, and feed that document to Beautiful Soup.\n",
      "  MarkupResemblesLocatorWarning\n",
      "100%|██████████████████████████████████████████████████████████████████████████| 75123/75123 [00:19<00:00, 3794.54it/s]\n",
      "c:\\users\\администратор\\appdata\\local\\programs\\python\\python36\\lib\\site-packages\\bs4\\__init__.py:424: MarkupResemblesLocatorWarning: \"http://etomesto.com/map-atlas_1812/?x=32.969619&y=49.962478\" looks like a URL. Beautiful Soup is not an HTTP client. You should probably use an HTTP client like requests to get the document behind the URL, and feed that document to Beautiful Soup.\n",
      "  MarkupResemblesLocatorWarning\n",
      "c:\\users\\администратор\\appdata\\local\\programs\\python\\python36\\lib\\site-packages\\bs4\\__init__.py:424: MarkupResemblesLocatorWarning: \"https://cdiak.archives.gov.ua/baza_geog_pok/church/vysh_014.xml\" looks like a URL. Beautiful Soup is not an HTTP client. You should probably use an HTTP client like requests to get the document behind the URL, and feed that document to Beautiful Soup.\n",
      "  MarkupResemblesLocatorWarning\n",
      "100%|██████████████████████████████████████████████████████████████████████████| 54572/54572 [00:18<00:00, 2945.11it/s]\n",
      "c:\\users\\администратор\\appdata\\local\\programs\\python\\python36\\lib\\site-packages\\bs4\\__init__.py:424: MarkupResemblesLocatorWarning: \"https://cdiak.archives.gov.ua/baza_geog_pok/church/hint_001.xml\" looks like a URL. Beautiful Soup is not an HTTP client. You should probably use an HTTP client like requests to get the document behind the URL, and feed that document to Beautiful Soup.\n",
      "  MarkupResemblesLocatorWarning\n",
      "c:\\users\\администратор\\appdata\\local\\programs\\python\\python36\\lib\\site-packages\\bs4\\__init__.py:424: MarkupResemblesLocatorWarning: \"http://etomesto.com/map-atlas_1816/?x=32.793564&y=50.1771523.\" looks like a URL. Beautiful Soup is not an HTTP client. You should probably use an HTTP client like requests to get the document behind the URL, and feed that document to Beautiful Soup.\n",
      "  MarkupResemblesLocatorWarning\n",
      "c:\\users\\администратор\\appdata\\local\\programs\\python\\python36\\lib\\site-packages\\bs4\\__init__.py:424: MarkupResemblesLocatorWarning: \"http://etomesto.com/map-atlas_1812/?x=32.741382&y=50.1824384.\" looks like a URL. Beautiful Soup is not an HTTP client. You should probably use an HTTP client like requests to get the document behind the URL, and feed that document to Beautiful Soup.\n",
      "  MarkupResemblesLocatorWarning\n",
      "c:\\users\\администратор\\appdata\\local\\programs\\python\\python36\\lib\\site-packages\\bs4\\__init__.py:424: MarkupResemblesLocatorWarning: \"http://elib.shpl.ru/ru/nodes/9051-vyp-33-poltavskaya-guberniya-1862#mode/inspect/page/180/zoom/6\" looks like a URL. Beautiful Soup is not an HTTP client. You should probably use an HTTP client like requests to get the document behind the URL, and feed that document to Beautiful Soup.\n",
      "  MarkupResemblesLocatorWarning\n",
      "c:\\users\\администратор\\appdata\\local\\programs\\python\\python36\\lib\\site-packages\\bs4\\__init__.py:424: MarkupResemblesLocatorWarning: \"https://cdiak.archives.gov.ua/baza_geog_pok/church/dukh_001.xml\" looks like a URL. Beautiful Soup is not an HTTP client. You should probably use an HTTP client like requests to get the document behind the URL, and feed that document to Beautiful Soup.\n",
      "  MarkupResemblesLocatorWarning\n"
     ]
    },
    {
     "name": "stderr",
     "output_type": "stream",
     "text": [
      "c:\\users\\администратор\\appdata\\local\\programs\\python\\python36\\lib\\site-packages\\bs4\\__init__.py:424: MarkupResemblesLocatorWarning: \"https://cdiak.archives.gov.ua/baza_geog_pok/church/karp_001.xml\" looks like a URL. Beautiful Soup is not an HTTP client. You should probably use an HTTP client like requests to get the document behind the URL, and feed that document to Beautiful Soup.\n",
      "  MarkupResemblesLocatorWarning\n",
      "c:\\users\\администратор\\appdata\\local\\programs\\python\\python36\\lib\\site-packages\\bs4\\__init__.py:424: MarkupResemblesLocatorWarning: \"http://etomesto.com/map-shubert-10-verst/?x=33.116340&y=49.995369\" looks like a URL. Beautiful Soup is not an HTTP client. You should probably use an HTTP client like requests to get the document behind the URL, and feed that document to Beautiful Soup.\n",
      "  MarkupResemblesLocatorWarning\n",
      "c:\\users\\администратор\\appdata\\local\\programs\\python\\python36\\lib\\site-packages\\bs4\\__init__.py:424: MarkupResemblesLocatorWarning: \"http://lib.polytechnic.am/cgi-bin/koha/opac-detail.pl?biblionumber=70479\" looks like a URL. Beautiful Soup is not an HTTP client. You should probably use an HTTP client like requests to get the document behind the URL, and feed that document to Beautiful Soup.\n",
      "  MarkupResemblesLocatorWarning\n",
      "c:\\users\\администратор\\appdata\\local\\programs\\python\\python36\\lib\\site-packages\\bs4\\__init__.py:424: MarkupResemblesLocatorWarning: \"https://cdiak.archives.gov.ua/baza_geog_pok/church/yusk_002.xml\" looks like a URL. Beautiful Soup is not an HTTP client. You should probably use an HTTP client like requests to get the document behind the URL, and feed that document to Beautiful Soup.\n",
      "  MarkupResemblesLocatorWarning\n",
      "100%|██████████████████████████████████████████████████████████████████████████| 66563/66563 [00:21<00:00, 3028.64it/s]\n",
      "c:\\users\\администратор\\appdata\\local\\programs\\python\\python36\\lib\\site-packages\\bs4\\__init__.py:424: MarkupResemblesLocatorWarning: \"https://cdiak.archives.gov.ua/baza_geog_pok/church/tara_001.xml\" looks like a URL. Beautiful Soup is not an HTTP client. You should probably use an HTTP client like requests to get the document behind the URL, and feed that document to Beautiful Soup.\n",
      "  MarkupResemblesLocatorWarning\n",
      "c:\\users\\администратор\\appdata\\local\\programs\\python\\python36\\lib\\site-packages\\bs4\\__init__.py:424: MarkupResemblesLocatorWarning: \"http://etomesto.com/map-shubert-10-verst/?x=32.926359&y=49.980832\" looks like a URL. Beautiful Soup is not an HTTP client. You should probably use an HTTP client like requests to get the document behind the URL, and feed that document to Beautiful Soup.\n",
      "  MarkupResemblesLocatorWarning\n",
      "c:\\users\\администратор\\appdata\\local\\programs\\python\\python36\\lib\\site-packages\\bs4\\__init__.py:424: MarkupResemblesLocatorWarning: \"https://cdiak.archives.gov.ua/baza_geog_pok/church/shek_001.xml\" looks like a URL. Beautiful Soup is not an HTTP client. You should probably use an HTTP client like requests to get the document behind the URL, and feed that document to Beautiful Soup.\n",
      "  MarkupResemblesLocatorWarning\n",
      "c:\\users\\администратор\\appdata\\local\\programs\\python\\python36\\lib\\site-packages\\bs4\\__init__.py:424: MarkupResemblesLocatorWarning: \"https://cdiak.archives.gov.ua/baza_geog_pok/church/sher_003.xml\" looks like a URL. Beautiful Soup is not an HTTP client. You should probably use an HTTP client like requests to get the document behind the URL, and feed that document to Beautiful Soup.\n",
      "  MarkupResemblesLocatorWarning\n",
      "c:\\users\\администратор\\appdata\\local\\programs\\python\\python36\\lib\\site-packages\\bs4\\__init__.py:424: MarkupResemblesLocatorWarning: \"http://etomesto.com/map-shubert-10-verst/?x=33.239689&y=49.9273023.\" looks like a URL. Beautiful Soup is not an HTTP client. You should probably use an HTTP client like requests to get the document behind the URL, and feed that document to Beautiful Soup.\n",
      "  MarkupResemblesLocatorWarning\n",
      "c:\\users\\администратор\\appdata\\local\\programs\\python\\python36\\lib\\site-packages\\bs4\\__init__.py:424: MarkupResemblesLocatorWarning: \"http://elib.shpl.ru/ru/nodes/9051-vyp-33-poltavskaya-guberniya-1862#mode/inspect/page/265/zoom/6\" looks like a URL. Beautiful Soup is not an HTTP client. You should probably use an HTTP client like requests to get the document behind the URL, and feed that document to Beautiful Soup.\n",
      "  MarkupResemblesLocatorWarning\n",
      "c:\\users\\администратор\\appdata\\local\\programs\\python\\python36\\lib\\site-packages\\bs4\\__init__.py:424: MarkupResemblesLocatorWarning: \"https://www.kommersant.ru/doc/4672634\" looks like a URL. Beautiful Soup is not an HTTP client. You should probably use an HTTP client like requests to get the document behind the URL, and feed that document to Beautiful Soup.\n",
      "  MarkupResemblesLocatorWarning\n",
      "100%|██████████████████████████████████████████████████████████████████████████| 53595/53595 [00:18<00:00, 2897.51it/s]\n"
     ]
    },
    {
     "name": "stdout",
     "output_type": "stream",
     "text": [
      "Duplicates found --- 600,000\n"
     ]
    },
    {
     "name": "stderr",
     "output_type": "stream",
     "text": [
      "c:\\users\\администратор\\appdata\\local\\programs\\python\\python36\\lib\\site-packages\\bs4\\__init__.py:424: MarkupResemblesLocatorWarning: \"http://www.esl.eu/ru/operation7/)\" looks like a URL. Beautiful Soup is not an HTTP client. You should probably use an HTTP client like requests to get the document behind the URL, and feed that document to Beautiful Soup.\n",
      "  MarkupResemblesLocatorWarning\n",
      "100%|██████████████████████████████████████████████████████████████████████████| 54480/54480 [00:18<00:00, 2966.03it/s]\n",
      "100%|██████████████████████████████████████████████████████████████████████████| 58039/58039 [00:19<00:00, 3015.92it/s]\n",
      "c:\\users\\администратор\\appdata\\local\\programs\\python\\python36\\lib\\site-packages\\bs4\\__init__.py:424: MarkupResemblesLocatorWarning: \"http://istina.russian-albion.com/ru/chto-est-istina--015-dekabr-2008-g/a-shulgina\" looks like a URL. Beautiful Soup is not an HTTP client. You should probably use an HTTP client like requests to get the document behind the URL, and feed that document to Beautiful Soup.\n",
      "  MarkupResemblesLocatorWarning\n",
      "c:\\users\\администратор\\appdata\\local\\programs\\python\\python36\\lib\\site-packages\\bs4\\__init__.py:424: MarkupResemblesLocatorWarning: \"http://www.compozitor.spb.ru/catalogue_editions/the_regular/index.php?ELEMENT_ID=4304\" looks like a URL. Beautiful Soup is not an HTTP client. You should probably use an HTTP client like requests to get the document behind the URL, and feed that document to Beautiful Soup.\n",
      "  MarkupResemblesLocatorWarning\n",
      "100%|██████████████████████████████████████████████████████████████████████████| 59430/59430 [00:19<00:00, 3058.39it/s]\n",
      "c:\\users\\администратор\\appdata\\local\\programs\\python\\python36\\lib\\site-packages\\bs4\\__init__.py:424: MarkupResemblesLocatorWarning: \"http://m.jornalcultura.sapo.ao/navegacoes/poema-kimbundu-de-antonio-marques-kiba-mwenyuКимбундуКимбунду\" looks like a URL. Beautiful Soup is not an HTTP client. You should probably use an HTTP client like requests to get the document behind the URL, and feed that document to Beautiful Soup.\n",
      "  MarkupResemblesLocatorWarning\n",
      "c:\\users\\администратор\\appdata\\local\\programs\\python\\python36\\lib\\site-packages\\bs4\\__init__.py:424: MarkupResemblesLocatorWarning: \"http://www.politik-stat.ch/nrw2007CH_de.html\" looks like a URL. Beautiful Soup is not an HTTP client. You should probably use an HTTP client like requests to get the document behind the URL, and feed that document to Beautiful Soup.\n",
      "  MarkupResemblesLocatorWarning\n",
      "100%|██████████████████████████████████████████████████████████████████████████| 54716/54716 [00:18<00:00, 2972.17it/s]\n",
      "c:\\users\\администратор\\appdata\\local\\programs\\python\\python36\\lib\\site-packages\\bs4\\__init__.py:424: MarkupResemblesLocatorWarning: \"http://mbe.oxfordjournals.org/cgi/pmidlookup?view=long&pmid=16829542.\" looks like a URL. Beautiful Soup is not an HTTP client. You should probably use an HTTP client like requests to get the document behind the URL, and feed that document to Beautiful Soup.\n",
      "  MarkupResemblesLocatorWarning\n",
      "c:\\users\\администратор\\appdata\\local\\programs\\python\\python36\\lib\\site-packages\\bs4\\__init__.py:424: MarkupResemblesLocatorWarning: \"https://www.youtube.com/watch?feature=player_embedded&v=a-zHkfe3Scg#!\" looks like a URL. Beautiful Soup is not an HTTP client. You should probably use an HTTP client like requests to get the document behind the URL, and feed that document to Beautiful Soup.\n",
      "  MarkupResemblesLocatorWarning\n",
      "100%|██████████████████████████████████████████████████████████████████████████| 52142/52142 [00:17<00:00, 2956.32it/s]\n",
      "100%|██████████████████████████████████████████████████████████████████████████| 68772/68772 [00:22<00:00, 3106.92it/s]\n",
      "c:\\users\\администратор\\appdata\\local\\programs\\python\\python36\\lib\\site-packages\\bs4\\__init__.py:424: MarkupResemblesLocatorWarning: \"http://www.npstoik.ru/vio/inside.php?ind=articles&article_key=107.\" looks like a URL. Beautiful Soup is not an HTTP client. You should probably use an HTTP client like requests to get the document behind the URL, and feed that document to Beautiful Soup.\n",
      "  MarkupResemblesLocatorWarning\n",
      "c:\\users\\администратор\\appdata\\local\\programs\\python\\python36\\lib\\site-packages\\bs4\\__init__.py:424: MarkupResemblesLocatorWarning: \"http://www.npstoik.ru/vio/inside.php?ind=articles&article_key=103.\" looks like a URL. Beautiful Soup is not an HTTP client. You should probably use an HTTP client like requests to get the document behind the URL, and feed that document to Beautiful Soup.\n",
      "  MarkupResemblesLocatorWarning\n",
      "c:\\users\\администратор\\appdata\\local\\programs\\python\\python36\\lib\\site-packages\\bs4\\__init__.py:424: MarkupResemblesLocatorWarning: \"https://web.archive.org/web/20100102061734/http://bcis.pacificu.edu/journal/2007/06/voiskounsky.php.\" looks like a URL. Beautiful Soup is not an HTTP client. You should probably use an HTTP client like requests to get the document behind the URL, and feed that document to Beautiful Soup.\n",
      "  MarkupResemblesLocatorWarning\n",
      "c:\\users\\администратор\\appdata\\local\\programs\\python\\python36\\lib\\site-packages\\bs4\\__init__.py:424: MarkupResemblesLocatorWarning: \"http://telemex.info/index.php?option=com_content&view=article&id=66&Itemid=67\" looks like a URL. Beautiful Soup is not an HTTP client. You should probably use an HTTP client like requests to get the document behind the URL, and feed that document to Beautiful Soup.\n",
      "  MarkupResemblesLocatorWarning\n",
      "100%|██████████████████████████████████████████████████████████████████████████| 53129/53129 [00:18<00:00, 2946.10it/s]\n",
      "c:\\users\\администратор\\appdata\\local\\programs\\python\\python36\\lib\\site-packages\\bs4\\__init__.py:424: MarkupResemblesLocatorWarning: \"https://www.youtube.com/watch?v=vyZPV52tJSM&feature=youtu.be\" looks like a URL. Beautiful Soup is not an HTTP client. You should probably use an HTTP client like requests to get the document behind the URL, and feed that document to Beautiful Soup.\n",
      "  MarkupResemblesLocatorWarning\n",
      "100%|██████████████████████████████████████████████████████████████████████████| 55775/55775 [00:18<00:00, 3016.78it/s]\n",
      "100%|██████████████████████████████████████████████████████████████████████████| 56517/56517 [00:18<00:00, 3009.72it/s]\n",
      "100%|██████████████████████████████████████████████████████████████████████████| 67442/67442 [00:21<00:00, 3173.19it/s]\n",
      "100%|██████████████████████████████████████████████████████████████████████████| 56427/56427 [00:18<00:00, 3068.87it/s]\n",
      "100%|██████████████████████████████████████████████████████████████████████████| 54453/54453 [00:18<00:00, 3008.70it/s]\n",
      "100%|██████████████████████████████████████████████████████████████████████████| 59190/59190 [00:18<00:00, 3132.05it/s]\n",
      "c:\\users\\администратор\\appdata\\local\\programs\\python\\python36\\lib\\site-packages\\bs4\\__init__.py:424: MarkupResemblesLocatorWarning: \"https://web.archive.org/web/20160304190446/http://severdv.ru/news/show/?id=46222\" looks like a URL. Beautiful Soup is not an HTTP client. You should probably use an HTTP client like requests to get the document behind the URL, and feed that document to Beautiful Soup.\n",
      "  MarkupResemblesLocatorWarning\n",
      "100%|██████████████████████████████████████████████████████████████████████████| 53519/53519 [00:19<00:00, 2788.10it/s]\n",
      "c:\\users\\администратор\\appdata\\local\\programs\\python\\python36\\lib\\site-packages\\bs4\\__init__.py:424: MarkupResemblesLocatorWarning: \"http://gulevich.net\" looks like a URL. Beautiful Soup is not an HTTP client. You should probably use an HTTP client like requests to get the document behind the URL, and feed that document to Beautiful Soup.\n",
      "  MarkupResemblesLocatorWarning\n",
      "100%|██████████████████████████████████████████████████████████████████████████| 73787/73787 [00:22<00:00, 3260.40it/s]\n"
     ]
    },
    {
     "name": "stdout",
     "output_type": "stream",
     "text": [
      "Duplicates found --- 700,000\n"
     ]
    },
    {
     "name": "stderr",
     "output_type": "stream",
     "text": [
      "100%|██████████████████████████████████████████████████████████████████████████| 52645/52645 [00:18<00:00, 2847.38it/s]\n",
      "c:\\users\\администратор\\appdata\\local\\programs\\python\\python36\\lib\\site-packages\\bs4\\__init__.py:424: MarkupResemblesLocatorWarning: \"http://langsci-press.org/catalog/book/82.\" looks like a URL. Beautiful Soup is not an HTTP client. You should probably use an HTTP client like requests to get the document behind the URL, and feed that document to Beautiful Soup.\n",
      "  MarkupResemblesLocatorWarning\n",
      "100%|██████████████████████████████████████████████████████████████████████████| 61835/61835 [00:19<00:00, 3161.90it/s]\n",
      "c:\\users\\администратор\\appdata\\local\\programs\\python\\python36\\lib\\site-packages\\bs4\\__init__.py:424: MarkupResemblesLocatorWarning: \"http://www.ceo.spb.ru/rus/literature/shestakov.yu.m/index.shtmlhttp://www.fontanka.ru/2010/12/20/022/\" looks like a URL. Beautiful Soup is not an HTTP client. You should probably use an HTTP client like requests to get the document behind the URL, and feed that document to Beautiful Soup.\n",
      "  MarkupResemblesLocatorWarning\n",
      "c:\\users\\администратор\\appdata\\local\\programs\\python\\python36\\lib\\site-packages\\bs4\\__init__.py:424: MarkupResemblesLocatorWarning: \"https://people.onliner.by/2020/11/17/byvshij-premer-ministr-andrej-kobyakovhttps://tass.ru/ekonomika/10022909https://tayga.info/161661\" looks like a URL. Beautiful Soup is not an HTTP client. You should probably use an HTTP client like requests to get the document behind the URL, and feed that document to Beautiful Soup.\n",
      "  MarkupResemblesLocatorWarning\n",
      "c:\\users\\администратор\\appdata\\local\\programs\\python\\python36\\lib\\site-packages\\bs4\\__init__.py:424: MarkupResemblesLocatorWarning: \"http://kp.ru/daily/24526/672776/\" looks like a URL. Beautiful Soup is not an HTTP client. You should probably use an HTTP client like requests to get the document behind the URL, and feed that document to Beautiful Soup.\n",
      "  MarkupResemblesLocatorWarning\n",
      "100%|██████████████████████████████████████████████████████████████████████████| 53456/53456 [00:18<00:00, 2921.02it/s]\n",
      "c:\\users\\администратор\\appdata\\local\\programs\\python\\python36\\lib\\site-packages\\bs4\\__init__.py:424: MarkupResemblesLocatorWarning: \"https://www.youtube.com/watch?v=cqhpwXIJ2wI\" looks like a URL. Beautiful Soup is not an HTTP client. You should probably use an HTTP client like requests to get the document behind the URL, and feed that document to Beautiful Soup.\n",
      "  MarkupResemblesLocatorWarning\n",
      "c:\\users\\администратор\\appdata\\local\\programs\\python\\python36\\lib\\site-packages\\bs4\\__init__.py:424: MarkupResemblesLocatorWarning: \"https://bruhoveckaya.ru/raion/info/news/?ELEMENT_ID=34838\" looks like a URL. Beautiful Soup is not an HTTP client. You should probably use an HTTP client like requests to get the document behind the URL, and feed that document to Beautiful Soup.\n",
      "  MarkupResemblesLocatorWarning\n",
      "100%|██████████████████████████████████████████████████████████████████████████| 54200/54200 [00:18<00:00, 2928.54it/s]\n",
      "c:\\users\\администратор\\appdata\\local\\programs\\python\\python36\\lib\\site-packages\\bs4\\__init__.py:424: MarkupResemblesLocatorWarning: \"http://www.lfchistory.net/Players/Player/Profile/690?\" looks like a URL. Beautiful Soup is not an HTTP client. You should probably use an HTTP client like requests to get the document behind the URL, and feed that document to Beautiful Soup.\n",
      "  MarkupResemblesLocatorWarning\n",
      "c:\\users\\администратор\\appdata\\local\\programs\\python\\python36\\lib\\site-packages\\bs4\\__init__.py:424: MarkupResemblesLocatorWarning: \"https://zooeco.com/eco-mlek/eco-mlek4161-14.htmlКатегория:Землеройковые\" looks like a URL. Beautiful Soup is not an HTTP client. You should probably use an HTTP client like requests to get the document behind the URL, and feed that document to Beautiful Soup.\n",
      "  MarkupResemblesLocatorWarning\n",
      "100%|██████████████████████████████████████████████████████████████████████████| 64971/64971 [00:20<00:00, 3150.78it/s]\n",
      "c:\\users\\администратор\\appdata\\local\\programs\\python\\python36\\lib\\site-packages\\bs4\\__init__.py:424: MarkupResemblesLocatorWarning: \"http://yuzhnyj-ural.ru/obekty/hrebtyi/49.html\" looks like a URL. Beautiful Soup is not an HTTP client. You should probably use an HTTP client like requests to get the document behind the URL, and feed that document to Beautiful Soup.\n",
      "  MarkupResemblesLocatorWarning\n",
      "c:\\users\\администратор\\appdata\\local\\programs\\python\\python36\\lib\\site-packages\\bs4\\__init__.py:424: MarkupResemblesLocatorWarning: \"http://sm.evg-rumjantsev.ru/des3/ovchinnikov-viktor-sergeevich.html\" looks like a URL. Beautiful Soup is not an HTTP client. You should probably use an HTTP client like requests to get the document behind the URL, and feed that document to Beautiful Soup.\n",
      "  MarkupResemblesLocatorWarning\n",
      "100%|██████████████████████████████████████████████████████████████████████████| 53106/53106 [00:18<00:00, 2884.68it/s]\n",
      "100%|██████████████████████████████████████████████████████████████████████████| 53958/53958 [00:18<00:00, 2964.77it/s]\n",
      "100%|██████████████████████████████████████████████████████████████████████████| 56584/56584 [00:18<00:00, 3027.64it/s]\n",
      "c:\\users\\администратор\\appdata\\local\\programs\\python\\python36\\lib\\site-packages\\bs4\\__init__.py:424: MarkupResemblesLocatorWarning: \"https://www.youtube.com/playlist?list=PLG_dDAoN04KetBUO5CTTQk2pjMJD1AJHt\" looks like a URL. Beautiful Soup is not an HTTP client. You should probably use an HTTP client like requests to get the document behind the URL, and feed that document to Beautiful Soup.\n",
      "  MarkupResemblesLocatorWarning\n",
      "100%|██████████████████████████████████████████████████████████████████████████| 58543/58543 [00:19<00:00, 3056.81it/s]\n",
      "c:\\users\\администратор\\appdata\\local\\programs\\python\\python36\\lib\\site-packages\\bs4\\__init__.py:424: MarkupResemblesLocatorWarning: \"https://ru.wikipedia.org/wiki/%D0%91%D0%B0%D1%80%D0%B0%D0%BD%D0%BE%D0%B2%D0%BA%D0%B0_(%D0%9F%D0%BE%D0%BB%D1%82%D0%B0%D0%B2%D1%81%D0%BA%D0%B0%D1%8F_%D0%BE%D0%B1%D0%BB%D0%B0%D1%81%D1%82%D1%8C)-->\" looks like a URL. Beautiful Soup is not an HTTP client. You should probably use an HTTP client like requests to get the document behind the URL, and feed that document to Beautiful Soup.\n",
      "  MarkupResemblesLocatorWarning\n",
      "100%|██████████████████████████████████████████████████████████████████████████| 53789/53789 [00:18<00:00, 2868.69it/s]\n",
      "100%|██████████████████████████████████████████████████████████████████████████| 51905/51905 [00:19<00:00, 2642.14it/s]\n",
      "100%|██████████████████████████████████████████████████████████████████████████| 54060/54060 [00:18<00:00, 2901.69it/s]\n",
      "c:\\users\\администратор\\appdata\\local\\programs\\python\\python36\\lib\\site-packages\\bs4\\__init__.py:424: MarkupResemblesLocatorWarning: \"http://mults.spb.ru/mults/?id=2764\" looks like a URL. Beautiful Soup is not an HTTP client. You should probably use an HTTP client like requests to get the document behind the URL, and feed that document to Beautiful Soup.\n",
      "  MarkupResemblesLocatorWarning\n",
      "100%|██████████████████████████████████████████████████████████████████████████| 52853/52853 [00:18<00:00, 2879.75it/s]\n",
      "c:\\users\\администратор\\appdata\\local\\programs\\python\\python36\\lib\\site-packages\\bs4\\__init__.py:424: MarkupResemblesLocatorWarning: \"http://www.johnstonsarchive.net/astro/tnoslist.htmlКатегория:Плутино\" looks like a URL. Beautiful Soup is not an HTTP client. You should probably use an HTTP client like requests to get the document behind the URL, and feed that document to Beautiful Soup.\n",
      "  MarkupResemblesLocatorWarning\n",
      "100%|██████████████████████████████████████████████████████████████████████████| 51867/51867 [00:17<00:00, 2919.97it/s]\n",
      "c:\\users\\администратор\\appdata\\local\\programs\\python\\python36\\lib\\site-packages\\bs4\\__init__.py:424: MarkupResemblesLocatorWarning: \"http://www.ryazagro.ru/news/11034/*Рязанская\" looks like a URL. Beautiful Soup is not an HTTP client. You should probably use an HTTP client like requests to get the document behind the URL, and feed that document to Beautiful Soup.\n",
      "  MarkupResemblesLocatorWarning\n",
      "100%|██████████████████████████████████████████████████████████████████████████| 55066/55066 [00:18<00:00, 3035.53it/s]\n"
     ]
    },
    {
     "name": "stdout",
     "output_type": "stream",
     "text": [
      "Duplicates found --- 800,000\n"
     ]
    },
    {
     "name": "stderr",
     "output_type": "stream",
     "text": [
      "c:\\users\\администратор\\appdata\\local\\programs\\python\\python36\\lib\\site-packages\\bs4\\__init__.py:424: MarkupResemblesLocatorWarning: \"http://www.sakharov-center.ru/asfcd/auth/auth_pagesde79-2.html?Key=20705&page=322).\" looks like a URL. Beautiful Soup is not an HTTP client. You should probably use an HTTP client like requests to get the document behind the URL, and feed that document to Beautiful Soup.\n",
      "  MarkupResemblesLocatorWarning\n",
      "c:\\users\\администратор\\appdata\\local\\programs\\python\\python36\\lib\\site-packages\\bs4\\__init__.py:424: MarkupResemblesLocatorWarning: \"https://web.archive.org/web/20140726053407/http://www.sgvibor.ru/malaya-rodina/blog\" looks like a URL. Beautiful Soup is not an HTTP client. You should probably use an HTTP client like requests to get the document behind the URL, and feed that document to Beautiful Soup.\n",
      "  MarkupResemblesLocatorWarning\n",
      "c:\\users\\администратор\\appdata\\local\\programs\\python\\python36\\lib\\site-packages\\bs4\\__init__.py:424: MarkupResemblesLocatorWarning: \"https://www.svoboda.org/a/29084884.html\" looks like a URL. Beautiful Soup is not an HTTP client. You should probably use an HTTP client like requests to get the document behind the URL, and feed that document to Beautiful Soup.\n",
      "  MarkupResemblesLocatorWarning\n",
      "100%|██████████████████████████████████████████████████████████████████████████| 55770/55770 [00:18<00:00, 2990.13it/s]\n",
      "c:\\users\\администратор\\appdata\\local\\programs\\python\\python36\\lib\\site-packages\\bs4\\__init__.py:336: MarkupResemblesLocatorWarning: \" . .. .\" looks like a filename, not markup. You should probably open this file and pass the filehandle into Beautiful Soup.\n",
      "  MarkupResemblesLocatorWarning\n",
      "c:\\users\\администратор\\appdata\\local\\programs\\python\\python36\\lib\\site-packages\\bs4\\__init__.py:336: MarkupResemblesLocatorWarning: \" . ..\" looks like a filename, not markup. You should probably open this file and pass the filehandle into Beautiful Soup.\n",
      "  MarkupResemblesLocatorWarning\n",
      "100%|██████████████████████████████████████████████████████████████████████████| 54812/54812 [00:18<00:00, 2931.40it/s]\n",
      "c:\\users\\администратор\\appdata\\local\\programs\\python\\python36\\lib\\site-packages\\bs4\\__init__.py:424: MarkupResemblesLocatorWarning: \"http://abc.net.au/news/scitech/2002/09/item20020926135029_1.htm.\" looks like a URL. Beautiful Soup is not an HTTP client. You should probably use an HTTP client like requests to get the document behind the URL, and feed that document to Beautiful Soup.\n",
      "  MarkupResemblesLocatorWarning\n",
      "100%|██████████████████████████████████████████████████████████████████████████| 60587/60587 [00:19<00:00, 3047.39it/s]\n",
      "100%|██████████████████████████████████████████████████████████████████████████| 70970/70970 [00:21<00:00, 3377.06it/s]\n",
      "100%|██████████████████████████████████████████████████████████████████████████| 72070/72070 [00:20<00:00, 3495.84it/s]\n",
      "100%|██████████████████████████████████████████████████████████████████████████| 53850/53850 [00:18<00:00, 2967.50it/s]\n",
      "c:\\users\\администратор\\appdata\\local\\programs\\python\\python36\\lib\\site-packages\\bs4\\__init__.py:424: MarkupResemblesLocatorWarning: \"https://www.apple.com\" looks like a URL. Beautiful Soup is not an HTTP client. You should probably use an HTTP client like requests to get the document behind the URL, and feed that document to Beautiful Soup.\n",
      "  MarkupResemblesLocatorWarning\n",
      "100%|██████████████████████████████████████████████████████████████████████████| 52980/52980 [00:18<00:00, 2929.63it/s]\n",
      "c:\\users\\администратор\\appdata\\local\\programs\\python\\python36\\lib\\site-packages\\bs4\\__init__.py:424: MarkupResemblesLocatorWarning: \"https://rmapo.ru/\" looks like a URL. Beautiful Soup is not an HTTP client. You should probably use an HTTP client like requests to get the document behind the URL, and feed that document to Beautiful Soup.\n",
      "  MarkupResemblesLocatorWarning\n",
      "c:\\users\\администратор\\appdata\\local\\programs\\python\\python36\\lib\\site-packages\\bs4\\__init__.py:424: MarkupResemblesLocatorWarning: \"https://web.archive.org/web/20151105201943/http://www.nba.com/dleague/news/draft_board_08.html\" looks like a URL. Beautiful Soup is not an HTTP client. You should probably use an HTTP client like requests to get the document behind the URL, and feed that document to Beautiful Soup.\n",
      "  MarkupResemblesLocatorWarning\n",
      "100%|██████████████████████████████████████████████████████████████████████████| 50655/50655 [00:17<00:00, 2911.19it/s]\n",
      "c:\\users\\администратор\\appdata\\local\\programs\\python\\python36\\lib\\site-packages\\bs4\\__init__.py:424: MarkupResemblesLocatorWarning: \"https://www.youtube.com/watch?v=klVIT4jKjNs).\" looks like a URL. Beautiful Soup is not an HTTP client. You should probably use an HTTP client like requests to get the document behind the URL, and feed that document to Beautiful Soup.\n",
      "  MarkupResemblesLocatorWarning\n",
      "100%|██████████████████████████████████████████████████████████████████████████| 52689/52689 [00:17<00:00, 2943.89it/s]\n",
      "100%|██████████████████████████████████████████████████████████████████████████| 53567/53567 [00:18<00:00, 2924.25it/s]\n",
      "100%|██████████████████████████████████████████████████████████████████████████| 63082/63082 [00:19<00:00, 3275.03it/s]\n"
     ]
    },
    {
     "name": "stdout",
     "output_type": "stream",
     "text": [
      "Duplicates found --- 900,000\n"
     ]
    },
    {
     "name": "stderr",
     "output_type": "stream",
     "text": [
      "c:\\users\\администратор\\appdata\\local\\programs\\python\\python36\\lib\\site-packages\\bs4\\__init__.py:336: MarkupResemblesLocatorWarning: \"   .\" looks like a filename, not markup. You should probably open this file and pass the filehandle into Beautiful Soup.\n",
      "  MarkupResemblesLocatorWarning\n",
      "c:\\users\\администратор\\appdata\\local\\programs\\python\\python36\\lib\\site-packages\\bs4\\__init__.py:424: MarkupResemblesLocatorWarning: \"http://www.ulizza.ru/novosti/yaroslavl-pat-khoroshih-novostej-za-20-ijula-2011-goda/#.VLjEltKsWWM\" looks like a URL. Beautiful Soup is not an HTTP client. You should probably use an HTTP client like requests to get the document behind the URL, and feed that document to Beautiful Soup.\n",
      "  MarkupResemblesLocatorWarning\n",
      "c:\\users\\администратор\\appdata\\local\\programs\\python\\python36\\lib\\site-packages\\bs4\\__init__.py:424: MarkupResemblesLocatorWarning: \"https://books.google.com/?id=aOzohrk8Mm8C&dq=Nunez,+Greco,+Burial+of+Orgaz.\" looks like a URL. Beautiful Soup is not an HTTP client. You should probably use an HTTP client like requests to get the document behind the URL, and feed that document to Beautiful Soup.\n",
      "  MarkupResemblesLocatorWarning\n",
      "100%|██████████████████████████████████████████████████████████████████████████| 51075/51075 [00:17<00:00, 2882.76it/s]\n",
      "100%|██████████████████████████████████████████████████████████████████████████| 62618/62618 [00:21<00:00, 2949.29it/s]\n",
      "c:\\users\\администратор\\appdata\\local\\programs\\python\\python36\\lib\\site-packages\\bs4\\__init__.py:424: MarkupResemblesLocatorWarning: \"http://www.history.army.mil/books/wwii/guam/guam77div-fm.htm.\" looks like a URL. Beautiful Soup is not an HTTP client. You should probably use an HTTP client like requests to get the document behind the URL, and feed that document to Beautiful Soup.\n",
      "  MarkupResemblesLocatorWarning\n",
      "100%|██████████████████████████████████████████████████████████████████████████| 55101/55101 [00:18<00:00, 2976.63it/s]\n",
      "100%|██████████████████████████████████████████████████████████████████████████| 63218/63218 [00:20<00:00, 3150.71it/s]\n",
      "c:\\users\\администратор\\appdata\\local\\programs\\python\\python36\\lib\\site-packages\\bs4\\__init__.py:424: MarkupResemblesLocatorWarning: \"https://web.archive.org/web/20090621012436/http://www.expressen.se/1.153215.\" looks like a URL. Beautiful Soup is not an HTTP client. You should probably use an HTTP client like requests to get the document behind the URL, and feed that document to Beautiful Soup.\n",
      "  MarkupResemblesLocatorWarning\n",
      "c:\\users\\администратор\\appdata\\local\\programs\\python\\python36\\lib\\site-packages\\bs4\\__init__.py:424: MarkupResemblesLocatorWarning: \"http://dush4.ishimsport.ru\" looks like a URL. Beautiful Soup is not an HTTP client. You should probably use an HTTP client like requests to get the document behind the URL, and feed that document to Beautiful Soup.\n",
      "  MarkupResemblesLocatorWarning\n",
      "100%|██████████████████████████████████████████████████████████████████████████| 54054/54054 [00:19<00:00, 2798.72it/s]\n",
      "c:\\users\\администратор\\appdata\\local\\programs\\python\\python36\\lib\\site-packages\\bs4\\__init__.py:424: MarkupResemblesLocatorWarning: \"https://en.wikipedia.org/wiki/Nude_with_Violin\" looks like a URL. Beautiful Soup is not an HTTP client. You should probably use an HTTP client like requests to get the document behind the URL, and feed that document to Beautiful Soup.\n",
      "  MarkupResemblesLocatorWarning\n",
      "100%|██████████████████████████████████████████████████████████████████████████| 54852/54852 [00:20<00:00, 2710.77it/s]\n",
      "c:\\users\\администратор\\appdata\\local\\programs\\python\\python36\\lib\\site-packages\\bs4\\__init__.py:424: MarkupResemblesLocatorWarning: \"http://izput.narod.ru/vgb.html\" looks like a URL. Beautiful Soup is not an HTTP client. You should probably use an HTTP client like requests to get the document behind the URL, and feed that document to Beautiful Soup.\n",
      "  MarkupResemblesLocatorWarning\n",
      "100%|██████████████████████████████████████████████████████████████████████████| 57689/57689 [00:22<00:00, 2583.24it/s]\n",
      "c:\\users\\администратор\\appdata\\local\\programs\\python\\python36\\lib\\site-packages\\bs4\\__init__.py:424: MarkupResemblesLocatorWarning: \"https://link.springer.com/article/10.1007/s00550-013-0266-3Категория:Менеджмент\" looks like a URL. Beautiful Soup is not an HTTP client. You should probably use an HTTP client like requests to get the document behind the URL, and feed that document to Beautiful Soup.\n",
      "  MarkupResemblesLocatorWarning\n",
      "100%|██████████████████████████████████████████████████████████████████████████| 55685/55685 [00:20<00:00, 2771.56it/s]\n",
      "c:\\users\\администратор\\appdata\\local\\programs\\python\\python36\\lib\\site-packages\\bs4\\__init__.py:424: MarkupResemblesLocatorWarning: \"https://sites.google.com/a/korolev-culture.ru/skr/staryj-gorod/arhiv-1/moaulicaulicakalininaКалинина\" looks like a URL. Beautiful Soup is not an HTTP client. You should probably use an HTTP client like requests to get the document behind the URL, and feed that document to Beautiful Soup.\n",
      "  MarkupResemblesLocatorWarning\n",
      "100%|██████████████████████████████████████████████████████████████████████████| 57475/57475 [00:19<00:00, 2968.89it/s]\n",
      "c:\\users\\администратор\\appdata\\local\\programs\\python\\python36\\lib\\site-packages\\bs4\\__init__.py:424: MarkupResemblesLocatorWarning: \"http://www.battleships.spb.ru/KO/0196/Caracciolo.html\" looks like a URL. Beautiful Soup is not an HTTP client. You should probably use an HTTP client like requests to get the document behind the URL, and feed that document to Beautiful Soup.\n",
      "  MarkupResemblesLocatorWarning\n",
      "c:\\users\\администратор\\appdata\\local\\programs\\python\\python36\\lib\\site-packages\\bs4\\__init__.py:424: MarkupResemblesLocatorWarning: \"https://web.archive.org/web/20140504204444/http://axsam.az/site/?name=xeber&news_id=13881https://web.archive.org/web/20140504174207/http://axsam.az/site/?name=xeber&news_id=13887\" looks like a URL. Beautiful Soup is not an HTTP client. You should probably use an HTTP client like requests to get the document behind the URL, and feed that document to Beautiful Soup.\n",
      "  MarkupResemblesLocatorWarning\n",
      "c:\\users\\администратор\\appdata\\local\\programs\\python\\python36\\lib\\site-packages\\bs4\\__init__.py:424: MarkupResemblesLocatorWarning: \"https://web.archive.org/web/20110102160117/http://www.nashfilm.ru/kinonews/1868.html\" looks like a URL. Beautiful Soup is not an HTTP client. You should probably use an HTTP client like requests to get the document behind the URL, and feed that document to Beautiful Soup.\n",
      "  MarkupResemblesLocatorWarning\n",
      "100%|██████████████████████████████████████████████████████████████████████████| 54300/54300 [00:18<00:00, 2922.14it/s]\n",
      "c:\\users\\администратор\\appdata\\local\\programs\\python\\python36\\lib\\site-packages\\bs4\\__init__.py:424: MarkupResemblesLocatorWarning: \"http://volgoduma.ru/deputats/oblduma/efimov-vladimir-vyacheslavovich.html\" looks like a URL. Beautiful Soup is not an HTTP client. You should probably use an HTTP client like requests to get the document behind the URL, and feed that document to Beautiful Soup.\n",
      "  MarkupResemblesLocatorWarning\n",
      "100%|██████████████████████████████████████████████████████████████████████████| 56204/56204 [00:19<00:00, 2877.71it/s]\n",
      "c:\\users\\администратор\\appdata\\local\\programs\\python\\python36\\lib\\site-packages\\bs4\\__init__.py:424: MarkupResemblesLocatorWarning: \"http://www.melodicrock.com/interviews/steveperry-mitchlafon.html\" looks like a URL. Beautiful Soup is not an HTTP client. You should probably use an HTTP client like requests to get the document behind the URL, and feed that document to Beautiful Soup.\n",
      "  MarkupResemblesLocatorWarning\n",
      "100%|██████████████████████████████████████████████████████████████████████████| 53233/53233 [00:18<00:00, 2930.51it/s]\n",
      "100%|██████████████████████████████████████████████████████████████████████████| 52443/52443 [00:18<00:00, 2831.16it/s]\n",
      "c:\\users\\администратор\\appdata\\local\\programs\\python\\python36\\lib\\site-packages\\bs4\\__init__.py:424: MarkupResemblesLocatorWarning: \"https://www.rah.ru/the_academy_today/the_members_of_the_academie/member.php?ID=51409https://goskatalog.ru/portal/#/collections?id=26053526https://goskatalog.ru/portal/#/collections?id=26053504\" looks like a URL. Beautiful Soup is not an HTTP client. You should probably use an HTTP client like requests to get the document behind the URL, and feed that document to Beautiful Soup.\n",
      "  MarkupResemblesLocatorWarning\n"
     ]
    },
    {
     "name": "stderr",
     "output_type": "stream",
     "text": [
      "c:\\users\\администратор\\appdata\\local\\programs\\python\\python36\\lib\\site-packages\\bs4\\__init__.py:336: MarkupResemblesLocatorWarning: \"D..\" looks like a filename, not markup. You should probably open this file and pass the filehandle into Beautiful Soup.\n",
      "  MarkupResemblesLocatorWarning\n",
      "100%|██████████████████████████████████████████████████████████████████████████| 52443/52443 [00:18<00:00, 2820.73it/s]\n"
     ]
    },
    {
     "name": "stdout",
     "output_type": "stream",
     "text": [
      "Duplicates found --- 1,000,000\n"
     ]
    },
    {
     "name": "stderr",
     "output_type": "stream",
     "text": [
      "100%|██████████████████████████████████████████████████████████████████████████| 54082/54082 [00:18<00:00, 2968.81it/s]\n",
      "100%|██████████████████████████████████████████████████████████████████████████| 55154/55154 [00:19<00:00, 2805.22it/s]\n",
      "c:\\users\\администратор\\appdata\\local\\programs\\python\\python36\\lib\\site-packages\\bs4\\__init__.py:424: MarkupResemblesLocatorWarning: \"http://www.pogodaiklimat.ru/climate/35188.htmКатегория:Нур-СултанНур-Султан\" looks like a URL. Beautiful Soup is not an HTTP client. You should probably use an HTTP client like requests to get the document behind the URL, and feed that document to Beautiful Soup.\n",
      "  MarkupResemblesLocatorWarning\n",
      "c:\\users\\администратор\\appdata\\local\\programs\\python\\python36\\lib\\site-packages\\bs4\\__init__.py:424: MarkupResemblesLocatorWarning: \"https://doi.org/10.1079/9780851994086.0351\" looks like a URL. Beautiful Soup is not an HTTP client. You should probably use an HTTP client like requests to get the document behind the URL, and feed that document to Beautiful Soup.\n",
      "  MarkupResemblesLocatorWarning\n",
      "c:\\users\\администратор\\appdata\\local\\programs\\python\\python36\\lib\\site-packages\\bs4\\__init__.py:424: MarkupResemblesLocatorWarning: \"http://narfu.ru/fj/\" looks like a URL. Beautiful Soup is not an HTTP client. You should probably use an HTTP client like requests to get the document behind the URL, and feed that document to Beautiful Soup.\n",
      "  MarkupResemblesLocatorWarning\n",
      "100%|██████████████████████████████████████████████████████████████████████████| 54374/54374 [00:18<00:00, 2970.05it/s]\n",
      "c:\\users\\администратор\\appdata\\local\\programs\\python\\python36\\lib\\site-packages\\bs4\\__init__.py:424: MarkupResemblesLocatorWarning: \"https://web.archive.org/web/20140419012035/http://www.sarcons.ru/new/index.php/alterman-im.html\" looks like a URL. Beautiful Soup is not an HTTP client. You should probably use an HTTP client like requests to get the document behind the URL, and feed that document to Beautiful Soup.\n",
      "  MarkupResemblesLocatorWarning\n",
      "100%|██████████████████████████████████████████████████████████████████████████| 54632/54632 [00:19<00:00, 2824.83it/s]\n",
      "c:\\users\\администратор\\appdata\\local\\programs\\python\\python36\\lib\\site-packages\\bs4\\__init__.py:424: MarkupResemblesLocatorWarning: \"http://www.imdb.com/name/nm0417520/\" looks like a URL. Beautiful Soup is not an HTTP client. You should probably use an HTTP client like requests to get the document behind the URL, and feed that document to Beautiful Soup.\n",
      "  MarkupResemblesLocatorWarning\n",
      "c:\\users\\администратор\\appdata\\local\\programs\\python\\python36\\lib\\site-packages\\bs4\\__init__.py:424: MarkupResemblesLocatorWarning: \"http://boxrec.com/list_bouts.php?human_id=059834&cat=boxer.\" looks like a URL. Beautiful Soup is not an HTTP client. You should probably use an HTTP client like requests to get the document behind the URL, and feed that document to Beautiful Soup.\n",
      "  MarkupResemblesLocatorWarning\n",
      "100%|██████████████████████████████████████████████████████████████████████████| 52760/52760 [00:19<00:00, 2729.29it/s]\n",
      "100%|██████████████████████████████████████████████████████████████████████████| 54857/54857 [00:18<00:00, 2899.40it/s]\n",
      "100%|██████████████████████████████████████████████████████████████████████████| 52782/52782 [00:19<00:00, 2673.69it/s]\n",
      "100%|██████████████████████████████████████████████████████████████████████████| 54144/54144 [00:18<00:00, 2879.84it/s]\n",
      "c:\\users\\администратор\\appdata\\local\\programs\\python\\python36\\lib\\site-packages\\bs4\\__init__.py:424: MarkupResemblesLocatorWarning: \"http://presidentofabkhazia.org/about/info/news/?ELEMENT_ID=12039\" looks like a URL. Beautiful Soup is not an HTTP client. You should probably use an HTTP client like requests to get the document behind the URL, and feed that document to Beautiful Soup.\n",
      "  MarkupResemblesLocatorWarning\n",
      "100%|██████████████████████████████████████████████████████████████████████████| 52029/52029 [00:19<00:00, 2725.82it/s]\n",
      "100%|██████████████████████████████████████████████████████████████████████████| 63766/63766 [00:20<00:00, 3064.82it/s]\n",
      "c:\\users\\администратор\\appdata\\local\\programs\\python\\python36\\lib\\site-packages\\bs4\\__init__.py:424: MarkupResemblesLocatorWarning: \"http://www.mukachevo.net/ua/news/view/20749.\" looks like a URL. Beautiful Soup is not an HTTP client. You should probably use an HTTP client like requests to get the document behind the URL, and feed that document to Beautiful Soup.\n",
      "  MarkupResemblesLocatorWarning\n",
      "c:\\users\\администратор\\appdata\\local\\programs\\python\\python36\\lib\\site-packages\\bs4\\__init__.py:424: MarkupResemblesLocatorWarning: \"https://universiadevillage.ru/\" looks like a URL. Beautiful Soup is not an HTTP client. You should probably use an HTTP client like requests to get the document behind the URL, and feed that document to Beautiful Soup.\n",
      "  MarkupResemblesLocatorWarning\n",
      "c:\\users\\администратор\\appdata\\local\\programs\\python\\python36\\lib\\site-packages\\bs4\\__init__.py:424: MarkupResemblesLocatorWarning: \"http://www.otechestvo-ufa.ru/?p=7146\" looks like a URL. Beautiful Soup is not an HTTP client. You should probably use an HTTP client like requests to get the document behind the URL, and feed that document to Beautiful Soup.\n",
      "  MarkupResemblesLocatorWarning\n",
      "100%|██████████████████████████████████████████████████████████████████████████| 54554/54554 [00:19<00:00, 2847.26it/s]\n",
      "100%|██████████████████████████████████████████████████████████████████████████| 55485/55485 [00:19<00:00, 2881.95it/s]\n",
      "c:\\users\\администратор\\appdata\\local\\programs\\python\\python36\\lib\\site-packages\\bs4\\__init__.py:424: MarkupResemblesLocatorWarning: \"https://shiffersinstitute.com/product/gromyko-yu-v-miroporyadok-razvitie-elektronnaya-versiya/\" looks like a URL. Beautiful Soup is not an HTTP client. You should probably use an HTTP client like requests to get the document behind the URL, and feed that document to Beautiful Soup.\n",
      "  MarkupResemblesLocatorWarning\n",
      "c:\\users\\администратор\\appdata\\local\\programs\\python\\python36\\lib\\site-packages\\bs4\\__init__.py:424: MarkupResemblesLocatorWarning: \"http://www.consilium.europa.eu/prado/EN/4490/viewImage_118445.htmlЯмайкаКатегория:Ямайка\" looks like a URL. Beautiful Soup is not an HTTP client. You should probably use an HTTP client like requests to get the document behind the URL, and feed that document to Beautiful Soup.\n",
      "  MarkupResemblesLocatorWarning\n",
      "100%|██████████████████████████████████████████████████████████████████████████| 56903/56903 [00:18<00:00, 3003.04it/s]\n",
      "100%|██████████████████████████████████████████████████████████████████████████| 63095/63095 [00:21<00:00, 2959.59it/s]\n",
      "c:\\users\\администратор\\appdata\\local\\programs\\python\\python36\\lib\\site-packages\\bs4\\__init__.py:424: MarkupResemblesLocatorWarning: \"http://www.rospres.com/crime/10997/\" looks like a URL. Beautiful Soup is not an HTTP client. You should probably use an HTTP client like requests to get the document behind the URL, and feed that document to Beautiful Soup.\n",
      "  MarkupResemblesLocatorWarning\n",
      "100%|██████████████████████████████████████████████████████████████████████████| 52790/52790 [00:18<00:00, 2923.48it/s]\n",
      "100%|██████████████████████████████████████████████████████████████████████████| 12236/12236 [00:03<00:00, 3095.37it/s]\n"
     ]
    },
    {
     "name": "stdout",
     "output_type": "stream",
     "text": [
      "Wall time: 2h 1min 49s\n"
     ]
    }
   ],
   "source": [
    "%%time\n",
    "\n",
    "d = 0\n",
    "lsh = MinHashLSH(threshold=0.8, num_perm=16)\n",
    "r = 0\n",
    "\n",
    "with lsh.insertion_session() as session:\n",
    "    with open('d\\wiki1_v_01.txt', 'w', encoding='utf-8', newline='\\n') as f:\n",
    "        with open('d\\wiki1.txt', encoding='utf-8') as f1:\n",
    "            for piece in read_in_chunks_lines(f1, chunk_size=5000000):\n",
    "                sents = [process_txt_new(x) for x in piece]\n",
    "                sents = [line for line in sents if line is not None]\n",
    "                hashes = [hashes_simple_1(x) for x in tqdm(sents)]\n",
    "                \n",
    "                for i in range(len(hashes)):                   \n",
    "                    if sents[i] == 'PLACEHOLDER':\n",
    "                        f.write('\\n')  \n",
    "                    else:    \n",
    "                        key = hashes[i]\n",
    "                        q = len(w1.query(key))\n",
    "                        q1 = len(w0.query(key))\n",
    "                        q2 = len(w2.query(key))\n",
    "                        q3 = len(w3.query(key)) \n",
    "                        q4 = len(w4.query(key))\n",
    "                        q5 = len(w5.query(key))  \n",
    "\n",
    "                        s =  q1 + q2 + q3 + q4 + q5\n",
    "\n",
    "\n",
    "                        if q < 2 and s == 0:\n",
    "                            f.write(sents[i] + '\\n')\n",
    "                        else:\n",
    "                            if not len(lsh.query(hashes[i])): \n",
    "                                r +=1 \n",
    "                                session.insert('w'+str(r), hashes[i])                \n",
    "                                f.write(sents[i] + '\\n')\n",
    "                            else:\n",
    "                                d += 1\n",
    "                                if d % 100000 == 0:\n",
    "                                    print(f'Duplicates found --- {d:,}')"
   ]
  },
  {
   "cell_type": "code",
   "execution_count": 13,
   "metadata": {
    "scrolled": false
   },
   "outputs": [
    {
     "name": "stdout",
     "output_type": "stream",
     "text": [
      "Total duplicates in file -- 1,097,899\n"
     ]
    }
   ],
   "source": [
    "print(f'Total duplicates in file -- {d:,}')"
   ]
  },
  {
   "cell_type": "code",
   "execution_count": 16,
   "metadata": {
    "scrolled": true
   },
   "outputs": [
    {
     "name": "stderr",
     "output_type": "stream",
     "text": [
      "100%|██████████████████████████████████████████████████████████████████████████| 86291/86291 [00:24<00:00, 3490.34it/s]\n"
     ]
    },
    {
     "name": "stdout",
     "output_type": "stream",
     "text": [
      "Duplicates found --- 1,100,000\n"
     ]
    },
    {
     "name": "stderr",
     "output_type": "stream",
     "text": [
      "100%|██████████████████████████████████████████████████████████████████████████| 69001/69001 [00:22<00:00, 3082.55it/s]\n",
      "100%|██████████████████████████████████████████████████████████████████████████| 66801/66801 [00:22<00:00, 3015.37it/s]\n",
      "100%|██████████████████████████████████████████████████████████████████████████| 62905/62905 [00:20<00:00, 2995.92it/s]\n",
      "100%|██████████████████████████████████████████████████████████████████████████| 71687/71687 [00:22<00:00, 3119.29it/s]\n",
      "100%|██████████████████████████████████████████████████████████████████████████| 66415/66415 [00:22<00:00, 3017.56it/s]\n",
      "100%|██████████████████████████████████████████████████████████████████████████| 62855/62855 [00:20<00:00, 3030.03it/s]\n",
      "100%|██████████████████████████████████████████████████████████████████████████| 66942/66942 [00:22<00:00, 3041.24it/s]\n",
      "100%|██████████████████████████████████████████████████████████████████████████| 64181/64181 [00:21<00:00, 2947.08it/s]\n",
      "100%|██████████████████████████████████████████████████████████████████████████| 75929/75929 [00:24<00:00, 3158.03it/s]\n",
      "100%|██████████████████████████████████████████████████████████████████████████| 64053/64053 [00:21<00:00, 3030.83it/s]\n",
      "100%|██████████████████████████████████████████████████████████████████████████| 65760/65760 [00:21<00:00, 3039.28it/s]\n"
     ]
    },
    {
     "name": "stdout",
     "output_type": "stream",
     "text": [
      "Duplicates found --- 1,200,000\n"
     ]
    },
    {
     "name": "stderr",
     "output_type": "stream",
     "text": [
      "100%|██████████████████████████████████████████████████████████████████████████| 63028/63028 [00:21<00:00, 2901.00it/s]\n",
      "100%|██████████████████████████████████████████████████████████████████████████| 61687/61687 [00:21<00:00, 2887.19it/s]\n",
      "100%|██████████████████████████████████████████████████████████████████████████| 78927/78927 [00:25<00:00, 3156.73it/s]\n",
      "100%|██████████████████████████████████████████████████████████████████████████| 76270/76270 [00:24<00:00, 3108.14it/s]\n",
      "100%|██████████████████████████████████████████████████████████████████████████| 63552/63552 [00:21<00:00, 2954.87it/s]\n",
      "100%|██████████████████████████████████████████████████████████████████████████| 74655/74655 [00:23<00:00, 3125.01it/s]\n",
      "100%|██████████████████████████████████████████████████████████████████████████| 66656/66656 [00:21<00:00, 3039.91it/s]\n",
      "100%|██████████████████████████████████████████████████████████████████████████| 63699/63699 [00:21<00:00, 2961.48it/s]\n",
      "100%|██████████████████████████████████████████████████████████████████████████| 69073/69073 [00:22<00:00, 3076.27it/s]\n",
      "100%|██████████████████████████████████████████████████████████████████████████| 63619/63619 [00:21<00:00, 3017.04it/s]\n",
      "100%|██████████████████████████████████████████████████████████████████████████| 66180/66180 [00:21<00:00, 3057.49it/s]\n"
     ]
    },
    {
     "name": "stdout",
     "output_type": "stream",
     "text": [
      "Duplicates found --- 1,300,000\n"
     ]
    },
    {
     "name": "stderr",
     "output_type": "stream",
     "text": [
      "100%|██████████████████████████████████████████████████████████████████████████| 62176/62176 [00:20<00:00, 3003.52it/s]\n",
      "100%|██████████████████████████████████████████████████████████████████████████| 62917/62917 [00:20<00:00, 3024.82it/s]\n",
      "100%|██████████████████████████████████████████████████████████████████████████| 63473/63473 [00:21<00:00, 3006.28it/s]\n",
      "100%|██████████████████████████████████████████████████████████████████████████| 62692/62692 [00:20<00:00, 2998.32it/s]\n",
      "100%|██████████████████████████████████████████████████████████████████████████| 62240/62240 [00:20<00:00, 2979.97it/s]\n",
      "100%|██████████████████████████████████████████████████████████████████████████| 63192/63192 [00:21<00:00, 2952.95it/s]\n",
      "100%|██████████████████████████████████████████████████████████████████████████| 64842/64842 [00:21<00:00, 2988.39it/s]\n",
      "100%|██████████████████████████████████████████████████████████████████████████| 64710/64710 [00:22<00:00, 2927.90it/s]\n",
      "100%|██████████████████████████████████████████████████████████████████████████| 62329/62329 [00:21<00:00, 2965.47it/s]\n",
      "100%|██████████████████████████████████████████████████████████████████████████| 66302/66302 [00:23<00:00, 2785.90it/s]\n",
      "100%|██████████████████████████████████████████████████████████████████████████| 65571/65571 [00:24<00:00, 2682.05it/s]\n",
      "100%|██████████████████████████████████████████████████████████████████████████| 67812/67812 [00:24<00:00, 2794.11it/s]\n",
      "100%|██████████████████████████████████████████████████████████████████████████| 64528/64528 [00:24<00:00, 2612.54it/s]\n",
      "100%|██████████████████████████████████████████████████████████████████████████| 62591/62591 [00:21<00:00, 2868.74it/s]\n",
      "100%|██████████████████████████████████████████████████████████████████████████| 67038/67038 [00:23<00:00, 2899.18it/s]\n"
     ]
    },
    {
     "name": "stdout",
     "output_type": "stream",
     "text": [
      "Duplicates found --- 1,400,000\n"
     ]
    },
    {
     "name": "stderr",
     "output_type": "stream",
     "text": [
      "100%|██████████████████████████████████████████████████████████████████████████| 66007/66007 [00:23<00:00, 2868.79it/s]\n",
      "100%|██████████████████████████████████████████████████████████████████████████| 65872/65872 [00:22<00:00, 2971.34it/s]\n",
      "100%|██████████████████████████████████████████████████████████████████████████| 66228/66228 [00:22<00:00, 3005.38it/s]\n",
      "100%|██████████████████████████████████████████████████████████████████████████| 68810/68810 [00:22<00:00, 3014.01it/s]\n",
      "100%|██████████████████████████████████████████████████████████████████████████| 66889/66889 [00:22<00:00, 3033.37it/s]\n",
      "100%|██████████████████████████████████████████████████████████████████████████| 65644/65644 [00:21<00:00, 3013.73it/s]\n",
      "100%|██████████████████████████████████████████████████████████████████████████| 63980/63980 [00:21<00:00, 3040.76it/s]\n",
      "100%|██████████████████████████████████████████████████████████████████████████| 74521/74521 [00:24<00:00, 3041.85it/s]\n",
      "100%|██████████████████████████████████████████████████████████████████████████| 65681/65681 [00:21<00:00, 3060.03it/s]\n",
      "100%|██████████████████████████████████████████████████████████████████████████| 63212/63212 [00:20<00:00, 3015.34it/s]\n",
      "100%|██████████████████████████████████████████████████████████████████████████| 68299/68299 [00:22<00:00, 3000.73it/s]\n",
      "100%|██████████████████████████████████████████████████████████████████████████| 65760/65760 [00:22<00:00, 2963.38it/s]\n",
      "100%|██████████████████████████████████████████████████████████████████████████| 65581/65581 [00:22<00:00, 2980.26it/s]\n"
     ]
    },
    {
     "name": "stdout",
     "output_type": "stream",
     "text": [
      "Duplicates found --- 1,500,000\n"
     ]
    },
    {
     "name": "stderr",
     "output_type": "stream",
     "text": [
      "100%|██████████████████████████████████████████████████████████████████████████| 66176/66176 [00:21<00:00, 3016.85it/s]\n",
      "100%|██████████████████████████████████████████████████████████████████████████| 65800/65800 [00:21<00:00, 2997.09it/s]\n",
      "100%|██████████████████████████████████████████████████████████████████████████| 67870/67870 [00:21<00:00, 3088.39it/s]\n",
      "100%|██████████████████████████████████████████████████████████████████████████| 65762/65762 [00:23<00:00, 2813.00it/s]\n",
      "100%|██████████████████████████████████████████████████████████████████████████| 65284/65284 [00:21<00:00, 2973.14it/s]\n",
      "100%|██████████████████████████████████████████████████████████████████████████| 67342/67342 [00:21<00:00, 3072.30it/s]\n",
      "100%|██████████████████████████████████████████████████████████████████████████| 58950/58950 [00:20<00:00, 2883.01it/s]\n",
      "100%|██████████████████████████████████████████████████████████████████████████| 64786/64786 [00:21<00:00, 3014.03it/s]\n",
      "100%|██████████████████████████████████████████████████████████████████████████| 66871/66871 [00:22<00:00, 3013.15it/s]\n",
      "100%|██████████████████████████████████████████████████████████████████████████| 65599/65599 [00:21<00:00, 3030.13it/s]\n",
      "100%|██████████████████████████████████████████████████████████████████████████| 67071/67071 [00:22<00:00, 3038.36it/s]\n",
      "100%|██████████████████████████████████████████████████████████████████████████| 66501/66501 [00:22<00:00, 2995.94it/s]\n",
      "100%|██████████████████████████████████████████████████████████████████████████| 80560/80560 [00:27<00:00, 2908.15it/s]\n"
     ]
    },
    {
     "name": "stdout",
     "output_type": "stream",
     "text": [
      "Duplicates found --- 1,600,000\n"
     ]
    },
    {
     "name": "stderr",
     "output_type": "stream",
     "text": [
      "100%|██████████████████████████████████████████████████████████████████████████| 70684/70684 [00:22<00:00, 3076.39it/s]\n",
      "100%|██████████████████████████████████████████████████████████████████████████| 67272/67272 [00:23<00:00, 2825.94it/s]\n",
      "100%|██████████████████████████████████████████████████████████████████████████| 69309/69309 [00:23<00:00, 3005.74it/s]\n",
      "100%|██████████████████████████████████████████████████████████████████████████| 67240/67240 [00:22<00:00, 3030.58it/s]\n",
      "100%|██████████████████████████████████████████████████████████████████████████| 64202/64202 [00:21<00:00, 2997.28it/s]\n",
      "100%|██████████████████████████████████████████████████████████████████████████| 66177/66177 [00:23<00:00, 2835.26it/s]\n",
      "100%|██████████████████████████████████████████████████████████████████████████| 66253/66253 [00:31<00:00, 2123.21it/s]\n",
      "100%|██████████████████████████████████████████████████████████████████████████| 66316/66316 [00:24<00:00, 2746.96it/s]\n",
      "100%|██████████████████████████████████████████████████████████████████████████| 66207/66207 [00:25<00:00, 2624.65it/s]\n",
      "100%|██████████████████████████████████████████████████████████████████████████| 68045/68045 [00:22<00:00, 2963.08it/s]\n",
      "100%|██████████████████████████████████████████████████████████████████████████| 65607/65607 [00:22<00:00, 2969.75it/s]\n",
      "100%|██████████████████████████████████████████████████████████████████████████| 67020/67020 [00:24<00:00, 2767.64it/s]\n",
      "100%|██████████████████████████████████████████████████████████████████████████| 67881/67881 [00:22<00:00, 2953.11it/s]\n"
     ]
    },
    {
     "name": "stdout",
     "output_type": "stream",
     "text": [
      "Duplicates found --- 1,700,000\n"
     ]
    },
    {
     "name": "stderr",
     "output_type": "stream",
     "text": [
      "100%|██████████████████████████████████████████████████████████████████████████| 68184/68184 [00:23<00:00, 2946.67it/s]\n",
      "100%|██████████████████████████████████████████████████████████████████████████| 63499/63499 [00:21<00:00, 2958.43it/s]\n",
      "100%|██████████████████████████████████████████████████████████████████████████| 62350/62350 [00:21<00:00, 2898.46it/s]\n",
      "100%|██████████████████████████████████████████████████████████████████████████| 64836/64836 [00:22<00:00, 2834.09it/s]\n",
      "100%|██████████████████████████████████████████████████████████████████████████| 67562/67562 [00:23<00:00, 2854.89it/s]\n",
      "100%|██████████████████████████████████████████████████████████████████████████| 70325/70325 [00:23<00:00, 3021.61it/s]\n",
      "100%|██████████████████████████████████████████████████████████████████████████| 66051/66051 [00:23<00:00, 2867.60it/s]\n",
      "100%|██████████████████████████████████████████████████████████████████████████| 63749/63749 [00:21<00:00, 2932.59it/s]\n",
      "100%|██████████████████████████████████████████████████████████████████████████| 67531/67531 [00:24<00:00, 2807.76it/s]\n",
      "100%|██████████████████████████████████████████████████████████████████████████| 63069/63069 [00:21<00:00, 2928.82it/s]\n",
      "100%|██████████████████████████████████████████████████████████████████████████| 66002/66002 [00:22<00:00, 2990.34it/s]\n",
      "100%|██████████████████████████████████████████████████████████████████████████| 64616/64616 [00:24<00:00, 2609.41it/s]\n",
      "100%|██████████████████████████████████████████████████████████████████████████| 60823/60823 [00:21<00:00, 2817.40it/s]\n"
     ]
    },
    {
     "name": "stdout",
     "output_type": "stream",
     "text": [
      "Duplicates found --- 1,800,000\n"
     ]
    },
    {
     "name": "stderr",
     "output_type": "stream",
     "text": [
      "100%|██████████████████████████████████████████████████████████████████████████| 63832/63832 [00:21<00:00, 2972.03it/s]\n",
      "100%|██████████████████████████████████████████████████████████████████████████| 68811/68811 [00:22<00:00, 3014.90it/s]\n",
      "100%|██████████████████████████████████████████████████████████████████████████| 68199/68199 [00:25<00:00, 2706.26it/s]\n",
      "100%|██████████████████████████████████████████████████████████████████████████| 66160/66160 [00:23<00:00, 2856.52it/s]\n",
      "100%|██████████████████████████████████████████████████████████████████████████| 66008/66008 [00:22<00:00, 2892.17it/s]\n",
      "100%|██████████████████████████████████████████████████████████████████████████| 65240/65240 [00:22<00:00, 2932.29it/s]\n",
      "100%|██████████████████████████████████████████████████████████████████████████| 66340/66340 [00:22<00:00, 2959.63it/s]\n",
      "100%|██████████████████████████████████████████████████████████████████████████| 65986/65986 [00:21<00:00, 3100.81it/s]\n",
      "100%|██████████████████████████████████████████████████████████████████████████| 67313/67313 [00:22<00:00, 3030.84it/s]\n",
      "100%|██████████████████████████████████████████████████████████████████████████| 67607/67607 [00:22<00:00, 3027.40it/s]\n",
      "100%|██████████████████████████████████████████████████████████████████████████| 69147/69147 [00:23<00:00, 2931.64it/s]\n",
      "100%|██████████████████████████████████████████████████████████████████████████| 66021/66021 [00:22<00:00, 2908.08it/s]\n",
      "100%|██████████████████████████████████████████████████████████████████████████| 65207/65207 [00:21<00:00, 2965.64it/s]\n",
      "100%|██████████████████████████████████████████████████████████████████████████| 61733/61733 [00:22<00:00, 2690.58it/s]\n"
     ]
    },
    {
     "name": "stdout",
     "output_type": "stream",
     "text": [
      "Duplicates found --- 1,900,000\n"
     ]
    },
    {
     "name": "stderr",
     "output_type": "stream",
     "text": [
      "100%|██████████████████████████████████████████████████████████████████████████| 66096/66096 [00:22<00:00, 2969.58it/s]\n",
      "100%|██████████████████████████████████████████████████████████████████████████| 65074/65074 [00:22<00:00, 2913.40it/s]\n",
      "100%|██████████████████████████████████████████████████████████████████████████| 66458/66458 [00:22<00:00, 2991.60it/s]\n",
      "100%|██████████████████████████████████████████████████████████████████████████| 65950/65950 [00:22<00:00, 2980.65it/s]\n",
      "100%|██████████████████████████████████████████████████████████████████████████| 67910/67910 [00:22<00:00, 2976.70it/s]\n",
      "100%|██████████████████████████████████████████████████████████████████████████| 67738/67738 [00:23<00:00, 2909.32it/s]\n",
      "100%|██████████████████████████████████████████████████████████████████████████| 66891/66891 [00:22<00:00, 2964.88it/s]\n",
      "100%|██████████████████████████████████████████████████████████████████████████| 66279/66279 [00:22<00:00, 2895.30it/s]\n",
      "100%|██████████████████████████████████████████████████████████████████████████| 67191/67191 [00:22<00:00, 2974.59it/s]\n",
      "100%|██████████████████████████████████████████████████████████████████████████| 68453/68453 [00:24<00:00, 2741.41it/s]\n",
      "100%|██████████████████████████████████████████████████████████████████████████| 66183/66183 [00:23<00:00, 2817.06it/s]\n"
     ]
    },
    {
     "name": "stdout",
     "output_type": "stream",
     "text": [
      "Duplicates found --- 2,000,000\n"
     ]
    },
    {
     "name": "stderr",
     "output_type": "stream",
     "text": [
      "100%|██████████████████████████████████████████████████████████████████████████| 65017/65017 [00:22<00:00, 2920.15it/s]\n",
      "100%|██████████████████████████████████████████████████████████████████████████| 63704/63704 [00:24<00:00, 2616.88it/s]\n",
      "100%|██████████████████████████████████████████████████████████████████████████| 67048/67048 [00:23<00:00, 2841.21it/s]\n",
      "100%|██████████████████████████████████████████████████████████████████████████| 70042/70042 [00:25<00:00, 2736.84it/s]\n",
      "100%|██████████████████████████████████████████████████████████████████████████| 68386/68386 [00:23<00:00, 2878.25it/s]\n",
      "100%|██████████████████████████████████████████████████████████████████████████| 64687/64687 [00:24<00:00, 2597.58it/s]\n",
      "100%|██████████████████████████████████████████████████████████████████████████| 68033/68033 [00:25<00:00, 2681.72it/s]\n",
      "100%|██████████████████████████████████████████████████████████████████████████| 65458/65458 [00:23<00:00, 2806.58it/s]\n",
      "100%|██████████████████████████████████████████████████████████████████████████| 67293/67293 [00:24<00:00, 2743.53it/s]\n",
      "100%|██████████████████████████████████████████████████████████████████████████| 66622/66622 [00:22<00:00, 2901.21it/s]\n",
      "100%|██████████████████████████████████████████████████████████████████████████| 66382/66382 [00:26<00:00, 2478.57it/s]\n",
      "100%|██████████████████████████████████████████████████████████████████████████| 65350/65350 [00:24<00:00, 2653.79it/s]\n",
      "100%|██████████████████████████████████████████████████████████████████████████| 65666/65666 [00:23<00:00, 2849.56it/s]\n"
     ]
    },
    {
     "name": "stdout",
     "output_type": "stream",
     "text": [
      "Duplicates found --- 2,100,000\n"
     ]
    },
    {
     "name": "stderr",
     "output_type": "stream",
     "text": [
      "100%|██████████████████████████████████████████████████████████████████████████| 65714/65714 [00:27<00:00, 2372.99it/s]\n",
      "100%|██████████████████████████████████████████████████████████████████████████| 68173/68173 [00:26<00:00, 2586.84it/s]\n",
      "100%|██████████████████████████████████████████████████████████████████████████| 68151/68151 [00:23<00:00, 2884.75it/s]\n",
      "100%|██████████████████████████████████████████████████████████████████████████| 70158/70158 [00:23<00:00, 2973.41it/s]\n",
      "100%|██████████████████████████████████████████████████████████████████████████| 62029/62029 [00:21<00:00, 2832.06it/s]\n",
      "100%|██████████████████████████████████████████████████████████████████████████| 62903/62903 [00:23<00:00, 2733.18it/s]\n",
      "100%|██████████████████████████████████████████████████████████████████████████| 62277/62277 [00:22<00:00, 2766.03it/s]\n",
      "100%|██████████████████████████████████████████████████████████████████████████| 66743/66743 [00:23<00:00, 2783.51it/s]\n",
      "100%|██████████████████████████████████████████████████████████████████████████| 63114/63114 [00:22<00:00, 2854.95it/s]\n",
      "100%|██████████████████████████████████████████████████████████████████████████| 64275/64275 [00:22<00:00, 2865.55it/s]\n",
      "100%|██████████████████████████████████████████████████████████████████████████| 64764/64764 [00:22<00:00, 2846.60it/s]\n",
      "100%|██████████████████████████████████████████████████████████████████████████| 43243/43243 [00:15<00:00, 2872.56it/s]\n"
     ]
    },
    {
     "name": "stdout",
     "output_type": "stream",
     "text": [
      "Wall time: 1h 39min 27s\n"
     ]
    }
   ],
   "source": [
    "%%time\n",
    "with lsh.insertion_session() as session:\n",
    "    with open('d\\wiki2_v_01.txt', 'w', encoding='utf-8') as f:\n",
    "        with open('d\\wiki2.txt', encoding='utf-8') as f1:\n",
    "            for piece in read_in_chunks_lines(f1, chunk_size=6000000):\n",
    "                sents = [process_txt_new(x) for x in piece]\n",
    "                sents = [line for line in sents if line is not None]\n",
    "                hashes = [hashes_simple_1(x) for x in tqdm(sents)]\n",
    "                \n",
    "                for i in range(len(hashes)):                   \n",
    "                    if sents[i] == 'PLACEHOLDER':\n",
    "                        f.write('\\n')  \n",
    "                    else:                            \n",
    "                        key = hashes[i]\n",
    "                        q = len(w2.query(key))\n",
    "                        q1 = len(w0.query(key))\n",
    "                        q2 = len(w1.query(key))\n",
    "                        q3 = len(w3.query(key)) \n",
    "                        q4 = len(w4.query(key))\n",
    "                        q5 = len(w5.query(key))  \n",
    "\n",
    "                        s =  q1 + q2 + q3 + q4 + q5\n",
    "\n",
    "                        if q < 2 and s == 0:\n",
    "                            f.write(sents[i] + '\\n')\n",
    "                        else:\n",
    "                            if not len(lsh.query(hashes[i])): \n",
    "                                r +=1 \n",
    "                                session.insert('w'+str(r), hashes[i])                \n",
    "                                f.write(sents[i] + '\\n')\n",
    "                            else:\n",
    "                                d += 1\n",
    "                                if d % 100000 == 0:\n",
    "                                    print(f'Duplicates found --- {d:,}')"
   ]
  },
  {
   "cell_type": "code",
   "execution_count": 18,
   "metadata": {
    "scrolled": false
   },
   "outputs": [
    {
     "name": "stdout",
     "output_type": "stream",
     "text": [
      "Total duplicates in file -- 2,193,299\n"
     ]
    }
   ],
   "source": [
    "print(f'Total duplicates in file -- {d:,}')"
   ]
  },
  {
   "cell_type": "code",
   "execution_count": 19,
   "metadata": {
    "scrolled": true
   },
   "outputs": [
    {
     "name": "stderr",
     "output_type": "stream",
     "text": [
      "100%|██████████████████████████████████████████████████████████████████████████| 55810/55810 [00:19<00:00, 2930.36it/s]\n"
     ]
    },
    {
     "name": "stdout",
     "output_type": "stream",
     "text": [
      "Duplicates found --- 2,200,000\n"
     ]
    },
    {
     "name": "stderr",
     "output_type": "stream",
     "text": [
      "100%|██████████████████████████████████████████████████████████████████████████| 54848/54848 [00:18<00:00, 2943.51it/s]\n",
      "100%|██████████████████████████████████████████████████████████████████████████| 53505/53505 [00:18<00:00, 2824.80it/s]\n",
      "100%|██████████████████████████████████████████████████████████████████████████| 57643/57643 [00:19<00:00, 2930.84it/s]\n",
      "100%|██████████████████████████████████████████████████████████████████████████| 54833/54833 [00:18<00:00, 2899.24it/s]\n",
      "100%|██████████████████████████████████████████████████████████████████████████| 53744/53744 [00:18<00:00, 2858.21it/s]\n",
      "100%|██████████████████████████████████████████████████████████████████████████| 51482/51482 [00:17<00:00, 2863.77it/s]\n",
      "100%|██████████████████████████████████████████████████████████████████████████| 53883/53883 [00:18<00:00, 2900.79it/s]\n",
      "100%|██████████████████████████████████████████████████████████████████████████| 52020/52020 [00:18<00:00, 2788.86it/s]\n",
      "100%|██████████████████████████████████████████████████████████████████████████| 54620/54620 [00:19<00:00, 2809.88it/s]\n",
      "100%|██████████████████████████████████████████████████████████████████████████| 55250/55250 [00:18<00:00, 2939.19it/s]\n",
      "100%|██████████████████████████████████████████████████████████████████████████| 54972/54972 [00:18<00:00, 2959.41it/s]\n",
      "100%|██████████████████████████████████████████████████████████████████████████| 54012/54012 [00:18<00:00, 2849.80it/s]\n",
      "100%|██████████████████████████████████████████████████████████████████████████| 53965/53965 [00:18<00:00, 2963.47it/s]\n",
      "100%|██████████████████████████████████████████████████████████████████████████| 53239/53239 [00:18<00:00, 2934.52it/s]\n",
      "100%|██████████████████████████████████████████████████████████████████████████| 52041/52041 [00:18<00:00, 2888.57it/s]\n"
     ]
    },
    {
     "name": "stdout",
     "output_type": "stream",
     "text": [
      "Duplicates found --- 2,300,000\n"
     ]
    },
    {
     "name": "stderr",
     "output_type": "stream",
     "text": [
      "100%|██████████████████████████████████████████████████████████████████████████| 54730/54730 [00:18<00:00, 2953.58it/s]\n",
      "100%|██████████████████████████████████████████████████████████████████████████| 56995/56995 [00:18<00:00, 3013.56it/s]\n",
      "100%|██████████████████████████████████████████████████████████████████████████| 54799/54799 [00:18<00:00, 2958.29it/s]\n",
      "100%|██████████████████████████████████████████████████████████████████████████| 54012/54012 [00:18<00:00, 2947.52it/s]\n",
      "100%|██████████████████████████████████████████████████████████████████████████| 54491/54491 [00:18<00:00, 2949.22it/s]\n",
      "100%|██████████████████████████████████████████████████████████████████████████| 54252/54252 [00:19<00:00, 2844.32it/s]\n",
      "100%|██████████████████████████████████████████████████████████████████████████| 54187/54187 [00:19<00:00, 2771.98it/s]\n",
      "100%|██████████████████████████████████████████████████████████████████████████| 55535/55535 [00:19<00:00, 2865.38it/s]\n",
      "100%|██████████████████████████████████████████████████████████████████████████| 56006/56006 [00:18<00:00, 2962.63it/s]\n",
      "100%|██████████████████████████████████████████████████████████████████████████| 53328/53328 [00:18<00:00, 2906.18it/s]\n",
      "100%|██████████████████████████████████████████████████████████████████████████| 53389/53389 [00:17<00:00, 2993.58it/s]\n",
      "100%|██████████████████████████████████████████████████████████████████████████| 55370/55370 [00:18<00:00, 3046.66it/s]\n",
      "100%|██████████████████████████████████████████████████████████████████████████| 54845/54845 [00:18<00:00, 3020.40it/s]\n",
      "100%|██████████████████████████████████████████████████████████████████████████| 54334/54334 [00:17<00:00, 3023.92it/s]\n"
     ]
    },
    {
     "name": "stdout",
     "output_type": "stream",
     "text": [
      "Duplicates found --- 2,400,000\n"
     ]
    },
    {
     "name": "stderr",
     "output_type": "stream",
     "text": [
      "100%|██████████████████████████████████████████████████████████████████████████| 54772/54772 [00:18<00:00, 3021.80it/s]\n",
      "100%|██████████████████████████████████████████████████████████████████████████| 51289/51289 [00:17<00:00, 2922.28it/s]\n",
      "100%|██████████████████████████████████████████████████████████████████████████| 54367/54367 [00:19<00:00, 2797.24it/s]\n",
      "100%|██████████████████████████████████████████████████████████████████████████| 54080/54080 [00:18<00:00, 2896.11it/s]\n",
      "100%|██████████████████████████████████████████████████████████████████████████| 58190/58190 [00:19<00:00, 3029.22it/s]\n",
      "100%|██████████████████████████████████████████████████████████████████████████| 52258/52258 [00:17<00:00, 2915.49it/s]\n",
      "100%|██████████████████████████████████████████████████████████████████████████| 54442/54442 [00:18<00:00, 2923.86it/s]\n",
      "100%|██████████████████████████████████████████████████████████████████████████| 55096/55096 [00:25<00:00, 2154.43it/s]\n",
      "100%|██████████████████████████████████████████████████████████████████████████| 53234/53234 [00:20<00:00, 2584.39it/s]\n",
      "100%|██████████████████████████████████████████████████████████████████████████| 52738/52738 [00:18<00:00, 2808.52it/s]\n",
      "100%|██████████████████████████████████████████████████████████████████████████| 54920/54920 [00:20<00:00, 2697.58it/s]\n",
      "100%|██████████████████████████████████████████████████████████████████████████| 54557/54557 [00:21<00:00, 2505.50it/s]\n",
      "100%|██████████████████████████████████████████████████████████████████████████| 48935/48935 [00:18<00:00, 2625.47it/s]\n",
      "100%|██████████████████████████████████████████████████████████████████████████| 51651/51651 [00:21<00:00, 2425.10it/s]\n"
     ]
    },
    {
     "name": "stdout",
     "output_type": "stream",
     "text": [
      "Duplicates found --- 2,500,000\n"
     ]
    },
    {
     "name": "stderr",
     "output_type": "stream",
     "text": [
      "100%|██████████████████████████████████████████████████████████████████████████| 52016/52016 [00:20<00:00, 2518.29it/s]\n",
      "100%|██████████████████████████████████████████████████████████████████████████| 54654/54654 [00:20<00:00, 2643.86it/s]\n",
      "100%|██████████████████████████████████████████████████████████████████████████| 53895/53895 [00:19<00:00, 2699.43it/s]\n",
      "100%|██████████████████████████████████████████████████████████████████████████| 52262/52262 [00:20<00:00, 2488.74it/s]\n",
      "100%|██████████████████████████████████████████████████████████████████████████| 56343/56343 [00:20<00:00, 2707.99it/s]\n",
      "100%|██████████████████████████████████████████████████████████████████████████| 54159/54159 [00:19<00:00, 2728.97it/s]\n",
      "100%|██████████████████████████████████████████████████████████████████████████| 55986/55986 [00:19<00:00, 2819.59it/s]\n",
      "100%|██████████████████████████████████████████████████████████████████████████| 55611/55611 [00:20<00:00, 2763.57it/s]\n",
      "100%|██████████████████████████████████████████████████████████████████████████| 51333/51333 [00:19<00:00, 2700.83it/s]\n",
      "100%|██████████████████████████████████████████████████████████████████████████| 56582/56582 [00:20<00:00, 2810.72it/s]\n",
      "100%|██████████████████████████████████████████████████████████████████████████| 57705/57705 [00:20<00:00, 2866.14it/s]\n",
      "100%|██████████████████████████████████████████████████████████████████████████| 55870/55870 [00:19<00:00, 2799.95it/s]\n",
      "100%|██████████████████████████████████████████████████████████████████████████| 52984/52984 [00:19<00:00, 2721.56it/s]\n",
      "100%|██████████████████████████████████████████████████████████████████████████| 54258/54258 [00:19<00:00, 2768.65it/s]\n",
      "100%|██████████████████████████████████████████████████████████████████████████| 50885/50885 [00:18<00:00, 2713.98it/s]\n"
     ]
    },
    {
     "name": "stdout",
     "output_type": "stream",
     "text": [
      "Duplicates found --- 2,600,000\n"
     ]
    },
    {
     "name": "stderr",
     "output_type": "stream",
     "text": [
      "100%|██████████████████████████████████████████████████████████████████████████| 53261/53261 [00:19<00:00, 2702.17it/s]\n",
      "100%|██████████████████████████████████████████████████████████████████████████| 51577/51577 [00:20<00:00, 2532.04it/s]\n",
      "100%|██████████████████████████████████████████████████████████████████████████| 54260/54260 [00:20<00:00, 2693.52it/s]\n",
      "100%|██████████████████████████████████████████████████████████████████████████| 54766/54766 [00:20<00:00, 2622.57it/s]\n",
      "100%|██████████████████████████████████████████████████████████████████████████| 52345/52345 [00:19<00:00, 2688.87it/s]\n",
      "100%|██████████████████████████████████████████████████████████████████████████| 53058/53058 [00:19<00:00, 2741.96it/s]\n",
      "100%|██████████████████████████████████████████████████████████████████████████| 53046/53046 [00:20<00:00, 2641.25it/s]\n",
      "100%|██████████████████████████████████████████████████████████████████████████| 53185/53185 [00:19<00:00, 2674.21it/s]\n",
      "100%|██████████████████████████████████████████████████████████████████████████| 56989/56989 [00:20<00:00, 2830.99it/s]\n",
      "100%|██████████████████████████████████████████████████████████████████████████| 57410/57410 [00:22<00:00, 2597.91it/s]\n",
      "100%|██████████████████████████████████████████████████████████████████████████| 60059/60059 [00:21<00:00, 2816.13it/s]\n",
      "100%|██████████████████████████████████████████████████████████████████████████| 64709/64709 [00:22<00:00, 2845.89it/s]\n",
      "100%|██████████████████████████████████████████████████████████████████████████| 62987/62987 [00:21<00:00, 2994.82it/s]\n",
      "100%|██████████████████████████████████████████████████████████████████████████| 65578/65578 [00:21<00:00, 3099.03it/s]\n",
      "100%|██████████████████████████████████████████████████████████████████████████| 56437/56437 [00:20<00:00, 2785.60it/s]\n",
      "100%|██████████████████████████████████████████████████████████████████████████| 53677/53677 [00:19<00:00, 2787.23it/s]\n",
      "100%|██████████████████████████████████████████████████████████████████████████| 52336/52336 [00:20<00:00, 2529.43it/s]\n"
     ]
    },
    {
     "name": "stdout",
     "output_type": "stream",
     "text": [
      "Duplicates found --- 2,700,000\n"
     ]
    },
    {
     "name": "stderr",
     "output_type": "stream",
     "text": [
      "100%|██████████████████████████████████████████████████████████████████████████| 53571/53571 [00:20<00:00, 2666.93it/s]\n",
      "100%|████████████████████████████████████████████████████████████████████████████| 58862/58862 [21:39<00:00, 45.31it/s]\n",
      "100%|██████████████████████████████████████████████████████████████████████████| 65132/65132 [00:21<00:00, 3022.01it/s]\n",
      "100%|██████████████████████████████████████████████████████████████████████████| 72521/72521 [00:22<00:00, 3293.51it/s]\n",
      "100%|██████████████████████████████████████████████████████████████████████████| 71394/71394 [00:22<00:00, 3135.57it/s]\n",
      "100%|██████████████████████████████████████████████████████████████████████████| 69156/69156 [00:20<00:00, 3375.77it/s]\n",
      "100%|██████████████████████████████████████████████████████████████████████████| 58605/58605 [00:19<00:00, 2968.49it/s]\n",
      "100%|██████████████████████████████████████████████████████████████████████████| 54628/54628 [00:18<00:00, 2896.52it/s]\n",
      "100%|██████████████████████████████████████████████████████████████████████████| 62437/62437 [00:19<00:00, 3177.38it/s]\n",
      "100%|██████████████████████████████████████████████████████████████████████████| 55749/55749 [00:18<00:00, 3045.69it/s]\n",
      "100%|██████████████████████████████████████████████████████████████████████████| 52236/52236 [00:17<00:00, 2958.46it/s]\n",
      "100%|██████████████████████████████████████████████████████████████████████████| 54210/54210 [00:17<00:00, 3039.61it/s]\n",
      "100%|██████████████████████████████████████████████████████████████████████████| 54276/54276 [00:17<00:00, 3023.25it/s]\n",
      "100%|██████████████████████████████████████████████████████████████████████████| 56559/56559 [00:18<00:00, 3135.09it/s]\n",
      "100%|██████████████████████████████████████████████████████████████████████████| 56523/56523 [00:18<00:00, 3130.40it/s]\n",
      "100%|██████████████████████████████████████████████████████████████████████████| 54800/54800 [00:19<00:00, 2770.27it/s]\n"
     ]
    },
    {
     "name": "stdout",
     "output_type": "stream",
     "text": [
      "Duplicates found --- 2,800,000\n"
     ]
    },
    {
     "name": "stderr",
     "output_type": "stream",
     "text": [
      "100%|██████████████████████████████████████████████████████████████████████████| 52660/52660 [00:18<00:00, 2834.29it/s]\n",
      "100%|██████████████████████████████████████████████████████████████████████████| 59822/59822 [00:19<00:00, 3107.91it/s]\n",
      "100%|██████████████████████████████████████████████████████████████████████████| 58193/58193 [00:20<00:00, 2772.66it/s]\n",
      "100%|██████████████████████████████████████████████████████████████████████████| 63637/63637 [00:21<00:00, 2971.57it/s]\n",
      "100%|██████████████████████████████████████████████████████████████████████████| 53153/53153 [00:20<00:00, 2531.68it/s]\n",
      "100%|██████████████████████████████████████████████████████████████████████████| 51950/51950 [00:20<00:00, 2478.28it/s]\n",
      "100%|██████████████████████████████████████████████████████████████████████████| 54112/54112 [00:20<00:00, 2610.21it/s]\n",
      "100%|██████████████████████████████████████████████████████████████████████████| 52764/52764 [00:21<00:00, 2496.08it/s]\n",
      "100%|██████████████████████████████████████████████████████████████████████████| 52656/52656 [00:18<00:00, 2800.79it/s]\n",
      "100%|██████████████████████████████████████████████████████████████████████████| 50385/50385 [00:17<00:00, 2845.82it/s]\n",
      "100%|██████████████████████████████████████████████████████████████████████████| 54265/54265 [00:18<00:00, 3008.56it/s]\n",
      "100%|██████████████████████████████████████████████████████████████████████████| 53503/53503 [00:18<00:00, 2870.84it/s]\n",
      "100%|██████████████████████████████████████████████████████████████████████████| 56857/56857 [00:18<00:00, 3059.27it/s]\n",
      "100%|██████████████████████████████████████████████████████████████████████████| 55905/55905 [00:18<00:00, 3094.76it/s]\n",
      "100%|██████████████████████████████████████████████████████████████████████████| 58285/58285 [00:18<00:00, 3117.12it/s]\n",
      "100%|██████████████████████████████████████████████████████████████████████████| 61782/61782 [00:18<00:00, 3355.90it/s]\n",
      "100%|██████████████████████████████████████████████████████████████████████████| 57878/57878 [00:18<00:00, 3204.15it/s]\n"
     ]
    },
    {
     "name": "stdout",
     "output_type": "stream",
     "text": [
      "Duplicates found --- 2,900,000\n"
     ]
    },
    {
     "name": "stderr",
     "output_type": "stream",
     "text": [
      "100%|██████████████████████████████████████████████████████████████████████████| 56351/56351 [00:18<00:00, 3124.38it/s]\n",
      "100%|██████████████████████████████████████████████████████████████████████████| 57736/57736 [00:19<00:00, 2978.30it/s]\n",
      "100%|██████████████████████████████████████████████████████████████████████████| 55332/55332 [00:18<00:00, 3028.38it/s]\n",
      "100%|██████████████████████████████████████████████████████████████████████████| 58958/58958 [00:18<00:00, 3111.91it/s]\n",
      "100%|██████████████████████████████████████████████████████████████████████████| 56689/56689 [00:18<00:00, 2986.05it/s]\n",
      "100%|██████████████████████████████████████████████████████████████████████████| 59809/59809 [00:18<00:00, 3215.73it/s]\n",
      "100%|██████████████████████████████████████████████████████████████████████████| 46161/46161 [00:16<00:00, 2882.75it/s]\n",
      "100%|██████████████████████████████████████████████████████████████████████████| 55072/55072 [00:18<00:00, 3058.15it/s]\n",
      "100%|██████████████████████████████████████████████████████████████████████████| 32005/32005 [00:10<00:00, 3185.26it/s]\n"
     ]
    },
    {
     "name": "stdout",
     "output_type": "stream",
     "text": [
      "Wall time: 1h 36min 48s\n"
     ]
    }
   ],
   "source": [
    "%%time\n",
    "with lsh.insertion_session() as session:\n",
    "    with open('d\\wiki3_v_01.txt', 'w', encoding='utf-8') as f:\n",
    "        with open('d\\wiki3.txt', encoding='utf-8') as f1:\n",
    "            for piece in read_in_chunks_lines(f1, chunk_size=5000000):\n",
    "                sents = [process_txt_new(x) for x in piece]\n",
    "                sents = [line for line in sents if line is not None]\n",
    "                hashes = [hashes_simple_1(x) for x in tqdm(sents)]\n",
    "                \n",
    "                for i in range(len(hashes)):                   \n",
    "                    if sents[i] == 'PLACEHOLDER':\n",
    "                        f.write('\\n')  \n",
    "                    else:    \n",
    "                        \n",
    "                        key = hashes[i]\n",
    "                        q = len(w3.query(key))\n",
    "                        q1 = len(w0.query(key))\n",
    "                        q2 = len(w1.query(key))\n",
    "                        q3 = len(w2.query(key)) \n",
    "                        q4 = len(w4.query(key))\n",
    "                        q5 = len(w5.query(key))  \n",
    "\n",
    "                        s =  q1 + q2 + q3 + q4 + q5\n",
    "              \n",
    "                        if q < 2 and s == 0:\n",
    "                            f.write(sents[i] + '\\n')\n",
    "                        else:\n",
    "                            if not len(lsh.query(hashes[i])): \n",
    "                                r +=1 \n",
    "                                session.insert('w'+str(r), hashes[i])                \n",
    "                                f.write(sents[i] + '\\n')\n",
    "                            else:\n",
    "                                d += 1\n",
    "                                if d % 100000 == 0:\n",
    "                                    print(f'Duplicates found --- {d:,}')"
   ]
  },
  {
   "cell_type": "code",
   "execution_count": 20,
   "metadata": {
    "scrolled": false
   },
   "outputs": [
    {
     "name": "stdout",
     "output_type": "stream",
     "text": [
      "Total duplicates in file -- 2,955,553\n"
     ]
    }
   ],
   "source": [
    "print(f'Total duplicates in file -- {d:,}')"
   ]
  },
  {
   "cell_type": "code",
   "execution_count": 22,
   "metadata": {
    "scrolled": true
   },
   "outputs": [
    {
     "name": "stderr",
     "output_type": "stream",
     "text": [
      "100%|██████████████████████████████████████████████████████████████████████████| 48385/48385 [00:18<00:00, 2608.42it/s]\n",
      "100%|██████████████████████████████████████████████████████████████████████████| 54409/54409 [00:21<00:00, 2513.88it/s]\n",
      "100%|██████████████████████████████████████████████████████████████████████████| 62902/62902 [00:23<00:00, 2649.57it/s]\n",
      "100%|██████████████████████████████████████████████████████████████████████████| 55413/55413 [00:22<00:00, 2517.69it/s]\n",
      "100%|██████████████████████████████████████████████████████████████████████████| 55620/55620 [00:21<00:00, 2578.91it/s]\n",
      "100%|██████████████████████████████████████████████████████████████████████████| 58650/58650 [00:21<00:00, 2680.99it/s]\n",
      "100%|██████████████████████████████████████████████████████████████████████████| 70600/70600 [00:26<00:00, 2707.89it/s]\n",
      "100%|██████████████████████████████████████████████████████████████████████████| 77606/77606 [00:28<00:00, 2734.15it/s]\n",
      "100%|██████████████████████████████████████████████████████████████████████████| 57966/57966 [00:21<00:00, 2668.43it/s]\n"
     ]
    },
    {
     "name": "stdout",
     "output_type": "stream",
     "text": [
      "Duplicates found --- 3,000,000\n"
     ]
    },
    {
     "name": "stderr",
     "output_type": "stream",
     "text": [
      "100%|██████████████████████████████████████████████████████████████████████████| 52678/52678 [00:21<00:00, 2487.74it/s]\n",
      "100%|██████████████████████████████████████████████████████████████████████████| 50969/50969 [00:20<00:00, 2503.12it/s]\n",
      "100%|██████████████████████████████████████████████████████████████████████████| 50194/50194 [00:22<00:00, 2228.55it/s]\n",
      "100%|██████████████████████████████████████████████████████████████████████████| 52382/52382 [00:23<00:00, 2184.43it/s]\n",
      "100%|██████████████████████████████████████████████████████████████████████████| 53041/53041 [00:23<00:00, 2294.56it/s]\n",
      "100%|██████████████████████████████████████████████████████████████████████████| 56228/56228 [00:22<00:00, 2506.26it/s]\n",
      "100%|██████████████████████████████████████████████████████████████████████████| 51909/51909 [00:21<00:00, 2382.13it/s]\n",
      "100%|██████████████████████████████████████████████████████████████████████████| 54197/54197 [00:21<00:00, 2492.94it/s]\n",
      "100%|██████████████████████████████████████████████████████████████████████████| 53883/53883 [00:20<00:00, 2625.30it/s]\n",
      "100%|██████████████████████████████████████████████████████████████████████████| 52564/52564 [00:20<00:00, 2560.08it/s]\n",
      "100%|██████████████████████████████████████████████████████████████████████████| 50973/50973 [00:20<00:00, 2509.49it/s]\n",
      "100%|██████████████████████████████████████████████████████████████████████████| 51868/51868 [00:20<00:00, 2478.35it/s]\n",
      "100%|██████████████████████████████████████████████████████████████████████████| 51002/51002 [00:20<00:00, 2475.04it/s]\n",
      "100%|██████████████████████████████████████████████████████████████████████████| 49915/49915 [00:20<00:00, 2453.21it/s]\n",
      "100%|██████████████████████████████████████████████████████████████████████████| 51048/51048 [00:20<00:00, 2476.78it/s]\n",
      "100%|██████████████████████████████████████████████████████████████████████████| 57725/57725 [00:22<00:00, 2592.39it/s]\n",
      "100%|██████████████████████████████████████████████████████████████████████████| 56575/56575 [00:21<00:00, 2595.15it/s]\n",
      "100%|██████████████████████████████████████████████████████████████████████████| 55888/55888 [00:21<00:00, 2597.54it/s]\n",
      "100%|██████████████████████████████████████████████████████████████████████████| 53443/53443 [00:21<00:00, 2523.61it/s]\n",
      "100%|██████████████████████████████████████████████████████████████████████████| 60942/60942 [00:23<00:00, 2634.49it/s]\n",
      "100%|██████████████████████████████████████████████████████████████████████████| 55506/55506 [00:23<00:00, 2359.61it/s]\n"
     ]
    },
    {
     "name": "stdout",
     "output_type": "stream",
     "text": [
      "Duplicates found --- 3,100,000\n"
     ]
    },
    {
     "name": "stderr",
     "output_type": "stream",
     "text": [
      "100%|██████████████████████████████████████████████████████████████████████████| 54682/54682 [00:21<00:00, 2571.69it/s]\n",
      "100%|██████████████████████████████████████████████████████████████████████████| 58654/58654 [00:22<00:00, 2623.25it/s]\n",
      "100%|██████████████████████████████████████████████████████████████████████████| 58313/58313 [00:22<00:00, 2649.72it/s]\n",
      "100%|██████████████████████████████████████████████████████████████████████████| 56884/56884 [00:21<00:00, 2698.91it/s]\n",
      "100%|██████████████████████████████████████████████████████████████████████████| 55088/55088 [00:20<00:00, 2667.11it/s]\n",
      "100%|██████████████████████████████████████████████████████████████████████████| 49984/49984 [00:19<00:00, 2587.04it/s]\n",
      "100%|██████████████████████████████████████████████████████████████████████████| 53960/53960 [00:20<00:00, 2654.84it/s]\n",
      "100%|██████████████████████████████████████████████████████████████████████████| 56131/56131 [00:20<00:00, 2733.42it/s]\n",
      "100%|██████████████████████████████████████████████████████████████████████████| 56987/56987 [00:20<00:00, 2732.76it/s]\n",
      "100%|██████████████████████████████████████████████████████████████████████████| 54252/54252 [00:20<00:00, 2689.42it/s]\n",
      "100%|██████████████████████████████████████████████████████████████████████████| 56441/56441 [00:20<00:00, 2760.17it/s]\n",
      "100%|██████████████████████████████████████████████████████████████████████████| 64557/64557 [00:22<00:00, 2925.82it/s]\n",
      "100%|██████████████████████████████████████████████████████████████████████████| 58188/58188 [00:21<00:00, 2735.67it/s]\n",
      "100%|██████████████████████████████████████████████████████████████████████████| 53979/53979 [00:20<00:00, 2665.32it/s]\n",
      "100%|██████████████████████████████████████████████████████████████████████████| 56348/56348 [00:20<00:00, 2756.30it/s]\n",
      "100%|██████████████████████████████████████████████████████████████████████████| 55985/55985 [00:20<00:00, 2754.69it/s]\n",
      "100%|██████████████████████████████████████████████████████████████████████████| 55297/55297 [00:24<00:00, 2299.51it/s]\n",
      "100%|██████████████████████████████████████████████████████████████████████████| 54740/54740 [00:20<00:00, 2625.91it/s]\n"
     ]
    },
    {
     "name": "stdout",
     "output_type": "stream",
     "text": [
      "Duplicates found --- 3,200,000\n"
     ]
    },
    {
     "name": "stderr",
     "output_type": "stream",
     "text": [
      "100%|██████████████████████████████████████████████████████████████████████████| 54328/54328 [00:20<00:00, 2679.64it/s]\n",
      "100%|██████████████████████████████████████████████████████████████████████████| 56084/56084 [00:20<00:00, 2725.04it/s]\n",
      "100%|██████████████████████████████████████████████████████████████████████████| 55043/55043 [00:20<00:00, 2718.76it/s]\n",
      "100%|██████████████████████████████████████████████████████████████████████████| 54804/54804 [00:20<00:00, 2679.18it/s]\n",
      "100%|██████████████████████████████████████████████████████████████████████████| 53114/53114 [00:19<00:00, 2715.62it/s]\n",
      "100%|██████████████████████████████████████████████████████████████████████████| 54588/54588 [00:20<00:00, 2697.16it/s]\n",
      "100%|██████████████████████████████████████████████████████████████████████████| 57524/57524 [00:21<00:00, 2738.12it/s]\n",
      "100%|██████████████████████████████████████████████████████████████████████████| 55520/55520 [00:22<00:00, 2427.01it/s]\n",
      "100%|██████████████████████████████████████████████████████████████████████████| 56511/56511 [00:21<00:00, 2650.04it/s]\n",
      "100%|██████████████████████████████████████████████████████████████████████████| 56521/56521 [00:20<00:00, 2707.02it/s]\n",
      "100%|██████████████████████████████████████████████████████████████████████████| 55321/55321 [00:20<00:00, 2729.21it/s]\n",
      "100%|██████████████████████████████████████████████████████████████████████████| 55525/55525 [00:19<00:00, 2824.61it/s]\n",
      "100%|██████████████████████████████████████████████████████████████████████████| 59854/59854 [00:19<00:00, 3028.51it/s]\n",
      "100%|██████████████████████████████████████████████████████████████████████████| 57527/57527 [00:20<00:00, 2799.87it/s]\n",
      "100%|██████████████████████████████████████████████████████████████████████████| 55872/55872 [00:20<00:00, 2730.23it/s]\n",
      "100%|██████████████████████████████████████████████████████████████████████████| 56123/56123 [00:20<00:00, 2686.54it/s]\n",
      "100%|██████████████████████████████████████████████████████████████████████████| 58473/58473 [00:22<00:00, 2550.26it/s]\n",
      "100%|██████████████████████████████████████████████████████████████████████████| 54981/54981 [00:22<00:00, 2454.80it/s]\n",
      "100%|██████████████████████████████████████████████████████████████████████████| 55673/55673 [00:24<00:00, 2278.59it/s]\n",
      "100%|██████████████████████████████████████████████████████████████████████████| 56654/56654 [00:22<00:00, 2473.80it/s]\n"
     ]
    },
    {
     "name": "stdout",
     "output_type": "stream",
     "text": [
      "Duplicates found --- 3,300,000\n"
     ]
    },
    {
     "name": "stderr",
     "output_type": "stream",
     "text": [
      "100%|██████████████████████████████████████████████████████████████████████████| 56706/56706 [00:21<00:00, 2660.04it/s]\n",
      "100%|██████████████████████████████████████████████████████████████████████████| 54520/54520 [00:20<00:00, 2693.02it/s]\n",
      "100%|██████████████████████████████████████████████████████████████████████████| 53699/53699 [00:19<00:00, 2688.07it/s]\n",
      "100%|██████████████████████████████████████████████████████████████████████████| 55198/55198 [00:20<00:00, 2721.24it/s]\n",
      "100%|██████████████████████████████████████████████████████████████████████████| 53392/53392 [00:19<00:00, 2698.17it/s]\n",
      "100%|██████████████████████████████████████████████████████████████████████████| 55257/55257 [00:20<00:00, 2749.03it/s]\n",
      "100%|██████████████████████████████████████████████████████████████████████████| 57624/57624 [00:20<00:00, 2765.65it/s]\n",
      "100%|██████████████████████████████████████████████████████████████████████████| 56121/56121 [00:20<00:00, 2774.65it/s]\n",
      "100%|██████████████████████████████████████████████████████████████████████████| 55742/55742 [00:19<00:00, 2798.23it/s]\n",
      "100%|██████████████████████████████████████████████████████████████████████████| 55806/55806 [00:19<00:00, 2814.72it/s]\n",
      "100%|██████████████████████████████████████████████████████████████████████████| 53462/53462 [00:19<00:00, 2768.72it/s]\n",
      "100%|██████████████████████████████████████████████████████████████████████████| 55107/55107 [00:19<00:00, 2772.79it/s]\n",
      "100%|██████████████████████████████████████████████████████████████████████████| 57741/57741 [00:20<00:00, 2775.04it/s]\n",
      "100%|██████████████████████████████████████████████████████████████████████████| 57479/57479 [00:20<00:00, 2784.15it/s]\n",
      "100%|██████████████████████████████████████████████████████████████████████████| 56394/56394 [00:20<00:00, 2737.77it/s]\n",
      "100%|██████████████████████████████████████████████████████████████████████████| 56183/56183 [00:20<00:00, 2750.91it/s]\n",
      "100%|██████████████████████████████████████████████████████████████████████████| 55620/55620 [00:20<00:00, 2724.80it/s]\n",
      "100%|██████████████████████████████████████████████████████████████████████████| 56066/56066 [00:20<00:00, 2770.11it/s]\n",
      "100%|██████████████████████████████████████████████████████████████████████████| 56704/56704 [00:20<00:00, 2784.90it/s]\n",
      "100%|██████████████████████████████████████████████████████████████████████████| 56966/56966 [00:20<00:00, 2781.46it/s]\n",
      "100%|██████████████████████████████████████████████████████████████████████████| 57556/57556 [00:20<00:00, 2786.98it/s]\n"
     ]
    },
    {
     "name": "stdout",
     "output_type": "stream",
     "text": [
      "Duplicates found --- 3,400,000\n"
     ]
    },
    {
     "name": "stderr",
     "output_type": "stream",
     "text": [
      "100%|██████████████████████████████████████████████████████████████████████████| 55832/55832 [00:20<00:00, 2783.51it/s]\n",
      "100%|██████████████████████████████████████████████████████████████████████████| 54693/54693 [00:20<00:00, 2711.34it/s]\n",
      "100%|██████████████████████████████████████████████████████████████████████████| 58953/58953 [00:20<00:00, 2817.66it/s]\n",
      "100%|██████████████████████████████████████████████████████████████████████████| 59527/59527 [00:20<00:00, 2863.32it/s]\n",
      "100%|██████████████████████████████████████████████████████████████████████████| 79592/79592 [00:22<00:00, 3532.94it/s]\n",
      "100%|██████████████████████████████████████████████████████████████████████████| 57246/57246 [00:20<00:00, 2809.86it/s]\n",
      "100%|██████████████████████████████████████████████████████████████████████████| 56385/56385 [00:20<00:00, 2690.40it/s]\n",
      "100%|██████████████████████████████████████████████████████████████████████████| 62355/62355 [00:21<00:00, 2878.47it/s]\n",
      "100%|██████████████████████████████████████████████████████████████████████████| 58283/58283 [00:20<00:00, 2815.53it/s]\n",
      "100%|██████████████████████████████████████████████████████████████████████████| 57476/57476 [00:20<00:00, 2773.05it/s]\n",
      "100%|██████████████████████████████████████████████████████████████████████████| 56211/56211 [00:20<00:00, 2770.33it/s]\n",
      "100%|██████████████████████████████████████████████████████████████████████████| 57463/57463 [00:20<00:00, 2800.74it/s]\n",
      "100%|██████████████████████████████████████████████████████████████████████████| 57641/57641 [00:20<00:00, 2809.61it/s]\n",
      "100%|██████████████████████████████████████████████████████████████████████████| 55418/55418 [00:20<00:00, 2757.68it/s]\n",
      "100%|██████████████████████████████████████████████████████████████████████████| 59626/59626 [00:21<00:00, 2803.15it/s]\n",
      "100%|██████████████████████████████████████████████████████████████████████████| 55741/55741 [00:20<00:00, 2771.14it/s]\n",
      "100%|██████████████████████████████████████████████████████████████████████████| 57403/57403 [00:20<00:00, 2772.28it/s]\n"
     ]
    },
    {
     "name": "stdout",
     "output_type": "stream",
     "text": [
      "Duplicates found --- 3,500,000\n"
     ]
    },
    {
     "name": "stderr",
     "output_type": "stream",
     "text": [
      "100%|██████████████████████████████████████████████████████████████████████████| 56106/56106 [00:20<00:00, 2784.43it/s]\n",
      "100%|██████████████████████████████████████████████████████████████████████████| 57113/57113 [00:20<00:00, 2788.75it/s]\n",
      "100%|██████████████████████████████████████████████████████████████████████████| 54617/54617 [00:19<00:00, 2754.11it/s]\n",
      "100%|██████████████████████████████████████████████████████████████████████████| 56425/56425 [00:20<00:00, 2791.19it/s]\n",
      "100%|██████████████████████████████████████████████████████████████████████████| 57928/57928 [00:20<00:00, 2806.75it/s]\n",
      "100%|██████████████████████████████████████████████████████████████████████████| 57242/57242 [00:20<00:00, 2786.46it/s]\n",
      "100%|██████████████████████████████████████████████████████████████████████████| 56042/56042 [00:19<00:00, 2810.92it/s]\n",
      "100%|██████████████████████████████████████████████████████████████████████████| 57301/57301 [00:20<00:00, 2814.24it/s]\n",
      "100%|██████████████████████████████████████████████████████████████████████████| 60123/60123 [00:21<00:00, 2845.96it/s]\n",
      "100%|██████████████████████████████████████████████████████████████████████████| 56762/56762 [00:20<00:00, 2748.10it/s]\n",
      "100%|██████████████████████████████████████████████████████████████████████████| 57589/57589 [00:20<00:00, 2818.87it/s]\n",
      "100%|██████████████████████████████████████████████████████████████████████████| 58859/58859 [00:20<00:00, 2822.17it/s]\n",
      "100%|██████████████████████████████████████████████████████████████████████████| 56350/56350 [00:20<00:00, 2811.37it/s]\n",
      "100%|██████████████████████████████████████████████████████████████████████████| 57342/57342 [00:20<00:00, 2793.49it/s]\n",
      "100%|██████████████████████████████████████████████████████████████████████████| 58092/58092 [00:20<00:00, 2866.33it/s]\n",
      "100%|██████████████████████████████████████████████████████████████████████████| 58247/58247 [00:21<00:00, 2770.75it/s]\n",
      "100%|██████████████████████████████████████████████████████████████████████████| 58383/58383 [00:20<00:00, 2846.67it/s]\n",
      "100%|██████████████████████████████████████████████████████████████████████████| 57302/57302 [00:20<00:00, 2840.37it/s]\n",
      "100%|██████████████████████████████████████████████████████████████████████████| 56301/56301 [00:20<00:00, 2783.11it/s]\n"
     ]
    },
    {
     "name": "stdout",
     "output_type": "stream",
     "text": [
      "Duplicates found --- 3,600,000\n"
     ]
    },
    {
     "name": "stderr",
     "output_type": "stream",
     "text": [
      "100%|██████████████████████████████████████████████████████████████████████████| 58026/58026 [00:20<00:00, 2832.64it/s]\n",
      "100%|██████████████████████████████████████████████████████████████████████████| 56763/56763 [00:20<00:00, 2815.38it/s]\n",
      "100%|██████████████████████████████████████████████████████████████████████████| 53397/53397 [00:19<00:00, 2768.54it/s]\n",
      "100%|██████████████████████████████████████████████████████████████████████████| 57946/57946 [00:20<00:00, 2807.56it/s]\n",
      "100%|██████████████████████████████████████████████████████████████████████████| 57307/57307 [00:20<00:00, 2818.15it/s]\n",
      "100%|██████████████████████████████████████████████████████████████████████████| 55253/55253 [00:20<00:00, 2751.48it/s]\n",
      "100%|██████████████████████████████████████████████████████████████████████████| 56277/56277 [00:20<00:00, 2789.36it/s]\n",
      "100%|██████████████████████████████████████████████████████████████████████████| 72572/72572 [00:23<00:00, 3047.98it/s]\n",
      "100%|██████████████████████████████████████████████████████████████████████████| 70233/70233 [00:23<00:00, 3033.73it/s]\n",
      "100%|██████████████████████████████████████████████████████████████████████████| 74927/74927 [00:24<00:00, 3087.32it/s]\n",
      "100%|██████████████████████████████████████████████████████████████████████████| 61338/61338 [00:20<00:00, 2924.73it/s]\n",
      "100%|██████████████████████████████████████████████████████████████████████████| 60857/60857 [00:20<00:00, 2948.64it/s]\n",
      "100%|██████████████████████████████████████████████████████████████████████████| 58660/58660 [00:20<00:00, 2866.77it/s]\n",
      "100%|██████████████████████████████████████████████████████████████████████████| 59136/59136 [00:20<00:00, 2853.24it/s]\n",
      "100%|██████████████████████████████████████████████████████████████████████████| 59978/59978 [00:20<00:00, 2897.59it/s]\n",
      "100%|██████████████████████████████████████████████████████████████████████████| 56679/56679 [00:19<00:00, 2867.01it/s]\n",
      "100%|██████████████████████████████████████████████████████████████████████████| 58254/58254 [00:20<00:00, 2874.35it/s]\n",
      "100%|██████████████████████████████████████████████████████████████████████████| 64633/64633 [00:21<00:00, 3002.31it/s]\n"
     ]
    },
    {
     "name": "stdout",
     "output_type": "stream",
     "text": [
      "Duplicates found --- 3,700,000\n"
     ]
    },
    {
     "name": "stderr",
     "output_type": "stream",
     "text": [
      "100%|██████████████████████████████████████████████████████████████████████████| 88570/88570 [00:25<00:00, 3449.40it/s]\n",
      "100%|██████████████████████████████████████████████████████████████████████████| 91060/91060 [00:26<00:00, 3477.16it/s]\n",
      "100%|██████████████████████████████████████████████████████████████████████████| 71977/71977 [00:22<00:00, 3167.73it/s]\n",
      "100%|██████████████████████████████████████████████████████████████████████████| 76116/76116 [00:23<00:00, 3182.84it/s]\n",
      "100%|██████████████████████████████████████████████████████████████████████████| 61753/61753 [00:21<00:00, 2933.67it/s]\n",
      "100%|██████████████████████████████████████████████████████████████████████████| 65938/65938 [00:22<00:00, 2990.76it/s]\n",
      "100%|██████████████████████████████████████████████████████████████████████████| 54176/54176 [00:19<00:00, 2799.62it/s]\n",
      "100%|██████████████████████████████████████████████████████████████████████████| 56346/56346 [00:20<00:00, 2801.63it/s]\n",
      "100%|██████████████████████████████████████████████████████████████████████████| 59718/59718 [00:20<00:00, 2881.86it/s]\n"
     ]
    },
    {
     "name": "stdout",
     "output_type": "stream",
     "text": [
      "Duplicates found --- 3,800,000\n"
     ]
    },
    {
     "name": "stderr",
     "output_type": "stream",
     "text": [
      "100%|██████████████████████████████████████████████████████████████████████████| 58505/58505 [00:20<00:00, 2842.61it/s]\n",
      "100%|██████████████████████████████████████████████████████████████████████████| 55817/55817 [00:19<00:00, 2819.60it/s]\n",
      "100%|██████████████████████████████████████████████████████████████████████████| 55128/55128 [00:19<00:00, 2790.35it/s]\n",
      "100%|██████████████████████████████████████████████████████████████████████████| 61064/61064 [00:20<00:00, 2911.15it/s]\n",
      "100%|██████████████████████████████████████████████████████████████████████████| 56500/56500 [00:19<00:00, 2855.02it/s]\n",
      "100%|██████████████████████████████████████████████████████████████████████████| 63546/63546 [00:21<00:00, 2971.33it/s]\n",
      "100%|██████████████████████████████████████████████████████████████████████████| 58229/58229 [00:20<00:00, 2834.68it/s]\n",
      "100%|██████████████████████████████████████████████████████████████████████████| 61771/61771 [00:21<00:00, 2916.53it/s]\n",
      "100%|██████████████████████████████████████████████████████████████████████████| 59789/59789 [00:20<00:00, 2898.42it/s]\n",
      "100%|██████████████████████████████████████████████████████████████████████████| 65003/65003 [00:20<00:00, 3240.39it/s]\n",
      "100%|██████████████████████████████████████████████████████████████████████████| 59750/59750 [00:20<00:00, 2863.00it/s]\n",
      "100%|██████████████████████████████████████████████████████████████████████████| 58930/58930 [00:20<00:00, 2860.55it/s]\n",
      "100%|██████████████████████████████████████████████████████████████████████████| 61317/61317 [00:21<00:00, 2891.50it/s]\n",
      "100%|██████████████████████████████████████████████████████████████████████████| 57775/57775 [00:20<00:00, 2870.80it/s]\n",
      "100%|██████████████████████████████████████████████████████████████████████████| 59995/59995 [00:20<00:00, 2927.18it/s]\n"
     ]
    },
    {
     "name": "stdout",
     "output_type": "stream",
     "text": [
      "Duplicates found --- 3,900,000\n"
     ]
    },
    {
     "name": "stderr",
     "output_type": "stream",
     "text": [
      "100%|██████████████████████████████████████████████████████████████████████████| 57169/57169 [00:20<00:00, 2847.94it/s]\n",
      "100%|██████████████████████████████████████████████████████████████████████████| 58131/58131 [00:20<00:00, 2823.72it/s]\n",
      "100%|██████████████████████████████████████████████████████████████████████████| 58279/58279 [00:20<00:00, 2819.61it/s]\n",
      "100%|██████████████████████████████████████████████████████████████████████████| 58595/58595 [00:20<00:00, 2841.78it/s]\n",
      "100%|██████████████████████████████████████████████████████████████████████████| 57103/57103 [00:19<00:00, 2856.03it/s]\n",
      "100%|██████████████████████████████████████████████████████████████████████████| 60040/60040 [00:20<00:00, 2906.33it/s]\n",
      "100%|██████████████████████████████████████████████████████████████████████████| 55409/55409 [00:19<00:00, 2853.19it/s]\n",
      "100%|██████████████████████████████████████████████████████████████████████████| 55849/55849 [00:19<00:00, 2893.43it/s]\n",
      "100%|██████████████████████████████████████████████████████████████████████████| 53171/53171 [00:18<00:00, 2841.62it/s]\n",
      "100%|██████████████████████████████████████████████████████████████████████████| 55680/55680 [00:19<00:00, 2808.71it/s]\n",
      "100%|██████████████████████████████████████████████████████████████████████████| 58463/58463 [00:20<00:00, 2841.50it/s]\n",
      "100%|██████████████████████████████████████████████████████████████████████████| 61847/61847 [00:21<00:00, 2890.56it/s]\n",
      "100%|██████████████████████████████████████████████████████████████████████████| 60504/60504 [00:21<00:00, 2880.46it/s]\n",
      "100%|██████████████████████████████████████████████████████████████████████████| 58638/58638 [00:20<00:00, 2878.42it/s]\n",
      "100%|██████████████████████████████████████████████████████████████████████████| 76025/76025 [00:23<00:00, 3285.72it/s]\n",
      "100%|██████████████████████████████████████████████████████████████████████████| 61384/61384 [00:21<00:00, 2887.19it/s]\n",
      "100%|██████████████████████████████████████████████████████████████████████████| 61576/61576 [00:21<00:00, 2919.11it/s]\n",
      "100%|██████████████████████████████████████████████████████████████████████████| 57454/57454 [00:20<00:00, 2864.84it/s]\n"
     ]
    },
    {
     "name": "stdout",
     "output_type": "stream",
     "text": [
      "Duplicates found --- 4,000,000\n"
     ]
    },
    {
     "name": "stderr",
     "output_type": "stream",
     "text": [
      "100%|██████████████████████████████████████████████████████████████████████████| 61138/61138 [00:21<00:00, 2862.86it/s]\n",
      "100%|██████████████████████████████████████████████████████████████████████████| 61905/61905 [00:21<00:00, 2886.91it/s]\n",
      "100%|██████████████████████████████████████████████████████████████████████████| 62598/62598 [00:21<00:00, 2939.83it/s]\n",
      "100%|██████████████████████████████████████████████████████████████████████████| 59988/59988 [00:21<00:00, 2843.95it/s]\n",
      "100%|██████████████████████████████████████████████████████████████████████████| 62276/62276 [00:21<00:00, 2884.38it/s]\n",
      "100%|██████████████████████████████████████████████████████████████████████████| 60042/60042 [00:20<00:00, 2909.24it/s]\n",
      "100%|██████████████████████████████████████████████████████████████████████████| 60207/60207 [00:20<00:00, 2881.52it/s]\n",
      "100%|██████████████████████████████████████████████████████████████████████████| 62630/62630 [00:21<00:00, 2919.49it/s]\n",
      "100%|██████████████████████████████████████████████████████████████████████████| 60775/60775 [00:20<00:00, 2916.32it/s]\n",
      "100%|██████████████████████████████████████████████████████████████████████████| 61555/61555 [00:21<00:00, 2900.46it/s]\n",
      "100%|██████████████████████████████████████████████████████████████████████████| 58121/58121 [00:20<00:00, 2830.90it/s]\n",
      "100%|██████████████████████████████████████████████████████████████████████████| 60343/60343 [00:20<00:00, 2908.29it/s]\n",
      "100%|██████████████████████████████████████████████████████████████████████████| 61280/61280 [00:21<00:00, 2898.18it/s]\n",
      "100%|██████████████████████████████████████████████████████████████████████████| 68538/68538 [00:22<00:00, 3030.10it/s]\n",
      "100%|██████████████████████████████████████████████████████████████████████████| 61253/61253 [00:21<00:00, 2913.60it/s]\n",
      "100%|██████████████████████████████████████████████████████████████████████████| 61942/61942 [00:21<00:00, 2917.71it/s]\n"
     ]
    },
    {
     "name": "stdout",
     "output_type": "stream",
     "text": [
      "Duplicates found --- 4,100,000\n"
     ]
    },
    {
     "name": "stderr",
     "output_type": "stream",
     "text": [
      "100%|██████████████████████████████████████████████████████████████████████████| 61516/61516 [00:21<00:00, 2896.87it/s]\n",
      "100%|██████████████████████████████████████████████████████████████████████████| 66699/66699 [00:22<00:00, 2934.96it/s]\n",
      "100%|██████████████████████████████████████████████████████████████████████████| 58038/58038 [00:19<00:00, 2902.62it/s]\n",
      "100%|██████████████████████████████████████████████████████████████████████████| 93658/93658 [00:25<00:00, 3731.13it/s]\n",
      "100%|██████████████████████████████████████████████████████████████████████████| 68140/68140 [00:20<00:00, 3291.13it/s]\n",
      "100%|██████████████████████████████████████████████████████████████████████████| 59376/59376 [00:20<00:00, 2927.89it/s]\n",
      "100%|██████████████████████████████████████████████████████████████████████████| 57485/57485 [00:19<00:00, 2880.59it/s]\n",
      "100%|██████████████████████████████████████████████████████████████████████████| 61847/61847 [00:20<00:00, 3007.39it/s]\n",
      "100%|██████████████████████████████████████████████████████████████████████████| 61876/61876 [00:20<00:00, 2970.05it/s]\n",
      "100%|██████████████████████████████████████████████████████████████████████████| 64112/64112 [00:20<00:00, 3068.14it/s]\n",
      "100%|██████████████████████████████████████████████████████████████████████████| 60709/60709 [00:20<00:00, 2935.66it/s]\n",
      "100%|██████████████████████████████████████████████████████████████████████████| 68848/68848 [00:22<00:00, 3054.02it/s]\n"
     ]
    },
    {
     "name": "stdout",
     "output_type": "stream",
     "text": [
      "Duplicates found --- 4,200,000\n"
     ]
    },
    {
     "name": "stderr",
     "output_type": "stream",
     "text": [
      "100%|██████████████████████████████████████████████████████████████████████████| 77156/77156 [00:24<00:00, 3131.27it/s]\n",
      "100%|██████████████████████████████████████████████████████████████████████████| 59268/59268 [00:20<00:00, 2895.30it/s]\n",
      "100%|██████████████████████████████████████████████████████████████████████████| 61737/61737 [00:21<00:00, 2928.01it/s]\n",
      "100%|██████████████████████████████████████████████████████████████████████████| 73649/73649 [00:22<00:00, 3238.98it/s]\n",
      "100%|██████████████████████████████████████████████████████████████████████████| 83853/83853 [00:24<00:00, 3394.05it/s]\n",
      "100%|██████████████████████████████████████████████████████████████████████████| 81643/81643 [00:22<00:00, 3565.04it/s]\n",
      "100%|██████████████████████████████████████████████████████████████████████████| 59058/59058 [00:20<00:00, 2889.27it/s]\n"
     ]
    },
    {
     "name": "stdout",
     "output_type": "stream",
     "text": [
      "Duplicates found --- 4,300,000\n"
     ]
    },
    {
     "name": "stderr",
     "output_type": "stream",
     "text": [
      "100%|██████████████████████████████████████████████████████████████████████████| 61334/61334 [00:20<00:00, 2935.35it/s]\n",
      "100%|██████████████████████████████████████████████████████████████████████████| 59198/59198 [00:20<00:00, 2912.78it/s]\n",
      "100%|██████████████████████████████████████████████████████████████████████████| 65064/65064 [00:21<00:00, 3027.98it/s]\n",
      "100%|██████████████████████████████████████████████████████████████████████████| 59158/59158 [00:20<00:00, 2889.14it/s]\n",
      "100%|██████████████████████████████████████████████████████████████████████████| 58815/58815 [00:20<00:00, 2902.21it/s]\n",
      "100%|██████████████████████████████████████████████████████████████████████████| 62076/62076 [00:20<00:00, 2983.83it/s]\n",
      "100%|██████████████████████████████████████████████████████████████████████████| 57777/57777 [00:20<00:00, 2878.30it/s]\n",
      "100%|██████████████████████████████████████████████████████████████████████████| 58140/58140 [00:20<00:00, 2884.92it/s]\n",
      "100%|██████████████████████████████████████████████████████████████████████████| 61776/61776 [00:21<00:00, 2923.14it/s]\n",
      "100%|██████████████████████████████████████████████████████████████████████████| 59133/59133 [00:20<00:00, 2898.46it/s]\n",
      "100%|██████████████████████████████████████████████████████████████████████████| 64254/64254 [00:21<00:00, 2983.17it/s]\n",
      "100%|██████████████████████████████████████████████████████████████████████████| 60397/60397 [00:20<00:00, 2899.98it/s]\n",
      "100%|██████████████████████████████████████████████████████████████████████████| 62501/62501 [00:21<00:00, 2930.45it/s]\n",
      "100%|██████████████████████████████████████████████████████████████████████████| 57032/57032 [00:19<00:00, 2871.23it/s]\n",
      "100%|██████████████████████████████████████████████████████████████████████████| 58370/58370 [00:20<00:00, 2896.91it/s]\n",
      "100%|██████████████████████████████████████████████████████████████████████████| 57486/57486 [00:20<00:00, 2867.34it/s]\n"
     ]
    },
    {
     "name": "stdout",
     "output_type": "stream",
     "text": [
      "Duplicates found --- 4,400,000\n"
     ]
    },
    {
     "name": "stderr",
     "output_type": "stream",
     "text": [
      "100%|██████████████████████████████████████████████████████████████████████████| 59000/59000 [00:20<00:00, 2887.67it/s]\n",
      "100%|██████████████████████████████████████████████████████████████████████████| 58239/58239 [00:19<00:00, 2917.71it/s]\n",
      "100%|██████████████████████████████████████████████████████████████████████████| 59793/59793 [00:20<00:00, 2905.09it/s]\n",
      "100%|██████████████████████████████████████████████████████████████████████████| 58735/58735 [00:20<00:00, 2889.92it/s]\n",
      "100%|██████████████████████████████████████████████████████████████████████████| 57855/57855 [00:19<00:00, 2897.73it/s]\n",
      "100%|██████████████████████████████████████████████████████████████████████████| 57862/57862 [00:20<00:00, 2861.09it/s]\n",
      "100%|██████████████████████████████████████████████████████████████████████████| 59647/59647 [00:20<00:00, 2943.97it/s]\n",
      "100%|██████████████████████████████████████████████████████████████████████████| 62423/62423 [00:21<00:00, 2904.40it/s]\n",
      "100%|██████████████████████████████████████████████████████████████████████████| 58204/58204 [00:20<00:00, 2884.42it/s]\n",
      "100%|██████████████████████████████████████████████████████████████████████████| 66153/66153 [00:21<00:00, 3055.14it/s]\n",
      "100%|██████████████████████████████████████████████████████████████████████████| 58748/58748 [00:20<00:00, 2884.03it/s]\n",
      "100%|██████████████████████████████████████████████████████████████████████████| 59955/59955 [00:20<00:00, 2894.97it/s]\n",
      "100%|██████████████████████████████████████████████████████████████████████████| 61890/61890 [00:21<00:00, 2908.29it/s]\n",
      "100%|██████████████████████████████████████████████████████████████████████████| 59680/59680 [00:20<00:00, 2883.70it/s]\n",
      "100%|██████████████████████████████████████████████████████████████████████████| 59177/59177 [00:20<00:00, 2918.95it/s]\n",
      "100%|██████████████████████████████████████████████████████████████████████████| 60801/60801 [00:20<00:00, 2924.85it/s]\n"
     ]
    },
    {
     "name": "stdout",
     "output_type": "stream",
     "text": [
      "Duplicates found --- 4,500,000\n"
     ]
    },
    {
     "name": "stderr",
     "output_type": "stream",
     "text": [
      "100%|██████████████████████████████████████████████████████████████████████████| 62121/62121 [00:21<00:00, 2933.37it/s]\n",
      "100%|██████████████████████████████████████████████████████████████████████████| 60867/60867 [00:20<00:00, 2977.96it/s]\n",
      "100%|██████████████████████████████████████████████████████████████████████████| 60252/60252 [00:20<00:00, 2944.79it/s]\n",
      "100%|██████████████████████████████████████████████████████████████████████████| 60640/60640 [00:20<00:00, 2940.46it/s]\n",
      "100%|██████████████████████████████████████████████████████████████████████████| 60581/60581 [00:20<00:00, 2937.99it/s]\n",
      "100%|██████████████████████████████████████████████████████████████████████████| 62446/62446 [00:21<00:00, 2941.30it/s]\n",
      "100%|██████████████████████████████████████████████████████████████████████████| 60823/60823 [00:20<00:00, 2950.34it/s]\n",
      "100%|██████████████████████████████████████████████████████████████████████████| 59271/59271 [00:20<00:00, 2892.53it/s]\n",
      "100%|██████████████████████████████████████████████████████████████████████████| 58236/58236 [00:20<00:00, 2901.56it/s]\n",
      "100%|██████████████████████████████████████████████████████████████████████████| 63583/63583 [00:21<00:00, 2952.15it/s]\n",
      "100%|████████████████████████████████████████████████████████████████████████████| 68651/68651 [15:40<00:00, 72.97it/s]\n",
      "100%|██████████████████████████████████████████████████████████████████████████| 62374/62374 [00:20<00:00, 3024.20it/s]\n",
      "100%|██████████████████████████████████████████████████████████████████████████| 61667/61667 [00:20<00:00, 3081.06it/s]\n",
      "100%|██████████████████████████████████████████████████████████████████████████| 63033/63033 [00:20<00:00, 3067.93it/s]\n",
      "100%|██████████████████████████████████████████████████████████████████████████| 62324/62324 [00:21<00:00, 2889.56it/s]\n"
     ]
    },
    {
     "name": "stdout",
     "output_type": "stream",
     "text": [
      "Duplicates found --- 4,600,000\n"
     ]
    },
    {
     "name": "stderr",
     "output_type": "stream",
     "text": [
      "100%|██████████████████████████████████████████████████████████████████████████| 57515/57515 [00:19<00:00, 2937.16it/s]\n",
      "100%|██████████████████████████████████████████████████████████████████████████| 62792/62792 [00:20<00:00, 3024.96it/s]\n",
      "100%|██████████████████████████████████████████████████████████████████████████| 59553/59553 [00:20<00:00, 2953.46it/s]\n",
      "100%|██████████████████████████████████████████████████████████████████████████| 60418/60418 [00:20<00:00, 2969.27it/s]\n",
      "100%|██████████████████████████████████████████████████████████████████████████| 58782/58782 [00:20<00:00, 2921.47it/s]\n",
      "100%|██████████████████████████████████████████████████████████████████████████| 60951/60951 [00:20<00:00, 2973.32it/s]\n",
      "100%|██████████████████████████████████████████████████████████████████████████| 60417/60417 [00:20<00:00, 2981.01it/s]\n",
      "100%|██████████████████████████████████████████████████████████████████████████| 59766/59766 [00:20<00:00, 2952.43it/s]\n",
      "100%|██████████████████████████████████████████████████████████████████████████| 62085/62085 [00:20<00:00, 3003.39it/s]\n",
      "100%|██████████████████████████████████████████████████████████████████████████| 60924/60924 [00:20<00:00, 2968.45it/s]\n",
      "100%|██████████████████████████████████████████████████████████████████████████| 60816/60816 [00:20<00:00, 2979.37it/s]\n",
      "100%|██████████████████████████████████████████████████████████████████████████| 60817/60817 [00:20<00:00, 2988.93it/s]\n",
      "100%|██████████████████████████████████████████████████████████████████████████| 60505/60505 [00:20<00:00, 2977.19it/s]\n",
      "100%|██████████████████████████████████████████████████████████████████████████| 58579/58579 [00:19<00:00, 2947.49it/s]\n",
      "100%|██████████████████████████████████████████████████████████████████████████| 61783/61783 [00:20<00:00, 2991.40it/s]\n"
     ]
    },
    {
     "name": "stdout",
     "output_type": "stream",
     "text": [
      "Duplicates found --- 4,700,000\n"
     ]
    },
    {
     "name": "stderr",
     "output_type": "stream",
     "text": [
      "100%|██████████████████████████████████████████████████████████████████████████| 58481/58481 [00:20<00:00, 2922.01it/s]\n",
      "100%|██████████████████████████████████████████████████████████████████████████| 63334/63334 [00:20<00:00, 3022.51it/s]\n",
      "100%|██████████████████████████████████████████████████████████████████████████| 70394/70394 [00:21<00:00, 3201.35it/s]\n",
      "100%|██████████████████████████████████████████████████████████████████████████| 31158/31158 [00:10<00:00, 2926.89it/s]\n"
     ]
    },
    {
     "name": "stdout",
     "output_type": "stream",
     "text": [
      "Wall time: 3h 17min 25s\n"
     ]
    }
   ],
   "source": [
    "%%time\n",
    "with lsh.insertion_session() as session:\n",
    "    with open('d\\wiki0_v_01.txt', 'w', encoding='utf-8') as f:\n",
    "        with open('d\\wiki0.txt', encoding='utf-8') as f1:\n",
    "            for piece in read_in_chunks_lines(f1, chunk_size=6000000):\n",
    "                sents = [process_txt_new(x) for x in piece]\n",
    "                sents = [line for line in sents if line is not None]\n",
    "                hashes = [hashes_simple_1(x) for x in tqdm(sents)]\n",
    "                \n",
    "                for i in range(len(hashes)):                   \n",
    "                    if sents[i] == 'PLACEHOLDER':\n",
    "                        f.write('\\n')  \n",
    "                    else:    \n",
    "                        key = hashes[i]\n",
    "                        q = len(w0.query(key))\n",
    "                        q1 = len(w2.query(key))\n",
    "                        q2 = len(w1.query(key))\n",
    "                        q3 = len(w3.query(key)) \n",
    "                        q4 = len(w4.query(key))\n",
    "                        q5 = len(w5.query(key))  \n",
    "\n",
    "                        s =  q1 + q2 + q3 + q4 + q5\n",
    "\n",
    "\n",
    "                        if q < 2 and s == 0:\n",
    "                            f.write(sents[i] + '\\n')\n",
    "                        else:\n",
    "                            if not len(lsh.query(hashes[i])): \n",
    "                                r +=1 \n",
    "                                session.insert('w'+str(r), hashes[i])                \n",
    "                                f.write(sents[i] + '\\n')\n",
    "                            else:\n",
    "                                d += 1\n",
    "                                if d % 100000 == 0:\n",
    "                                    print(f'Duplicates found --- {d:,}')"
   ]
  },
  {
   "cell_type": "code",
   "execution_count": 23,
   "metadata": {
    "scrolled": false
   },
   "outputs": [
    {
     "name": "stdout",
     "output_type": "stream",
     "text": [
      "Total duplicates in file -- 4,728,942\n"
     ]
    }
   ],
   "source": [
    "print(f'Total duplicates in file -- {d:,}')"
   ]
  },
  {
   "cell_type": "code",
   "execution_count": 24,
   "metadata": {
    "scrolled": true
   },
   "outputs": [
    {
     "name": "stderr",
     "output_type": "stream",
     "text": [
      "100%|██████████████████████████████████████████████████████████████████████████| 64010/64010 [00:18<00:00, 3495.64it/s]\n",
      "100%|██████████████████████████████████████████████████████████████████████████| 60513/60513 [00:17<00:00, 3391.82it/s]\n",
      "100%|██████████████████████████████████████████████████████████████████████████| 60391/60391 [00:17<00:00, 3358.83it/s]\n",
      "100%|██████████████████████████████████████████████████████████████████████████| 53494/53494 [00:17<00:00, 3107.85it/s]\n",
      "100%|██████████████████████████████████████████████████████████████████████████| 55139/55139 [00:17<00:00, 3228.37it/s]\n",
      "100%|██████████████████████████████████████████████████████████████████████████| 53759/53759 [00:17<00:00, 3133.41it/s]\n",
      "100%|██████████████████████████████████████████████████████████████████████████| 55430/55430 [00:17<00:00, 3232.94it/s]\n",
      "100%|██████████████████████████████████████████████████████████████████████████| 60580/60580 [00:17<00:00, 3410.50it/s]\n",
      "100%|██████████████████████████████████████████████████████████████████████████| 66240/66240 [00:18<00:00, 3532.32it/s]\n",
      "100%|██████████████████████████████████████████████████████████████████████████| 57136/57136 [00:17<00:00, 3243.39it/s]\n",
      "100%|██████████████████████████████████████████████████████████████████████████| 58206/58206 [00:17<00:00, 3279.66it/s]\n",
      "100%|██████████████████████████████████████████████████████████████████████████| 60412/60412 [00:18<00:00, 3302.01it/s]\n"
     ]
    },
    {
     "name": "stdout",
     "output_type": "stream",
     "text": [
      "Duplicates found --- 4,800,000\n"
     ]
    },
    {
     "name": "stderr",
     "output_type": "stream",
     "text": [
      "100%|██████████████████████████████████████████████████████████████████████████| 57927/57927 [00:17<00:00, 3291.52it/s]\n",
      "100%|██████████████████████████████████████████████████████████████████████████| 58241/58241 [00:17<00:00, 3341.83it/s]\n",
      "100%|██████████████████████████████████████████████████████████████████████████| 55967/55967 [00:17<00:00, 3232.10it/s]\n",
      "100%|██████████████████████████████████████████████████████████████████████████| 53804/53804 [00:17<00:00, 3122.37it/s]\n",
      "100%|██████████████████████████████████████████████████████████████████████████| 59561/59561 [00:17<00:00, 3404.79it/s]\n",
      "100%|██████████████████████████████████████████████████████████████████████████| 55724/55724 [00:17<00:00, 3233.25it/s]\n",
      "100%|██████████████████████████████████████████████████████████████████████████| 56954/56954 [00:17<00:00, 3264.99it/s]\n",
      "100%|██████████████████████████████████████████████████████████████████████████| 55515/55515 [00:17<00:00, 3212.02it/s]\n",
      "100%|██████████████████████████████████████████████████████████████████████████| 56427/56427 [00:17<00:00, 3218.01it/s]\n",
      "100%|██████████████████████████████████████████████████████████████████████████| 55732/55732 [00:17<00:00, 3229.11it/s]\n",
      "100%|██████████████████████████████████████████████████████████████████████████| 55300/55300 [00:17<00:00, 3245.64it/s]\n",
      "100%|██████████████████████████████████████████████████████████████████████████| 59656/59656 [00:17<00:00, 3368.63it/s]\n",
      "100%|██████████████████████████████████████████████████████████████████████████| 56051/56051 [00:17<00:00, 3209.19it/s]\n",
      "100%|██████████████████████████████████████████████████████████████████████████| 58471/58471 [00:17<00:00, 3261.60it/s]\n",
      "100%|██████████████████████████████████████████████████████████████████████████| 57366/57366 [00:17<00:00, 3248.74it/s]\n"
     ]
    },
    {
     "name": "stdout",
     "output_type": "stream",
     "text": [
      "Duplicates found --- 4,900,000\n"
     ]
    },
    {
     "name": "stderr",
     "output_type": "stream",
     "text": [
      "100%|██████████████████████████████████████████████████████████████████████████| 52315/52315 [00:16<00:00, 3088.14it/s]\n",
      "100%|██████████████████████████████████████████████████████████████████████████| 55439/55439 [00:17<00:00, 3113.78it/s]\n",
      "100%|██████████████████████████████████████████████████████████████████████████| 57290/57290 [00:17<00:00, 3227.85it/s]\n",
      "100%|██████████████████████████████████████████████████████████████████████████| 58494/58494 [00:19<00:00, 2942.55it/s]\n",
      "100%|██████████████████████████████████████████████████████████████████████████| 60708/60708 [00:19<00:00, 3193.02it/s]\n",
      "100%|██████████████████████████████████████████████████████████████████████████| 60048/60048 [00:18<00:00, 3253.47it/s]\n",
      "100%|██████████████████████████████████████████████████████████████████████████| 59009/59009 [00:18<00:00, 3239.85it/s]\n",
      "100%|██████████████████████████████████████████████████████████████████████████| 56812/56812 [00:18<00:00, 3153.67it/s]\n",
      "100%|██████████████████████████████████████████████████████████████████████████| 55469/55469 [00:17<00:00, 3131.89it/s]\n",
      "100%|██████████████████████████████████████████████████████████████████████████| 52836/52836 [00:17<00:00, 3041.33it/s]\n",
      "100%|██████████████████████████████████████████████████████████████████████████| 52405/52405 [00:17<00:00, 3005.25it/s]\n",
      "100%|██████████████████████████████████████████████████████████████████████████| 52928/52928 [00:17<00:00, 2999.27it/s]\n",
      "100%|██████████████████████████████████████████████████████████████████████████| 53025/53025 [00:18<00:00, 2928.94it/s]\n",
      "100%|██████████████████████████████████████████████████████████████████████████| 55230/55230 [00:18<00:00, 2934.18it/s]\n",
      "100%|██████████████████████████████████████████████████████████████████████████| 58260/58260 [00:18<00:00, 3167.60it/s]\n",
      "100%|██████████████████████████████████████████████████████████████████████████| 53279/53279 [00:17<00:00, 3018.18it/s]\n"
     ]
    },
    {
     "name": "stdout",
     "output_type": "stream",
     "text": [
      "Duplicates found --- 5,000,000\n"
     ]
    },
    {
     "name": "stderr",
     "output_type": "stream",
     "text": [
      "100%|██████████████████████████████████████████████████████████████████████████| 59070/59070 [00:18<00:00, 3182.42it/s]\n",
      "100%|██████████████████████████████████████████████████████████████████████████| 63900/63900 [00:19<00:00, 3284.13it/s]\n",
      "100%|██████████████████████████████████████████████████████████████████████████| 59401/59401 [00:18<00:00, 3229.13it/s]\n",
      "100%|██████████████████████████████████████████████████████████████████████████| 55748/55748 [00:18<00:00, 2994.47it/s]\n",
      "100%|██████████████████████████████████████████████████████████████████████████| 54016/54016 [00:18<00:00, 2979.35it/s]\n",
      "100%|██████████████████████████████████████████████████████████████████████████| 58631/58631 [00:18<00:00, 3126.86it/s]\n",
      "100%|██████████████████████████████████████████████████████████████████████████| 57375/57375 [00:18<00:00, 3186.25it/s]\n",
      "100%|██████████████████████████████████████████████████████████████████████████| 54892/54892 [00:18<00:00, 3022.81it/s]\n",
      "100%|██████████████████████████████████████████████████████████████████████████| 55314/55314 [00:18<00:00, 3067.59it/s]\n",
      "100%|██████████████████████████████████████████████████████████████████████████| 54312/54312 [00:17<00:00, 3052.80it/s]\n",
      "100%|██████████████████████████████████████████████████████████████████████████| 56304/56304 [00:17<00:00, 3154.81it/s]\n",
      "100%|██████████████████████████████████████████████████████████████████████████| 57416/57416 [00:17<00:00, 3227.75it/s]\n",
      "100%|██████████████████████████████████████████████████████████████████████████| 56915/56915 [00:17<00:00, 3246.71it/s]\n",
      "100%|██████████████████████████████████████████████████████████████████████████| 61913/61913 [00:18<00:00, 3347.67it/s]\n",
      "100%|██████████████████████████████████████████████████████████████████████████| 59345/59345 [00:18<00:00, 3230.06it/s]\n",
      "100%|██████████████████████████████████████████████████████████████████████████| 58504/58504 [00:17<00:00, 3252.78it/s]\n",
      "100%|██████████████████████████████████████████████████████████████████████████| 54532/54532 [00:17<00:00, 3134.31it/s]\n",
      "100%|██████████████████████████████████████████████████████████████████████████| 61269/61269 [00:18<00:00, 3372.52it/s]\n"
     ]
    },
    {
     "name": "stdout",
     "output_type": "stream",
     "text": [
      "Duplicates found --- 5,100,000\n"
     ]
    },
    {
     "name": "stderr",
     "output_type": "stream",
     "text": [
      "100%|██████████████████████████████████████████████████████████████████████████| 58359/58359 [00:17<00:00, 3249.15it/s]\n",
      "100%|██████████████████████████████████████████████████████████████████████████| 58277/58277 [00:18<00:00, 3226.05it/s]\n",
      "100%|██████████████████████████████████████████████████████████████████████████| 57272/57272 [00:17<00:00, 3258.87it/s]\n",
      "100%|██████████████████████████████████████████████████████████████████████████| 60267/60267 [00:18<00:00, 3276.44it/s]\n",
      "100%|██████████████████████████████████████████████████████████████████████████| 56534/56534 [00:17<00:00, 3170.44it/s]\n",
      "100%|██████████████████████████████████████████████████████████████████████████| 60314/60314 [00:19<00:00, 3028.01it/s]\n",
      "100%|██████████████████████████████████████████████████████████████████████████| 57530/57530 [00:18<00:00, 3109.10it/s]\n",
      "100%|██████████████████████████████████████████████████████████████████████████| 60735/60735 [00:20<00:00, 3013.43it/s]\n",
      "100%|██████████████████████████████████████████████████████████████████████████| 56733/56733 [00:18<00:00, 3103.75it/s]\n",
      "100%|██████████████████████████████████████████████████████████████████████████| 56633/56633 [00:19<00:00, 2954.44it/s]\n",
      "100%|██████████████████████████████████████████████████████████████████████████| 55283/55283 [00:18<00:00, 3039.42it/s]\n",
      "100%|██████████████████████████████████████████████████████████████████████████| 55161/55161 [00:18<00:00, 3022.31it/s]\n",
      "100%|██████████████████████████████████████████████████████████████████████████| 52814/52814 [00:17<00:00, 3044.41it/s]\n",
      "100%|██████████████████████████████████████████████████████████████████████████| 55495/55495 [00:17<00:00, 3100.34it/s]\n",
      "100%|██████████████████████████████████████████████████████████████████████████| 58039/58039 [00:18<00:00, 3181.02it/s]\n"
     ]
    },
    {
     "name": "stdout",
     "output_type": "stream",
     "text": [
      "Duplicates found --- 5,200,000\n"
     ]
    },
    {
     "name": "stderr",
     "output_type": "stream",
     "text": [
      "100%|██████████████████████████████████████████████████████████████████████████| 48703/48703 [00:15<00:00, 3048.52it/s]\n",
      "100%|██████████████████████████████████████████████████████████████████████████| 57747/57747 [00:17<00:00, 3216.30it/s]\n",
      "100%|██████████████████████████████████████████████████████████████████████████| 55478/55478 [00:19<00:00, 2880.42it/s]\n",
      "100%|██████████████████████████████████████████████████████████████████████████| 55228/55228 [00:18<00:00, 2927.43it/s]\n",
      "100%|██████████████████████████████████████████████████████████████████████████| 50058/50058 [00:16<00:00, 2947.71it/s]\n",
      "100%|██████████████████████████████████████████████████████████████████████████| 51585/51585 [00:17<00:00, 2955.05it/s]\n",
      "100%|██████████████████████████████████████████████████████████████████████████| 52019/52019 [00:17<00:00, 2957.06it/s]\n",
      "100%|██████████████████████████████████████████████████████████████████████████| 51029/51029 [00:17<00:00, 2965.85it/s]\n",
      "100%|██████████████████████████████████████████████████████████████████████████| 51970/51970 [00:17<00:00, 2970.99it/s]\n",
      "100%|██████████████████████████████████████████████████████████████████████████| 51887/51887 [00:17<00:00, 3018.77it/s]\n",
      "100%|██████████████████████████████████████████████████████████████████████████| 50050/50050 [00:16<00:00, 2959.06it/s]\n",
      "100%|██████████████████████████████████████████████████████████████████████████| 52027/52027 [00:17<00:00, 2978.01it/s]\n",
      "100%|██████████████████████████████████████████████████████████████████████████| 53978/53978 [00:17<00:00, 3000.01it/s]\n",
      "100%|██████████████████████████████████████████████████████████████████████████| 53065/53065 [00:17<00:00, 3030.05it/s]\n",
      "100%|██████████████████████████████████████████████████████████████████████████| 52159/52159 [00:17<00:00, 3002.83it/s]\n",
      "100%|██████████████████████████████████████████████████████████████████████████| 53550/53550 [00:17<00:00, 3017.45it/s]\n",
      "100%|██████████████████████████████████████████████████████████████████████████| 55013/55013 [00:18<00:00, 3033.00it/s]\n"
     ]
    },
    {
     "name": "stdout",
     "output_type": "stream",
     "text": [
      "Duplicates found --- 5,300,000\n"
     ]
    },
    {
     "name": "stderr",
     "output_type": "stream",
     "text": [
      "100%|██████████████████████████████████████████████████████████████████████████| 54778/54778 [00:19<00:00, 2817.75it/s]\n",
      "100%|██████████████████████████████████████████████████████████████████████████| 54251/54251 [00:18<00:00, 2856.80it/s]\n",
      "100%|██████████████████████████████████████████████████████████████████████████| 53395/53395 [00:18<00:00, 2816.68it/s]\n",
      "100%|██████████████████████████████████████████████████████████████████████████| 56579/56579 [00:19<00:00, 2838.83it/s]\n",
      "100%|██████████████████████████████████████████████████████████████████████████| 55638/55638 [00:18<00:00, 2961.12it/s]\n",
      "100%|██████████████████████████████████████████████████████████████████████████| 57102/57102 [00:20<00:00, 2825.83it/s]\n",
      "100%|██████████████████████████████████████████████████████████████████████████| 54906/54906 [00:18<00:00, 2950.61it/s]\n",
      "100%|██████████████████████████████████████████████████████████████████████████| 54418/54418 [00:18<00:00, 2970.07it/s]\n",
      "100%|██████████████████████████████████████████████████████████████████████████| 55995/55995 [00:18<00:00, 3040.49it/s]\n",
      "100%|██████████████████████████████████████████████████████████████████████████| 44176/44176 [00:14<00:00, 3023.45it/s]\n"
     ]
    },
    {
     "name": "stdout",
     "output_type": "stream",
     "text": [
      "Wall time: 55min 19s\n"
     ]
    }
   ],
   "source": [
    "%%time\n",
    "with lsh.insertion_session() as session:\n",
    "    with open('d\\wiki4_v_01.txt', 'w', encoding='utf-8') as f:\n",
    "        with open('d\\wiki4.txt', encoding='utf-8') as f1:\n",
    "            for piece in read_in_chunks_lines(f1, chunk_size=6000000):\n",
    "                sents = [process_txt_new(x) for x in piece]\n",
    "                sents = [line for line in sents if line is not None]\n",
    "                hashes = [hashes_simple_1(x) for x in tqdm(sents)]\n",
    "                \n",
    "                for i in range(len(hashes)):                   \n",
    "                    if sents[i] == 'PLACEHOLDER':\n",
    "                        f.write('\\n')  \n",
    "                    else:    \n",
    "                        key = hashes[i]\n",
    "                        q = len(w4.query(key))\n",
    "                        q1 = len(w0.query(key))\n",
    "                        q2 = len(w1.query(key))\n",
    "                        q3 = len(w2.query(key)) \n",
    "                        q4 = len(w3.query(key))\n",
    "                        q5 = len(w5.query(key))  \n",
    "\n",
    "                        s =  q1 + q2 + q3 + q4 + q5\n",
    "              \n",
    "                        if q < 2 and s == 0:\n",
    "                            f.write(sents[i] + '\\n')\n",
    "                        else:\n",
    "                            if not len(lsh.query(hashes[i])): \n",
    "                                r +=1 \n",
    "                                session.insert('w'+str(r), hashes[i])                \n",
    "                                f.write(sents[i] + '\\n')\n",
    "                            else:\n",
    "                                d += 1\n",
    "                                if d % 100000 == 0:\n",
    "                                    print(f'Duplicates found --- {d:,}')"
   ]
  },
  {
   "cell_type": "code",
   "execution_count": 25,
   "metadata": {
    "scrolled": false
   },
   "outputs": [
    {
     "name": "stdout",
     "output_type": "stream",
     "text": [
      "Total duplicates in file -- 5,372,656\n"
     ]
    }
   ],
   "source": [
    "print(f'Total duplicates in file -- {d:,}')"
   ]
  },
  {
   "cell_type": "code",
   "execution_count": 26,
   "metadata": {
    "scrolled": true
   },
   "outputs": [
    {
     "name": "stderr",
     "output_type": "stream",
     "text": [
      "100%|██████████████████████████████████████████████████████████████████████████| 55018/55018 [00:18<00:00, 3045.31it/s]\n",
      "100%|██████████████████████████████████████████████████████████████████████████| 54411/54411 [00:17<00:00, 3023.24it/s]\n",
      "100%|██████████████████████████████████████████████████████████████████████████| 52094/52094 [00:17<00:00, 2981.50it/s]\n",
      "100%|██████████████████████████████████████████████████████████████████████████| 56296/56296 [00:18<00:00, 3053.44it/s]\n"
     ]
    },
    {
     "name": "stdout",
     "output_type": "stream",
     "text": [
      "Duplicates found --- 5,400,000\n"
     ]
    },
    {
     "name": "stderr",
     "output_type": "stream",
     "text": [
      "100%|██████████████████████████████████████████████████████████████████████████| 51571/51571 [00:17<00:00, 2878.34it/s]\n",
      "100%|██████████████████████████████████████████████████████████████████████████| 51251/51251 [00:17<00:00, 2969.47it/s]\n",
      "100%|██████████████████████████████████████████████████████████████████████████| 52832/52832 [00:17<00:00, 3030.92it/s]\n",
      "100%|██████████████████████████████████████████████████████████████████████████| 50021/50021 [00:16<00:00, 3120.65it/s]\n",
      "100%|██████████████████████████████████████████████████████████████████████████| 55473/55473 [00:17<00:00, 3204.73it/s]\n",
      "100%|██████████████████████████████████████████████████████████████████████████| 51768/51768 [00:16<00:00, 3133.54it/s]\n",
      "100%|██████████████████████████████████████████████████████████████████████████| 54689/54689 [00:17<00:00, 3142.32it/s]\n",
      "100%|██████████████████████████████████████████████████████████████████████████| 53536/53536 [00:17<00:00, 3069.01it/s]\n",
      "100%|██████████████████████████████████████████████████████████████████████████| 52532/52532 [00:16<00:00, 3101.64it/s]\n",
      "100%|██████████████████████████████████████████████████████████████████████████| 53994/53994 [00:17<00:00, 3130.79it/s]\n",
      "100%|██████████████████████████████████████████████████████████████████████████| 54749/54749 [00:17<00:00, 3099.00it/s]\n",
      "100%|██████████████████████████████████████████████████████████████████████████| 62646/62646 [00:20<00:00, 3083.17it/s]\n",
      "100%|██████████████████████████████████████████████████████████████████████████| 53187/53187 [00:17<00:00, 3031.94it/s]\n",
      "100%|██████████████████████████████████████████████████████████████████████████| 54822/54822 [00:17<00:00, 3078.99it/s]\n",
      "100%|██████████████████████████████████████████████████████████████████████████| 54117/54117 [00:17<00:00, 3070.95it/s]\n"
     ]
    },
    {
     "name": "stdout",
     "output_type": "stream",
     "text": [
      "Duplicates found --- 5,500,000\n"
     ]
    },
    {
     "name": "stderr",
     "output_type": "stream",
     "text": [
      "100%|██████████████████████████████████████████████████████████████████████████| 53718/53718 [00:17<00:00, 3068.59it/s]\n",
      "100%|██████████████████████████████████████████████████████████████████████████| 53567/53567 [00:17<00:00, 3024.21it/s]\n",
      "100%|██████████████████████████████████████████████████████████████████████████| 51216/51216 [00:17<00:00, 2965.47it/s]\n",
      "100%|██████████████████████████████████████████████████████████████████████████| 52835/52835 [00:17<00:00, 3028.89it/s]\n",
      "100%|██████████████████████████████████████████████████████████████████████████| 54683/54683 [00:18<00:00, 2996.77it/s]\n",
      "100%|██████████████████████████████████████████████████████████████████████████| 54587/54587 [00:17<00:00, 3081.97it/s]\n",
      "100%|██████████████████████████████████████████████████████████████████████████| 54793/54793 [00:17<00:00, 3080.85it/s]\n",
      "100%|██████████████████████████████████████████████████████████████████████████| 53119/53119 [00:17<00:00, 3102.17it/s]\n",
      "100%|██████████████████████████████████████████████████████████████████████████| 54833/54833 [00:17<00:00, 3122.63it/s]\n",
      "100%|██████████████████████████████████████████████████████████████████████████| 52735/52735 [00:16<00:00, 3113.51it/s]\n",
      "100%|██████████████████████████████████████████████████████████████████████████| 52667/52667 [00:17<00:00, 3088.79it/s]\n",
      "100%|██████████████████████████████████████████████████████████████████████████| 54284/54284 [00:17<00:00, 3080.17it/s]\n",
      "100%|██████████████████████████████████████████████████████████████████████████| 56941/56941 [00:18<00:00, 3137.85it/s]\n",
      "100%|██████████████████████████████████████████████████████████████████████████| 53697/53697 [00:17<00:00, 3102.50it/s]\n",
      "100%|██████████████████████████████████████████████████████████████████████████| 55560/55560 [00:17<00:00, 3104.32it/s]\n",
      "100%|██████████████████████████████████████████████████████████████████████████| 55923/55923 [00:18<00:00, 3085.87it/s]\n"
     ]
    },
    {
     "name": "stdout",
     "output_type": "stream",
     "text": [
      "Duplicates found --- 5,600,000\n"
     ]
    },
    {
     "name": "stderr",
     "output_type": "stream",
     "text": [
      "100%|██████████████████████████████████████████████████████████████████████████| 54667/54667 [00:17<00:00, 3083.52it/s]\n",
      "100%|██████████████████████████████████████████████████████████████████████████| 56550/56550 [00:18<00:00, 3140.12it/s]\n",
      "100%|██████████████████████████████████████████████████████████████████████████| 54800/54800 [00:17<00:00, 3090.54it/s]\n",
      "100%|██████████████████████████████████████████████████████████████████████████| 55202/55202 [00:17<00:00, 3131.65it/s]\n",
      "100%|██████████████████████████████████████████████████████████████████████████| 58494/58494 [00:18<00:00, 3161.80it/s]\n",
      "100%|██████████████████████████████████████████████████████████████████████████| 54480/54480 [00:17<00:00, 3113.06it/s]\n",
      "100%|██████████████████████████████████████████████████████████████████████████| 55958/55958 [00:17<00:00, 3170.49it/s]\n",
      "100%|██████████████████████████████████████████████████████████████████████████| 54561/54561 [00:17<00:00, 3118.16it/s]\n",
      "100%|██████████████████████████████████████████████████████████████████████████| 51854/51854 [00:16<00:00, 3055.40it/s]\n",
      "100%|██████████████████████████████████████████████████████████████████████████| 54122/54122 [00:17<00:00, 3077.63it/s]\n",
      "100%|██████████████████████████████████████████████████████████████████████████| 55308/55308 [00:17<00:00, 3093.30it/s]\n",
      "100%|██████████████████████████████████████████████████████████████████████████| 54803/54803 [00:17<00:00, 3120.67it/s]\n",
      "100%|██████████████████████████████████████████████████████████████████████████| 55339/55339 [00:17<00:00, 3133.71it/s]\n",
      "100%|██████████████████████████████████████████████████████████████████████████| 53894/53894 [00:17<00:00, 3104.42it/s]\n",
      "100%|██████████████████████████████████████████████████████████████████████████| 50812/50812 [00:16<00:00, 3038.44it/s]\n"
     ]
    },
    {
     "name": "stdout",
     "output_type": "stream",
     "text": [
      "Duplicates found --- 5,700,000\n"
     ]
    },
    {
     "name": "stderr",
     "output_type": "stream",
     "text": [
      "100%|██████████████████████████████████████████████████████████████████████████| 58073/58073 [00:18<00:00, 3125.52it/s]\n",
      "100%|██████████████████████████████████████████████████████████████████████████| 54378/54378 [00:17<00:00, 3082.71it/s]\n",
      "100%|██████████████████████████████████████████████████████████████████████████| 52766/52766 [00:17<00:00, 3080.28it/s]\n",
      "100%|██████████████████████████████████████████████████████████████████████████| 51944/51944 [00:16<00:00, 3078.04it/s]\n",
      "100%|██████████████████████████████████████████████████████████████████████████| 51931/51931 [00:16<00:00, 3067.73it/s]\n",
      "100%|██████████████████████████████████████████████████████████████████████████| 52460/52460 [00:17<00:00, 3071.33it/s]\n",
      "100%|██████████████████████████████████████████████████████████████████████████| 53104/53104 [00:17<00:00, 3075.35it/s]\n",
      "100%|██████████████████████████████████████████████████████████████████████████| 51297/51297 [00:16<00:00, 3046.12it/s]\n",
      "100%|██████████████████████████████████████████████████████████████████████████| 52388/52388 [00:17<00:00, 3064.04it/s]\n",
      "100%|██████████████████████████████████████████████████████████████████████████| 53980/53980 [00:17<00:00, 3106.22it/s]\n",
      "100%|██████████████████████████████████████████████████████████████████████████| 54224/54224 [00:17<00:00, 3067.88it/s]\n",
      "100%|██████████████████████████████████████████████████████████████████████████| 58108/58108 [00:18<00:00, 3128.75it/s]\n",
      "100%|██████████████████████████████████████████████████████████████████████████| 56442/56442 [00:18<00:00, 3109.62it/s]\n",
      "100%|██████████████████████████████████████████████████████████████████████████| 54512/54512 [00:17<00:00, 3093.87it/s]\n",
      "100%|██████████████████████████████████████████████████████████████████████████| 55708/55708 [00:17<00:00, 3130.77it/s]\n"
     ]
    },
    {
     "name": "stdout",
     "output_type": "stream",
     "text": [
      "Duplicates found --- 5,800,000\n"
     ]
    },
    {
     "name": "stderr",
     "output_type": "stream",
     "text": [
      "100%|██████████████████████████████████████████████████████████████████████████| 53154/53154 [00:17<00:00, 3056.49it/s]\n",
      "100%|██████████████████████████████████████████████████████████████████████████| 54622/54622 [00:17<00:00, 3044.38it/s]\n",
      "100%|██████████████████████████████████████████████████████████████████████████| 54468/54468 [00:17<00:00, 3045.29it/s]\n",
      "100%|██████████████████████████████████████████████████████████████████████████| 53906/53906 [00:17<00:00, 3024.00it/s]\n",
      "100%|██████████████████████████████████████████████████████████████████████████| 52866/52866 [00:17<00:00, 3024.31it/s]\n",
      "100%|██████████████████████████████████████████████████████████████████████████| 56223/56223 [00:18<00:00, 3072.17it/s]\n",
      "100%|██████████████████████████████████████████████████████████████████████████| 55235/55235 [00:18<00:00, 3045.76it/s]\n",
      "100%|██████████████████████████████████████████████████████████████████████████| 53636/53636 [00:17<00:00, 3029.00it/s]\n",
      "100%|██████████████████████████████████████████████████████████████████████████| 51404/51404 [00:17<00:00, 3000.32it/s]\n",
      "100%|██████████████████████████████████████████████████████████████████████████| 57199/57199 [00:19<00:00, 2924.12it/s]\n",
      "100%|██████████████████████████████████████████████████████████████████████████| 51696/51696 [00:17<00:00, 2965.96it/s]\n",
      "100%|██████████████████████████████████████████████████████████████████████████| 54800/54800 [00:18<00:00, 3022.55it/s]\n",
      "100%|██████████████████████████████████████████████████████████████████████████| 54253/54253 [00:17<00:00, 3070.10it/s]\n",
      "100%|██████████████████████████████████████████████████████████████████████████| 53586/53586 [00:17<00:00, 3014.87it/s]\n",
      "100%|██████████████████████████████████████████████████████████████████████████| 54879/54879 [00:17<00:00, 3049.53it/s]\n"
     ]
    },
    {
     "name": "stdout",
     "output_type": "stream",
     "text": [
      "Duplicates found --- 5,900,000\n"
     ]
    },
    {
     "name": "stderr",
     "output_type": "stream",
     "text": [
      "100%|██████████████████████████████████████████████████████████████████████████| 54453/54453 [00:17<00:00, 3035.77it/s]\n",
      "100%|██████████████████████████████████████████████████████████████████████████| 54894/54894 [00:17<00:00, 3059.74it/s]\n",
      "100%|██████████████████████████████████████████████████████████████████████████| 55427/55427 [00:18<00:00, 3014.72it/s]\n",
      "100%|██████████████████████████████████████████████████████████████████████████| 54485/54485 [00:17<00:00, 3061.62it/s]\n",
      "100%|██████████████████████████████████████████████████████████████████████████| 54531/54531 [00:18<00:00, 3016.95it/s]\n",
      "100%|██████████████████████████████████████████████████████████████████████████| 57923/57923 [00:18<00:00, 3079.73it/s]\n",
      "100%|██████████████████████████████████████████████████████████████████████████| 59740/59740 [00:19<00:00, 3123.46it/s]\n",
      "100%|██████████████████████████████████████████████████████████████████████████| 55554/55554 [00:18<00:00, 3070.40it/s]\n",
      "100%|██████████████████████████████████████████████████████████████████████████| 57151/57151 [00:18<00:00, 3077.99it/s]\n",
      "100%|██████████████████████████████████████████████████████████████████████████| 57469/57469 [00:18<00:00, 3030.80it/s]\n",
      "100%|██████████████████████████████████████████████████████████████████████████| 56363/56363 [00:18<00:00, 3045.15it/s]\n",
      "100%|██████████████████████████████████████████████████████████████████████████| 55694/55694 [00:19<00:00, 2892.97it/s]\n",
      "100%|██████████████████████████████████████████████████████████████████████████| 59210/59210 [00:19<00:00, 3052.64it/s]\n"
     ]
    },
    {
     "name": "stdout",
     "output_type": "stream",
     "text": [
      "Duplicates found --- 6,000,000\n"
     ]
    },
    {
     "name": "stderr",
     "output_type": "stream",
     "text": [
      "100%|██████████████████████████████████████████████████████████████████████████| 55603/55603 [00:18<00:00, 2997.45it/s]\n",
      "100%|██████████████████████████████████████████████████████████████████████████| 54932/54932 [00:18<00:00, 2969.10it/s]\n",
      "100%|██████████████████████████████████████████████████████████████████████████| 55985/55985 [00:18<00:00, 3026.46it/s]\n",
      "100%|██████████████████████████████████████████████████████████████████████████| 56479/56479 [00:18<00:00, 3084.79it/s]\n",
      "100%|██████████████████████████████████████████████████████████████████████████| 54092/54092 [00:17<00:00, 3077.83it/s]\n",
      "100%|██████████████████████████████████████████████████████████████████████████| 55316/55316 [00:18<00:00, 3066.54it/s]\n",
      "100%|██████████████████████████████████████████████████████████████████████████| 56398/56398 [00:18<00:00, 3105.07it/s]\n",
      "100%|██████████████████████████████████████████████████████████████████████████| 58213/58213 [00:18<00:00, 3136.00it/s]\n",
      "100%|██████████████████████████████████████████████████████████████████████████| 57175/57175 [00:18<00:00, 3102.28it/s]\n",
      "100%|██████████████████████████████████████████████████████████████████████████| 54862/54862 [00:17<00:00, 3071.35it/s]\n",
      "100%|██████████████████████████████████████████████████████████████████████████| 56932/56932 [00:17<00:00, 3164.10it/s]\n",
      "100%|██████████████████████████████████████████████████████████████████████████| 55627/55627 [00:17<00:00, 3138.75it/s]\n",
      "100%|██████████████████████████████████████████████████████████████████████████| 59125/59125 [00:18<00:00, 3169.34it/s]\n"
     ]
    },
    {
     "name": "stdout",
     "output_type": "stream",
     "text": [
      "Duplicates found --- 6,100,000\n"
     ]
    },
    {
     "name": "stderr",
     "output_type": "stream",
     "text": [
      "100%|██████████████████████████████████████████████████████████████████████████| 54172/54172 [00:17<00:00, 3111.14it/s]\n",
      "100%|██████████████████████████████████████████████████████████████████████████| 54709/54709 [00:17<00:00, 3097.77it/s]\n",
      "100%|██████████████████████████████████████████████████████████████████████████| 52076/52076 [00:17<00:00, 3024.33it/s]\n",
      "100%|██████████████████████████████████████████████████████████████████████████| 55084/55084 [00:17<00:00, 3067.71it/s]\n",
      "100%|██████████████████████████████████████████████████████████████████████████| 54755/54755 [00:17<00:00, 3085.85it/s]\n",
      "100%|██████████████████████████████████████████████████████████████████████████| 58189/58189 [00:19<00:00, 3055.12it/s]\n",
      "100%|██████████████████████████████████████████████████████████████████████████| 56009/56009 [00:18<00:00, 3020.15it/s]\n",
      "100%|██████████████████████████████████████████████████████████████████████████| 55088/55088 [00:18<00:00, 3054.11it/s]\n",
      "100%|██████████████████████████████████████████████████████████████████████████| 56947/56947 [00:18<00:00, 3045.25it/s]\n",
      "100%|██████████████████████████████████████████████████████████████████████████| 55190/55190 [00:17<00:00, 3070.37it/s]\n",
      "100%|██████████████████████████████████████████████████████████████████████████| 55744/55744 [00:18<00:00, 3092.84it/s]\n",
      "100%|██████████████████████████████████████████████████████████████████████████| 56579/56579 [00:18<00:00, 3106.98it/s]\n",
      "100%|██████████████████████████████████████████████████████████████████████████| 57862/57862 [00:18<00:00, 3066.95it/s]\n",
      "100%|██████████████████████████████████████████████████████████████████████████| 55771/55771 [00:18<00:00, 3074.92it/s]\n"
     ]
    },
    {
     "name": "stdout",
     "output_type": "stream",
     "text": [
      "Duplicates found --- 6,200,000\n"
     ]
    },
    {
     "name": "stderr",
     "output_type": "stream",
     "text": [
      "100%|██████████████████████████████████████████████████████████████████████████| 59189/59189 [00:18<00:00, 3152.47it/s]\n",
      "100%|██████████████████████████████████████████████████████████████████████████| 57361/57361 [00:18<00:00, 3122.18it/s]\n",
      "100%|██████████████████████████████████████████████████████████████████████████| 55341/55341 [00:17<00:00, 3089.17it/s]\n",
      "100%|██████████████████████████████████████████████████████████████████████████| 54374/54374 [00:17<00:00, 3047.02it/s]\n",
      "100%|██████████████████████████████████████████████████████████████████████████| 53544/53544 [00:17<00:00, 3000.55it/s]\n",
      "100%|██████████████████████████████████████████████████████████████████████████| 58643/58643 [00:18<00:00, 3148.36it/s]\n",
      "100%|██████████████████████████████████████████████████████████████████████████| 57704/57704 [00:18<00:00, 3053.52it/s]\n",
      "100%|██████████████████████████████████████████████████████████████████████████| 55651/55651 [00:18<00:00, 3022.67it/s]\n",
      "100%|██████████████████████████████████████████████████████████████████████████| 53724/53724 [00:18<00:00, 2983.84it/s]\n",
      "100%|██████████████████████████████████████████████████████████████████████████| 55166/55166 [00:17<00:00, 3106.88it/s]\n",
      "100%|██████████████████████████████████████████████████████████████████████████| 58891/58891 [00:18<00:00, 3135.29it/s]\n",
      "100%|██████████████████████████████████████████████████████████████████████████| 57287/57287 [00:18<00:00, 3129.13it/s]\n"
     ]
    },
    {
     "name": "stdout",
     "output_type": "stream",
     "text": [
      "Duplicates found --- 6,300,000\n"
     ]
    },
    {
     "name": "stderr",
     "output_type": "stream",
     "text": [
      "100%|██████████████████████████████████████████████████████████████████████████| 57928/57928 [00:18<00:00, 3091.30it/s]\n",
      "100%|██████████████████████████████████████████████████████████████████████████| 58020/58020 [00:18<00:00, 3110.80it/s]\n",
      "100%|██████████████████████████████████████████████████████████████████████████| 59078/59078 [00:19<00:00, 3101.46it/s]\n",
      "100%|██████████████████████████████████████████████████████████████████████████| 58985/58985 [00:19<00:00, 3035.53it/s]\n",
      "100%|██████████████████████████████████████████████████████████████████████████| 53667/53667 [00:17<00:00, 3030.02it/s]\n",
      "100%|██████████████████████████████████████████████████████████████████████████| 61166/61166 [00:19<00:00, 3093.72it/s]\n",
      "100%|██████████████████████████████████████████████████████████████████████████| 59355/59355 [00:18<00:00, 3158.26it/s]\n",
      "100%|██████████████████████████████████████████████████████████████████████████| 57824/57824 [00:19<00:00, 3020.96it/s]\n",
      "100%|██████████████████████████████████████████████████████████████████████████| 55593/55593 [00:19<00:00, 2891.26it/s]\n",
      "100%|██████████████████████████████████████████████████████████████████████████| 56776/56776 [00:18<00:00, 3042.84it/s]\n",
      "100%|██████████████████████████████████████████████████████████████████████████| 36793/36793 [00:12<00:00, 3052.83it/s]\n"
     ]
    },
    {
     "name": "stdout",
     "output_type": "stream",
     "text": [
      "Wall time: 1h 14min\n"
     ]
    }
   ],
   "source": [
    "%%time\n",
    "with lsh.insertion_session() as session:\n",
    "    with open('d\\wiki5_v_01.txt', 'w', encoding='utf-8') as f:\n",
    "        with open('d\\wiki5.txt', encoding='utf-8') as f1:\n",
    "            for piece in read_in_chunks_lines(f1, chunk_size=5000000):\n",
    "                sents = [process_txt_new(x) for x in piece]\n",
    "                sents = [line for line in sents if line is not None]\n",
    "                hashes = [hashes_simple_1(x) for x in tqdm(sents)]\n",
    "                \n",
    "                for i in range(len(hashes)):                   \n",
    "                    if sents[i] == 'PLACEHOLDER':\n",
    "                        f.write('\\n')  \n",
    "                    else:    \n",
    "                        key = hashes[i]\n",
    "                        q = len(w5.query(key))\n",
    "                        q1 = len(w0.query(key))\n",
    "                        q2 = len(w1.query(key))\n",
    "                        q3 = len(w2.query(key)) \n",
    "                        q4 = len(w3.query(key))\n",
    "                        q5 = len(w4.query(key))  \n",
    "\n",
    "                        s =  q1 + q2 + q3 + q4 + q5\n",
    "             \n",
    "                        if q < 2 and s == 0:\n",
    "                            f.write(sents[i] + '\\n')\n",
    "                        else:\n",
    "                            if not len(lsh.query(hashes[i])): \n",
    "                                r +=1 \n",
    "                                session.insert('w'+str(r), hashes[i])                \n",
    "                                f.write(sents[i] + '\\n')\n",
    "                            else:\n",
    "                                d += 1\n",
    "                                if d % 100000 == 0:\n",
    "                                    print(f'Duplicates found --- {d:,}')"
   ]
  },
  {
   "cell_type": "code",
   "execution_count": 27,
   "metadata": {
    "scrolled": false
   },
   "outputs": [
    {
     "name": "stdout",
     "output_type": "stream",
     "text": [
      "Total duplicates in file -- 6,386,931\n"
     ]
    }
   ],
   "source": [
    "print(f'Total duplicates in file -- {d:,}')"
   ]
  },
  {
   "cell_type": "code",
   "execution_count": 28,
   "metadata": {},
   "outputs": [
    {
     "name": "stdout",
     "output_type": "stream",
     "text": [
      "Number of unique duplicated sentences (hashes) -- 1,329,913\n"
     ]
    }
   ],
   "source": [
    "print(f'Number of unique duplicated sentences (hashes) -- {r:,}')"
   ]
  }
 ],
 "metadata": {
  "kernelspec": {
   "display_name": "Python 3",
   "language": "python",
   "name": "python3"
  },
  "language_info": {
   "codemirror_mode": {
    "name": "ipython",
    "version": 3
   },
   "file_extension": ".py",
   "mimetype": "text/x-python",
   "name": "python",
   "nbconvert_exporter": "python",
   "pygments_lexer": "ipython3",
   "version": "3.6.8"
  }
 },
 "nbformat": 4,
 "nbformat_minor": 4
}
